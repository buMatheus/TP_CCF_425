{
  "cells": [
    {
      "cell_type": "markdown",
      "metadata": {
        "id": "eoWYIsy6z9Lq"
      },
      "source": [
        "> Introdução à Ciência dos Dados \\\n",
        "> Ciência da Computação – UFV/Florestal\n",
        "\n",
        "\n",
        "* **Nome:** lucas takeshi, Jonathan Lopes, Matheus Silva\n",
        "* **Matrícula:** 2665, 2666, 2649\n",
        "\n",
        "----\n",
        "# Importação dos Dados"
      ]
    },
    {
      "cell_type": "code",
      "execution_count": 96,
      "metadata": {
        "id": "WfqQbvhoz9Lw",
        "outputId": "c975106c-f4cb-4854-a043-a2d0f7339029",
        "colab": {
          "base_uri": "https://localhost:8080/"
        }
      },
      "outputs": [
        {
          "output_type": "stream",
          "name": "stdout",
          "text": [
            "--2022-07-07 00:03:18--  https://raw.githubusercontent.com/LTaka/cs-go-csv/main/tb_lobby_stats_player.csv\n",
            "Resolving raw.githubusercontent.com (raw.githubusercontent.com)... 185.199.109.133, 185.199.108.133, 185.199.111.133, ...\n",
            "Connecting to raw.githubusercontent.com (raw.githubusercontent.com)|185.199.109.133|:443... connected.\n",
            "HTTP request sent, awaiting response... 200 OK\n",
            "Length: 28373607 (27M) [text/plain]\n",
            "Saving to: ‘tb_lobby_stats_player.csv.4’\n",
            "\n",
            "\r          tb_lobby_   0%[                    ]       0  --.-KB/s               \rtb_lobby_stats_play 100%[===================>]  27.06M   146MB/s    in 0.2s    \n",
            "\n",
            "2022-07-07 00:03:18 (146 MB/s) - ‘tb_lobby_stats_player.csv.4’ saved [28373607/28373607]\n",
            "\n",
            "--2022-07-07 00:03:18--  https://raw.githubusercontent.com/LTaka/cs-go-csv/main/tb_medalha.csv\n",
            "Resolving raw.githubusercontent.com (raw.githubusercontent.com)... 185.199.109.133, 185.199.111.133, 185.199.108.133, ...\n",
            "Connecting to raw.githubusercontent.com (raw.githubusercontent.com)|185.199.109.133|:443... connected.\n",
            "HTTP request sent, awaiting response... 200 OK\n",
            "Length: 1245 (1.2K) [text/plain]\n",
            "Saving to: ‘tb_medalha.csv.4’\n",
            "\n",
            "tb_medalha.csv.4    100%[===================>]   1.22K  --.-KB/s    in 0s      \n",
            "\n",
            "2022-07-07 00:03:18 (36.5 MB/s) - ‘tb_medalha.csv.4’ saved [1245/1245]\n",
            "\n",
            "--2022-07-07 00:03:18--  https://raw.githubusercontent.com/LTaka/cs-go-csv/main/tb_players.csv\n",
            "Resolving raw.githubusercontent.com (raw.githubusercontent.com)... 185.199.108.133, 185.199.111.133, 185.199.109.133, ...\n",
            "Connecting to raw.githubusercontent.com (raw.githubusercontent.com)|185.199.108.133|:443... connected.\n",
            "HTTP request sent, awaiting response... 200 OK\n",
            "Length: 132179 (129K) [text/plain]\n",
            "Saving to: ‘tb_players.csv.4’\n",
            "\n",
            "tb_players.csv.4    100%[===================>] 129.08K  --.-KB/s    in 0.03s   \n",
            "\n",
            "2022-07-07 00:03:18 (4.91 MB/s) - ‘tb_players.csv.4’ saved [132179/132179]\n",
            "\n",
            "--2022-07-07 00:03:18--  https://raw.githubusercontent.com/LTaka/cs-go-csv/main/tb_players_medalha.csv\n",
            "Resolving raw.githubusercontent.com (raw.githubusercontent.com)... 185.199.111.133, 185.199.108.133, 185.199.109.133, ...\n",
            "Connecting to raw.githubusercontent.com (raw.githubusercontent.com)|185.199.111.133|:443... connected.\n",
            "HTTP request sent, awaiting response... 200 OK\n",
            "Length: 1214232 (1.2M) [text/plain]\n",
            "Saving to: ‘tb_players_medalha.csv.4’\n",
            "\n",
            "tb_players_medalha. 100%[===================>]   1.16M  --.-KB/s    in 0.06s   \n",
            "\n",
            "2022-07-07 00:03:19 (18.4 MB/s) - ‘tb_players_medalha.csv.4’ saved [1214232/1214232]\n",
            "\n"
          ]
        }
      ],
      "source": [
        "### NÃO REMOVA ESSA CÉLULA! ####\n",
        "\n",
        "!wget https://raw.githubusercontent.com/LTaka/cs-go-csv/main/tb_lobby_stats_player.csv\n",
        "!wget https://raw.githubusercontent.com/LTaka/cs-go-csv/main/tb_medalha.csv\n",
        "!wget https://raw.githubusercontent.com/LTaka/cs-go-csv/main/tb_players.csv\n",
        "!wget https://raw.githubusercontent.com/LTaka/cs-go-csv/main/tb_players_medalha.csv"
      ]
    },
    {
      "cell_type": "code",
      "execution_count": 97,
      "metadata": {
        "id": "_X9J3UPRX7_6"
      },
      "outputs": [],
      "source": [
        "#### Não altere essa célula!!! ####\n",
        "import pandas as pd\n",
        "import numpy as np\n",
        "import seaborn as sns\n",
        "import matplotlib.pyplot as plt"
      ]
    },
    {
      "cell_type": "code",
      "execution_count": 98,
      "metadata": {
        "id": "qoh2jRcKz9L1"
      },
      "outputs": [],
      "source": [
        "original_df_lobby = pd.read_csv('./tb_lobby_stats_player.csv')\n",
        "original_df_players = pd.read_csv('./tb_players.csv')\n",
        "df_l =original_df_lobby\n",
        "df_p =original_df_players\n",
        "#Informações de players\n",
        "#df_p.info()\n",
        "#tratando os dados de players\n",
        "df_p = df_p.drop(\"flFacebook\",axis=1)\n",
        "df_p = df_p.drop(\"flTwitter\",axis=1)\n",
        "df_p = df_p.drop(\"flTwitch\",axis=1)\n",
        "df_p = df_p.drop(\"dtBirth\",axis=1)\n",
        "df_p['dtRegistration'] = pd.to_datetime(df_p['dtRegistration'], infer_datetime_format=True)\n",
        "df_l['qtSurvived'].fillna('drop', inplace=True)\n",
        "#drop dos NAN\n",
        "drop=df_l[df_l[\"qtSurvived\"]=='drop'].index\n",
        "df_l=df_l.drop(drop)\n",
        "#Informações de players\n",
        "#df_p.info()\n",
        "#Informações de lobby\n",
        "#df_l.info()\n",
        "#tratando os dados de lobby\n",
        "df_l = df_l.drop(\"qtShots\",axis=1)\n",
        "df_l = df_l.drop(\"qtPlusKill\",axis=1)\n",
        "df_l = df_l.drop(\"dtCreatedAt\",axis=1)\n",
        "df_l = df_l.drop(\"qtHitRightLeg\",axis=1)\n",
        "df_l = df_l.drop(\"qtHitLeftLeg\",axis=1)\n",
        "df_l = df_l.drop(\"qtHitRightArm\",axis=1)\n",
        "df_l = df_l.drop(\"qtHitLeftAtm\",axis=1)\n",
        "df_l = df_l.drop(\"qtHitStomach\",axis=1)\n",
        "df_l = df_l.drop(\"qtHitChest\",axis=1)\n",
        "df_l = df_l.drop(\"qtHitHeadshot\",axis=1)\n",
        "df_l = df_l.drop(\"qtTk\",axis=1)\n",
        "df_l = df_l.drop(\"qtTkAssist\",axis=1)\n",
        "#Informações de lobby\n",
        "#df_l.info()\n",
        "#criação de dados categóricos de acordo com cada parametro\n",
        "#STATS na coluna de jogador junto com teste de hipotese para verificar se o player morre menos"
      ]
    },
    {
      "cell_type": "code",
      "source": [
        "#df_l.info()\n",
        "#drop de rounds menores que o primeiro quartil para ter apenas players que jogaram uma quantidade consideravel de rounds\n",
        "drop=df_l[df_l['qtRoundsPlayed']<df_l['qtRoundsPlayed'].quantile(0.25)].index\n",
        "df_l=df_l.drop(drop)\n",
        "df_l['qtRoundsPlayed'].describe()\n"
      ],
      "metadata": {
        "colab": {
          "base_uri": "https://localhost:8080/"
        },
        "id": "LCrSxDxl7X9K",
        "outputId": "a60769d2-fc11-414f-8db3-2fc00d0aa98c"
      },
      "execution_count": 99,
      "outputs": [
        {
          "output_type": "execute_result",
          "data": {
            "text/plain": [
              "count    146441.000000\n",
              "mean         28.358691\n",
              "std           4.582400\n",
              "min          23.000000\n",
              "25%          25.000000\n",
              "50%          28.000000\n",
              "75%          30.000000\n",
              "max          84.000000\n",
              "Name: qtRoundsPlayed, dtype: float64"
            ]
          },
          "metadata": {},
          "execution_count": 99
        }
      ]
    },
    {
      "cell_type": "code",
      "source": [
        "# Calcular kill por round\n",
        "def kpr(kills, rounds):\n",
        "  kpr = kills/rounds #quanto mais alto melhor \n",
        "  return kpr\n",
        "\n",
        "def dpr(deaths, rounds): #quanto mais próximo de 0 melhor\n",
        "  dpr = deaths/rounds\n",
        "  return dpr\n",
        "\n",
        "#qtAssist - 15, qtBombePlant - 15, qtBombeDefuse - 20, qtClutchWon - 20, qtTrade - 10, qtFlashAssist - 10, qtFirstKill - 10\n",
        "def distPoints(qtAssist, qtBombePlant, qtBombeDefuse, qtClutchWon, qtTrade, qtFlashAssist, qtFirstKill):\n",
        "  qtAssist = qtAssist*15\n",
        "  qtBombePlant = qtBombePlant*15\n",
        "  qtBombeDefuse = qtBombeDefuse*20\n",
        "  qtClutchWon = qtClutchWon*20\n",
        "  qtTrade = qtTrade*10\n",
        "  qtFlashAssist = qtFlashAssist*10\n",
        "  qtFirstKill = qtFirstKill*10\n",
        "  total = (qtAssist+qtBombePlant+qtBombeDefuse+qtClutchWon+qtTrade+qtFlashAssist+qtFirstKill)/7\n",
        "  return total\n",
        "\n",
        "df_l.insert((df_l.shape[1]),\"kpr\",kpr(df_l['qtKill'], df_l['qtRoundsPlayed']),True) #Kills Per Round\n",
        "df_l.insert((df_l.shape[1]),\"dpr\",dpr(df_l['qtDeath'], df_l['qtRoundsPlayed']),True) #Deaths Per Round\n",
        "df_l.insert((df_l.shape[1]),\"pps\",distPoints(df_l['qtAssist'], df_l['qtBombePlant'], df_l['qtBombeDefuse'], df_l['qtClutchWon'], df_l['qtTrade'], df_l['qtFlashAssist'], df_l['qtFirstKill']),True) #Points Per Stats\n",
        "df_l.insert((df_l.shape[1]),\"playerQuality\",'Null',True) #Player Quality\n",
        "df_l\n",
        "\n"
      ],
      "metadata": {
        "id": "vB2lY9bdzMfh",
        "colab": {
          "base_uri": "https://localhost:8080/",
          "height": 488
        },
        "outputId": "29fcde63-8300-494e-976e-0e6f5a3909a6"
      },
      "execution_count": 100,
      "outputs": [
        {
          "output_type": "execute_result",
          "data": {
            "text/plain": [
              "        idLobbyGame  idPlayer  idRoom  qtKill  qtAssist  qtDeath  qtHs  \\\n",
              "1                 2         1       2      24         3       18     6   \n",
              "2                 3         2       3       6         4       23     2   \n",
              "3                 3       391   27508      10         5       20     4   \n",
              "4                 4         2       4       8         4       26     6   \n",
              "11               10         2      10      19         2       21     7   \n",
              "...             ...       ...     ...     ...       ...      ...   ...   \n",
              "184146       172906      2716  178495      17         3       19     7   \n",
              "184147       172907      2716  178496      21         3       13     5   \n",
              "184148       172908      2716  178497      15         1       22     5   \n",
              "184149       172909      2716  178498       9         6       23     2   \n",
              "184150       172910      2716  178499      15         5       20     6   \n",
              "\n",
              "        qtBombeDefuse  qtBombePlant  qt1Kill  ...  descMapName  vlLevel  \\\n",
              "1                   0             4        9  ...      de_nuke        9   \n",
              "2                   0             1        4  ...    de_mirage        2   \n",
              "3                   1             0        6  ...    de_mirage       15   \n",
              "4                   0             2        4  ...      de_nuke        2   \n",
              "11                  0             0        9  ...    de_mirage        2   \n",
              "...               ...           ...      ...  ...          ...      ...   \n",
              "184146              0             2       12  ...    de_mirage        9   \n",
              "184147              1             1        8  ...   de_vertigo        9   \n",
              "184148              0             1       11  ...      de_nuke        9   \n",
              "184149              0             3        9  ...   de_vertigo        9   \n",
              "184150              0             2       13  ...     de_dust2        9   \n",
              "\n",
              "        qtSurvived  qtTrade  qtFlashAssist  flWinner       kpr       dpr  \\\n",
              "1              8.0      1.0            0.0         1  0.888889  0.666667   \n",
              "2              2.0      3.0            0.0         0  0.240000  0.920000   \n",
              "3              3.0      4.0            0.0         1  0.400000  0.800000   \n",
              "4              4.0      4.0            2.0         0  0.266667  0.866667   \n",
              "11             6.0      3.0            3.0         0  0.703704  0.777778   \n",
              "...            ...      ...            ...       ...       ...       ...   \n",
              "184146         9.0      4.0            0.0         0  0.607143  0.678571   \n",
              "184147        11.0      0.0            0.0         1  0.807692  0.500000   \n",
              "184148         7.0      5.0            0.0         1  0.517241  0.758621   \n",
              "184149         4.0      2.0            0.0         0  0.333333  0.851852   \n",
              "184150         5.0      3.0            1.0         0  0.600000  0.800000   \n",
              "\n",
              "              pps  playerQuality  \n",
              "1       23.571429           Null  \n",
              "2       17.857143           Null  \n",
              "3       23.571429           Null  \n",
              "4       22.857143           Null  \n",
              "11      18.571429           Null  \n",
              "...           ...            ...  \n",
              "184146  20.714286           Null  \n",
              "184147  15.714286           Null  \n",
              "184148  18.571429           Null  \n",
              "184149  25.000000           Null  \n",
              "184150  22.142857           Null  \n",
              "\n",
              "[146441 rows x 30 columns]"
            ],
            "text/html": [
              "\n",
              "  <div id=\"df-44c57e0e-5efd-4268-9f74-a3236c2bb598\">\n",
              "    <div class=\"colab-df-container\">\n",
              "      <div>\n",
              "<style scoped>\n",
              "    .dataframe tbody tr th:only-of-type {\n",
              "        vertical-align: middle;\n",
              "    }\n",
              "\n",
              "    .dataframe tbody tr th {\n",
              "        vertical-align: top;\n",
              "    }\n",
              "\n",
              "    .dataframe thead th {\n",
              "        text-align: right;\n",
              "    }\n",
              "</style>\n",
              "<table border=\"1\" class=\"dataframe\">\n",
              "  <thead>\n",
              "    <tr style=\"text-align: right;\">\n",
              "      <th></th>\n",
              "      <th>idLobbyGame</th>\n",
              "      <th>idPlayer</th>\n",
              "      <th>idRoom</th>\n",
              "      <th>qtKill</th>\n",
              "      <th>qtAssist</th>\n",
              "      <th>qtDeath</th>\n",
              "      <th>qtHs</th>\n",
              "      <th>qtBombeDefuse</th>\n",
              "      <th>qtBombePlant</th>\n",
              "      <th>qt1Kill</th>\n",
              "      <th>...</th>\n",
              "      <th>descMapName</th>\n",
              "      <th>vlLevel</th>\n",
              "      <th>qtSurvived</th>\n",
              "      <th>qtTrade</th>\n",
              "      <th>qtFlashAssist</th>\n",
              "      <th>flWinner</th>\n",
              "      <th>kpr</th>\n",
              "      <th>dpr</th>\n",
              "      <th>pps</th>\n",
              "      <th>playerQuality</th>\n",
              "    </tr>\n",
              "  </thead>\n",
              "  <tbody>\n",
              "    <tr>\n",
              "      <th>1</th>\n",
              "      <td>2</td>\n",
              "      <td>1</td>\n",
              "      <td>2</td>\n",
              "      <td>24</td>\n",
              "      <td>3</td>\n",
              "      <td>18</td>\n",
              "      <td>6</td>\n",
              "      <td>0</td>\n",
              "      <td>4</td>\n",
              "      <td>9</td>\n",
              "      <td>...</td>\n",
              "      <td>de_nuke</td>\n",
              "      <td>9</td>\n",
              "      <td>8.0</td>\n",
              "      <td>1.0</td>\n",
              "      <td>0.0</td>\n",
              "      <td>1</td>\n",
              "      <td>0.888889</td>\n",
              "      <td>0.666667</td>\n",
              "      <td>23.571429</td>\n",
              "      <td>Null</td>\n",
              "    </tr>\n",
              "    <tr>\n",
              "      <th>2</th>\n",
              "      <td>3</td>\n",
              "      <td>2</td>\n",
              "      <td>3</td>\n",
              "      <td>6</td>\n",
              "      <td>4</td>\n",
              "      <td>23</td>\n",
              "      <td>2</td>\n",
              "      <td>0</td>\n",
              "      <td>1</td>\n",
              "      <td>4</td>\n",
              "      <td>...</td>\n",
              "      <td>de_mirage</td>\n",
              "      <td>2</td>\n",
              "      <td>2.0</td>\n",
              "      <td>3.0</td>\n",
              "      <td>0.0</td>\n",
              "      <td>0</td>\n",
              "      <td>0.240000</td>\n",
              "      <td>0.920000</td>\n",
              "      <td>17.857143</td>\n",
              "      <td>Null</td>\n",
              "    </tr>\n",
              "    <tr>\n",
              "      <th>3</th>\n",
              "      <td>3</td>\n",
              "      <td>391</td>\n",
              "      <td>27508</td>\n",
              "      <td>10</td>\n",
              "      <td>5</td>\n",
              "      <td>20</td>\n",
              "      <td>4</td>\n",
              "      <td>1</td>\n",
              "      <td>0</td>\n",
              "      <td>6</td>\n",
              "      <td>...</td>\n",
              "      <td>de_mirage</td>\n",
              "      <td>15</td>\n",
              "      <td>3.0</td>\n",
              "      <td>4.0</td>\n",
              "      <td>0.0</td>\n",
              "      <td>1</td>\n",
              "      <td>0.400000</td>\n",
              "      <td>0.800000</td>\n",
              "      <td>23.571429</td>\n",
              "      <td>Null</td>\n",
              "    </tr>\n",
              "    <tr>\n",
              "      <th>4</th>\n",
              "      <td>4</td>\n",
              "      <td>2</td>\n",
              "      <td>4</td>\n",
              "      <td>8</td>\n",
              "      <td>4</td>\n",
              "      <td>26</td>\n",
              "      <td>6</td>\n",
              "      <td>0</td>\n",
              "      <td>2</td>\n",
              "      <td>4</td>\n",
              "      <td>...</td>\n",
              "      <td>de_nuke</td>\n",
              "      <td>2</td>\n",
              "      <td>4.0</td>\n",
              "      <td>4.0</td>\n",
              "      <td>2.0</td>\n",
              "      <td>0</td>\n",
              "      <td>0.266667</td>\n",
              "      <td>0.866667</td>\n",
              "      <td>22.857143</td>\n",
              "      <td>Null</td>\n",
              "    </tr>\n",
              "    <tr>\n",
              "      <th>11</th>\n",
              "      <td>10</td>\n",
              "      <td>2</td>\n",
              "      <td>10</td>\n",
              "      <td>19</td>\n",
              "      <td>2</td>\n",
              "      <td>21</td>\n",
              "      <td>7</td>\n",
              "      <td>0</td>\n",
              "      <td>0</td>\n",
              "      <td>9</td>\n",
              "      <td>...</td>\n",
              "      <td>de_mirage</td>\n",
              "      <td>2</td>\n",
              "      <td>6.0</td>\n",
              "      <td>3.0</td>\n",
              "      <td>3.0</td>\n",
              "      <td>0</td>\n",
              "      <td>0.703704</td>\n",
              "      <td>0.777778</td>\n",
              "      <td>18.571429</td>\n",
              "      <td>Null</td>\n",
              "    </tr>\n",
              "    <tr>\n",
              "      <th>...</th>\n",
              "      <td>...</td>\n",
              "      <td>...</td>\n",
              "      <td>...</td>\n",
              "      <td>...</td>\n",
              "      <td>...</td>\n",
              "      <td>...</td>\n",
              "      <td>...</td>\n",
              "      <td>...</td>\n",
              "      <td>...</td>\n",
              "      <td>...</td>\n",
              "      <td>...</td>\n",
              "      <td>...</td>\n",
              "      <td>...</td>\n",
              "      <td>...</td>\n",
              "      <td>...</td>\n",
              "      <td>...</td>\n",
              "      <td>...</td>\n",
              "      <td>...</td>\n",
              "      <td>...</td>\n",
              "      <td>...</td>\n",
              "      <td>...</td>\n",
              "    </tr>\n",
              "    <tr>\n",
              "      <th>184146</th>\n",
              "      <td>172906</td>\n",
              "      <td>2716</td>\n",
              "      <td>178495</td>\n",
              "      <td>17</td>\n",
              "      <td>3</td>\n",
              "      <td>19</td>\n",
              "      <td>7</td>\n",
              "      <td>0</td>\n",
              "      <td>2</td>\n",
              "      <td>12</td>\n",
              "      <td>...</td>\n",
              "      <td>de_mirage</td>\n",
              "      <td>9</td>\n",
              "      <td>9.0</td>\n",
              "      <td>4.0</td>\n",
              "      <td>0.0</td>\n",
              "      <td>0</td>\n",
              "      <td>0.607143</td>\n",
              "      <td>0.678571</td>\n",
              "      <td>20.714286</td>\n",
              "      <td>Null</td>\n",
              "    </tr>\n",
              "    <tr>\n",
              "      <th>184147</th>\n",
              "      <td>172907</td>\n",
              "      <td>2716</td>\n",
              "      <td>178496</td>\n",
              "      <td>21</td>\n",
              "      <td>3</td>\n",
              "      <td>13</td>\n",
              "      <td>5</td>\n",
              "      <td>1</td>\n",
              "      <td>1</td>\n",
              "      <td>8</td>\n",
              "      <td>...</td>\n",
              "      <td>de_vertigo</td>\n",
              "      <td>9</td>\n",
              "      <td>11.0</td>\n",
              "      <td>0.0</td>\n",
              "      <td>0.0</td>\n",
              "      <td>1</td>\n",
              "      <td>0.807692</td>\n",
              "      <td>0.500000</td>\n",
              "      <td>15.714286</td>\n",
              "      <td>Null</td>\n",
              "    </tr>\n",
              "    <tr>\n",
              "      <th>184148</th>\n",
              "      <td>172908</td>\n",
              "      <td>2716</td>\n",
              "      <td>178497</td>\n",
              "      <td>15</td>\n",
              "      <td>1</td>\n",
              "      <td>22</td>\n",
              "      <td>5</td>\n",
              "      <td>0</td>\n",
              "      <td>1</td>\n",
              "      <td>11</td>\n",
              "      <td>...</td>\n",
              "      <td>de_nuke</td>\n",
              "      <td>9</td>\n",
              "      <td>7.0</td>\n",
              "      <td>5.0</td>\n",
              "      <td>0.0</td>\n",
              "      <td>1</td>\n",
              "      <td>0.517241</td>\n",
              "      <td>0.758621</td>\n",
              "      <td>18.571429</td>\n",
              "      <td>Null</td>\n",
              "    </tr>\n",
              "    <tr>\n",
              "      <th>184149</th>\n",
              "      <td>172909</td>\n",
              "      <td>2716</td>\n",
              "      <td>178498</td>\n",
              "      <td>9</td>\n",
              "      <td>6</td>\n",
              "      <td>23</td>\n",
              "      <td>2</td>\n",
              "      <td>0</td>\n",
              "      <td>3</td>\n",
              "      <td>9</td>\n",
              "      <td>...</td>\n",
              "      <td>de_vertigo</td>\n",
              "      <td>9</td>\n",
              "      <td>4.0</td>\n",
              "      <td>2.0</td>\n",
              "      <td>0.0</td>\n",
              "      <td>0</td>\n",
              "      <td>0.333333</td>\n",
              "      <td>0.851852</td>\n",
              "      <td>25.000000</td>\n",
              "      <td>Null</td>\n",
              "    </tr>\n",
              "    <tr>\n",
              "      <th>184150</th>\n",
              "      <td>172910</td>\n",
              "      <td>2716</td>\n",
              "      <td>178499</td>\n",
              "      <td>15</td>\n",
              "      <td>5</td>\n",
              "      <td>20</td>\n",
              "      <td>6</td>\n",
              "      <td>0</td>\n",
              "      <td>2</td>\n",
              "      <td>13</td>\n",
              "      <td>...</td>\n",
              "      <td>de_dust2</td>\n",
              "      <td>9</td>\n",
              "      <td>5.0</td>\n",
              "      <td>3.0</td>\n",
              "      <td>1.0</td>\n",
              "      <td>0</td>\n",
              "      <td>0.600000</td>\n",
              "      <td>0.800000</td>\n",
              "      <td>22.142857</td>\n",
              "      <td>Null</td>\n",
              "    </tr>\n",
              "  </tbody>\n",
              "</table>\n",
              "<p>146441 rows × 30 columns</p>\n",
              "</div>\n",
              "      <button class=\"colab-df-convert\" onclick=\"convertToInteractive('df-44c57e0e-5efd-4268-9f74-a3236c2bb598')\"\n",
              "              title=\"Convert this dataframe to an interactive table.\"\n",
              "              style=\"display:none;\">\n",
              "        \n",
              "  <svg xmlns=\"http://www.w3.org/2000/svg\" height=\"24px\"viewBox=\"0 0 24 24\"\n",
              "       width=\"24px\">\n",
              "    <path d=\"M0 0h24v24H0V0z\" fill=\"none\"/>\n",
              "    <path d=\"M18.56 5.44l.94 2.06.94-2.06 2.06-.94-2.06-.94-.94-2.06-.94 2.06-2.06.94zm-11 1L8.5 8.5l.94-2.06 2.06-.94-2.06-.94L8.5 2.5l-.94 2.06-2.06.94zm10 10l.94 2.06.94-2.06 2.06-.94-2.06-.94-.94-2.06-.94 2.06-2.06.94z\"/><path d=\"M17.41 7.96l-1.37-1.37c-.4-.4-.92-.59-1.43-.59-.52 0-1.04.2-1.43.59L10.3 9.45l-7.72 7.72c-.78.78-.78 2.05 0 2.83L4 21.41c.39.39.9.59 1.41.59.51 0 1.02-.2 1.41-.59l7.78-7.78 2.81-2.81c.8-.78.8-2.07 0-2.86zM5.41 20L4 18.59l7.72-7.72 1.47 1.35L5.41 20z\"/>\n",
              "  </svg>\n",
              "      </button>\n",
              "      \n",
              "  <style>\n",
              "    .colab-df-container {\n",
              "      display:flex;\n",
              "      flex-wrap:wrap;\n",
              "      gap: 12px;\n",
              "    }\n",
              "\n",
              "    .colab-df-convert {\n",
              "      background-color: #E8F0FE;\n",
              "      border: none;\n",
              "      border-radius: 50%;\n",
              "      cursor: pointer;\n",
              "      display: none;\n",
              "      fill: #1967D2;\n",
              "      height: 32px;\n",
              "      padding: 0 0 0 0;\n",
              "      width: 32px;\n",
              "    }\n",
              "\n",
              "    .colab-df-convert:hover {\n",
              "      background-color: #E2EBFA;\n",
              "      box-shadow: 0px 1px 2px rgba(60, 64, 67, 0.3), 0px 1px 3px 1px rgba(60, 64, 67, 0.15);\n",
              "      fill: #174EA6;\n",
              "    }\n",
              "\n",
              "    [theme=dark] .colab-df-convert {\n",
              "      background-color: #3B4455;\n",
              "      fill: #D2E3FC;\n",
              "    }\n",
              "\n",
              "    [theme=dark] .colab-df-convert:hover {\n",
              "      background-color: #434B5C;\n",
              "      box-shadow: 0px 1px 3px 1px rgba(0, 0, 0, 0.15);\n",
              "      filter: drop-shadow(0px 1px 2px rgba(0, 0, 0, 0.3));\n",
              "      fill: #FFFFFF;\n",
              "    }\n",
              "  </style>\n",
              "\n",
              "      <script>\n",
              "        const buttonEl =\n",
              "          document.querySelector('#df-44c57e0e-5efd-4268-9f74-a3236c2bb598 button.colab-df-convert');\n",
              "        buttonEl.style.display =\n",
              "          google.colab.kernel.accessAllowed ? 'block' : 'none';\n",
              "\n",
              "        async function convertToInteractive(key) {\n",
              "          const element = document.querySelector('#df-44c57e0e-5efd-4268-9f74-a3236c2bb598');\n",
              "          const dataTable =\n",
              "            await google.colab.kernel.invokeFunction('convertToInteractive',\n",
              "                                                     [key], {});\n",
              "          if (!dataTable) return;\n",
              "\n",
              "          const docLinkHtml = 'Like what you see? Visit the ' +\n",
              "            '<a target=\"_blank\" href=https://colab.research.google.com/notebooks/data_table.ipynb>data table notebook</a>'\n",
              "            + ' to learn more about interactive tables.';\n",
              "          element.innerHTML = '';\n",
              "          dataTable['output_type'] = 'display_data';\n",
              "          await google.colab.output.renderOutput(dataTable, element);\n",
              "          const docLink = document.createElement('div');\n",
              "          docLink.innerHTML = docLinkHtml;\n",
              "          element.appendChild(docLink);\n",
              "        }\n",
              "      </script>\n",
              "    </div>\n",
              "  </div>\n",
              "  "
            ]
          },
          "metadata": {},
          "execution_count": 100
        }
      ]
    },
    {
      "cell_type": "code",
      "source": [
        "def playerQuality(df):\n",
        "  for i in df.index:\n",
        "    if (df['pps'][i] <= 20.0):\n",
        "      df['playerQuality'][i] = 'Ruim'\n",
        "    elif ((df['pps'][i] > 20.0)&(df['pps'][i] <= 40.0)):\n",
        "      df['playerQuality'][i] = 'Regular'\n",
        "    elif ((df['pps'][i] > 40.0)&(df['pps'][i] <= 60.0)):\n",
        "      df['playerQuality'][i] = 'Bom'\n",
        "    elif ((df['pps'][i] > 60.0)&(df['pps'][i] <= 80.0)):\n",
        "      df['playerQuality'][i] = 'Muito Bom'\n",
        "    elif (df['pps'][i] > 80.0):\n",
        "      df['playerQuality'][i] = 'Excelente'"
      ],
      "metadata": {
        "id": "vPUi2Wox36Vx"
      },
      "execution_count": 101,
      "outputs": []
    },
    {
      "cell_type": "code",
      "source": [
        "playerQuality(df_l)"
      ],
      "metadata": {
        "id": "caJ8bqq6z3mN",
        "colab": {
          "base_uri": "https://localhost:8080/"
        },
        "outputId": "5d5e4abe-b985-4947-c687-02439fa983f8"
      },
      "execution_count": 102,
      "outputs": [
        {
          "output_type": "stream",
          "name": "stderr",
          "text": [
            "/usr/local/lib/python3.7/dist-packages/ipykernel_launcher.py:6: SettingWithCopyWarning: \n",
            "A value is trying to be set on a copy of a slice from a DataFrame\n",
            "\n",
            "See the caveats in the documentation: https://pandas.pydata.org/pandas-docs/stable/user_guide/indexing.html#returning-a-view-versus-a-copy\n",
            "  \n",
            "/usr/local/lib/python3.7/dist-packages/ipykernel_launcher.py:4: SettingWithCopyWarning: \n",
            "A value is trying to be set on a copy of a slice from a DataFrame\n",
            "\n",
            "See the caveats in the documentation: https://pandas.pydata.org/pandas-docs/stable/user_guide/indexing.html#returning-a-view-versus-a-copy\n",
            "  after removing the cwd from sys.path.\n",
            "/usr/local/lib/python3.7/dist-packages/ipykernel_launcher.py:8: SettingWithCopyWarning: \n",
            "A value is trying to be set on a copy of a slice from a DataFrame\n",
            "\n",
            "See the caveats in the documentation: https://pandas.pydata.org/pandas-docs/stable/user_guide/indexing.html#returning-a-view-versus-a-copy\n",
            "  \n",
            "/usr/local/lib/python3.7/dist-packages/ipykernel_launcher.py:10: SettingWithCopyWarning: \n",
            "A value is trying to be set on a copy of a slice from a DataFrame\n",
            "\n",
            "See the caveats in the documentation: https://pandas.pydata.org/pandas-docs/stable/user_guide/indexing.html#returning-a-view-versus-a-copy\n",
            "  # Remove the CWD from sys.path while we load stuff.\n",
            "/usr/local/lib/python3.7/dist-packages/ipykernel_launcher.py:12: SettingWithCopyWarning: \n",
            "A value is trying to be set on a copy of a slice from a DataFrame\n",
            "\n",
            "See the caveats in the documentation: https://pandas.pydata.org/pandas-docs/stable/user_guide/indexing.html#returning-a-view-versus-a-copy\n",
            "  if sys.path[0] == '':\n"
          ]
        }
      ]
    },
    {
      "cell_type": "code",
      "source": [
        "df_l['playerQuality'].value_counts()"
      ],
      "metadata": {
        "colab": {
          "base_uri": "https://localhost:8080/"
        },
        "id": "Q5xNpWC355dw",
        "outputId": "62b1cd26-fb1c-4492-b2b3-2300e060d81a"
      },
      "execution_count": 103,
      "outputs": [
        {
          "output_type": "execute_result",
          "data": {
            "text/plain": [
              "Regular      88040\n",
              "Ruim         52934\n",
              "Bom           5350\n",
              "Muito Bom      114\n",
              "Excelente        3\n",
              "Name: playerQuality, dtype: int64"
            ]
          },
          "metadata": {},
          "execution_count": 103
        }
      ]
    },
    {
      "cell_type": "code",
      "source": [
        "plt.bar(df_l['playerQuality'].unique(),df_l['playerQuality'].value_counts(), color='green')\n",
        "plt.ylabel('Quantidade total')\n",
        "plt.xlabel('Qualidade do jogador')\n",
        "plt.title('Quantidade de jogadores pela qualidade')\n",
        "plt.show()"
      ],
      "metadata": {
        "colab": {
          "base_uri": "https://localhost:8080/",
          "height": 295
        },
        "id": "OsqOrjAw4ERv",
        "outputId": "9f6e17b6-d356-444b-aaa1-d963a762b16d"
      },
      "execution_count": 104,
      "outputs": [
        {
          "output_type": "display_data",
          "data": {
            "text/plain": [
              "<Figure size 432x288 with 1 Axes>"
            ],
            "image/png": "[encoded data removed]"
          },
          "metadata": {
            "needs_background": "light"
          }
        }
      ]
    },
    {
      "cell_type": "code",
      "source": [
        "playersLosers = df_l[df_l[\"flWinner\"]==0]\n",
        "plt.bar(playersLosers['playerQuality'].unique(),playersLosers['playerQuality'].value_counts(), color='red')\n",
        "plt.ylabel('Quantidade total de jogadores que perderam')\n",
        "plt.xlabel('Qualidade do jogador')\n",
        "plt.title('Quantidade de jogadores que perderam pela qualidade')\n",
        "plt.show()"
      ],
      "metadata": {
        "colab": {
          "base_uri": "https://localhost:8080/",
          "height": 295
        },
        "id": "aW0ZhHR44zAf",
        "outputId": "5492968a-2370-436e-9b8d-856fda6240e2"
      },
      "execution_count": 105,
      "outputs": [
        {
          "output_type": "display_data",
          "data": {
            "text/plain": [
              "<Figure size 432x288 with 1 Axes>"
            ],
            "image/png": "[encoded data removed]"
          },
          "metadata": {
            "needs_background": "light"
          }
        }
      ]
    },
    {
      "cell_type": "code",
      "source": [
        "playersWinners = df_l[df_l[\"flWinner\"]==1]\n",
        "plt.bar(playersWinners['playerQuality'].unique(),playersWinners['playerQuality'].value_counts(), color='blue')\n",
        "plt.ylabel('Quantidade total de jogadores que ganharam')\n",
        "plt.xlabel('Qualidade do jogador')\n",
        "plt.title('Quantidade de jogadores que ganharam pela qualidade')\n",
        "plt.show()"
      ],
      "metadata": {
        "colab": {
          "base_uri": "https://localhost:8080/",
          "height": 295
        },
        "id": "dKQ60t_W5vd_",
        "outputId": "122e985b-becf-45c0-af3f-fe9ba66e3e8c"
      },
      "execution_count": 106,
      "outputs": [
        {
          "output_type": "display_data",
          "data": {
            "text/plain": [
              "<Figure size 432x288 with 1 Axes>"
            ],
            "image/png": "[encoded data removed]"
          },
          "metadata": {
            "needs_background": "light"
          }
        }
      ]
    },
    {
      "cell_type": "code",
      "source": [
        "playersLosers['playerQuality'].value_counts()"
      ],
      "metadata": {
        "colab": {
          "base_uri": "https://localhost:8080/"
        },
        "id": "H_WQFwTv6O6b",
        "outputId": "aa9881f3-ff71-4534-f7bd-6403d1606d36"
      },
      "execution_count": 107,
      "outputs": [
        {
          "output_type": "execute_result",
          "data": {
            "text/plain": [
              "Regular      38329\n",
              "Ruim         32925\n",
              "Bom           1902\n",
              "Muito Bom       41\n",
              "Excelente        2\n",
              "Name: playerQuality, dtype: int64"
            ]
          },
          "metadata": {},
          "execution_count": 107
        }
      ]
    },
    {
      "cell_type": "code",
      "source": [
        "playersWinners['playerQuality'].value_counts()"
      ],
      "metadata": {
        "colab": {
          "base_uri": "https://localhost:8080/"
        },
        "id": "0RJYO4366B36",
        "outputId": "76893815-86c7-4a6e-84e9-e9371f02bcae"
      },
      "execution_count": 108,
      "outputs": [
        {
          "output_type": "execute_result",
          "data": {
            "text/plain": [
              "Regular      49711\n",
              "Ruim         20009\n",
              "Bom           3448\n",
              "Muito Bom       73\n",
              "Excelente        1\n",
              "Name: playerQuality, dtype: int64"
            ]
          },
          "metadata": {},
          "execution_count": 108
        }
      ]
    },
    {
      "cell_type": "code",
      "source": [
        "vg = df_l[df_l['kpr']>=2]\n",
        "plt.bar(vg['qtRoundsPlayed'].unique(), vg['qtRoundsPlayed'].value_counts(), color='gray')\n",
        "plt.ylabel('Quantidade total de pessoas')\n",
        "plt.xlabel('quantidade de rounds jogados')\n",
        "plt.title('Quantidade total de pessoas com kdr maior que 2 que jogaram x rounds')\n",
        "plt.show()"
      ],
      "metadata": {
        "colab": {
          "base_uri": "https://localhost:8080/",
          "height": 295
        },
        "id": "jZJ-sZOmmdYj",
        "outputId": "ea1070dc-6693-4d48-ac3f-ee0273b817d5"
      },
      "execution_count": 109,
      "outputs": [
        {
          "output_type": "display_data",
          "data": {
            "text/plain": [
              "<Figure size 432x288 with 1 Axes>"
            ],
            "image/png": "[encoded data removed]"
          },
          "metadata": {
            "needs_background": "light"
          }
        }
      ]
    },
    {
      "cell_type": "code",
      "source": [
        "df_l['qtRoundsPlayed'].describe()\n",
        "#usar 1 quartil como separador deixando como minimo 23 rounds para se avaliar um jogador"
      ],
      "metadata": {
        "colab": {
          "base_uri": "https://localhost:8080/"
        },
        "id": "2-Dneb2VopZ0",
        "outputId": "47f4cea7-518d-431c-fb9f-222fc6e7a878"
      },
      "execution_count": 110,
      "outputs": [
        {
          "output_type": "execute_result",
          "data": {
            "text/plain": [
              "count    146441.000000\n",
              "mean         28.358691\n",
              "std           4.582400\n",
              "min          23.000000\n",
              "25%          25.000000\n",
              "50%          28.000000\n",
              "75%          30.000000\n",
              "max          84.000000\n",
              "Name: qtRoundsPlayed, dtype: float64"
            ]
          },
          "metadata": {},
          "execution_count": 110
        }
      ]
    },
    {
      "cell_type": "code",
      "source": [
        "vgpw = playersWinners[playersWinners['playerQuality']=='Muito Bom']\n",
        "plt.bar(vgpw['descMapName'].unique(), vgpw['descMapName'].value_counts(), color='yellow')\n",
        "plt.ylabel('Quantidade total de mapas')\n",
        "plt.xlabel('Nome do mapa')\n",
        "plt.title('Quantidade de mapas jogados pelos jogadores que ganharam que são muito bons')\n",
        "plt.show()"
      ],
      "metadata": {
        "colab": {
          "base_uri": "https://localhost:8080/",
          "height": 296
        },
        "id": "Oo8nfZco8xBH",
        "outputId": "147cbdd7-fd47-430f-c3cc-1598a2f516f2"
      },
      "execution_count": 111,
      "outputs": [
        {
          "output_type": "display_data",
          "data": {
            "text/plain": [
              "<Figure size 432x288 with 1 Axes>"
            ],
            "image/png": "[encoded data removed]"
          },
          "metadata": {
            "needs_background": "light"
          }
        }
      ]
    },
    {
      "cell_type": "code",
      "source": [
        "vgpl = playersLosers[playersLosers['playerQuality']=='Muito Bom']\n",
        "plt.bar(vgpl['descMapName'].unique(), vgpl['descMapName'].value_counts(), color='orange')\n",
        "plt.ylabel('Quantidade total de mapas')\n",
        "plt.xlabel('Nome do mapa')\n",
        "plt.title('Quantidade de mapas jogados pelos jogadores que perderam e são muito bons')\n",
        "plt.show()"
      ],
      "metadata": {
        "colab": {
          "base_uri": "https://localhost:8080/",
          "height": 296
        },
        "id": "32aGFgde-0ie",
        "outputId": "011e461b-12f6-44e4-86e7-208db20d0995"
      },
      "execution_count": 112,
      "outputs": [
        {
          "output_type": "display_data",
          "data": {
            "text/plain": [
              "<Figure size 432x288 with 1 Axes>"
            ],
            "image/png": "[encoded data removed]"
          },
          "metadata": {
            "needs_background": "light"
          }
        }
      ]
    },
    {
      "cell_type": "code",
      "source": [
        "plt.bar(df_l['descMapName'].unique(), df_l['descMapName'].value_counts(), color='blue')\n",
        "plt.ylabel('Quantidade total de mapas')\n",
        "plt.xlabel('Nome do mapa')\n",
        "plt.title('Quantidade de mapas jogados pelos jogadores do database')\n",
        "plt.show()"
      ],
      "metadata": {
        "colab": {
          "base_uri": "https://localhost:8080/",
          "height": 296
        },
        "id": "hBXLr1sWBHAL",
        "outputId": "9d51b2be-4c9a-4432-c33d-4c6ad82426ef"
      },
      "execution_count": 139,
      "outputs": [
        {
          "output_type": "display_data",
          "data": {
            "text/plain": [
              "<Figure size 432x288 with 1 Axes>"
            ],
            "image/png": "[encoded data removed]"
          },
          "metadata": {
            "needs_background": "light"
          }
        }
      ]
    },
    {
      "cell_type": "code",
      "source": [
        "vgp = df_l[df_l['pps']>=60]\n",
        "plt.bar(vgp['descMapName'].unique(), vgp['descMapName'].value_counts(), color='orange')\n",
        "plt.ylabel('Quantidade total de mapas')\n",
        "plt.xlabel('Nome do mapa')\n",
        "plt.title('Quantidade de mapas jogados pelos jogadores que são muito bons')\n",
        "plt.show()\n",
        "#jogadores com qualidade alta tendem a jogar mais inferno -> Over -> dust2 -> vertigo -> Mirage -> Nuke -> Train -> Ancient"
      ],
      "metadata": {
        "colab": {
          "base_uri": "https://localhost:8080/",
          "height": 296
        },
        "id": "Vu0Tqrzz_xAy",
        "outputId": "dc28ad56-583f-40e8-83f6-cfb395963de9"
      },
      "execution_count": 138,
      "outputs": [
        {
          "output_type": "display_data",
          "data": {
            "text/plain": [
              "<Figure size 432x288 with 1 Axes>"
            ],
            "image/png": "[encoded data removed]"
          },
          "metadata": {
            "needs_background": "light"
          }
        }
      ]
    },
    {
      "cell_type": "code",
      "source": [
        "vgp = df_l[df_l['pps']<=60]\n",
        "plt.bar(vgp['descMapName'].unique(), vgp['descMapName'].value_counts(), color='red')\n",
        "plt.ylabel('Quantidade total de mapas')\n",
        "plt.xlabel('Nome do mapa')\n",
        "plt.title('Quantidade de mapas jogados pelos jogadores que são muito ruins')\n",
        "plt.show()"
      ],
      "metadata": {
        "colab": {
          "base_uri": "https://localhost:8080/",
          "height": 296
        },
        "id": "OUFOxQ2EBfWw",
        "outputId": "ad8b8e03-ada6-4e3f-f386-ef88b43dd14a"
      },
      "execution_count": 140,
      "outputs": [
        {
          "output_type": "display_data",
          "data": {
            "text/plain": [
              "<Figure size 432x288 with 1 Axes>"
            ],
            "image/png": "[encoded data removed]"
          },
          "metadata": {
            "needs_background": "light"
          }
        }
      ]
    },
    {
      "cell_type": "code",
      "source": [
        "plt.bar(playersLosers['vlLevel'].unique(), playersLosers['vlLevel'].value_counts(), color='purple')\n",
        "plt.ylabel('Quantidade total de jogadores do nivel')\n",
        "plt.xlabel('Nivel de jogadores que perderam')\n",
        "plt.title('Quantidade do nivel dos jogadores que perderam')\n",
        "plt.show()"
      ],
      "metadata": {
        "colab": {
          "base_uri": "https://localhost:8080/",
          "height": 295
        },
        "id": "XqpYYE0I_ZcE",
        "outputId": "3f4c06ef-e9cc-431f-d6c9-be859c9e72ca"
      },
      "execution_count": 113,
      "outputs": [
        {
          "output_type": "display_data",
          "data": {
            "text/plain": [
              "<Figure size 432x288 with 1 Axes>"
            ],
            "image/png": "[encoded data removed]"
          },
          "metadata": {
            "needs_background": "light"
          }
        }
      ]
    },
    {
      "cell_type": "code",
      "source": [
        "plt.bar(playersWinners['vlLevel'].unique(), playersWinners['vlLevel'].value_counts(), color='pink')\n",
        "plt.ylabel('Quantidade total de jogadores do nivel')\n",
        "plt.xlabel('Nivel de jogadores que ganharam')\n",
        "plt.title('Quantidade do nivel dos jogadores que ganharam')\n",
        "plt.show()"
      ],
      "metadata": {
        "colab": {
          "base_uri": "https://localhost:8080/",
          "height": 295
        },
        "id": "g_9KDkJJ_xdI",
        "outputId": "6297b592-f5ab-4ee3-ac3e-d2db32b17821"
      },
      "execution_count": 114,
      "outputs": [
        {
          "output_type": "display_data",
          "data": {
            "text/plain": [
              "<Figure size 432x288 with 1 Axes>"
            ],
            "image/png": "[encoded data removed]"
          },
          "metadata": {
            "needs_background": "light"
          }
        }
      ]
    },
    {
      "cell_type": "code",
      "source": [
        "rpl = playersLosers[playersLosers['playerQuality']=='Regular']\n",
        "plt.bar(rpl['vlLevel'].unique(), rpl['vlLevel'].value_counts(), color='cyan')\n",
        "plt.ylabel('Quantidade total de jogadores do nivel')\n",
        "plt.xlabel('Nivel de jogadores que perderam')\n",
        "plt.title('Quantidade do nivel dos jogadores Regulares que perderam')\n",
        "plt.show()"
      ],
      "metadata": {
        "colab": {
          "base_uri": "https://localhost:8080/",
          "height": 295
        },
        "id": "UmtM9GRJAE0M",
        "outputId": "feeb6f92-1c46-49f0-951f-a6988b333a0d"
      },
      "execution_count": 115,
      "outputs": [
        {
          "output_type": "display_data",
          "data": {
            "text/plain": [
              "<Figure size 432x288 with 1 Axes>"
            ],
            "image/png": "[encoded data removed]"
          },
          "metadata": {
            "needs_background": "light"
          }
        }
      ]
    },
    {
      "cell_type": "code",
      "source": [
        "rpl = playersWinners[playersWinners['playerQuality']=='Muito Bom']\n",
        "plt.bar(rpl['vlLevel'].unique(), rpl['vlLevel'].value_counts(), color='brown')\n",
        "plt.ylabel('Quantidade total de jogadores do nivel')\n",
        "plt.xlabel('Nivel de jogadores que perderam')\n",
        "plt.title('Quantidade do nivel dos jogadores Regulares que perderam')\n",
        "plt.show()"
      ],
      "metadata": {
        "colab": {
          "base_uri": "https://localhost:8080/",
          "height": 295
        },
        "id": "2Vq9a7frAetu",
        "outputId": "31715d74-17a8-4a05-f900-a19327d036b5"
      },
      "execution_count": 116,
      "outputs": [
        {
          "output_type": "display_data",
          "data": {
            "text/plain": [
              "<Figure size 432x288 with 1 Axes>"
            ],
            "image/png": "[encoded data removed]"
          },
          "metadata": {
            "needs_background": "light"
          }
        }
      ]
    },
    {
      "cell_type": "code",
      "source": [
        "rpl = df_l[df_l['pps']>=60]\n",
        "plt.bar(rpl['vlLevel'].unique(), rpl['vlLevel'].value_counts(), color='green')\n",
        "plt.ylabel('Quantidade total de jogadores do nivel')\n",
        "plt.xlabel('Nivel de jogadores que perderam')\n",
        "plt.title('Nivel dos jogadores considerados muito bons')\n",
        "plt.show()"
      ],
      "metadata": {
        "colab": {
          "base_uri": "https://localhost:8080/",
          "height": 295
        },
        "id": "YN5Vtq4T1BVe",
        "outputId": "c1a355f0-4f61-45fc-b03e-bb0a1b13bc95"
      },
      "execution_count": 143,
      "outputs": [
        {
          "output_type": "display_data",
          "data": {
            "text/plain": [
              "<Figure size 432x288 with 1 Axes>"
            ],
            "image/png": "[encoded data removed]"
          },
          "metadata": {
            "needs_background": "light"
          }
        }
      ]
    },
    {
      "cell_type": "code",
      "source": [
        "rpl = df_l[df_l['pps']<=60]\n",
        "plt.bar(rpl['vlLevel'].unique(), rpl['vlLevel'].value_counts(), color='red')\n",
        "plt.ylabel('Quantidade total de jogadores do nivel')\n",
        "plt.xlabel('Nivel de jogadores que perderam')\n",
        "plt.title('Nivel dos jogadores considerados muito ruins')\n",
        "plt.show()"
      ],
      "metadata": {
        "colab": {
          "base_uri": "https://localhost:8080/",
          "height": 295
        },
        "id": "Mu-AtDzBCfS5",
        "outputId": "c95495df-abd8-4e4e-e7aa-faafd384623f"
      },
      "execution_count": 142,
      "outputs": [
        {
          "output_type": "display_data",
          "data": {
            "text/plain": [
              "<Figure size 432x288 with 1 Axes>"
            ],
            "image/png": "[encoded data removed]"
          },
          "metadata": {
            "needs_background": "light"
          }
        }
      ]
    },
    {
      "cell_type": "code",
      "source": [
        "df_l['pps'].describe()"
      ],
      "metadata": {
        "id": "Pajn2x-wIGvY",
        "colab": {
          "base_uri": "https://localhost:8080/"
        },
        "outputId": "22955131-a521-4833-e04c-1184b144e1c4"
      },
      "execution_count": 118,
      "outputs": [
        {
          "output_type": "execute_result",
          "data": {
            "text/plain": [
              "count    146441.000000\n",
              "mean         23.866106\n",
              "std           8.441323\n",
              "min           0.000000\n",
              "25%          17.857143\n",
              "50%          22.857143\n",
              "75%          29.285714\n",
              "max          90.714286\n",
              "Name: pps, dtype: float64"
            ]
          },
          "metadata": {},
          "execution_count": 118
        }
      ]
    },
    {
      "cell_type": "code",
      "source": [
        "killPorMapa = df_l.boxplot(column='kpr',by=\"descMapName\", rot =90)\n",
        "killPorMapa.set_title(\"kpr por mapa\")\n",
        "#inconclusivo por enquanto, pois o mapa que tem mais kills também é o mapa mais jogado\n",
        "#isso deve ser calculado com base na media de kills por partida "
      ],
      "metadata": {
        "id": "d1oksjRmknBz",
        "colab": {
          "base_uri": "https://localhost:8080/",
          "height": 425
        },
        "outputId": "931196c2-eeba-4c01-ae91-e5e418404fc2"
      },
      "execution_count": 119,
      "outputs": [
        {
          "output_type": "stream",
          "name": "stderr",
          "text": [
            "/usr/local/lib/python3.7/dist-packages/matplotlib/cbook/__init__.py:1376: VisibleDeprecationWarning: Creating an ndarray from ragged nested sequences (which is a list-or-tuple of lists-or-tuples-or ndarrays with different lengths or shapes) is deprecated. If you meant to do this, you must specify 'dtype=object' when creating the ndarray.\n",
            "  X = np.atleast_1d(X.T if isinstance(X, np.ndarray) else np.asarray(X))\n"
          ]
        },
        {
          "output_type": "execute_result",
          "data": {
            "text/plain": [
              "Text(0.5, 1.0, 'kpr por mapa')"
            ]
          },
          "metadata": {},
          "execution_count": 119
        },
        {
          "output_type": "display_data",
          "data": {
            "text/plain": [
              "<Figure size 432x288 with 1 Axes>"
            ],
            "image/png": "[encoded data removed]"
          },
          "metadata": {
            "needs_background": "light"
          }
        }
      ]
    },
    {
      "cell_type": "code",
      "source": [
        "x = df_l.groupby('descMapName')\n",
        "y = x['qtKill'].count()\n",
        "x['qtKill'].describe()\n",
        "#MEDIA DE KILLS POR MAPA"
      ],
      "metadata": {
        "id": "EOIOLMvanQEe",
        "colab": {
          "base_uri": "https://localhost:8080/",
          "height": 332
        },
        "outputId": "2e37f95f-1e9f-459b-aca1-af2a2848cac2"
      },
      "execution_count": 120,
      "outputs": [
        {
          "output_type": "execute_result",
          "data": {
            "text/plain": [
              "               count       mean       std  min   25%   50%   75%   max\n",
              "descMapName                                                           \n",
              "de_ancient    3387.0  20.859463  7.154590  0.0  16.0  20.0  25.0  61.0\n",
              "de_dust2     18761.0  20.382282  7.161748  0.0  15.0  20.0  25.0  85.0\n",
              "de_inferno   33851.0  20.092878  6.847048  0.0  15.0  19.0  24.0  70.0\n",
              "de_mirage    45901.0  20.548093  7.164280  0.0  16.0  20.0  25.0  73.0\n",
              "de_nuke      11211.0  20.731514  7.000101  0.0  16.0  20.0  25.0  60.0\n",
              "de_overpass  11156.0  20.740498  6.976928  0.0  16.0  20.0  25.0  67.0\n",
              "de_train      6168.0  20.541180  7.106518  1.0  16.0  20.0  25.0  68.0\n",
              "de_vertigo   16006.0  20.820317  7.143809  0.0  16.0  20.0  25.0  63.0"
            ],
            "text/html": [
              "\n",
              "  <div id=\"df-d4df07f0-16c2-44de-b97c-0724bc313fe3\">\n",
              "    <div class=\"colab-df-container\">\n",
              "      <div>\n",
              "<style scoped>\n",
              "    .dataframe tbody tr th:only-of-type {\n",
              "        vertical-align: middle;\n",
              "    }\n",
              "\n",
              "    .dataframe tbody tr th {\n",
              "        vertical-align: top;\n",
              "    }\n",
              "\n",
              "    .dataframe thead th {\n",
              "        text-align: right;\n",
              "    }\n",
              "</style>\n",
              "<table border=\"1\" class=\"dataframe\">\n",
              "  <thead>\n",
              "    <tr style=\"text-align: right;\">\n",
              "      <th></th>\n",
              "      <th>count</th>\n",
              "      <th>mean</th>\n",
              "      <th>std</th>\n",
              "      <th>min</th>\n",
              "      <th>25%</th>\n",
              "      <th>50%</th>\n",
              "      <th>75%</th>\n",
              "      <th>max</th>\n",
              "    </tr>\n",
              "    <tr>\n",
              "      <th>descMapName</th>\n",
              "      <th></th>\n",
              "      <th></th>\n",
              "      <th></th>\n",
              "      <th></th>\n",
              "      <th></th>\n",
              "      <th></th>\n",
              "      <th></th>\n",
              "      <th></th>\n",
              "    </tr>\n",
              "  </thead>\n",
              "  <tbody>\n",
              "    <tr>\n",
              "      <th>de_ancient</th>\n",
              "      <td>3387.0</td>\n",
              "      <td>20.859463</td>\n",
              "      <td>7.154590</td>\n",
              "      <td>0.0</td>\n",
              "      <td>16.0</td>\n",
              "      <td>20.0</td>\n",
              "      <td>25.0</td>\n",
              "      <td>61.0</td>\n",
              "    </tr>\n",
              "    <tr>\n",
              "      <th>de_dust2</th>\n",
              "      <td>18761.0</td>\n",
              "      <td>20.382282</td>\n",
              "      <td>7.161748</td>\n",
              "      <td>0.0</td>\n",
              "      <td>15.0</td>\n",
              "      <td>20.0</td>\n",
              "      <td>25.0</td>\n",
              "      <td>85.0</td>\n",
              "    </tr>\n",
              "    <tr>\n",
              "      <th>de_inferno</th>\n",
              "      <td>33851.0</td>\n",
              "      <td>20.092878</td>\n",
              "      <td>6.847048</td>\n",
              "      <td>0.0</td>\n",
              "      <td>15.0</td>\n",
              "      <td>19.0</td>\n",
              "      <td>24.0</td>\n",
              "      <td>70.0</td>\n",
              "    </tr>\n",
              "    <tr>\n",
              "      <th>de_mirage</th>\n",
              "      <td>45901.0</td>\n",
              "      <td>20.548093</td>\n",
              "      <td>7.164280</td>\n",
              "      <td>0.0</td>\n",
              "      <td>16.0</td>\n",
              "      <td>20.0</td>\n",
              "      <td>25.0</td>\n",
              "      <td>73.0</td>\n",
              "    </tr>\n",
              "    <tr>\n",
              "      <th>de_nuke</th>\n",
              "      <td>11211.0</td>\n",
              "      <td>20.731514</td>\n",
              "      <td>7.000101</td>\n",
              "      <td>0.0</td>\n",
              "      <td>16.0</td>\n",
              "      <td>20.0</td>\n",
              "      <td>25.0</td>\n",
              "      <td>60.0</td>\n",
              "    </tr>\n",
              "    <tr>\n",
              "      <th>de_overpass</th>\n",
              "      <td>11156.0</td>\n",
              "      <td>20.740498</td>\n",
              "      <td>6.976928</td>\n",
              "      <td>0.0</td>\n",
              "      <td>16.0</td>\n",
              "      <td>20.0</td>\n",
              "      <td>25.0</td>\n",
              "      <td>67.0</td>\n",
              "    </tr>\n",
              "    <tr>\n",
              "      <th>de_train</th>\n",
              "      <td>6168.0</td>\n",
              "      <td>20.541180</td>\n",
              "      <td>7.106518</td>\n",
              "      <td>1.0</td>\n",
              "      <td>16.0</td>\n",
              "      <td>20.0</td>\n",
              "      <td>25.0</td>\n",
              "      <td>68.0</td>\n",
              "    </tr>\n",
              "    <tr>\n",
              "      <th>de_vertigo</th>\n",
              "      <td>16006.0</td>\n",
              "      <td>20.820317</td>\n",
              "      <td>7.143809</td>\n",
              "      <td>0.0</td>\n",
              "      <td>16.0</td>\n",
              "      <td>20.0</td>\n",
              "      <td>25.0</td>\n",
              "      <td>63.0</td>\n",
              "    </tr>\n",
              "  </tbody>\n",
              "</table>\n",
              "</div>\n",
              "      <button class=\"colab-df-convert\" onclick=\"convertToInteractive('df-d4df07f0-16c2-44de-b97c-0724bc313fe3')\"\n",
              "              title=\"Convert this dataframe to an interactive table.\"\n",
              "              style=\"display:none;\">\n",
              "        \n",
              "  <svg xmlns=\"http://www.w3.org/2000/svg\" height=\"24px\"viewBox=\"0 0 24 24\"\n",
              "       width=\"24px\">\n",
              "    <path d=\"M0 0h24v24H0V0z\" fill=\"none\"/>\n",
              "    <path d=\"M18.56 5.44l.94 2.06.94-2.06 2.06-.94-2.06-.94-.94-2.06-.94 2.06-2.06.94zm-11 1L8.5 8.5l.94-2.06 2.06-.94-2.06-.94L8.5 2.5l-.94 2.06-2.06.94zm10 10l.94 2.06.94-2.06 2.06-.94-2.06-.94-.94-2.06-.94 2.06-2.06.94z\"/><path d=\"M17.41 7.96l-1.37-1.37c-.4-.4-.92-.59-1.43-.59-.52 0-1.04.2-1.43.59L10.3 9.45l-7.72 7.72c-.78.78-.78 2.05 0 2.83L4 21.41c.39.39.9.59 1.41.59.51 0 1.02-.2 1.41-.59l7.78-7.78 2.81-2.81c.8-.78.8-2.07 0-2.86zM5.41 20L4 18.59l7.72-7.72 1.47 1.35L5.41 20z\"/>\n",
              "  </svg>\n",
              "      </button>\n",
              "      \n",
              "  <style>\n",
              "    .colab-df-container {\n",
              "      display:flex;\n",
              "      flex-wrap:wrap;\n",
              "      gap: 12px;\n",
              "    }\n",
              "\n",
              "    .colab-df-convert {\n",
              "      background-color: #E8F0FE;\n",
              "      border: none;\n",
              "      border-radius: 50%;\n",
              "      cursor: pointer;\n",
              "      display: none;\n",
              "      fill: #1967D2;\n",
              "      height: 32px;\n",
              "      padding: 0 0 0 0;\n",
              "      width: 32px;\n",
              "    }\n",
              "\n",
              "    .colab-df-convert:hover {\n",
              "      background-color: #E2EBFA;\n",
              "      box-shadow: 0px 1px 2px rgba(60, 64, 67, 0.3), 0px 1px 3px 1px rgba(60, 64, 67, 0.15);\n",
              "      fill: #174EA6;\n",
              "    }\n",
              "\n",
              "    [theme=dark] .colab-df-convert {\n",
              "      background-color: #3B4455;\n",
              "      fill: #D2E3FC;\n",
              "    }\n",
              "\n",
              "    [theme=dark] .colab-df-convert:hover {\n",
              "      background-color: #434B5C;\n",
              "      box-shadow: 0px 1px 3px 1px rgba(0, 0, 0, 0.15);\n",
              "      filter: drop-shadow(0px 1px 2px rgba(0, 0, 0, 0.3));\n",
              "      fill: #FFFFFF;\n",
              "    }\n",
              "  </style>\n",
              "\n",
              "      <script>\n",
              "        const buttonEl =\n",
              "          document.querySelector('#df-d4df07f0-16c2-44de-b97c-0724bc313fe3 button.colab-df-convert');\n",
              "        buttonEl.style.display =\n",
              "          google.colab.kernel.accessAllowed ? 'block' : 'none';\n",
              "\n",
              "        async function convertToInteractive(key) {\n",
              "          const element = document.querySelector('#df-d4df07f0-16c2-44de-b97c-0724bc313fe3');\n",
              "          const dataTable =\n",
              "            await google.colab.kernel.invokeFunction('convertToInteractive',\n",
              "                                                     [key], {});\n",
              "          if (!dataTable) return;\n",
              "\n",
              "          const docLinkHtml = 'Like what you see? Visit the ' +\n",
              "            '<a target=\"_blank\" href=https://colab.research.google.com/notebooks/data_table.ipynb>data table notebook</a>'\n",
              "            + ' to learn more about interactive tables.';\n",
              "          element.innerHTML = '';\n",
              "          dataTable['output_type'] = 'display_data';\n",
              "          await google.colab.output.renderOutput(dataTable, element);\n",
              "          const docLink = document.createElement('div');\n",
              "          docLink.innerHTML = docLinkHtml;\n",
              "          element.appendChild(docLink);\n",
              "        }\n",
              "      </script>\n",
              "    </div>\n",
              "  </div>\n",
              "  "
            ]
          },
          "metadata": {},
          "execution_count": 120
        }
      ]
    },
    {
      "cell_type": "code",
      "source": [
        "x = df_l.groupby('descMapName')\n",
        "y = x['qtClutchWon'].count()\n",
        "x['qtClutchWon'].describe()\n",
        "#MEDIA DE CLUTCH POR MAPA"
      ],
      "metadata": {
        "id": "QsdIUAjBHK7L",
        "colab": {
          "base_uri": "https://localhost:8080/",
          "height": 332
        },
        "outputId": "fffbf02b-be60-46ac-8abc-6b1b961a236c"
      },
      "execution_count": 121,
      "outputs": [
        {
          "output_type": "execute_result",
          "data": {
            "text/plain": [
              "               count      mean       std  min  25%  50%  75%  max\n",
              "descMapName                                                      \n",
              "de_ancient    3387.0  0.536758  0.756967  0.0  0.0  0.0  1.0  6.0\n",
              "de_dust2     18761.0  0.501626  0.733896  0.0  0.0  0.0  1.0  5.0\n",
              "de_inferno   33851.0  0.473634  0.711443  0.0  0.0  0.0  1.0  8.0\n",
              "de_mirage    45901.0  0.501514  0.731625  0.0  0.0  0.0  1.0  6.0\n",
              "de_nuke      11211.0  0.535545  0.763378  0.0  0.0  0.0  1.0  7.0\n",
              "de_overpass  11156.0  0.524919  0.748168  0.0  0.0  0.0  1.0  6.0\n",
              "de_train      6168.0  0.513619  0.739102  0.0  0.0  0.0  1.0  5.0\n",
              "de_vertigo   16006.0  0.544546  0.766029  0.0  0.0  0.0  1.0  8.0"
            ],
            "text/html": [
              "\n",
              "  <div id=\"df-a5e24af5-b7a3-4686-8c82-f629ee65fbac\">\n",
              "    <div class=\"colab-df-container\">\n",
              "      <div>\n",
              "<style scoped>\n",
              "    .dataframe tbody tr th:only-of-type {\n",
              "        vertical-align: middle;\n",
              "    }\n",
              "\n",
              "    .dataframe tbody tr th {\n",
              "        vertical-align: top;\n",
              "    }\n",
              "\n",
              "    .dataframe thead th {\n",
              "        text-align: right;\n",
              "    }\n",
              "</style>\n",
              "<table border=\"1\" class=\"dataframe\">\n",
              "  <thead>\n",
              "    <tr style=\"text-align: right;\">\n",
              "      <th></th>\n",
              "      <th>count</th>\n",
              "      <th>mean</th>\n",
              "      <th>std</th>\n",
              "      <th>min</th>\n",
              "      <th>25%</th>\n",
              "      <th>50%</th>\n",
              "      <th>75%</th>\n",
              "      <th>max</th>\n",
              "    </tr>\n",
              "    <tr>\n",
              "      <th>descMapName</th>\n",
              "      <th></th>\n",
              "      <th></th>\n",
              "      <th></th>\n",
              "      <th></th>\n",
              "      <th></th>\n",
              "      <th></th>\n",
              "      <th></th>\n",
              "      <th></th>\n",
              "    </tr>\n",
              "  </thead>\n",
              "  <tbody>\n",
              "    <tr>\n",
              "      <th>de_ancient</th>\n",
              "      <td>3387.0</td>\n",
              "      <td>0.536758</td>\n",
              "      <td>0.756967</td>\n",
              "      <td>0.0</td>\n",
              "      <td>0.0</td>\n",
              "      <td>0.0</td>\n",
              "      <td>1.0</td>\n",
              "      <td>6.0</td>\n",
              "    </tr>\n",
              "    <tr>\n",
              "      <th>de_dust2</th>\n",
              "      <td>18761.0</td>\n",
              "      <td>0.501626</td>\n",
              "      <td>0.733896</td>\n",
              "      <td>0.0</td>\n",
              "      <td>0.0</td>\n",
              "      <td>0.0</td>\n",
              "      <td>1.0</td>\n",
              "      <td>5.0</td>\n",
              "    </tr>\n",
              "    <tr>\n",
              "      <th>de_inferno</th>\n",
              "      <td>33851.0</td>\n",
              "      <td>0.473634</td>\n",
              "      <td>0.711443</td>\n",
              "      <td>0.0</td>\n",
              "      <td>0.0</td>\n",
              "      <td>0.0</td>\n",
              "      <td>1.0</td>\n",
              "      <td>8.0</td>\n",
              "    </tr>\n",
              "    <tr>\n",
              "      <th>de_mirage</th>\n",
              "      <td>45901.0</td>\n",
              "      <td>0.501514</td>\n",
              "      <td>0.731625</td>\n",
              "      <td>0.0</td>\n",
              "      <td>0.0</td>\n",
              "      <td>0.0</td>\n",
              "      <td>1.0</td>\n",
              "      <td>6.0</td>\n",
              "    </tr>\n",
              "    <tr>\n",
              "      <th>de_nuke</th>\n",
              "      <td>11211.0</td>\n",
              "      <td>0.535545</td>\n",
              "      <td>0.763378</td>\n",
              "      <td>0.0</td>\n",
              "      <td>0.0</td>\n",
              "      <td>0.0</td>\n",
              "      <td>1.0</td>\n",
              "      <td>7.0</td>\n",
              "    </tr>\n",
              "    <tr>\n",
              "      <th>de_overpass</th>\n",
              "      <td>11156.0</td>\n",
              "      <td>0.524919</td>\n",
              "      <td>0.748168</td>\n",
              "      <td>0.0</td>\n",
              "      <td>0.0</td>\n",
              "      <td>0.0</td>\n",
              "      <td>1.0</td>\n",
              "      <td>6.0</td>\n",
              "    </tr>\n",
              "    <tr>\n",
              "      <th>de_train</th>\n",
              "      <td>6168.0</td>\n",
              "      <td>0.513619</td>\n",
              "      <td>0.739102</td>\n",
              "      <td>0.0</td>\n",
              "      <td>0.0</td>\n",
              "      <td>0.0</td>\n",
              "      <td>1.0</td>\n",
              "      <td>5.0</td>\n",
              "    </tr>\n",
              "    <tr>\n",
              "      <th>de_vertigo</th>\n",
              "      <td>16006.0</td>\n",
              "      <td>0.544546</td>\n",
              "      <td>0.766029</td>\n",
              "      <td>0.0</td>\n",
              "      <td>0.0</td>\n",
              "      <td>0.0</td>\n",
              "      <td>1.0</td>\n",
              "      <td>8.0</td>\n",
              "    </tr>\n",
              "  </tbody>\n",
              "</table>\n",
              "</div>\n",
              "      <button class=\"colab-df-convert\" onclick=\"convertToInteractive('df-a5e24af5-b7a3-4686-8c82-f629ee65fbac')\"\n",
              "              title=\"Convert this dataframe to an interactive table.\"\n",
              "              style=\"display:none;\">\n",
              "        \n",
              "  <svg xmlns=\"http://www.w3.org/2000/svg\" height=\"24px\"viewBox=\"0 0 24 24\"\n",
              "       width=\"24px\">\n",
              "    <path d=\"M0 0h24v24H0V0z\" fill=\"none\"/>\n",
              "    <path d=\"M18.56 5.44l.94 2.06.94-2.06 2.06-.94-2.06-.94-.94-2.06-.94 2.06-2.06.94zm-11 1L8.5 8.5l.94-2.06 2.06-.94-2.06-.94L8.5 2.5l-.94 2.06-2.06.94zm10 10l.94 2.06.94-2.06 2.06-.94-2.06-.94-.94-2.06-.94 2.06-2.06.94z\"/><path d=\"M17.41 7.96l-1.37-1.37c-.4-.4-.92-.59-1.43-.59-.52 0-1.04.2-1.43.59L10.3 9.45l-7.72 7.72c-.78.78-.78 2.05 0 2.83L4 21.41c.39.39.9.59 1.41.59.51 0 1.02-.2 1.41-.59l7.78-7.78 2.81-2.81c.8-.78.8-2.07 0-2.86zM5.41 20L4 18.59l7.72-7.72 1.47 1.35L5.41 20z\"/>\n",
              "  </svg>\n",
              "      </button>\n",
              "      \n",
              "  <style>\n",
              "    .colab-df-container {\n",
              "      display:flex;\n",
              "      flex-wrap:wrap;\n",
              "      gap: 12px;\n",
              "    }\n",
              "\n",
              "    .colab-df-convert {\n",
              "      background-color: #E8F0FE;\n",
              "      border: none;\n",
              "      border-radius: 50%;\n",
              "      cursor: pointer;\n",
              "      display: none;\n",
              "      fill: #1967D2;\n",
              "      height: 32px;\n",
              "      padding: 0 0 0 0;\n",
              "      width: 32px;\n",
              "    }\n",
              "\n",
              "    .colab-df-convert:hover {\n",
              "      background-color: #E2EBFA;\n",
              "      box-shadow: 0px 1px 2px rgba(60, 64, 67, 0.3), 0px 1px 3px 1px rgba(60, 64, 67, 0.15);\n",
              "      fill: #174EA6;\n",
              "    }\n",
              "\n",
              "    [theme=dark] .colab-df-convert {\n",
              "      background-color: #3B4455;\n",
              "      fill: #D2E3FC;\n",
              "    }\n",
              "\n",
              "    [theme=dark] .colab-df-convert:hover {\n",
              "      background-color: #434B5C;\n",
              "      box-shadow: 0px 1px 3px 1px rgba(0, 0, 0, 0.15);\n",
              "      filter: drop-shadow(0px 1px 2px rgba(0, 0, 0, 0.3));\n",
              "      fill: #FFFFFF;\n",
              "    }\n",
              "  </style>\n",
              "\n",
              "      <script>\n",
              "        const buttonEl =\n",
              "          document.querySelector('#df-a5e24af5-b7a3-4686-8c82-f629ee65fbac button.colab-df-convert');\n",
              "        buttonEl.style.display =\n",
              "          google.colab.kernel.accessAllowed ? 'block' : 'none';\n",
              "\n",
              "        async function convertToInteractive(key) {\n",
              "          const element = document.querySelector('#df-a5e24af5-b7a3-4686-8c82-f629ee65fbac');\n",
              "          const dataTable =\n",
              "            await google.colab.kernel.invokeFunction('convertToInteractive',\n",
              "                                                     [key], {});\n",
              "          if (!dataTable) return;\n",
              "\n",
              "          const docLinkHtml = 'Like what you see? Visit the ' +\n",
              "            '<a target=\"_blank\" href=https://colab.research.google.com/notebooks/data_table.ipynb>data table notebook</a>'\n",
              "            + ' to learn more about interactive tables.';\n",
              "          element.innerHTML = '';\n",
              "          dataTable['output_type'] = 'display_data';\n",
              "          await google.colab.output.renderOutput(dataTable, element);\n",
              "          const docLink = document.createElement('div');\n",
              "          docLink.innerHTML = docLinkHtml;\n",
              "          element.appendChild(docLink);\n",
              "        }\n",
              "      </script>\n",
              "    </div>\n",
              "  </div>\n",
              "  "
            ]
          },
          "metadata": {},
          "execution_count": 121
        }
      ]
    },
    {
      "cell_type": "code",
      "source": [
        "x = df_l.groupby('descMapName')\n",
        "y = x['kpr'].count()\n",
        "x['kpr'].describe()\n",
        "\n",
        "#MEDIA DE KPR POR MAPA"
      ],
      "metadata": {
        "id": "A7WWbLyDJU7j",
        "colab": {
          "base_uri": "https://localhost:8080/",
          "height": 332
        },
        "outputId": "f64026a7-12e6-4cda-d35e-91c7a3518d5d"
      },
      "execution_count": 122,
      "outputs": [
        {
          "output_type": "execute_result",
          "data": {
            "text/plain": [
              "               count      mean       std       min       25%       50%  \\\n",
              "descMapName                                                              \n",
              "de_ancient    3387.0  0.733093  0.222566  0.000000  0.583333  0.720000   \n",
              "de_dust2     18761.0  0.719231  0.225644  0.000000  0.560000  0.703704   \n",
              "de_inferno   33851.0  0.707766  0.215367  0.000000  0.560000  0.695652   \n",
              "de_mirage    45901.0  0.725325  0.226108  0.000000  0.566667  0.708333   \n",
              "de_nuke      11211.0  0.730884  0.219042  0.000000  0.583333  0.720000   \n",
              "de_overpass  11156.0  0.729719  0.217298  0.000000  0.576923  0.720000   \n",
              "de_train      6168.0  0.725963  0.223969  0.027778  0.571429  0.714286   \n",
              "de_vertigo   16006.0  0.734101  0.222927  0.000000  0.576923  0.722222   \n",
              "\n",
              "                  75%       max  \n",
              "descMapName                      \n",
              "de_ancient   0.870953  1.888889  \n",
              "de_dust2     0.862069  2.043478  \n",
              "de_inferno   0.840000  1.791667  \n",
              "de_mirage    0.866667  2.083333  \n",
              "de_nuke      0.866667  1.791667  \n",
              "de_overpass  0.866667  1.833333  \n",
              "de_train     0.862069  1.750000  \n",
              "de_vertigo   0.875000  1.827586  "
            ],
            "text/html": [
              "\n",
              "  <div id=\"df-b8654e90-e3ee-4740-bce0-a75dd10cebbc\">\n",
              "    <div class=\"colab-df-container\">\n",
              "      <div>\n",
              "<style scoped>\n",
              "    .dataframe tbody tr th:only-of-type {\n",
              "        vertical-align: middle;\n",
              "    }\n",
              "\n",
              "    .dataframe tbody tr th {\n",
              "        vertical-align: top;\n",
              "    }\n",
              "\n",
              "    .dataframe thead th {\n",
              "        text-align: right;\n",
              "    }\n",
              "</style>\n",
              "<table border=\"1\" class=\"dataframe\">\n",
              "  <thead>\n",
              "    <tr style=\"text-align: right;\">\n",
              "      <th></th>\n",
              "      <th>count</th>\n",
              "      <th>mean</th>\n",
              "      <th>std</th>\n",
              "      <th>min</th>\n",
              "      <th>25%</th>\n",
              "      <th>50%</th>\n",
              "      <th>75%</th>\n",
              "      <th>max</th>\n",
              "    </tr>\n",
              "    <tr>\n",
              "      <th>descMapName</th>\n",
              "      <th></th>\n",
              "      <th></th>\n",
              "      <th></th>\n",
              "      <th></th>\n",
              "      <th></th>\n",
              "      <th></th>\n",
              "      <th></th>\n",
              "      <th></th>\n",
              "    </tr>\n",
              "  </thead>\n",
              "  <tbody>\n",
              "    <tr>\n",
              "      <th>de_ancient</th>\n",
              "      <td>3387.0</td>\n",
              "      <td>0.733093</td>\n",
              "      <td>0.222566</td>\n",
              "      <td>0.000000</td>\n",
              "      <td>0.583333</td>\n",
              "      <td>0.720000</td>\n",
              "      <td>0.870953</td>\n",
              "      <td>1.888889</td>\n",
              "    </tr>\n",
              "    <tr>\n",
              "      <th>de_dust2</th>\n",
              "      <td>18761.0</td>\n",
              "      <td>0.719231</td>\n",
              "      <td>0.225644</td>\n",
              "      <td>0.000000</td>\n",
              "      <td>0.560000</td>\n",
              "      <td>0.703704</td>\n",
              "      <td>0.862069</td>\n",
              "      <td>2.043478</td>\n",
              "    </tr>\n",
              "    <tr>\n",
              "      <th>de_inferno</th>\n",
              "      <td>33851.0</td>\n",
              "      <td>0.707766</td>\n",
              "      <td>0.215367</td>\n",
              "      <td>0.000000</td>\n",
              "      <td>0.560000</td>\n",
              "      <td>0.695652</td>\n",
              "      <td>0.840000</td>\n",
              "      <td>1.791667</td>\n",
              "    </tr>\n",
              "    <tr>\n",
              "      <th>de_mirage</th>\n",
              "      <td>45901.0</td>\n",
              "      <td>0.725325</td>\n",
              "      <td>0.226108</td>\n",
              "      <td>0.000000</td>\n",
              "      <td>0.566667</td>\n",
              "      <td>0.708333</td>\n",
              "      <td>0.866667</td>\n",
              "      <td>2.083333</td>\n",
              "    </tr>\n",
              "    <tr>\n",
              "      <th>de_nuke</th>\n",
              "      <td>11211.0</td>\n",
              "      <td>0.730884</td>\n",
              "      <td>0.219042</td>\n",
              "      <td>0.000000</td>\n",
              "      <td>0.583333</td>\n",
              "      <td>0.720000</td>\n",
              "      <td>0.866667</td>\n",
              "      <td>1.791667</td>\n",
              "    </tr>\n",
              "    <tr>\n",
              "      <th>de_overpass</th>\n",
              "      <td>11156.0</td>\n",
              "      <td>0.729719</td>\n",
              "      <td>0.217298</td>\n",
              "      <td>0.000000</td>\n",
              "      <td>0.576923</td>\n",
              "      <td>0.720000</td>\n",
              "      <td>0.866667</td>\n",
              "      <td>1.833333</td>\n",
              "    </tr>\n",
              "    <tr>\n",
              "      <th>de_train</th>\n",
              "      <td>6168.0</td>\n",
              "      <td>0.725963</td>\n",
              "      <td>0.223969</td>\n",
              "      <td>0.027778</td>\n",
              "      <td>0.571429</td>\n",
              "      <td>0.714286</td>\n",
              "      <td>0.862069</td>\n",
              "      <td>1.750000</td>\n",
              "    </tr>\n",
              "    <tr>\n",
              "      <th>de_vertigo</th>\n",
              "      <td>16006.0</td>\n",
              "      <td>0.734101</td>\n",
              "      <td>0.222927</td>\n",
              "      <td>0.000000</td>\n",
              "      <td>0.576923</td>\n",
              "      <td>0.722222</td>\n",
              "      <td>0.875000</td>\n",
              "      <td>1.827586</td>\n",
              "    </tr>\n",
              "  </tbody>\n",
              "</table>\n",
              "</div>\n",
              "      <button class=\"colab-df-convert\" onclick=\"convertToInteractive('df-b8654e90-e3ee-4740-bce0-a75dd10cebbc')\"\n",
              "              title=\"Convert this dataframe to an interactive table.\"\n",
              "              style=\"display:none;\">\n",
              "        \n",
              "  <svg xmlns=\"http://www.w3.org/2000/svg\" height=\"24px\"viewBox=\"0 0 24 24\"\n",
              "       width=\"24px\">\n",
              "    <path d=\"M0 0h24v24H0V0z\" fill=\"none\"/>\n",
              "    <path d=\"M18.56 5.44l.94 2.06.94-2.06 2.06-.94-2.06-.94-.94-2.06-.94 2.06-2.06.94zm-11 1L8.5 8.5l.94-2.06 2.06-.94-2.06-.94L8.5 2.5l-.94 2.06-2.06.94zm10 10l.94 2.06.94-2.06 2.06-.94-2.06-.94-.94-2.06-.94 2.06-2.06.94z\"/><path d=\"M17.41 7.96l-1.37-1.37c-.4-.4-.92-.59-1.43-.59-.52 0-1.04.2-1.43.59L10.3 9.45l-7.72 7.72c-.78.78-.78 2.05 0 2.83L4 21.41c.39.39.9.59 1.41.59.51 0 1.02-.2 1.41-.59l7.78-7.78 2.81-2.81c.8-.78.8-2.07 0-2.86zM5.41 20L4 18.59l7.72-7.72 1.47 1.35L5.41 20z\"/>\n",
              "  </svg>\n",
              "      </button>\n",
              "      \n",
              "  <style>\n",
              "    .colab-df-container {\n",
              "      display:flex;\n",
              "      flex-wrap:wrap;\n",
              "      gap: 12px;\n",
              "    }\n",
              "\n",
              "    .colab-df-convert {\n",
              "      background-color: #E8F0FE;\n",
              "      border: none;\n",
              "      border-radius: 50%;\n",
              "      cursor: pointer;\n",
              "      display: none;\n",
              "      fill: #1967D2;\n",
              "      height: 32px;\n",
              "      padding: 0 0 0 0;\n",
              "      width: 32px;\n",
              "    }\n",
              "\n",
              "    .colab-df-convert:hover {\n",
              "      background-color: #E2EBFA;\n",
              "      box-shadow: 0px 1px 2px rgba(60, 64, 67, 0.3), 0px 1px 3px 1px rgba(60, 64, 67, 0.15);\n",
              "      fill: #174EA6;\n",
              "    }\n",
              "\n",
              "    [theme=dark] .colab-df-convert {\n",
              "      background-color: #3B4455;\n",
              "      fill: #D2E3FC;\n",
              "    }\n",
              "\n",
              "    [theme=dark] .colab-df-convert:hover {\n",
              "      background-color: #434B5C;\n",
              "      box-shadow: 0px 1px 3px 1px rgba(0, 0, 0, 0.15);\n",
              "      filter: drop-shadow(0px 1px 2px rgba(0, 0, 0, 0.3));\n",
              "      fill: #FFFFFF;\n",
              "    }\n",
              "  </style>\n",
              "\n",
              "      <script>\n",
              "        const buttonEl =\n",
              "          document.querySelector('#df-b8654e90-e3ee-4740-bce0-a75dd10cebbc button.colab-df-convert');\n",
              "        buttonEl.style.display =\n",
              "          google.colab.kernel.accessAllowed ? 'block' : 'none';\n",
              "\n",
              "        async function convertToInteractive(key) {\n",
              "          const element = document.querySelector('#df-b8654e90-e3ee-4740-bce0-a75dd10cebbc');\n",
              "          const dataTable =\n",
              "            await google.colab.kernel.invokeFunction('convertToInteractive',\n",
              "                                                     [key], {});\n",
              "          if (!dataTable) return;\n",
              "\n",
              "          const docLinkHtml = 'Like what you see? Visit the ' +\n",
              "            '<a target=\"_blank\" href=https://colab.research.google.com/notebooks/data_table.ipynb>data table notebook</a>'\n",
              "            + ' to learn more about interactive tables.';\n",
              "          element.innerHTML = '';\n",
              "          dataTable['output_type'] = 'display_data';\n",
              "          await google.colab.output.renderOutput(dataTable, element);\n",
              "          const docLink = document.createElement('div');\n",
              "          docLink.innerHTML = docLinkHtml;\n",
              "          element.appendChild(docLink);\n",
              "        }\n",
              "      </script>\n",
              "    </div>\n",
              "  </div>\n",
              "  "
            ]
          },
          "metadata": {},
          "execution_count": 122
        }
      ]
    },
    {
      "cell_type": "code",
      "source": [
        "kill = df_l.qtKill.sum() #quantidade de kills do DataBase\n",
        "flash = df_l.qtFlashAssist.sum()\n",
        "\n",
        "flash/kill #porcentagem de kills que tiveram auxilio de flashs\n",
        "#aproximadamente 2% das kills apenas tem assistencia de flashs"
      ],
      "metadata": {
        "id": "1HKADyxZp5gA",
        "colab": {
          "base_uri": "https://localhost:8080/"
        },
        "outputId": "0f4c16af-70c5-4d61-f3c8-65b92a1821e8"
      },
      "execution_count": 123,
      "outputs": [
        {
          "output_type": "execute_result",
          "data": {
            "text/plain": [
              "0.02992931984727354"
            ]
          },
          "metadata": {},
          "execution_count": 123
        }
      ]
    },
    {
      "cell_type": "code",
      "source": [
        "killPorQualidade = df_l.boxplot(column='kpr',by=\"playerQuality\", rot =90)\n",
        "killPorQualidade.set_title(\"\")"
      ],
      "metadata": {
        "colab": {
          "base_uri": "https://localhost:8080/",
          "height": 416
        },
        "id": "jHixfU186lZJ",
        "outputId": "67c6f5f6-5444-4355-9909-6ca6b1e56e7e"
      },
      "execution_count": 124,
      "outputs": [
        {
          "output_type": "stream",
          "name": "stderr",
          "text": [
            "/usr/local/lib/python3.7/dist-packages/matplotlib/cbook/__init__.py:1376: VisibleDeprecationWarning: Creating an ndarray from ragged nested sequences (which is a list-or-tuple of lists-or-tuples-or ndarrays with different lengths or shapes) is deprecated. If you meant to do this, you must specify 'dtype=object' when creating the ndarray.\n",
            "  X = np.atleast_1d(X.T if isinstance(X, np.ndarray) else np.asarray(X))\n"
          ]
        },
        {
          "output_type": "execute_result",
          "data": {
            "text/plain": [
              "Text(0.5, 1.0, '')"
            ]
          },
          "metadata": {},
          "execution_count": 124
        },
        {
          "output_type": "display_data",
          "data": {
            "text/plain": [
              "<Figure size 432x288 with 1 Axes>"
            ],
            "image/png": "[encoded data removed]"
          },
          "metadata": {
            "needs_background": "light"
          }
        }
      ]
    },
    {
      "cell_type": "code",
      "source": [
        "win = df_l['flWinner']>0\n",
        "win.value_counts()"
      ],
      "metadata": {
        "id": "AIc9iEpQ1Xzk",
        "colab": {
          "base_uri": "https://localhost:8080/"
        },
        "outputId": "cf1e8aae-7290-4058-f87c-80e16b3e8bf0"
      },
      "execution_count": 125,
      "outputs": [
        {
          "output_type": "execute_result",
          "data": {
            "text/plain": [
              "True     73242\n",
              "False    73199\n",
              "Name: flWinner, dtype: int64"
            ]
          },
          "metadata": {},
          "execution_count": 125
        }
      ]
    },
    {
      "cell_type": "code",
      "source": [
        "a = df_l[['dpr', 'qtSurvived']]\n",
        "b = df_l[['vlDamage', 'qtKill']]"
      ],
      "metadata": {
        "id": "vGfRqOEXe8kU"
      },
      "execution_count": 126,
      "outputs": []
    },
    {
      "cell_type": "code",
      "source": [
        "a.corr()"
      ],
      "metadata": {
        "colab": {
          "base_uri": "https://localhost:8080/",
          "height": 81
        },
        "id": "74Y4Q4yofA80",
        "outputId": "4ba40391-2f26-4208-cfa1-5e21555597a4"
      },
      "execution_count": 127,
      "outputs": [
        {
          "output_type": "execute_result",
          "data": {
            "text/plain": [
              "     dpr\n",
              "dpr  1.0"
            ],
            "text/html": [
              "\n",
              "  <div id=\"df-65852151-ca08-4e18-83d4-a066584c85ea\">\n",
              "    <div class=\"colab-df-container\">\n",
              "      <div>\n",
              "<style scoped>\n",
              "    .dataframe tbody tr th:only-of-type {\n",
              "        vertical-align: middle;\n",
              "    }\n",
              "\n",
              "    .dataframe tbody tr th {\n",
              "        vertical-align: top;\n",
              "    }\n",
              "\n",
              "    .dataframe thead th {\n",
              "        text-align: right;\n",
              "    }\n",
              "</style>\n",
              "<table border=\"1\" class=\"dataframe\">\n",
              "  <thead>\n",
              "    <tr style=\"text-align: right;\">\n",
              "      <th></th>\n",
              "      <th>dpr</th>\n",
              "    </tr>\n",
              "  </thead>\n",
              "  <tbody>\n",
              "    <tr>\n",
              "      <th>dpr</th>\n",
              "      <td>1.0</td>\n",
              "    </tr>\n",
              "  </tbody>\n",
              "</table>\n",
              "</div>\n",
              "      <button class=\"colab-df-convert\" onclick=\"convertToInteractive('df-65852151-ca08-4e18-83d4-a066584c85ea')\"\n",
              "              title=\"Convert this dataframe to an interactive table.\"\n",
              "              style=\"display:none;\">\n",
              "        \n",
              "  <svg xmlns=\"http://www.w3.org/2000/svg\" height=\"24px\"viewBox=\"0 0 24 24\"\n",
              "       width=\"24px\">\n",
              "    <path d=\"M0 0h24v24H0V0z\" fill=\"none\"/>\n",
              "    <path d=\"M18.56 5.44l.94 2.06.94-2.06 2.06-.94-2.06-.94-.94-2.06-.94 2.06-2.06.94zm-11 1L8.5 8.5l.94-2.06 2.06-.94-2.06-.94L8.5 2.5l-.94 2.06-2.06.94zm10 10l.94 2.06.94-2.06 2.06-.94-2.06-.94-.94-2.06-.94 2.06-2.06.94z\"/><path d=\"M17.41 7.96l-1.37-1.37c-.4-.4-.92-.59-1.43-.59-.52 0-1.04.2-1.43.59L10.3 9.45l-7.72 7.72c-.78.78-.78 2.05 0 2.83L4 21.41c.39.39.9.59 1.41.59.51 0 1.02-.2 1.41-.59l7.78-7.78 2.81-2.81c.8-.78.8-2.07 0-2.86zM5.41 20L4 18.59l7.72-7.72 1.47 1.35L5.41 20z\"/>\n",
              "  </svg>\n",
              "      </button>\n",
              "      \n",
              "  <style>\n",
              "    .colab-df-container {\n",
              "      display:flex;\n",
              "      flex-wrap:wrap;\n",
              "      gap: 12px;\n",
              "    }\n",
              "\n",
              "    .colab-df-convert {\n",
              "      background-color: #E8F0FE;\n",
              "      border: none;\n",
              "      border-radius: 50%;\n",
              "      cursor: pointer;\n",
              "      display: none;\n",
              "      fill: #1967D2;\n",
              "      height: 32px;\n",
              "      padding: 0 0 0 0;\n",
              "      width: 32px;\n",
              "    }\n",
              "\n",
              "    .colab-df-convert:hover {\n",
              "      background-color: #E2EBFA;\n",
              "      box-shadow: 0px 1px 2px rgba(60, 64, 67, 0.3), 0px 1px 3px 1px rgba(60, 64, 67, 0.15);\n",
              "      fill: #174EA6;\n",
              "    }\n",
              "\n",
              "    [theme=dark] .colab-df-convert {\n",
              "      background-color: #3B4455;\n",
              "      fill: #D2E3FC;\n",
              "    }\n",
              "\n",
              "    [theme=dark] .colab-df-convert:hover {\n",
              "      background-color: #434B5C;\n",
              "      box-shadow: 0px 1px 3px 1px rgba(0, 0, 0, 0.15);\n",
              "      filter: drop-shadow(0px 1px 2px rgba(0, 0, 0, 0.3));\n",
              "      fill: #FFFFFF;\n",
              "    }\n",
              "  </style>\n",
              "\n",
              "      <script>\n",
              "        const buttonEl =\n",
              "          document.querySelector('#df-65852151-ca08-4e18-83d4-a066584c85ea button.colab-df-convert');\n",
              "        buttonEl.style.display =\n",
              "          google.colab.kernel.accessAllowed ? 'block' : 'none';\n",
              "\n",
              "        async function convertToInteractive(key) {\n",
              "          const element = document.querySelector('#df-65852151-ca08-4e18-83d4-a066584c85ea');\n",
              "          const dataTable =\n",
              "            await google.colab.kernel.invokeFunction('convertToInteractive',\n",
              "                                                     [key], {});\n",
              "          if (!dataTable) return;\n",
              "\n",
              "          const docLinkHtml = 'Like what you see? Visit the ' +\n",
              "            '<a target=\"_blank\" href=https://colab.research.google.com/notebooks/data_table.ipynb>data table notebook</a>'\n",
              "            + ' to learn more about interactive tables.';\n",
              "          element.innerHTML = '';\n",
              "          dataTable['output_type'] = 'display_data';\n",
              "          await google.colab.output.renderOutput(dataTable, element);\n",
              "          const docLink = document.createElement('div');\n",
              "          docLink.innerHTML = docLinkHtml;\n",
              "          element.appendChild(docLink);\n",
              "        }\n",
              "      </script>\n",
              "    </div>\n",
              "  </div>\n",
              "  "
            ]
          },
          "metadata": {},
          "execution_count": 127
        }
      ]
    },
    {
      "cell_type": "code",
      "source": [
        "b.corr()"
      ],
      "metadata": {
        "colab": {
          "base_uri": "https://localhost:8080/",
          "height": 112
        },
        "id": "VVjS6II7fArJ",
        "outputId": "7c7a662f-e8b0-4e1d-e1e5-c26b8a82a97b"
      },
      "execution_count": 128,
      "outputs": [
        {
          "output_type": "execute_result",
          "data": {
            "text/plain": [
              "          vlDamage    qtKill\n",
              "vlDamage  1.000000  0.948241\n",
              "qtKill    0.948241  1.000000"
            ],
            "text/html": [
              "\n",
              "  <div id=\"df-92e5a821-e84a-440b-bdd2-8b1e618855a4\">\n",
              "    <div class=\"colab-df-container\">\n",
              "      <div>\n",
              "<style scoped>\n",
              "    .dataframe tbody tr th:only-of-type {\n",
              "        vertical-align: middle;\n",
              "    }\n",
              "\n",
              "    .dataframe tbody tr th {\n",
              "        vertical-align: top;\n",
              "    }\n",
              "\n",
              "    .dataframe thead th {\n",
              "        text-align: right;\n",
              "    }\n",
              "</style>\n",
              "<table border=\"1\" class=\"dataframe\">\n",
              "  <thead>\n",
              "    <tr style=\"text-align: right;\">\n",
              "      <th></th>\n",
              "      <th>vlDamage</th>\n",
              "      <th>qtKill</th>\n",
              "    </tr>\n",
              "  </thead>\n",
              "  <tbody>\n",
              "    <tr>\n",
              "      <th>vlDamage</th>\n",
              "      <td>1.000000</td>\n",
              "      <td>0.948241</td>\n",
              "    </tr>\n",
              "    <tr>\n",
              "      <th>qtKill</th>\n",
              "      <td>0.948241</td>\n",
              "      <td>1.000000</td>\n",
              "    </tr>\n",
              "  </tbody>\n",
              "</table>\n",
              "</div>\n",
              "      <button class=\"colab-df-convert\" onclick=\"convertToInteractive('df-92e5a821-e84a-440b-bdd2-8b1e618855a4')\"\n",
              "              title=\"Convert this dataframe to an interactive table.\"\n",
              "              style=\"display:none;\">\n",
              "        \n",
              "  <svg xmlns=\"http://www.w3.org/2000/svg\" height=\"24px\"viewBox=\"0 0 24 24\"\n",
              "       width=\"24px\">\n",
              "    <path d=\"M0 0h24v24H0V0z\" fill=\"none\"/>\n",
              "    <path d=\"M18.56 5.44l.94 2.06.94-2.06 2.06-.94-2.06-.94-.94-2.06-.94 2.06-2.06.94zm-11 1L8.5 8.5l.94-2.06 2.06-.94-2.06-.94L8.5 2.5l-.94 2.06-2.06.94zm10 10l.94 2.06.94-2.06 2.06-.94-2.06-.94-.94-2.06-.94 2.06-2.06.94z\"/><path d=\"M17.41 7.96l-1.37-1.37c-.4-.4-.92-.59-1.43-.59-.52 0-1.04.2-1.43.59L10.3 9.45l-7.72 7.72c-.78.78-.78 2.05 0 2.83L4 21.41c.39.39.9.59 1.41.59.51 0 1.02-.2 1.41-.59l7.78-7.78 2.81-2.81c.8-.78.8-2.07 0-2.86zM5.41 20L4 18.59l7.72-7.72 1.47 1.35L5.41 20z\"/>\n",
              "  </svg>\n",
              "      </button>\n",
              "      \n",
              "  <style>\n",
              "    .colab-df-container {\n",
              "      display:flex;\n",
              "      flex-wrap:wrap;\n",
              "      gap: 12px;\n",
              "    }\n",
              "\n",
              "    .colab-df-convert {\n",
              "      background-color: #E8F0FE;\n",
              "      border: none;\n",
              "      border-radius: 50%;\n",
              "      cursor: pointer;\n",
              "      display: none;\n",
              "      fill: #1967D2;\n",
              "      height: 32px;\n",
              "      padding: 0 0 0 0;\n",
              "      width: 32px;\n",
              "    }\n",
              "\n",
              "    .colab-df-convert:hover {\n",
              "      background-color: #E2EBFA;\n",
              "      box-shadow: 0px 1px 2px rgba(60, 64, 67, 0.3), 0px 1px 3px 1px rgba(60, 64, 67, 0.15);\n",
              "      fill: #174EA6;\n",
              "    }\n",
              "\n",
              "    [theme=dark] .colab-df-convert {\n",
              "      background-color: #3B4455;\n",
              "      fill: #D2E3FC;\n",
              "    }\n",
              "\n",
              "    [theme=dark] .colab-df-convert:hover {\n",
              "      background-color: #434B5C;\n",
              "      box-shadow: 0px 1px 3px 1px rgba(0, 0, 0, 0.15);\n",
              "      filter: drop-shadow(0px 1px 2px rgba(0, 0, 0, 0.3));\n",
              "      fill: #FFFFFF;\n",
              "    }\n",
              "  </style>\n",
              "\n",
              "      <script>\n",
              "        const buttonEl =\n",
              "          document.querySelector('#df-92e5a821-e84a-440b-bdd2-8b1e618855a4 button.colab-df-convert');\n",
              "        buttonEl.style.display =\n",
              "          google.colab.kernel.accessAllowed ? 'block' : 'none';\n",
              "\n",
              "        async function convertToInteractive(key) {\n",
              "          const element = document.querySelector('#df-92e5a821-e84a-440b-bdd2-8b1e618855a4');\n",
              "          const dataTable =\n",
              "            await google.colab.kernel.invokeFunction('convertToInteractive',\n",
              "                                                     [key], {});\n",
              "          if (!dataTable) return;\n",
              "\n",
              "          const docLinkHtml = 'Like what you see? Visit the ' +\n",
              "            '<a target=\"_blank\" href=https://colab.research.google.com/notebooks/data_table.ipynb>data table notebook</a>'\n",
              "            + ' to learn more about interactive tables.';\n",
              "          element.innerHTML = '';\n",
              "          dataTable['output_type'] = 'display_data';\n",
              "          await google.colab.output.renderOutput(dataTable, element);\n",
              "          const docLink = document.createElement('div');\n",
              "          docLink.innerHTML = docLinkHtml;\n",
              "          element.appendChild(docLink);\n",
              "        }\n",
              "      </script>\n",
              "    </div>\n",
              "  </div>\n",
              "  "
            ]
          },
          "metadata": {},
          "execution_count": 128
        }
      ]
    },
    {
      "cell_type": "code",
      "source": [
        "df_l['qtHs'].describe()"
      ],
      "metadata": {
        "colab": {
          "base_uri": "https://localhost:8080/"
        },
        "id": "jlbQDKW6f6cJ",
        "outputId": "3f38fb98-86b0-4dae-d2ed-e5ed64da5e66"
      },
      "execution_count": 129,
      "outputs": [
        {
          "output_type": "execute_result",
          "data": {
            "text/plain": [
              "count    146441.000000\n",
              "mean          8.148005\n",
              "std           4.008621\n",
              "min           0.000000\n",
              "25%           5.000000\n",
              "50%           8.000000\n",
              "75%          10.000000\n",
              "max          41.000000\n",
              "Name: qtHs, dtype: float64"
            ]
          },
          "metadata": {},
          "execution_count": 129
        }
      ]
    },
    {
      "cell_type": "code",
      "source": [
        "# Calcular %hs\n",
        "def phs(qtHs, kills):\n",
        "  phs = qtHs/kills #quanto mais alto melhor \n",
        "  return phs"
      ],
      "metadata": {
        "id": "vjhmUBDEgPTS"
      },
      "execution_count": 130,
      "outputs": []
    },
    {
      "cell_type": "code",
      "source": [
        "df_l.insert((df_l.shape[1]),\"phs\",phs(df_l['qtHs'], df_l['qtKill']),True)#Percentual de kills por hs (headshot)"
      ],
      "metadata": {
        "id": "8fLoT7gmgeT7"
      },
      "execution_count": 131,
      "outputs": []
    },
    {
      "cell_type": "code",
      "source": [
        "df_l"
      ],
      "metadata": {
        "colab": {
          "base_uri": "https://localhost:8080/",
          "height": 488
        },
        "id": "kKmjhqyYg1dX",
        "outputId": "325ed1d6-5a1a-47d5-b26a-5eb33dfdb548"
      },
      "execution_count": 132,
      "outputs": [
        {
          "output_type": "execute_result",
          "data": {
            "text/plain": [
              "        idLobbyGame  idPlayer  idRoom  qtKill  qtAssist  qtDeath  qtHs  \\\n",
              "1                 2         1       2      24         3       18     6   \n",
              "2                 3         2       3       6         4       23     2   \n",
              "3                 3       391   27508      10         5       20     4   \n",
              "4                 4         2       4       8         4       26     6   \n",
              "11               10         2      10      19         2       21     7   \n",
              "...             ...       ...     ...     ...       ...      ...   ...   \n",
              "184146       172906      2716  178495      17         3       19     7   \n",
              "184147       172907      2716  178496      21         3       13     5   \n",
              "184148       172908      2716  178497      15         1       22     5   \n",
              "184149       172909      2716  178498       9         6       23     2   \n",
              "184150       172910      2716  178499      15         5       20     6   \n",
              "\n",
              "        qtBombeDefuse  qtBombePlant  qt1Kill  ...  vlLevel  qtSurvived  \\\n",
              "1                   0             4        9  ...        9         8.0   \n",
              "2                   0             1        4  ...        2         2.0   \n",
              "3                   1             0        6  ...       15         3.0   \n",
              "4                   0             2        4  ...        2         4.0   \n",
              "11                  0             0        9  ...        2         6.0   \n",
              "...               ...           ...      ...  ...      ...         ...   \n",
              "184146              0             2       12  ...        9         9.0   \n",
              "184147              1             1        8  ...        9        11.0   \n",
              "184148              0             1       11  ...        9         7.0   \n",
              "184149              0             3        9  ...        9         4.0   \n",
              "184150              0             2       13  ...        9         5.0   \n",
              "\n",
              "        qtTrade  qtFlashAssist  flWinner       kpr       dpr        pps  \\\n",
              "1           1.0            0.0         1  0.888889  0.666667  23.571429   \n",
              "2           3.0            0.0         0  0.240000  0.920000  17.857143   \n",
              "3           4.0            0.0         1  0.400000  0.800000  23.571429   \n",
              "4           4.0            2.0         0  0.266667  0.866667  22.857143   \n",
              "11          3.0            3.0         0  0.703704  0.777778  18.571429   \n",
              "...         ...            ...       ...       ...       ...        ...   \n",
              "184146      4.0            0.0         0  0.607143  0.678571  20.714286   \n",
              "184147      0.0            0.0         1  0.807692  0.500000  15.714286   \n",
              "184148      5.0            0.0         1  0.517241  0.758621  18.571429   \n",
              "184149      2.0            0.0         0  0.333333  0.851852  25.000000   \n",
              "184150      3.0            1.0         0  0.600000  0.800000  22.142857   \n",
              "\n",
              "        playerQuality       phs  \n",
              "1             Regular  0.250000  \n",
              "2                Ruim  0.333333  \n",
              "3             Regular  0.400000  \n",
              "4             Regular  0.750000  \n",
              "11               Ruim  0.368421  \n",
              "...               ...       ...  \n",
              "184146        Regular  0.411765  \n",
              "184147           Ruim  0.238095  \n",
              "184148           Ruim  0.333333  \n",
              "184149        Regular  0.222222  \n",
              "184150        Regular  0.400000  \n",
              "\n",
              "[146441 rows x 31 columns]"
            ],
            "text/html": [
              "\n",
              "  <div id=\"df-e7cd8164-7630-4089-b90c-4cc41b642895\">\n",
              "    <div class=\"colab-df-container\">\n",
              "      <div>\n",
              "<style scoped>\n",
              "    .dataframe tbody tr th:only-of-type {\n",
              "        vertical-align: middle;\n",
              "    }\n",
              "\n",
              "    .dataframe tbody tr th {\n",
              "        vertical-align: top;\n",
              "    }\n",
              "\n",
              "    .dataframe thead th {\n",
              "        text-align: right;\n",
              "    }\n",
              "</style>\n",
              "<table border=\"1\" class=\"dataframe\">\n",
              "  <thead>\n",
              "    <tr style=\"text-align: right;\">\n",
              "      <th></th>\n",
              "      <th>idLobbyGame</th>\n",
              "      <th>idPlayer</th>\n",
              "      <th>idRoom</th>\n",
              "      <th>qtKill</th>\n",
              "      <th>qtAssist</th>\n",
              "      <th>qtDeath</th>\n",
              "      <th>qtHs</th>\n",
              "      <th>qtBombeDefuse</th>\n",
              "      <th>qtBombePlant</th>\n",
              "      <th>qt1Kill</th>\n",
              "      <th>...</th>\n",
              "      <th>vlLevel</th>\n",
              "      <th>qtSurvived</th>\n",
              "      <th>qtTrade</th>\n",
              "      <th>qtFlashAssist</th>\n",
              "      <th>flWinner</th>\n",
              "      <th>kpr</th>\n",
              "      <th>dpr</th>\n",
              "      <th>pps</th>\n",
              "      <th>playerQuality</th>\n",
              "      <th>phs</th>\n",
              "    </tr>\n",
              "  </thead>\n",
              "  <tbody>\n",
              "    <tr>\n",
              "      <th>1</th>\n",
              "      <td>2</td>\n",
              "      <td>1</td>\n",
              "      <td>2</td>\n",
              "      <td>24</td>\n",
              "      <td>3</td>\n",
              "      <td>18</td>\n",
              "      <td>6</td>\n",
              "      <td>0</td>\n",
              "      <td>4</td>\n",
              "      <td>9</td>\n",
              "      <td>...</td>\n",
              "      <td>9</td>\n",
              "      <td>8.0</td>\n",
              "      <td>1.0</td>\n",
              "      <td>0.0</td>\n",
              "      <td>1</td>\n",
              "      <td>0.888889</td>\n",
              "      <td>0.666667</td>\n",
              "      <td>23.571429</td>\n",
              "      <td>Regular</td>\n",
              "      <td>0.250000</td>\n",
              "    </tr>\n",
              "    <tr>\n",
              "      <th>2</th>\n",
              "      <td>3</td>\n",
              "      <td>2</td>\n",
              "      <td>3</td>\n",
              "      <td>6</td>\n",
              "      <td>4</td>\n",
              "      <td>23</td>\n",
              "      <td>2</td>\n",
              "      <td>0</td>\n",
              "      <td>1</td>\n",
              "      <td>4</td>\n",
              "      <td>...</td>\n",
              "      <td>2</td>\n",
              "      <td>2.0</td>\n",
              "      <td>3.0</td>\n",
              "      <td>0.0</td>\n",
              "      <td>0</td>\n",
              "      <td>0.240000</td>\n",
              "      <td>0.920000</td>\n",
              "      <td>17.857143</td>\n",
              "      <td>Ruim</td>\n",
              "      <td>0.333333</td>\n",
              "    </tr>\n",
              "    <tr>\n",
              "      <th>3</th>\n",
              "      <td>3</td>\n",
              "      <td>391</td>\n",
              "      <td>27508</td>\n",
              "      <td>10</td>\n",
              "      <td>5</td>\n",
              "      <td>20</td>\n",
              "      <td>4</td>\n",
              "      <td>1</td>\n",
              "      <td>0</td>\n",
              "      <td>6</td>\n",
              "      <td>...</td>\n",
              "      <td>15</td>\n",
              "      <td>3.0</td>\n",
              "      <td>4.0</td>\n",
              "      <td>0.0</td>\n",
              "      <td>1</td>\n",
              "      <td>0.400000</td>\n",
              "      <td>0.800000</td>\n",
              "      <td>23.571429</td>\n",
              "      <td>Regular</td>\n",
              "      <td>0.400000</td>\n",
              "    </tr>\n",
              "    <tr>\n",
              "      <th>4</th>\n",
              "      <td>4</td>\n",
              "      <td>2</td>\n",
              "      <td>4</td>\n",
              "      <td>8</td>\n",
              "      <td>4</td>\n",
              "      <td>26</td>\n",
              "      <td>6</td>\n",
              "      <td>0</td>\n",
              "      <td>2</td>\n",
              "      <td>4</td>\n",
              "      <td>...</td>\n",
              "      <td>2</td>\n",
              "      <td>4.0</td>\n",
              "      <td>4.0</td>\n",
              "      <td>2.0</td>\n",
              "      <td>0</td>\n",
              "      <td>0.266667</td>\n",
              "      <td>0.866667</td>\n",
              "      <td>22.857143</td>\n",
              "      <td>Regular</td>\n",
              "      <td>0.750000</td>\n",
              "    </tr>\n",
              "    <tr>\n",
              "      <th>11</th>\n",
              "      <td>10</td>\n",
              "      <td>2</td>\n",
              "      <td>10</td>\n",
              "      <td>19</td>\n",
              "      <td>2</td>\n",
              "      <td>21</td>\n",
              "      <td>7</td>\n",
              "      <td>0</td>\n",
              "      <td>0</td>\n",
              "      <td>9</td>\n",
              "      <td>...</td>\n",
              "      <td>2</td>\n",
              "      <td>6.0</td>\n",
              "      <td>3.0</td>\n",
              "      <td>3.0</td>\n",
              "      <td>0</td>\n",
              "      <td>0.703704</td>\n",
              "      <td>0.777778</td>\n",
              "      <td>18.571429</td>\n",
              "      <td>Ruim</td>\n",
              "      <td>0.368421</td>\n",
              "    </tr>\n",
              "    <tr>\n",
              "      <th>...</th>\n",
              "      <td>...</td>\n",
              "      <td>...</td>\n",
              "      <td>...</td>\n",
              "      <td>...</td>\n",
              "      <td>...</td>\n",
              "      <td>...</td>\n",
              "      <td>...</td>\n",
              "      <td>...</td>\n",
              "      <td>...</td>\n",
              "      <td>...</td>\n",
              "      <td>...</td>\n",
              "      <td>...</td>\n",
              "      <td>...</td>\n",
              "      <td>...</td>\n",
              "      <td>...</td>\n",
              "      <td>...</td>\n",
              "      <td>...</td>\n",
              "      <td>...</td>\n",
              "      <td>...</td>\n",
              "      <td>...</td>\n",
              "      <td>...</td>\n",
              "    </tr>\n",
              "    <tr>\n",
              "      <th>184146</th>\n",
              "      <td>172906</td>\n",
              "      <td>2716</td>\n",
              "      <td>178495</td>\n",
              "      <td>17</td>\n",
              "      <td>3</td>\n",
              "      <td>19</td>\n",
              "      <td>7</td>\n",
              "      <td>0</td>\n",
              "      <td>2</td>\n",
              "      <td>12</td>\n",
              "      <td>...</td>\n",
              "      <td>9</td>\n",
              "      <td>9.0</td>\n",
              "      <td>4.0</td>\n",
              "      <td>0.0</td>\n",
              "      <td>0</td>\n",
              "      <td>0.607143</td>\n",
              "      <td>0.678571</td>\n",
              "      <td>20.714286</td>\n",
              "      <td>Regular</td>\n",
              "      <td>0.411765</td>\n",
              "    </tr>\n",
              "    <tr>\n",
              "      <th>184147</th>\n",
              "      <td>172907</td>\n",
              "      <td>2716</td>\n",
              "      <td>178496</td>\n",
              "      <td>21</td>\n",
              "      <td>3</td>\n",
              "      <td>13</td>\n",
              "      <td>5</td>\n",
              "      <td>1</td>\n",
              "      <td>1</td>\n",
              "      <td>8</td>\n",
              "      <td>...</td>\n",
              "      <td>9</td>\n",
              "      <td>11.0</td>\n",
              "      <td>0.0</td>\n",
              "      <td>0.0</td>\n",
              "      <td>1</td>\n",
              "      <td>0.807692</td>\n",
              "      <td>0.500000</td>\n",
              "      <td>15.714286</td>\n",
              "      <td>Ruim</td>\n",
              "      <td>0.238095</td>\n",
              "    </tr>\n",
              "    <tr>\n",
              "      <th>184148</th>\n",
              "      <td>172908</td>\n",
              "      <td>2716</td>\n",
              "      <td>178497</td>\n",
              "      <td>15</td>\n",
              "      <td>1</td>\n",
              "      <td>22</td>\n",
              "      <td>5</td>\n",
              "      <td>0</td>\n",
              "      <td>1</td>\n",
              "      <td>11</td>\n",
              "      <td>...</td>\n",
              "      <td>9</td>\n",
              "      <td>7.0</td>\n",
              "      <td>5.0</td>\n",
              "      <td>0.0</td>\n",
              "      <td>1</td>\n",
              "      <td>0.517241</td>\n",
              "      <td>0.758621</td>\n",
              "      <td>18.571429</td>\n",
              "      <td>Ruim</td>\n",
              "      <td>0.333333</td>\n",
              "    </tr>\n",
              "    <tr>\n",
              "      <th>184149</th>\n",
              "      <td>172909</td>\n",
              "      <td>2716</td>\n",
              "      <td>178498</td>\n",
              "      <td>9</td>\n",
              "      <td>6</td>\n",
              "      <td>23</td>\n",
              "      <td>2</td>\n",
              "      <td>0</td>\n",
              "      <td>3</td>\n",
              "      <td>9</td>\n",
              "      <td>...</td>\n",
              "      <td>9</td>\n",
              "      <td>4.0</td>\n",
              "      <td>2.0</td>\n",
              "      <td>0.0</td>\n",
              "      <td>0</td>\n",
              "      <td>0.333333</td>\n",
              "      <td>0.851852</td>\n",
              "      <td>25.000000</td>\n",
              "      <td>Regular</td>\n",
              "      <td>0.222222</td>\n",
              "    </tr>\n",
              "    <tr>\n",
              "      <th>184150</th>\n",
              "      <td>172910</td>\n",
              "      <td>2716</td>\n",
              "      <td>178499</td>\n",
              "      <td>15</td>\n",
              "      <td>5</td>\n",
              "      <td>20</td>\n",
              "      <td>6</td>\n",
              "      <td>0</td>\n",
              "      <td>2</td>\n",
              "      <td>13</td>\n",
              "      <td>...</td>\n",
              "      <td>9</td>\n",
              "      <td>5.0</td>\n",
              "      <td>3.0</td>\n",
              "      <td>1.0</td>\n",
              "      <td>0</td>\n",
              "      <td>0.600000</td>\n",
              "      <td>0.800000</td>\n",
              "      <td>22.142857</td>\n",
              "      <td>Regular</td>\n",
              "      <td>0.400000</td>\n",
              "    </tr>\n",
              "  </tbody>\n",
              "</table>\n",
              "<p>146441 rows × 31 columns</p>\n",
              "</div>\n",
              "      <button class=\"colab-df-convert\" onclick=\"convertToInteractive('df-e7cd8164-7630-4089-b90c-4cc41b642895')\"\n",
              "              title=\"Convert this dataframe to an interactive table.\"\n",
              "              style=\"display:none;\">\n",
              "        \n",
              "  <svg xmlns=\"http://www.w3.org/2000/svg\" height=\"24px\"viewBox=\"0 0 24 24\"\n",
              "       width=\"24px\">\n",
              "    <path d=\"M0 0h24v24H0V0z\" fill=\"none\"/>\n",
              "    <path d=\"M18.56 5.44l.94 2.06.94-2.06 2.06-.94-2.06-.94-.94-2.06-.94 2.06-2.06.94zm-11 1L8.5 8.5l.94-2.06 2.06-.94-2.06-.94L8.5 2.5l-.94 2.06-2.06.94zm10 10l.94 2.06.94-2.06 2.06-.94-2.06-.94-.94-2.06-.94 2.06-2.06.94z\"/><path d=\"M17.41 7.96l-1.37-1.37c-.4-.4-.92-.59-1.43-.59-.52 0-1.04.2-1.43.59L10.3 9.45l-7.72 7.72c-.78.78-.78 2.05 0 2.83L4 21.41c.39.39.9.59 1.41.59.51 0 1.02-.2 1.41-.59l7.78-7.78 2.81-2.81c.8-.78.8-2.07 0-2.86zM5.41 20L4 18.59l7.72-7.72 1.47 1.35L5.41 20z\"/>\n",
              "  </svg>\n",
              "      </button>\n",
              "      \n",
              "  <style>\n",
              "    .colab-df-container {\n",
              "      display:flex;\n",
              "      flex-wrap:wrap;\n",
              "      gap: 12px;\n",
              "    }\n",
              "\n",
              "    .colab-df-convert {\n",
              "      background-color: #E8F0FE;\n",
              "      border: none;\n",
              "      border-radius: 50%;\n",
              "      cursor: pointer;\n",
              "      display: none;\n",
              "      fill: #1967D2;\n",
              "      height: 32px;\n",
              "      padding: 0 0 0 0;\n",
              "      width: 32px;\n",
              "    }\n",
              "\n",
              "    .colab-df-convert:hover {\n",
              "      background-color: #E2EBFA;\n",
              "      box-shadow: 0px 1px 2px rgba(60, 64, 67, 0.3), 0px 1px 3px 1px rgba(60, 64, 67, 0.15);\n",
              "      fill: #174EA6;\n",
              "    }\n",
              "\n",
              "    [theme=dark] .colab-df-convert {\n",
              "      background-color: #3B4455;\n",
              "      fill: #D2E3FC;\n",
              "    }\n",
              "\n",
              "    [theme=dark] .colab-df-convert:hover {\n",
              "      background-color: #434B5C;\n",
              "      box-shadow: 0px 1px 3px 1px rgba(0, 0, 0, 0.15);\n",
              "      filter: drop-shadow(0px 1px 2px rgba(0, 0, 0, 0.3));\n",
              "      fill: #FFFFFF;\n",
              "    }\n",
              "  </style>\n",
              "\n",
              "      <script>\n",
              "        const buttonEl =\n",
              "          document.querySelector('#df-e7cd8164-7630-4089-b90c-4cc41b642895 button.colab-df-convert');\n",
              "        buttonEl.style.display =\n",
              "          google.colab.kernel.accessAllowed ? 'block' : 'none';\n",
              "\n",
              "        async function convertToInteractive(key) {\n",
              "          const element = document.querySelector('#df-e7cd8164-7630-4089-b90c-4cc41b642895');\n",
              "          const dataTable =\n",
              "            await google.colab.kernel.invokeFunction('convertToInteractive',\n",
              "                                                     [key], {});\n",
              "          if (!dataTable) return;\n",
              "\n",
              "          const docLinkHtml = 'Like what you see? Visit the ' +\n",
              "            '<a target=\"_blank\" href=https://colab.research.google.com/notebooks/data_table.ipynb>data table notebook</a>'\n",
              "            + ' to learn more about interactive tables.';\n",
              "          element.innerHTML = '';\n",
              "          dataTable['output_type'] = 'display_data';\n",
              "          await google.colab.output.renderOutput(dataTable, element);\n",
              "          const docLink = document.createElement('div');\n",
              "          docLink.innerHTML = docLinkHtml;\n",
              "          element.appendChild(docLink);\n",
              "        }\n",
              "      </script>\n",
              "    </div>\n",
              "  </div>\n",
              "  "
            ]
          },
          "metadata": {},
          "execution_count": 132
        }
      ]
    },
    {
      "cell_type": "code",
      "source": [
        "#para se colocar alguma afirmação deve saber pela quantidade de rounds jogados? Podemos considerar que a partir de uma quantidade minima de rounds para entrar no calculo? partidas muito longas podem ser retiradas?\n",
        "df_l.info()"
      ],
      "metadata": {
        "colab": {
          "base_uri": "https://localhost:8080/"
        },
        "id": "Y0f86I2ukJ05",
        "outputId": "5c018d7c-d81a-47cb-9688-f147c6f00958"
      },
      "execution_count": 133,
      "outputs": [
        {
          "output_type": "stream",
          "name": "stdout",
          "text": [
            "<class 'pandas.core.frame.DataFrame'>\n",
            "Int64Index: 146441 entries, 1 to 184150\n",
            "Data columns (total 31 columns):\n",
            " #   Column          Non-Null Count   Dtype  \n",
            "---  ------          --------------   -----  \n",
            " 0   idLobbyGame     146441 non-null  int64  \n",
            " 1   idPlayer        146441 non-null  int64  \n",
            " 2   idRoom          146441 non-null  int64  \n",
            " 3   qtKill          146441 non-null  int64  \n",
            " 4   qtAssist        146441 non-null  int64  \n",
            " 5   qtDeath         146441 non-null  int64  \n",
            " 6   qtHs            146441 non-null  int64  \n",
            " 7   qtBombeDefuse   146441 non-null  int64  \n",
            " 8   qtBombePlant    146441 non-null  int64  \n",
            " 9   qt1Kill         146441 non-null  int64  \n",
            " 10  qt2Kill         146441 non-null  int64  \n",
            " 11  qt3Kill         146441 non-null  int64  \n",
            " 12  qt4Kill         146441 non-null  int64  \n",
            " 13  qt5Kill         146441 non-null  int64  \n",
            " 14  qtFirstKill     146441 non-null  int64  \n",
            " 15  vlDamage        146441 non-null  int64  \n",
            " 16  qtHits          146441 non-null  float64\n",
            " 17  qtLastAlive     146441 non-null  float64\n",
            " 18  qtClutchWon     146441 non-null  int64  \n",
            " 19  qtRoundsPlayed  146441 non-null  int64  \n",
            " 20  descMapName     146441 non-null  object \n",
            " 21  vlLevel         146441 non-null  int64  \n",
            " 22  qtSurvived      146441 non-null  object \n",
            " 23  qtTrade         146441 non-null  float64\n",
            " 24  qtFlashAssist   146441 non-null  float64\n",
            " 25  flWinner        146441 non-null  int64  \n",
            " 26  kpr             146441 non-null  float64\n",
            " 27  dpr             146441 non-null  float64\n",
            " 28  pps             146441 non-null  float64\n",
            " 29  playerQuality   146441 non-null  object \n",
            " 30  phs             146392 non-null  float64\n",
            "dtypes: float64(8), int64(20), object(3)\n",
            "memory usage: 39.8+ MB\n"
          ]
        }
      ]
    },
    {
      "cell_type": "code",
      "source": [
        "#regras de associação"
      ],
      "metadata": {
        "id": "2R9vQL6LkVT1"
      },
      "execution_count": 134,
      "outputs": []
    }
  ],
  "metadata": {
    "colab": {
      "name": "trabalho_pratico_cs:go",
      "provenance": [],
      "collapsed_sections": []
    },
    "interpreter": {
      "hash": "aee8b7b246df8f9039afb4144a1f6fd8d2ca17a180786b69acc140d282b71a49"
    },
    "kernelspec": {
      "display_name": "Python 3.9.12 64-bit",
      "language": "python",
      "name": "python3"
    },
    "language_info": {
      "codemirror_mode": {
        "name": "ipython",
        "version": 3
      },
      "file_extension": ".py",
      "mimetype": "text/x-python",
      "name": "python",
      "nbconvert_exporter": "python",
      "pygments_lexer": "ipython3",
      "version": "3.9.12"
    }
  },
  "nbformat": 4,
  "nbformat_minor": 0
}