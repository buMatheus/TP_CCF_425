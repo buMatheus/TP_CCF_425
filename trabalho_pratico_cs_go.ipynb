{
  "cells": [
    {
      "cell_type": "markdown",
      "metadata": {
        "id": "eoWYIsy6z9Lq"
      },
      "source": [
        "> Introdução à Ciência dos Dados \\\n",
        "> Ciência da Computação – UFV/Florestal\n",
        "\n",
        "\n",
        "* **Nome:** lucas takeshi, Jonathan Lopes, Matheus Silva\n",
        "* **Matrícula:** 2665, 2666, 2649\n",
        "\n",
        "----\n",
        "# Importação dos Dados"
      ]
    },
    {
      "cell_type": "markdown",
      "metadata": {
        "id": "puW1D7z6-uFu"
      },
      "source": [
        "**Etapa 1 - Escolha dos dados e planejamento**"
      ]
    },
    {
      "cell_type": "code",
      "execution_count": 2,
      "metadata": {
        "colab": {
          "base_uri": "https://localhost:8080/"
        },
        "id": "WfqQbvhoz9Lw",
        "outputId": "67c94e7c-0f12-4dd4-cc34-084e08e88cef"
      },
      "outputs": [
        {
          "output_type": "stream",
          "name": "stdout",
          "text": [
            "--2022-07-23 16:37:14--  https://raw.githubusercontent.com/LTaka/cs-go-csv/main/tb_lobby_stats_player.csv\n",
            "Resolving raw.githubusercontent.com (raw.githubusercontent.com)... 185.199.109.133, 185.199.108.133, 185.199.111.133, ...\n",
            "Connecting to raw.githubusercontent.com (raw.githubusercontent.com)|185.199.109.133|:443... connected.\n",
            "HTTP request sent, awaiting response... 200 OK\n",
            "Length: 28373607 (27M) [text/plain]\n",
            "Saving to: ‘tb_lobby_stats_player.csv’\n",
            "\n",
            "tb_lobby_stats_play 100%[===================>]  27.06M   144MB/s    in 0.2s    \n",
            "\n",
            "2022-07-23 16:37:14 (144 MB/s) - ‘tb_lobby_stats_player.csv’ saved [28373607/28373607]\n",
            "\n",
            "--2022-07-23 16:37:14--  https://raw.githubusercontent.com/LTaka/cs-go-csv/main/tb_medalha.csv\n",
            "Resolving raw.githubusercontent.com (raw.githubusercontent.com)... 185.199.108.133, 185.199.109.133, 185.199.111.133, ...\n",
            "Connecting to raw.githubusercontent.com (raw.githubusercontent.com)|185.199.108.133|:443... connected.\n",
            "HTTP request sent, awaiting response... 200 OK\n",
            "Length: 1245 (1.2K) [text/plain]\n",
            "Saving to: ‘tb_medalha.csv’\n",
            "\n",
            "tb_medalha.csv      100%[===================>]   1.22K  --.-KB/s    in 0s      \n",
            "\n",
            "2022-07-23 16:37:14 (44.3 MB/s) - ‘tb_medalha.csv’ saved [1245/1245]\n",
            "\n",
            "--2022-07-23 16:37:14--  https://raw.githubusercontent.com/LTaka/cs-go-csv/main/tb_players.csv\n",
            "Resolving raw.githubusercontent.com (raw.githubusercontent.com)... 185.199.108.133, 185.199.109.133, 185.199.110.133, ...\n",
            "Connecting to raw.githubusercontent.com (raw.githubusercontent.com)|185.199.108.133|:443... connected.\n",
            "HTTP request sent, awaiting response... 200 OK\n",
            "Length: 132179 (129K) [text/plain]\n",
            "Saving to: ‘tb_players.csv’\n",
            "\n",
            "tb_players.csv      100%[===================>] 129.08K  --.-KB/s    in 0.02s   \n",
            "\n",
            "2022-07-23 16:37:15 (5.82 MB/s) - ‘tb_players.csv’ saved [132179/132179]\n",
            "\n",
            "--2022-07-23 16:37:15--  https://raw.githubusercontent.com/LTaka/cs-go-csv/main/tb_players_medalha.csv\n",
            "Resolving raw.githubusercontent.com (raw.githubusercontent.com)... 185.199.108.133, 185.199.109.133, 185.199.110.133, ...\n",
            "Connecting to raw.githubusercontent.com (raw.githubusercontent.com)|185.199.108.133|:443... connected.\n",
            "HTTP request sent, awaiting response... 200 OK\n",
            "Length: 1214232 (1.2M) [text/plain]\n",
            "Saving to: ‘tb_players_medalha.csv’\n",
            "\n",
            "tb_players_medalha. 100%[===================>]   1.16M  --.-KB/s    in 0.07s   \n",
            "\n",
            "2022-07-23 16:37:15 (16.7 MB/s) - ‘tb_players_medalha.csv’ saved [1214232/1214232]\n",
            "\n"
          ]
        }
      ],
      "source": [
        "#Importações de databases\n",
        "#Etapa 1\n",
        "\n",
        "!wget https://raw.githubusercontent.com/LTaka/cs-go-csv/main/tb_lobby_stats_player.csv\n",
        "!wget https://raw.githubusercontent.com/LTaka/cs-go-csv/main/tb_medalha.csv\n",
        "!wget https://raw.githubusercontent.com/LTaka/cs-go-csv/main/tb_players.csv\n",
        "!wget https://raw.githubusercontent.com/LTaka/cs-go-csv/main/tb_players_medalha.csv"
      ]
    },
    {
      "cell_type": "code",
      "execution_count": 30,
      "metadata": {
        "id": "_X9J3UPRX7_6"
      },
      "outputs": [],
      "source": [
        "#importações das bibliotecas utilizadas\n",
        "import pandas as pd\n",
        "import numpy as np\n",
        "import seaborn as sns\n",
        "import matplotlib.pyplot as plt\n",
        "import sklearn\n",
        "from mlxtend.frequent_patterns import apriori\n",
        "from mlxtend.frequent_patterns import association_rules\n",
        "from sklearn.linear_model import LinearRegression"
      ]
    },
    {
      "cell_type": "markdown",
      "metadata": {
        "id": "brZcBiXk-0NU"
      },
      "source": [
        "**Etapa 2 - Preparação e análise exploratória dos dados**"
      ]
    },
    {
      "cell_type": "code",
      "execution_count": 4,
      "metadata": {
        "id": "qoh2jRcKz9L1"
      },
      "outputs": [],
      "source": [
        "original_df_lobby = pd.read_csv('./tb_lobby_stats_player.csv')\n",
        "original_df_players = pd.read_csv('./tb_players.csv')\n",
        "df_l =original_df_lobby\n",
        "df_p =original_df_players\n",
        "#Informações de players\n",
        "#df_p.info()\n",
        "#tratando os dados de players\n",
        "df_p = df_p.drop(\"flFacebook\",axis=1)\n",
        "df_p = df_p.drop(\"flTwitter\",axis=1)\n",
        "df_p = df_p.drop(\"flTwitch\",axis=1)\n",
        "df_p = df_p.drop(\"dtBirth\",axis=1)\n",
        "df_p['dtRegistration'] = pd.to_datetime(df_p['dtRegistration'], infer_datetime_format=True)\n",
        "df_l['qtSurvived'].fillna('drop', inplace=True)\n",
        "#drop dos NAN\n",
        "drop=df_l[df_l[\"qtSurvived\"]=='drop'].index\n",
        "df_l=df_l.drop(drop)\n",
        "#Informações de players\n",
        "#df_p.info()\n",
        "#Informações de lobby\n",
        "#df_l.info()\n",
        "#tratando os dados de lobby\n",
        "df_l = df_l.drop(\"qtShots\",axis=1)\n",
        "df_l = df_l.drop(\"qtPlusKill\",axis=1)\n",
        "df_l = df_l.drop(\"dtCreatedAt\",axis=1)\n",
        "df_l = df_l.drop(\"qtHitRightLeg\",axis=1)\n",
        "df_l = df_l.drop(\"qtHitLeftLeg\",axis=1)\n",
        "df_l = df_l.drop(\"qtHitRightArm\",axis=1)\n",
        "df_l = df_l.drop(\"qtHitLeftAtm\",axis=1)\n",
        "df_l = df_l.drop(\"qtHitStomach\",axis=1)\n",
        "df_l = df_l.drop(\"qtHitChest\",axis=1)\n",
        "df_l = df_l.drop(\"qtHitHeadshot\",axis=1)\n",
        "df_l = df_l.drop(\"qtTk\",axis=1)\n",
        "df_l = df_l.drop(\"qtTkAssist\",axis=1)\n",
        "#Informações de lobby\n",
        "#df_l.info()\n",
        "#criação de dados categóricos de acordo com cada parametro\n",
        "#STATS na coluna de jogador junto com teste de hipotese para verificar se o player morre menos"
      ]
    },
    {
      "cell_type": "code",
      "execution_count": 5,
      "metadata": {
        "colab": {
          "base_uri": "https://localhost:8080/"
        },
        "id": "LCrSxDxl7X9K",
        "outputId": "be118523-302c-426b-c324-71e9f8c32e11"
      },
      "outputs": [
        {
          "output_type": "execute_result",
          "data": {
            "text/plain": [
              "count    146441.000000\n",
              "mean         28.358691\n",
              "std           4.582400\n",
              "min          23.000000\n",
              "25%          25.000000\n",
              "50%          28.000000\n",
              "75%          30.000000\n",
              "max          84.000000\n",
              "Name: qtRoundsPlayed, dtype: float64"
            ]
          },
          "metadata": {},
          "execution_count": 5
        }
      ],
      "source": [
        "#df_l.info()\n",
        "#drop de rounds menores que o primeiro quartil para ter apenas players que jogaram uma quantidade consideravel de rounds\n",
        "drop=df_l[df_l['qtRoundsPlayed']<df_l['qtRoundsPlayed'].quantile(0.25)].index\n",
        "df_l=df_l.drop(drop)\n",
        "df_l['qtRoundsPlayed'].describe()\n"
      ]
    },
    {
      "cell_type": "code",
      "execution_count": 28,
      "metadata": {
        "id": "vB2lY9bdzMfh"
      },
      "outputs": [],
      "source": [
        "# Calcular kill por round\n",
        "def kpr(kills, rounds):\n",
        "  kpr = kills/rounds #quanto mais alto melhor \n",
        "  return kpr\n",
        "\n",
        "def dpr(deaths, rounds): #quanto mais próximo de 0 melhor\n",
        "  dpr = deaths/rounds\n",
        "  return dpr\n",
        "\n",
        "#qtAssist - 15, qtBombePlant - 15, qtBombeDefuse - 20, qtClutchWon - 20, qtTrade - 10, qtFlashAssist - 10, qtFirstKill - 10\n",
        "def distPoints(qtAssist, qtBombePlant, qtBombeDefuse, qtClutchWon, qtTrade, qtFlashAssist, qtFirstKill):\n",
        "  qtAssist = qtAssist*15\n",
        "  qtBombePlant = qtBombePlant*15\n",
        "  qtBombeDefuse = qtBombeDefuse*20\n",
        "  qtClutchWon = qtClutchWon*20\n",
        "  qtTrade = qtTrade*10\n",
        "  qtFlashAssist = qtFlashAssist*10\n",
        "  qtFirstKill = qtFirstKill*10\n",
        "  total = (qtAssist+qtBombePlant+qtBombeDefuse+qtClutchWon+qtTrade+qtFlashAssist+qtFirstKill)/7\n",
        "  \n",
        "  return total\n",
        "\n",
        "df_l.insert((df_l.shape[1]),\"kpr\",kpr(df_l['qtKill'], df_l['qtRoundsPlayed']),True) #Kills Per Round\n",
        "df_l.insert((df_l.shape[1]),\"dpr\",dpr(df_l['qtDeath'], df_l['qtRoundsPlayed']),True) #Deaths Per Round\n",
        "df_l.insert((df_l.shape[1]),\"pps\",distPoints(df_l['qtAssist'], df_l['qtBombePlant'], df_l['qtBombeDefuse'], df_l['qtClutchWon'], df_l['qtTrade'], df_l['qtFlashAssist'], df_l['qtFirstKill']),True) #Points Per Stats\n",
        "df_l.insert((df_l.shape[1]),\"playerQuality\",'Null',True) #Player Quality\n",
        "df_l\n",
        "\n",
        "def regressao_linear(X,Y,cols):\n",
        "\n",
        "  if len(cols) == 1:\n",
        "    X = X.values.reshape(-1,1)\n",
        "\n",
        "  lm = LinearRegression()\n",
        "  lm.fit(X,Y)\n",
        "  print('Coeficiente estimado: ', lm.coef_)    \n",
        "  print('R2 (score): ', lm.score(X,Y))\n",
        "  print(\"Intercept %.3f \" % lm.intercept_)\n",
        "\n",
        "  coeff_df = pd.DataFrame(lm.coef_, cols, columns=['Coefficient'])\n",
        "  print(coeff_df)\n"
      ]
    },
    {
      "cell_type": "code",
      "execution_count": 7,
      "metadata": {
        "id": "vPUi2Wox36Vx"
      },
      "outputs": [],
      "source": [
        "def playerQuality(df):\n",
        "  for i in df.index:\n",
        "    if (df['pps'][i] <= 20.0):\n",
        "      df['playerQuality'][i] = 'Ruim'\n",
        "    elif ((df['pps'][i] > 20.0)&(df['pps'][i] <= 40.0)):\n",
        "      df['playerQuality'][i] = 'Regular'\n",
        "    elif ((df['pps'][i] > 40.0)&(df['pps'][i] <= 60.0)):\n",
        "      df['playerQuality'][i] = 'Bom'\n",
        "    elif ((df['pps'][i] > 60.0)&(df['pps'][i] <= 80.0)):\n",
        "      df['playerQuality'][i] = 'Muito Bom'\n",
        "    elif (df['pps'][i] > 80.0):\n",
        "      df['playerQuality'][i] = 'Excelente'"
      ]
    },
    {
      "cell_type": "code",
      "execution_count": 8,
      "metadata": {
        "colab": {
          "base_uri": "https://localhost:8080/"
        },
        "id": "caJ8bqq6z3mN",
        "outputId": "2ec3a676-bb4a-4497-945b-c3c55e347c59"
      },
      "outputs": [
        {
          "output_type": "stream",
          "name": "stderr",
          "text": [
            "/usr/local/lib/python3.7/dist-packages/ipykernel_launcher.py:6: SettingWithCopyWarning: \n",
            "A value is trying to be set on a copy of a slice from a DataFrame\n",
            "\n",
            "See the caveats in the documentation: https://pandas.pydata.org/pandas-docs/stable/user_guide/indexing.html#returning-a-view-versus-a-copy\n",
            "  \n",
            "/usr/local/lib/python3.7/dist-packages/ipykernel_launcher.py:4: SettingWithCopyWarning: \n",
            "A value is trying to be set on a copy of a slice from a DataFrame\n",
            "\n",
            "See the caveats in the documentation: https://pandas.pydata.org/pandas-docs/stable/user_guide/indexing.html#returning-a-view-versus-a-copy\n",
            "  after removing the cwd from sys.path.\n",
            "/usr/local/lib/python3.7/dist-packages/ipykernel_launcher.py:8: SettingWithCopyWarning: \n",
            "A value is trying to be set on a copy of a slice from a DataFrame\n",
            "\n",
            "See the caveats in the documentation: https://pandas.pydata.org/pandas-docs/stable/user_guide/indexing.html#returning-a-view-versus-a-copy\n",
            "  \n",
            "/usr/local/lib/python3.7/dist-packages/ipykernel_launcher.py:10: SettingWithCopyWarning: \n",
            "A value is trying to be set on a copy of a slice from a DataFrame\n",
            "\n",
            "See the caveats in the documentation: https://pandas.pydata.org/pandas-docs/stable/user_guide/indexing.html#returning-a-view-versus-a-copy\n",
            "  # Remove the CWD from sys.path while we load stuff.\n",
            "/usr/local/lib/python3.7/dist-packages/ipykernel_launcher.py:12: SettingWithCopyWarning: \n",
            "A value is trying to be set on a copy of a slice from a DataFrame\n",
            "\n",
            "See the caveats in the documentation: https://pandas.pydata.org/pandas-docs/stable/user_guide/indexing.html#returning-a-view-versus-a-copy\n",
            "  if sys.path[0] == '':\n"
          ]
        }
      ],
      "source": [
        "playerQuality(df_l)"
      ]
    },
    {
      "cell_type": "code",
      "execution_count": null,
      "metadata": {
        "colab": {
          "base_uri": "https://localhost:8080/"
        },
        "id": "Q5xNpWC355dw",
        "outputId": "c0dd6816-2e69-48e6-85ab-162ff398441b"
      },
      "outputs": [
        {
          "output_type": "execute_result",
          "data": {
            "text/plain": [
              "Regular      88040\n",
              "Ruim         52934\n",
              "Bom           5350\n",
              "Muito Bom      114\n",
              "Excelente        3\n",
              "Name: playerQuality, dtype: int64"
            ]
          },
          "metadata": {},
          "execution_count": 117
        }
      ],
      "source": [
        "df_l['playerQuality'].value_counts()"
      ]
    },
    {
      "cell_type": "code",
      "execution_count": null,
      "metadata": {
        "colab": {
          "base_uri": "https://localhost:8080/",
          "height": 295
        },
        "id": "OsqOrjAw4ERv",
        "outputId": "f5dc657e-b4da-4c56-fe43-bfc50b36ad43"
      },
      "outputs": [
        {
          "output_type": "display_data",
          "data": {
            "text/plain": [
              "<Figure size 432x288 with 1 Axes>"
            ],
            "image/png": "[encoded data removed]"
          },
          "metadata": {
            "needs_background": "light"
          }
        }
      ],
      "source": [
        "plt.bar(df_l['playerQuality'].unique(),df_l['playerQuality'].value_counts(), color='green')\n",
        "plt.ylabel('Quantidade total')\n",
        "plt.xlabel('Qualidade do jogador')\n",
        "plt.title('Quantidade de jogadores pela qualidade')\n",
        "plt.show()"
      ]
    },
    {
      "cell_type": "code",
      "execution_count": 11,
      "metadata": {
        "colab": {
          "base_uri": "https://localhost:8080/",
          "height": 295
        },
        "id": "aW0ZhHR44zAf",
        "outputId": "e6cab0a9-37a3-4b9f-fc2a-7352321565c4"
      },
      "outputs": [
        {
          "output_type": "display_data",
          "data": {
            "text/plain": [
              "<Figure size 432x288 with 1 Axes>"
            ],
            "image/png": "[encoded data removed]"
          },
          "metadata": {
            "needs_background": "light"
          }
        }
      ],
      "source": [
        "playersLosers = df_l[df_l[\"flWinner\"]==0]\n",
        "plt.bar(playersLosers['playerQuality'].unique(),playersLosers['playerQuality'].value_counts(), color='red')\n",
        "plt.ylabel('Quantidade total de jogadores que perderam')\n",
        "plt.xlabel('Qualidade do jogador')\n",
        "plt.title('Quantidade de jogadores que perderam pela qualidade')\n",
        "plt.show()"
      ]
    },
    {
      "cell_type": "code",
      "execution_count": 12,
      "metadata": {
        "colab": {
          "base_uri": "https://localhost:8080/",
          "height": 295
        },
        "id": "dKQ60t_W5vd_",
        "outputId": "75422b3f-60ba-4989-83bd-a867714f029b"
      },
      "outputs": [
        {
          "output_type": "display_data",
          "data": {
            "text/plain": [
              "<Figure size 432x288 with 1 Axes>"
            ],
            "image/png": "[encoded data removed]"
          },
          "metadata": {
            "needs_background": "light"
          }
        }
      ],
      "source": [
        "playersWinners = df_l[df_l[\"flWinner\"]==1]\n",
        "plt.bar(playersWinners['playerQuality'].unique(),playersWinners['playerQuality'].value_counts(), color='blue')\n",
        "plt.ylabel('Quantidade total de jogadores que ganharam')\n",
        "plt.xlabel('Qualidade do jogador')\n",
        "plt.title('Quantidade de jogadores que ganharam pela qualidade')\n",
        "plt.show()"
      ]
    },
    {
      "cell_type": "code",
      "execution_count": 13,
      "metadata": {
        "colab": {
          "base_uri": "https://localhost:8080/"
        },
        "id": "H_WQFwTv6O6b",
        "outputId": "7d7f4dae-a7ba-41a0-b80c-55c354fdf879"
      },
      "outputs": [
        {
          "output_type": "execute_result",
          "data": {
            "text/plain": [
              "Regular      38329\n",
              "Ruim         32925\n",
              "Bom           1902\n",
              "Muito Bom       41\n",
              "Excelente        2\n",
              "Name: playerQuality, dtype: int64"
            ]
          },
          "metadata": {},
          "execution_count": 13
        }
      ],
      "source": [
        "playersLosers['playerQuality'].value_counts()"
      ]
    },
    {
      "cell_type": "code",
      "execution_count": 14,
      "metadata": {
        "colab": {
          "base_uri": "https://localhost:8080/"
        },
        "id": "0RJYO4366B36",
        "outputId": "43127421-6bb3-4659-c15f-161f27d108fc"
      },
      "outputs": [
        {
          "output_type": "execute_result",
          "data": {
            "text/plain": [
              "Regular      49711\n",
              "Ruim         20009\n",
              "Bom           3448\n",
              "Muito Bom       73\n",
              "Excelente        1\n",
              "Name: playerQuality, dtype: int64"
            ]
          },
          "metadata": {},
          "execution_count": 14
        }
      ],
      "source": [
        "playersWinners['playerQuality'].value_counts()"
      ]
    },
    {
      "cell_type": "code",
      "execution_count": 15,
      "metadata": {
        "colab": {
          "base_uri": "https://localhost:8080/",
          "height": 295
        },
        "id": "jZJ-sZOmmdYj",
        "outputId": "8c2075fb-a9e2-416f-e697-1566a26a762f"
      },
      "outputs": [
        {
          "output_type": "display_data",
          "data": {
            "text/plain": [
              "<Figure size 432x288 with 1 Axes>"
            ],
            "image/png": "[encoded data removed]"
          },
          "metadata": {
            "needs_background": "light"
          }
        }
      ],
      "source": [
        "vg = df_l[df_l['kpr']>=2]\n",
        "plt.bar(vg['qtRoundsPlayed'].unique(), vg['qtRoundsPlayed'].value_counts(), color='gray')\n",
        "plt.ylabel('Quantidade total de pessoas')\n",
        "plt.xlabel('quantidade de rounds jogados')\n",
        "plt.title('Quantidade total de pessoas com kdr maior que 2 que jogaram x rounds')\n",
        "plt.show()"
      ]
    },
    {
      "cell_type": "code",
      "execution_count": 16,
      "metadata": {
        "colab": {
          "base_uri": "https://localhost:8080/"
        },
        "id": "2-Dneb2VopZ0",
        "outputId": "d8454362-2b89-437d-db0f-026a671ed382"
      },
      "outputs": [
        {
          "output_type": "execute_result",
          "data": {
            "text/plain": [
              "count    146441.000000\n",
              "mean         28.358691\n",
              "std           4.582400\n",
              "min          23.000000\n",
              "25%          25.000000\n",
              "50%          28.000000\n",
              "75%          30.000000\n",
              "max          84.000000\n",
              "Name: qtRoundsPlayed, dtype: float64"
            ]
          },
          "metadata": {},
          "execution_count": 16
        }
      ],
      "source": [
        "df_l['qtRoundsPlayed'].describe()\n",
        "#usar 1 quartil como separador deixando como minimo 23 rounds para se avaliar um jogador"
      ]
    },
    {
      "cell_type": "code",
      "execution_count": 17,
      "metadata": {
        "colab": {
          "base_uri": "https://localhost:8080/",
          "height": 296
        },
        "id": "Oo8nfZco8xBH",
        "outputId": "a9d0ecf3-83dc-4fe1-d49d-368ab7379231"
      },
      "outputs": [
        {
          "output_type": "display_data",
          "data": {
            "text/plain": [
              "<Figure size 432x288 with 1 Axes>"
            ],
            "image/png": "[encoded data removed]"
          },
          "metadata": {
            "needs_background": "light"
          }
        }
      ],
      "source": [
        "vgpw = playersWinners[playersWinners['playerQuality']=='Muito Bom']\n",
        "plt.bar(vgpw['descMapName'].unique(), vgpw['descMapName'].value_counts(), color='yellow')\n",
        "plt.ylabel('Quantidade total de mapas')\n",
        "plt.xlabel('Nome do mapa')\n",
        "plt.title('Quantidade de mapas jogados pelos jogadores que ganharam que são muito bons')\n",
        "plt.show()"
      ]
    },
    {
      "cell_type": "code",
      "execution_count": 18,
      "metadata": {
        "colab": {
          "base_uri": "https://localhost:8080/",
          "height": 296
        },
        "id": "32aGFgde-0ie",
        "outputId": "a26b5833-6b19-4b54-af06-4a8e33e7e5d1"
      },
      "outputs": [
        {
          "output_type": "display_data",
          "data": {
            "text/plain": [
              "<Figure size 432x288 with 1 Axes>"
            ],
            "image/png": "[encoded data removed]"
          },
          "metadata": {
            "needs_background": "light"
          }
        }
      ],
      "source": [
        "vgpl = playersLosers[playersLosers['playerQuality']=='Muito Bom']\n",
        "plt.bar(vgpl['descMapName'].unique(), vgpl['descMapName'].value_counts(), color='orange')\n",
        "plt.ylabel('Quantidade total de mapas')\n",
        "plt.xlabel('Nome do mapa')\n",
        "plt.title('Quantidade de mapas jogados pelos jogadores que perderam e são muito bons')\n",
        "plt.show()"
      ]
    },
    {
      "cell_type": "code",
      "execution_count": 19,
      "metadata": {
        "colab": {
          "base_uri": "https://localhost:8080/",
          "height": 296
        },
        "id": "hBXLr1sWBHAL",
        "outputId": "e5235c49-f191-4269-c9e8-287cc98aa5f6"
      },
      "outputs": [
        {
          "output_type": "display_data",
          "data": {
            "text/plain": [
              "<Figure size 432x288 with 1 Axes>"
            ],
            "image/png": "[encoded data removed]"
          },
          "metadata": {
            "needs_background": "light"
          }
        }
      ],
      "source": [
        "plt.bar(df_l['descMapName'].unique(), df_l['descMapName'].value_counts(), color='blue')\n",
        "plt.ylabel('Quantidade total de mapas')\n",
        "plt.xlabel('Nome do mapa')\n",
        "plt.title('Quantidade de mapas jogados pelos jogadores do database')\n",
        "plt.show()"
      ]
    },
    {
      "cell_type": "code",
      "execution_count": 20,
      "metadata": {
        "colab": {
          "base_uri": "https://localhost:8080/",
          "height": 296
        },
        "id": "Vu0Tqrzz_xAy",
        "outputId": "85b928e2-1955-4d0c-9507-18497b5c2295"
      },
      "outputs": [
        {
          "output_type": "display_data",
          "data": {
            "text/plain": [
              "<Figure size 432x288 with 1 Axes>"
            ],
            "image/png": "[encoded data removed]"
          },
          "metadata": {
            "needs_background": "light"
          }
        }
      ],
      "source": [
        "vgp = df_l[df_l['pps']>=60]\n",
        "plt.bar(vgp['descMapName'].unique(), vgp['descMapName'].value_counts(), color='orange')\n",
        "plt.ylabel('Quantidade total de mapas')\n",
        "plt.xlabel('Nome do mapa')\n",
        "plt.title('Quantidade de mapas jogados pelos jogadores que são muito bons')\n",
        "plt.show()\n",
        "#jogadores com qualidade alta tendem a jogar mais inferno -> Over -> dust2 -> vertigo -> Mirage -> Nuke -> Train -> Ancient"
      ]
    },
    {
      "cell_type": "code",
      "execution_count": 21,
      "metadata": {
        "colab": {
          "base_uri": "https://localhost:8080/",
          "height": 296
        },
        "id": "OUFOxQ2EBfWw",
        "outputId": "2502fb72-c62f-4bcc-c2e4-9ad295aa78f2"
      },
      "outputs": [
        {
          "output_type": "display_data",
          "data": {
            "text/plain": [
              "<Figure size 432x288 with 1 Axes>"
            ],
            "image/png": "[encoded data removed]"
          },
          "metadata": {
            "needs_background": "light"
          }
        }
      ],
      "source": [
        "vgp = df_l[df_l['pps']<=60]\n",
        "plt.bar(vgp['descMapName'].unique(), vgp['descMapName'].value_counts(), color='red')\n",
        "plt.ylabel('Quantidade total de mapas')\n",
        "plt.xlabel('Nome do mapa')\n",
        "plt.title('Quantidade de mapas jogados pelos jogadores que são muito ruins')\n",
        "plt.show()"
      ]
    },
    {
      "cell_type": "code",
      "source": [
        "vgpl = playersWinners[playersWinners['playerQuality']=='Ruim']\n",
        "plt.bar(vgpl['descMapName'].unique(), vgpl['descMapName'].value_counts(), color='Green')\n",
        "plt.ylabel('Quantidade total de mapas')\n",
        "plt.xlabel('Nome do mapa')\n",
        "plt.title('Quantidade de vitorias dos jogadores que são Ruins/Mapa')\n",
        "plt.show()\n",
        "#Nuke, o mapa que eles mais jogam, é o terceiro mapa que ele menos ganham."
      ],
      "metadata": {
        "colab": {
          "base_uri": "https://localhost:8080/",
          "height": 296
        },
        "id": "NPxm1Ynz6zXl",
        "outputId": "fbeab764-4649-4563-9833-0a79e4532f75"
      },
      "execution_count": 22,
      "outputs": [
        {
          "output_type": "display_data",
          "data": {
            "text/plain": [
              "<Figure size 432x288 with 1 Axes>"
            ],
            "image/png": "[encoded data removed]"
          },
          "metadata": {
            "needs_background": "light"
          }
        }
      ]
    },
    {
      "cell_type": "code",
      "execution_count": null,
      "metadata": {
        "colab": {
          "base_uri": "https://localhost:8080/",
          "height": 295
        },
        "id": "XqpYYE0I_ZcE",
        "outputId": "8b6d1cc9-dd87-433c-fb82-bec642ad7a0f"
      },
      "outputs": [
        {
          "output_type": "display_data",
          "data": {
            "text/plain": [
              "<Figure size 432x288 with 1 Axes>"
            ],
            "image/png": "[encoded data removed]"
          },
          "metadata": {
            "needs_background": "light"
          }
        }
      ],
      "source": [
        "plt.bar(playersLosers['vlLevel'].unique(), playersLosers['vlLevel'].value_counts(), color='purple')\n",
        "plt.ylabel('Quantidade total de jogadores do nivel')\n",
        "plt.xlabel('Nivel de jogadores que perderam')\n",
        "plt.title('Quantidade do nivel dos jogadores que perderam')\n",
        "plt.show()"
      ]
    },
    {
      "cell_type": "code",
      "execution_count": null,
      "metadata": {
        "colab": {
          "base_uri": "https://localhost:8080/",
          "height": 295
        },
        "id": "g_9KDkJJ_xdI",
        "outputId": "bc90594c-2bcc-4fc2-ffff-9920182ed275"
      },
      "outputs": [
        {
          "output_type": "display_data",
          "data": {
            "text/plain": [
              "<Figure size 432x288 with 1 Axes>"
            ],
            "image/png": "[encoded data removed]"
          },
          "metadata": {
            "needs_background": "light"
          }
        }
      ],
      "source": [
        "plt.bar(playersWinners['vlLevel'].unique(), playersWinners['vlLevel'].value_counts(), color='pink')\n",
        "plt.ylabel('Quantidade total de jogadores do nivel')\n",
        "plt.xlabel('Nivel de jogadores que ganharam')\n",
        "plt.title('Quantidade do nivel dos jogadores que ganharam')\n",
        "plt.show()"
      ]
    },
    {
      "cell_type": "code",
      "execution_count": null,
      "metadata": {
        "colab": {
          "base_uri": "https://localhost:8080/",
          "height": 295
        },
        "id": "UmtM9GRJAE0M",
        "outputId": "eb892589-a4e2-4a31-d9f1-183dc4c9183a"
      },
      "outputs": [
        {
          "output_type": "display_data",
          "data": {
            "text/plain": [
              "<Figure size 432x288 with 1 Axes>"
            ],
            "image/png": "[encoded data removed]"
          },
          "metadata": {
            "needs_background": "light"
          }
        }
      ],
      "source": [
        "rpl = playersLosers[playersLosers['playerQuality']=='Regular']\n",
        "plt.bar(rpl['vlLevel'].unique(), rpl['vlLevel'].value_counts(), color='cyan')\n",
        "plt.ylabel('Quantidade total de jogadores do nivel')\n",
        "plt.xlabel('Nivel de jogadores que perderam')\n",
        "plt.title('Quantidade do nivel dos jogadores Regulares que perderam')\n",
        "plt.show()"
      ]
    },
    {
      "cell_type": "code",
      "execution_count": null,
      "metadata": {
        "colab": {
          "base_uri": "https://localhost:8080/",
          "height": 295
        },
        "id": "2Vq9a7frAetu",
        "outputId": "94665040-8107-4f1f-c1c9-72acb8d94336"
      },
      "outputs": [
        {
          "output_type": "display_data",
          "data": {
            "text/plain": [
              "<Figure size 432x288 with 1 Axes>"
            ],
            "image/png": "[encoded data removed]"
          },
          "metadata": {
            "needs_background": "light"
          }
        }
      ],
      "source": [
        "rpl = playersWinners[playersWinners['playerQuality']=='Muito Bom']\n",
        "plt.bar(rpl['vlLevel'].unique(), rpl['vlLevel'].value_counts(), color='brown')\n",
        "plt.ylabel('Quantidade total de jogadores do nivel')\n",
        "plt.xlabel('Nivel de jogadores que perderam')\n",
        "plt.title('Quantidade do nivel dos jogadores Regulares que perderam')\n",
        "plt.show()"
      ]
    },
    {
      "cell_type": "code",
      "execution_count": null,
      "metadata": {
        "colab": {
          "base_uri": "https://localhost:8080/",
          "height": 295
        },
        "id": "YN5Vtq4T1BVe",
        "outputId": "76ec3a5f-8b5a-4b88-e30e-87d4cfc6d552"
      },
      "outputs": [
        {
          "output_type": "display_data",
          "data": {
            "text/plain": [
              "<Figure size 432x288 with 1 Axes>"
            ],
            "image/png": "[encoded data removed]"
          },
          "metadata": {
            "needs_background": "light"
          }
        }
      ],
      "source": [
        "rpl = df_l[df_l['pps']>=60]\n",
        "plt.bar(rpl['vlLevel'].unique(), rpl['vlLevel'].value_counts(), color='green')\n",
        "plt.ylabel('Quantidade total de jogadores do nivel')\n",
        "plt.xlabel('Nivel de jogadores que perderam')\n",
        "plt.title('Nivel dos jogadores considerados muito bons')\n",
        "plt.show()"
      ]
    },
    {
      "cell_type": "code",
      "execution_count": null,
      "metadata": {
        "colab": {
          "base_uri": "https://localhost:8080/",
          "height": 295
        },
        "id": "Mu-AtDzBCfS5",
        "outputId": "39a5249e-360b-4220-d66e-a0aaa527e878"
      },
      "outputs": [
        {
          "output_type": "display_data",
          "data": {
            "text/plain": [
              "<Figure size 432x288 with 1 Axes>"
            ],
            "image/png": "[encoded data removed]"
          },
          "metadata": {
            "needs_background": "light"
          }
        }
      ],
      "source": [
        "rpl = df_l[df_l['pps']<=60]\n",
        "plt.bar(rpl['vlLevel'].unique(), rpl['vlLevel'].value_counts(), color='red')\n",
        "plt.ylabel('Quantidade total de jogadores do nivel')\n",
        "plt.xlabel('Nivel de jogadores que perderam')\n",
        "plt.title('Nivel dos jogadores considerados muito ruins')\n",
        "plt.show()"
      ]
    },
    {
      "cell_type": "code",
      "execution_count": null,
      "metadata": {
        "colab": {
          "base_uri": "https://localhost:8080/"
        },
        "id": "Pajn2x-wIGvY",
        "outputId": "fdf6ebb9-ea26-4efb-b2c9-271878ea2c37"
      },
      "outputs": [
        {
          "output_type": "execute_result",
          "data": {
            "text/plain": [
              "count    146441.000000\n",
              "mean         23.866106\n",
              "std           8.441323\n",
              "min           0.000000\n",
              "25%          17.857143\n",
              "50%          22.857143\n",
              "75%          29.285714\n",
              "max          90.714286\n",
              "Name: pps, dtype: float64"
            ]
          },
          "metadata": {},
          "execution_count": 136
        }
      ],
      "source": [
        "df_l['pps'].describe()"
      ]
    },
    {
      "cell_type": "code",
      "execution_count": null,
      "metadata": {
        "colab": {
          "base_uri": "https://localhost:8080/",
          "height": 425
        },
        "id": "d1oksjRmknBz",
        "outputId": "1893d2cf-efbc-47b1-85c0-c6a5d87a65b8"
      },
      "outputs": [
        {
          "output_type": "stream",
          "name": "stderr",
          "text": [
            "/usr/local/lib/python3.7/dist-packages/matplotlib/cbook/__init__.py:1376: VisibleDeprecationWarning: Creating an ndarray from ragged nested sequences (which is a list-or-tuple of lists-or-tuples-or ndarrays with different lengths or shapes) is deprecated. If you meant to do this, you must specify 'dtype=object' when creating the ndarray.\n",
            "  X = np.atleast_1d(X.T if isinstance(X, np.ndarray) else np.asarray(X))\n"
          ]
        },
        {
          "output_type": "execute_result",
          "data": {
            "text/plain": [
              "Text(0.5, 1.0, 'kpr por mapa')"
            ]
          },
          "metadata": {},
          "execution_count": 137
        },
        {
          "output_type": "display_data",
          "data": {
            "text/plain": [
              "<Figure size 432x288 with 1 Axes>"
            ],
            "image/png": "[encoded data removed]"
          },
          "metadata": {
            "needs_background": "light"
          }
        }
      ],
      "source": [
        "killPorMapa = df_l.boxplot(column='kpr',by=\"descMapName\", rot =90)\n",
        "killPorMapa.set_title(\"kpr por mapa\")\n",
        "#inconclusivo por enquanto, pois o mapa que tem mais kills também é o mapa mais jogado\n",
        "#isso deve ser calculado com base na media de kills por partida "
      ]
    },
    {
      "cell_type": "code",
      "execution_count": null,
      "metadata": {
        "colab": {
          "base_uri": "https://localhost:8080/",
          "height": 332
        },
        "id": "EOIOLMvanQEe",
        "outputId": "8e031144-06e2-42c9-fc0e-e2e56904d14c"
      },
      "outputs": [
        {
          "output_type": "execute_result",
          "data": {
            "text/plain": [
              "               count       mean       std  min   25%   50%   75%   max\n",
              "descMapName                                                           \n",
              "de_ancient    3387.0  20.859463  7.154590  0.0  16.0  20.0  25.0  61.0\n",
              "de_dust2     18761.0  20.382282  7.161748  0.0  15.0  20.0  25.0  85.0\n",
              "de_inferno   33851.0  20.092878  6.847048  0.0  15.0  19.0  24.0  70.0\n",
              "de_mirage    45901.0  20.548093  7.164280  0.0  16.0  20.0  25.0  73.0\n",
              "de_nuke      11211.0  20.731514  7.000101  0.0  16.0  20.0  25.0  60.0\n",
              "de_overpass  11156.0  20.740498  6.976928  0.0  16.0  20.0  25.0  67.0\n",
              "de_train      6168.0  20.541180  7.106518  1.0  16.0  20.0  25.0  68.0\n",
              "de_vertigo   16006.0  20.820317  7.143809  0.0  16.0  20.0  25.0  63.0"
            ],
            "text/html": [
              "\n",
              "  <div id=\"df-38b254b8-f969-43d0-9ba7-5c774f6d1cda\">\n",
              "    <div class=\"colab-df-container\">\n",
              "      <div>\n",
              "<style scoped>\n",
              "    .dataframe tbody tr th:only-of-type {\n",
              "        vertical-align: middle;\n",
              "    }\n",
              "\n",
              "    .dataframe tbody tr th {\n",
              "        vertical-align: top;\n",
              "    }\n",
              "\n",
              "    .dataframe thead th {\n",
              "        text-align: right;\n",
              "    }\n",
              "</style>\n",
              "<table border=\"1\" class=\"dataframe\">\n",
              "  <thead>\n",
              "    <tr style=\"text-align: right;\">\n",
              "      <th></th>\n",
              "      <th>count</th>\n",
              "      <th>mean</th>\n",
              "      <th>std</th>\n",
              "      <th>min</th>\n",
              "      <th>25%</th>\n",
              "      <th>50%</th>\n",
              "      <th>75%</th>\n",
              "      <th>max</th>\n",
              "    </tr>\n",
              "    <tr>\n",
              "      <th>descMapName</th>\n",
              "      <th></th>\n",
              "      <th></th>\n",
              "      <th></th>\n",
              "      <th></th>\n",
              "      <th></th>\n",
              "      <th></th>\n",
              "      <th></th>\n",
              "      <th></th>\n",
              "    </tr>\n",
              "  </thead>\n",
              "  <tbody>\n",
              "    <tr>\n",
              "      <th>de_ancient</th>\n",
              "      <td>3387.0</td>\n",
              "      <td>20.859463</td>\n",
              "      <td>7.154590</td>\n",
              "      <td>0.0</td>\n",
              "      <td>16.0</td>\n",
              "      <td>20.0</td>\n",
              "      <td>25.0</td>\n",
              "      <td>61.0</td>\n",
              "    </tr>\n",
              "    <tr>\n",
              "      <th>de_dust2</th>\n",
              "      <td>18761.0</td>\n",
              "      <td>20.382282</td>\n",
              "      <td>7.161748</td>\n",
              "      <td>0.0</td>\n",
              "      <td>15.0</td>\n",
              "      <td>20.0</td>\n",
              "      <td>25.0</td>\n",
              "      <td>85.0</td>\n",
              "    </tr>\n",
              "    <tr>\n",
              "      <th>de_inferno</th>\n",
              "      <td>33851.0</td>\n",
              "      <td>20.092878</td>\n",
              "      <td>6.847048</td>\n",
              "      <td>0.0</td>\n",
              "      <td>15.0</td>\n",
              "      <td>19.0</td>\n",
              "      <td>24.0</td>\n",
              "      <td>70.0</td>\n",
              "    </tr>\n",
              "    <tr>\n",
              "      <th>de_mirage</th>\n",
              "      <td>45901.0</td>\n",
              "      <td>20.548093</td>\n",
              "      <td>7.164280</td>\n",
              "      <td>0.0</td>\n",
              "      <td>16.0</td>\n",
              "      <td>20.0</td>\n",
              "      <td>25.0</td>\n",
              "      <td>73.0</td>\n",
              "    </tr>\n",
              "    <tr>\n",
              "      <th>de_nuke</th>\n",
              "      <td>11211.0</td>\n",
              "      <td>20.731514</td>\n",
              "      <td>7.000101</td>\n",
              "      <td>0.0</td>\n",
              "      <td>16.0</td>\n",
              "      <td>20.0</td>\n",
              "      <td>25.0</td>\n",
              "      <td>60.0</td>\n",
              "    </tr>\n",
              "    <tr>\n",
              "      <th>de_overpass</th>\n",
              "      <td>11156.0</td>\n",
              "      <td>20.740498</td>\n",
              "      <td>6.976928</td>\n",
              "      <td>0.0</td>\n",
              "      <td>16.0</td>\n",
              "      <td>20.0</td>\n",
              "      <td>25.0</td>\n",
              "      <td>67.0</td>\n",
              "    </tr>\n",
              "    <tr>\n",
              "      <th>de_train</th>\n",
              "      <td>6168.0</td>\n",
              "      <td>20.541180</td>\n",
              "      <td>7.106518</td>\n",
              "      <td>1.0</td>\n",
              "      <td>16.0</td>\n",
              "      <td>20.0</td>\n",
              "      <td>25.0</td>\n",
              "      <td>68.0</td>\n",
              "    </tr>\n",
              "    <tr>\n",
              "      <th>de_vertigo</th>\n",
              "      <td>16006.0</td>\n",
              "      <td>20.820317</td>\n",
              "      <td>7.143809</td>\n",
              "      <td>0.0</td>\n",
              "      <td>16.0</td>\n",
              "      <td>20.0</td>\n",
              "      <td>25.0</td>\n",
              "      <td>63.0</td>\n",
              "    </tr>\n",
              "  </tbody>\n",
              "</table>\n",
              "</div>\n",
              "      <button class=\"colab-df-convert\" onclick=\"convertToInteractive('df-38b254b8-f969-43d0-9ba7-5c774f6d1cda')\"\n",
              "              title=\"Convert this dataframe to an interactive table.\"\n",
              "              style=\"display:none;\">\n",
              "        \n",
              "  <svg xmlns=\"http://www.w3.org/2000/svg\" height=\"24px\"viewBox=\"0 0 24 24\"\n",
              "       width=\"24px\">\n",
              "    <path d=\"M0 0h24v24H0V0z\" fill=\"none\"/>\n",
              "    <path d=\"M18.56 5.44l.94 2.06.94-2.06 2.06-.94-2.06-.94-.94-2.06-.94 2.06-2.06.94zm-11 1L8.5 8.5l.94-2.06 2.06-.94-2.06-.94L8.5 2.5l-.94 2.06-2.06.94zm10 10l.94 2.06.94-2.06 2.06-.94-2.06-.94-.94-2.06-.94 2.06-2.06.94z\"/><path d=\"M17.41 7.96l-1.37-1.37c-.4-.4-.92-.59-1.43-.59-.52 0-1.04.2-1.43.59L10.3 9.45l-7.72 7.72c-.78.78-.78 2.05 0 2.83L4 21.41c.39.39.9.59 1.41.59.51 0 1.02-.2 1.41-.59l7.78-7.78 2.81-2.81c.8-.78.8-2.07 0-2.86zM5.41 20L4 18.59l7.72-7.72 1.47 1.35L5.41 20z\"/>\n",
              "  </svg>\n",
              "      </button>\n",
              "      \n",
              "  <style>\n",
              "    .colab-df-container {\n",
              "      display:flex;\n",
              "      flex-wrap:wrap;\n",
              "      gap: 12px;\n",
              "    }\n",
              "\n",
              "    .colab-df-convert {\n",
              "      background-color: #E8F0FE;\n",
              "      border: none;\n",
              "      border-radius: 50%;\n",
              "      cursor: pointer;\n",
              "      display: none;\n",
              "      fill: #1967D2;\n",
              "      height: 32px;\n",
              "      padding: 0 0 0 0;\n",
              "      width: 32px;\n",
              "    }\n",
              "\n",
              "    .colab-df-convert:hover {\n",
              "      background-color: #E2EBFA;\n",
              "      box-shadow: 0px 1px 2px rgba(60, 64, 67, 0.3), 0px 1px 3px 1px rgba(60, 64, 67, 0.15);\n",
              "      fill: #174EA6;\n",
              "    }\n",
              "\n",
              "    [theme=dark] .colab-df-convert {\n",
              "      background-color: #3B4455;\n",
              "      fill: #D2E3FC;\n",
              "    }\n",
              "\n",
              "    [theme=dark] .colab-df-convert:hover {\n",
              "      background-color: #434B5C;\n",
              "      box-shadow: 0px 1px 3px 1px rgba(0, 0, 0, 0.15);\n",
              "      filter: drop-shadow(0px 1px 2px rgba(0, 0, 0, 0.3));\n",
              "      fill: #FFFFFF;\n",
              "    }\n",
              "  </style>\n",
              "\n",
              "      <script>\n",
              "        const buttonEl =\n",
              "          document.querySelector('#df-38b254b8-f969-43d0-9ba7-5c774f6d1cda button.colab-df-convert');\n",
              "        buttonEl.style.display =\n",
              "          google.colab.kernel.accessAllowed ? 'block' : 'none';\n",
              "\n",
              "        async function convertToInteractive(key) {\n",
              "          const element = document.querySelector('#df-38b254b8-f969-43d0-9ba7-5c774f6d1cda');\n",
              "          const dataTable =\n",
              "            await google.colab.kernel.invokeFunction('convertToInteractive',\n",
              "                                                     [key], {});\n",
              "          if (!dataTable) return;\n",
              "\n",
              "          const docLinkHtml = 'Like what you see? Visit the ' +\n",
              "            '<a target=\"_blank\" href=https://colab.research.google.com/notebooks/data_table.ipynb>data table notebook</a>'\n",
              "            + ' to learn more about interactive tables.';\n",
              "          element.innerHTML = '';\n",
              "          dataTable['output_type'] = 'display_data';\n",
              "          await google.colab.output.renderOutput(dataTable, element);\n",
              "          const docLink = document.createElement('div');\n",
              "          docLink.innerHTML = docLinkHtml;\n",
              "          element.appendChild(docLink);\n",
              "        }\n",
              "      </script>\n",
              "    </div>\n",
              "  </div>\n",
              "  "
            ]
          },
          "metadata": {},
          "execution_count": 138
        }
      ],
      "source": [
        "x = df_l.groupby('descMapName')\n",
        "y = x['qtKill'].count()\n",
        "x['qtKill'].describe()\n",
        "#MEDIA DE KILLS POR MAPA"
      ]
    },
    {
      "cell_type": "code",
      "execution_count": null,
      "metadata": {
        "colab": {
          "base_uri": "https://localhost:8080/",
          "height": 332
        },
        "id": "QsdIUAjBHK7L",
        "outputId": "a9f31a03-2bd1-47e7-fa73-292419360d94"
      },
      "outputs": [
        {
          "output_type": "execute_result",
          "data": {
            "text/plain": [
              "               count      mean       std  min  25%  50%  75%  max\n",
              "descMapName                                                      \n",
              "de_ancient    3387.0  0.536758  0.756967  0.0  0.0  0.0  1.0  6.0\n",
              "de_dust2     18761.0  0.501626  0.733896  0.0  0.0  0.0  1.0  5.0\n",
              "de_inferno   33851.0  0.473634  0.711443  0.0  0.0  0.0  1.0  8.0\n",
              "de_mirage    45901.0  0.501514  0.731625  0.0  0.0  0.0  1.0  6.0\n",
              "de_nuke      11211.0  0.535545  0.763378  0.0  0.0  0.0  1.0  7.0\n",
              "de_overpass  11156.0  0.524919  0.748168  0.0  0.0  0.0  1.0  6.0\n",
              "de_train      6168.0  0.513619  0.739102  0.0  0.0  0.0  1.0  5.0\n",
              "de_vertigo   16006.0  0.544546  0.766029  0.0  0.0  0.0  1.0  8.0"
            ],
            "text/html": [
              "\n",
              "  <div id=\"df-127fba44-bacb-4486-a8cb-13702825ab21\">\n",
              "    <div class=\"colab-df-container\">\n",
              "      <div>\n",
              "<style scoped>\n",
              "    .dataframe tbody tr th:only-of-type {\n",
              "        vertical-align: middle;\n",
              "    }\n",
              "\n",
              "    .dataframe tbody tr th {\n",
              "        vertical-align: top;\n",
              "    }\n",
              "\n",
              "    .dataframe thead th {\n",
              "        text-align: right;\n",
              "    }\n",
              "</style>\n",
              "<table border=\"1\" class=\"dataframe\">\n",
              "  <thead>\n",
              "    <tr style=\"text-align: right;\">\n",
              "      <th></th>\n",
              "      <th>count</th>\n",
              "      <th>mean</th>\n",
              "      <th>std</th>\n",
              "      <th>min</th>\n",
              "      <th>25%</th>\n",
              "      <th>50%</th>\n",
              "      <th>75%</th>\n",
              "      <th>max</th>\n",
              "    </tr>\n",
              "    <tr>\n",
              "      <th>descMapName</th>\n",
              "      <th></th>\n",
              "      <th></th>\n",
              "      <th></th>\n",
              "      <th></th>\n",
              "      <th></th>\n",
              "      <th></th>\n",
              "      <th></th>\n",
              "      <th></th>\n",
              "    </tr>\n",
              "  </thead>\n",
              "  <tbody>\n",
              "    <tr>\n",
              "      <th>de_ancient</th>\n",
              "      <td>3387.0</td>\n",
              "      <td>0.536758</td>\n",
              "      <td>0.756967</td>\n",
              "      <td>0.0</td>\n",
              "      <td>0.0</td>\n",
              "      <td>0.0</td>\n",
              "      <td>1.0</td>\n",
              "      <td>6.0</td>\n",
              "    </tr>\n",
              "    <tr>\n",
              "      <th>de_dust2</th>\n",
              "      <td>18761.0</td>\n",
              "      <td>0.501626</td>\n",
              "      <td>0.733896</td>\n",
              "      <td>0.0</td>\n",
              "      <td>0.0</td>\n",
              "      <td>0.0</td>\n",
              "      <td>1.0</td>\n",
              "      <td>5.0</td>\n",
              "    </tr>\n",
              "    <tr>\n",
              "      <th>de_inferno</th>\n",
              "      <td>33851.0</td>\n",
              "      <td>0.473634</td>\n",
              "      <td>0.711443</td>\n",
              "      <td>0.0</td>\n",
              "      <td>0.0</td>\n",
              "      <td>0.0</td>\n",
              "      <td>1.0</td>\n",
              "      <td>8.0</td>\n",
              "    </tr>\n",
              "    <tr>\n",
              "      <th>de_mirage</th>\n",
              "      <td>45901.0</td>\n",
              "      <td>0.501514</td>\n",
              "      <td>0.731625</td>\n",
              "      <td>0.0</td>\n",
              "      <td>0.0</td>\n",
              "      <td>0.0</td>\n",
              "      <td>1.0</td>\n",
              "      <td>6.0</td>\n",
              "    </tr>\n",
              "    <tr>\n",
              "      <th>de_nuke</th>\n",
              "      <td>11211.0</td>\n",
              "      <td>0.535545</td>\n",
              "      <td>0.763378</td>\n",
              "      <td>0.0</td>\n",
              "      <td>0.0</td>\n",
              "      <td>0.0</td>\n",
              "      <td>1.0</td>\n",
              "      <td>7.0</td>\n",
              "    </tr>\n",
              "    <tr>\n",
              "      <th>de_overpass</th>\n",
              "      <td>11156.0</td>\n",
              "      <td>0.524919</td>\n",
              "      <td>0.748168</td>\n",
              "      <td>0.0</td>\n",
              "      <td>0.0</td>\n",
              "      <td>0.0</td>\n",
              "      <td>1.0</td>\n",
              "      <td>6.0</td>\n",
              "    </tr>\n",
              "    <tr>\n",
              "      <th>de_train</th>\n",
              "      <td>6168.0</td>\n",
              "      <td>0.513619</td>\n",
              "      <td>0.739102</td>\n",
              "      <td>0.0</td>\n",
              "      <td>0.0</td>\n",
              "      <td>0.0</td>\n",
              "      <td>1.0</td>\n",
              "      <td>5.0</td>\n",
              "    </tr>\n",
              "    <tr>\n",
              "      <th>de_vertigo</th>\n",
              "      <td>16006.0</td>\n",
              "      <td>0.544546</td>\n",
              "      <td>0.766029</td>\n",
              "      <td>0.0</td>\n",
              "      <td>0.0</td>\n",
              "      <td>0.0</td>\n",
              "      <td>1.0</td>\n",
              "      <td>8.0</td>\n",
              "    </tr>\n",
              "  </tbody>\n",
              "</table>\n",
              "</div>\n",
              "      <button class=\"colab-df-convert\" onclick=\"convertToInteractive('df-127fba44-bacb-4486-a8cb-13702825ab21')\"\n",
              "              title=\"Convert this dataframe to an interactive table.\"\n",
              "              style=\"display:none;\">\n",
              "        \n",
              "  <svg xmlns=\"http://www.w3.org/2000/svg\" height=\"24px\"viewBox=\"0 0 24 24\"\n",
              "       width=\"24px\">\n",
              "    <path d=\"M0 0h24v24H0V0z\" fill=\"none\"/>\n",
              "    <path d=\"M18.56 5.44l.94 2.06.94-2.06 2.06-.94-2.06-.94-.94-2.06-.94 2.06-2.06.94zm-11 1L8.5 8.5l.94-2.06 2.06-.94-2.06-.94L8.5 2.5l-.94 2.06-2.06.94zm10 10l.94 2.06.94-2.06 2.06-.94-2.06-.94-.94-2.06-.94 2.06-2.06.94z\"/><path d=\"M17.41 7.96l-1.37-1.37c-.4-.4-.92-.59-1.43-.59-.52 0-1.04.2-1.43.59L10.3 9.45l-7.72 7.72c-.78.78-.78 2.05 0 2.83L4 21.41c.39.39.9.59 1.41.59.51 0 1.02-.2 1.41-.59l7.78-7.78 2.81-2.81c.8-.78.8-2.07 0-2.86zM5.41 20L4 18.59l7.72-7.72 1.47 1.35L5.41 20z\"/>\n",
              "  </svg>\n",
              "      </button>\n",
              "      \n",
              "  <style>\n",
              "    .colab-df-container {\n",
              "      display:flex;\n",
              "      flex-wrap:wrap;\n",
              "      gap: 12px;\n",
              "    }\n",
              "\n",
              "    .colab-df-convert {\n",
              "      background-color: #E8F0FE;\n",
              "      border: none;\n",
              "      border-radius: 50%;\n",
              "      cursor: pointer;\n",
              "      display: none;\n",
              "      fill: #1967D2;\n",
              "      height: 32px;\n",
              "      padding: 0 0 0 0;\n",
              "      width: 32px;\n",
              "    }\n",
              "\n",
              "    .colab-df-convert:hover {\n",
              "      background-color: #E2EBFA;\n",
              "      box-shadow: 0px 1px 2px rgba(60, 64, 67, 0.3), 0px 1px 3px 1px rgba(60, 64, 67, 0.15);\n",
              "      fill: #174EA6;\n",
              "    }\n",
              "\n",
              "    [theme=dark] .colab-df-convert {\n",
              "      background-color: #3B4455;\n",
              "      fill: #D2E3FC;\n",
              "    }\n",
              "\n",
              "    [theme=dark] .colab-df-convert:hover {\n",
              "      background-color: #434B5C;\n",
              "      box-shadow: 0px 1px 3px 1px rgba(0, 0, 0, 0.15);\n",
              "      filter: drop-shadow(0px 1px 2px rgba(0, 0, 0, 0.3));\n",
              "      fill: #FFFFFF;\n",
              "    }\n",
              "  </style>\n",
              "\n",
              "      <script>\n",
              "        const buttonEl =\n",
              "          document.querySelector('#df-127fba44-bacb-4486-a8cb-13702825ab21 button.colab-df-convert');\n",
              "        buttonEl.style.display =\n",
              "          google.colab.kernel.accessAllowed ? 'block' : 'none';\n",
              "\n",
              "        async function convertToInteractive(key) {\n",
              "          const element = document.querySelector('#df-127fba44-bacb-4486-a8cb-13702825ab21');\n",
              "          const dataTable =\n",
              "            await google.colab.kernel.invokeFunction('convertToInteractive',\n",
              "                                                     [key], {});\n",
              "          if (!dataTable) return;\n",
              "\n",
              "          const docLinkHtml = 'Like what you see? Visit the ' +\n",
              "            '<a target=\"_blank\" href=https://colab.research.google.com/notebooks/data_table.ipynb>data table notebook</a>'\n",
              "            + ' to learn more about interactive tables.';\n",
              "          element.innerHTML = '';\n",
              "          dataTable['output_type'] = 'display_data';\n",
              "          await google.colab.output.renderOutput(dataTable, element);\n",
              "          const docLink = document.createElement('div');\n",
              "          docLink.innerHTML = docLinkHtml;\n",
              "          element.appendChild(docLink);\n",
              "        }\n",
              "      </script>\n",
              "    </div>\n",
              "  </div>\n",
              "  "
            ]
          },
          "metadata": {},
          "execution_count": 139
        }
      ],
      "source": [
        "x = df_l.groupby('descMapName')\n",
        "y = x['qtClutchWon'].count()\n",
        "x['qtClutchWon'].describe()\n",
        "#MEDIA DE CLUTCH POR MAPA"
      ]
    },
    {
      "cell_type": "code",
      "execution_count": null,
      "metadata": {
        "colab": {
          "base_uri": "https://localhost:8080/",
          "height": 332
        },
        "id": "A7WWbLyDJU7j",
        "outputId": "e270e4e1-9a1c-4c46-9ac6-ef0dc741e0aa"
      },
      "outputs": [
        {
          "output_type": "execute_result",
          "data": {
            "text/plain": [
              "               count      mean       std       min       25%       50%  \\\n",
              "descMapName                                                              \n",
              "de_ancient    3387.0  0.733093  0.222566  0.000000  0.583333  0.720000   \n",
              "de_dust2     18761.0  0.719231  0.225644  0.000000  0.560000  0.703704   \n",
              "de_inferno   33851.0  0.707766  0.215367  0.000000  0.560000  0.695652   \n",
              "de_mirage    45901.0  0.725325  0.226108  0.000000  0.566667  0.708333   \n",
              "de_nuke      11211.0  0.730884  0.219042  0.000000  0.583333  0.720000   \n",
              "de_overpass  11156.0  0.729719  0.217298  0.000000  0.576923  0.720000   \n",
              "de_train      6168.0  0.725963  0.223969  0.027778  0.571429  0.714286   \n",
              "de_vertigo   16006.0  0.734101  0.222927  0.000000  0.576923  0.722222   \n",
              "\n",
              "                  75%       max  \n",
              "descMapName                      \n",
              "de_ancient   0.870953  1.888889  \n",
              "de_dust2     0.862069  2.043478  \n",
              "de_inferno   0.840000  1.791667  \n",
              "de_mirage    0.866667  2.083333  \n",
              "de_nuke      0.866667  1.791667  \n",
              "de_overpass  0.866667  1.833333  \n",
              "de_train     0.862069  1.750000  \n",
              "de_vertigo   0.875000  1.827586  "
            ],
            "text/html": [
              "\n",
              "  <div id=\"df-fdb16ec8-e4fe-4642-93d5-936525d4ea0f\">\n",
              "    <div class=\"colab-df-container\">\n",
              "      <div>\n",
              "<style scoped>\n",
              "    .dataframe tbody tr th:only-of-type {\n",
              "        vertical-align: middle;\n",
              "    }\n",
              "\n",
              "    .dataframe tbody tr th {\n",
              "        vertical-align: top;\n",
              "    }\n",
              "\n",
              "    .dataframe thead th {\n",
              "        text-align: right;\n",
              "    }\n",
              "</style>\n",
              "<table border=\"1\" class=\"dataframe\">\n",
              "  <thead>\n",
              "    <tr style=\"text-align: right;\">\n",
              "      <th></th>\n",
              "      <th>count</th>\n",
              "      <th>mean</th>\n",
              "      <th>std</th>\n",
              "      <th>min</th>\n",
              "      <th>25%</th>\n",
              "      <th>50%</th>\n",
              "      <th>75%</th>\n",
              "      <th>max</th>\n",
              "    </tr>\n",
              "    <tr>\n",
              "      <th>descMapName</th>\n",
              "      <th></th>\n",
              "      <th></th>\n",
              "      <th></th>\n",
              "      <th></th>\n",
              "      <th></th>\n",
              "      <th></th>\n",
              "      <th></th>\n",
              "      <th></th>\n",
              "    </tr>\n",
              "  </thead>\n",
              "  <tbody>\n",
              "    <tr>\n",
              "      <th>de_ancient</th>\n",
              "      <td>3387.0</td>\n",
              "      <td>0.733093</td>\n",
              "      <td>0.222566</td>\n",
              "      <td>0.000000</td>\n",
              "      <td>0.583333</td>\n",
              "      <td>0.720000</td>\n",
              "      <td>0.870953</td>\n",
              "      <td>1.888889</td>\n",
              "    </tr>\n",
              "    <tr>\n",
              "      <th>de_dust2</th>\n",
              "      <td>18761.0</td>\n",
              "      <td>0.719231</td>\n",
              "      <td>0.225644</td>\n",
              "      <td>0.000000</td>\n",
              "      <td>0.560000</td>\n",
              "      <td>0.703704</td>\n",
              "      <td>0.862069</td>\n",
              "      <td>2.043478</td>\n",
              "    </tr>\n",
              "    <tr>\n",
              "      <th>de_inferno</th>\n",
              "      <td>33851.0</td>\n",
              "      <td>0.707766</td>\n",
              "      <td>0.215367</td>\n",
              "      <td>0.000000</td>\n",
              "      <td>0.560000</td>\n",
              "      <td>0.695652</td>\n",
              "      <td>0.840000</td>\n",
              "      <td>1.791667</td>\n",
              "    </tr>\n",
              "    <tr>\n",
              "      <th>de_mirage</th>\n",
              "      <td>45901.0</td>\n",
              "      <td>0.725325</td>\n",
              "      <td>0.226108</td>\n",
              "      <td>0.000000</td>\n",
              "      <td>0.566667</td>\n",
              "      <td>0.708333</td>\n",
              "      <td>0.866667</td>\n",
              "      <td>2.083333</td>\n",
              "    </tr>\n",
              "    <tr>\n",
              "      <th>de_nuke</th>\n",
              "      <td>11211.0</td>\n",
              "      <td>0.730884</td>\n",
              "      <td>0.219042</td>\n",
              "      <td>0.000000</td>\n",
              "      <td>0.583333</td>\n",
              "      <td>0.720000</td>\n",
              "      <td>0.866667</td>\n",
              "      <td>1.791667</td>\n",
              "    </tr>\n",
              "    <tr>\n",
              "      <th>de_overpass</th>\n",
              "      <td>11156.0</td>\n",
              "      <td>0.729719</td>\n",
              "      <td>0.217298</td>\n",
              "      <td>0.000000</td>\n",
              "      <td>0.576923</td>\n",
              "      <td>0.720000</td>\n",
              "      <td>0.866667</td>\n",
              "      <td>1.833333</td>\n",
              "    </tr>\n",
              "    <tr>\n",
              "      <th>de_train</th>\n",
              "      <td>6168.0</td>\n",
              "      <td>0.725963</td>\n",
              "      <td>0.223969</td>\n",
              "      <td>0.027778</td>\n",
              "      <td>0.571429</td>\n",
              "      <td>0.714286</td>\n",
              "      <td>0.862069</td>\n",
              "      <td>1.750000</td>\n",
              "    </tr>\n",
              "    <tr>\n",
              "      <th>de_vertigo</th>\n",
              "      <td>16006.0</td>\n",
              "      <td>0.734101</td>\n",
              "      <td>0.222927</td>\n",
              "      <td>0.000000</td>\n",
              "      <td>0.576923</td>\n",
              "      <td>0.722222</td>\n",
              "      <td>0.875000</td>\n",
              "      <td>1.827586</td>\n",
              "    </tr>\n",
              "  </tbody>\n",
              "</table>\n",
              "</div>\n",
              "      <button class=\"colab-df-convert\" onclick=\"convertToInteractive('df-fdb16ec8-e4fe-4642-93d5-936525d4ea0f')\"\n",
              "              title=\"Convert this dataframe to an interactive table.\"\n",
              "              style=\"display:none;\">\n",
              "        \n",
              "  <svg xmlns=\"http://www.w3.org/2000/svg\" height=\"24px\"viewBox=\"0 0 24 24\"\n",
              "       width=\"24px\">\n",
              "    <path d=\"M0 0h24v24H0V0z\" fill=\"none\"/>\n",
              "    <path d=\"M18.56 5.44l.94 2.06.94-2.06 2.06-.94-2.06-.94-.94-2.06-.94 2.06-2.06.94zm-11 1L8.5 8.5l.94-2.06 2.06-.94-2.06-.94L8.5 2.5l-.94 2.06-2.06.94zm10 10l.94 2.06.94-2.06 2.06-.94-2.06-.94-.94-2.06-.94 2.06-2.06.94z\"/><path d=\"M17.41 7.96l-1.37-1.37c-.4-.4-.92-.59-1.43-.59-.52 0-1.04.2-1.43.59L10.3 9.45l-7.72 7.72c-.78.78-.78 2.05 0 2.83L4 21.41c.39.39.9.59 1.41.59.51 0 1.02-.2 1.41-.59l7.78-7.78 2.81-2.81c.8-.78.8-2.07 0-2.86zM5.41 20L4 18.59l7.72-7.72 1.47 1.35L5.41 20z\"/>\n",
              "  </svg>\n",
              "      </button>\n",
              "      \n",
              "  <style>\n",
              "    .colab-df-container {\n",
              "      display:flex;\n",
              "      flex-wrap:wrap;\n",
              "      gap: 12px;\n",
              "    }\n",
              "\n",
              "    .colab-df-convert {\n",
              "      background-color: #E8F0FE;\n",
              "      border: none;\n",
              "      border-radius: 50%;\n",
              "      cursor: pointer;\n",
              "      display: none;\n",
              "      fill: #1967D2;\n",
              "      height: 32px;\n",
              "      padding: 0 0 0 0;\n",
              "      width: 32px;\n",
              "    }\n",
              "\n",
              "    .colab-df-convert:hover {\n",
              "      background-color: #E2EBFA;\n",
              "      box-shadow: 0px 1px 2px rgba(60, 64, 67, 0.3), 0px 1px 3px 1px rgba(60, 64, 67, 0.15);\n",
              "      fill: #174EA6;\n",
              "    }\n",
              "\n",
              "    [theme=dark] .colab-df-convert {\n",
              "      background-color: #3B4455;\n",
              "      fill: #D2E3FC;\n",
              "    }\n",
              "\n",
              "    [theme=dark] .colab-df-convert:hover {\n",
              "      background-color: #434B5C;\n",
              "      box-shadow: 0px 1px 3px 1px rgba(0, 0, 0, 0.15);\n",
              "      filter: drop-shadow(0px 1px 2px rgba(0, 0, 0, 0.3));\n",
              "      fill: #FFFFFF;\n",
              "    }\n",
              "  </style>\n",
              "\n",
              "      <script>\n",
              "        const buttonEl =\n",
              "          document.querySelector('#df-fdb16ec8-e4fe-4642-93d5-936525d4ea0f button.colab-df-convert');\n",
              "        buttonEl.style.display =\n",
              "          google.colab.kernel.accessAllowed ? 'block' : 'none';\n",
              "\n",
              "        async function convertToInteractive(key) {\n",
              "          const element = document.querySelector('#df-fdb16ec8-e4fe-4642-93d5-936525d4ea0f');\n",
              "          const dataTable =\n",
              "            await google.colab.kernel.invokeFunction('convertToInteractive',\n",
              "                                                     [key], {});\n",
              "          if (!dataTable) return;\n",
              "\n",
              "          const docLinkHtml = 'Like what you see? Visit the ' +\n",
              "            '<a target=\"_blank\" href=https://colab.research.google.com/notebooks/data_table.ipynb>data table notebook</a>'\n",
              "            + ' to learn more about interactive tables.';\n",
              "          element.innerHTML = '';\n",
              "          dataTable['output_type'] = 'display_data';\n",
              "          await google.colab.output.renderOutput(dataTable, element);\n",
              "          const docLink = document.createElement('div');\n",
              "          docLink.innerHTML = docLinkHtml;\n",
              "          element.appendChild(docLink);\n",
              "        }\n",
              "      </script>\n",
              "    </div>\n",
              "  </div>\n",
              "  "
            ]
          },
          "metadata": {},
          "execution_count": 140
        }
      ],
      "source": [
        "x = df_l.groupby('descMapName')\n",
        "y = x['kpr'].count()\n",
        "x['kpr'].describe()\n",
        "\n",
        "#MEDIA DE KPR POR MAPA"
      ]
    },
    {
      "cell_type": "code",
      "execution_count": null,
      "metadata": {
        "colab": {
          "base_uri": "https://localhost:8080/"
        },
        "id": "1HKADyxZp5gA",
        "outputId": "c82216bb-220b-437c-9913-eceacb677d78"
      },
      "outputs": [
        {
          "output_type": "execute_result",
          "data": {
            "text/plain": [
              "0.02992931984727354"
            ]
          },
          "metadata": {},
          "execution_count": 141
        }
      ],
      "source": [
        "kill = df_l.qtKill.sum() #quantidade de kills do DataBase\n",
        "flash = df_l.qtFlashAssist.sum()\n",
        "\n",
        "flash/kill #porcentagem de kills que tiveram auxilio de flashs\n",
        "#aproximadamente 2% das kills apenas tem assistencia de flashs"
      ]
    },
    {
      "cell_type": "code",
      "execution_count": null,
      "metadata": {
        "colab": {
          "base_uri": "https://localhost:8080/",
          "height": 416
        },
        "id": "jHixfU186lZJ",
        "outputId": "cd0dd16e-eeb5-4b22-dafc-79807ecf4125"
      },
      "outputs": [
        {
          "output_type": "stream",
          "name": "stderr",
          "text": [
            "/usr/local/lib/python3.7/dist-packages/matplotlib/cbook/__init__.py:1376: VisibleDeprecationWarning: Creating an ndarray from ragged nested sequences (which is a list-or-tuple of lists-or-tuples-or ndarrays with different lengths or shapes) is deprecated. If you meant to do this, you must specify 'dtype=object' when creating the ndarray.\n",
            "  X = np.atleast_1d(X.T if isinstance(X, np.ndarray) else np.asarray(X))\n"
          ]
        },
        {
          "output_type": "execute_result",
          "data": {
            "text/plain": [
              "Text(0.5, 1.0, 'Kpr por qualidade de player')"
            ]
          },
          "metadata": {},
          "execution_count": 142
        },
        {
          "output_type": "display_data",
          "data": {
            "text/plain": [
              "<Figure size 432x288 with 1 Axes>"
            ],
            "image/png": "[encoded data removed]"
          },
          "metadata": {
            "needs_background": "light"
          }
        }
      ],
      "source": [
        "killPorQualidade = df_l.boxplot(column='kpr',by=\"playerQuality\", rot =90)\n",
        "killPorQualidade.set_title(\"Kpr por qualidade de player\")"
      ]
    },
    {
      "cell_type": "code",
      "execution_count": null,
      "metadata": {
        "colab": {
          "base_uri": "https://localhost:8080/"
        },
        "id": "AIc9iEpQ1Xzk",
        "outputId": "2b5c047d-c6c3-403b-ec00-d68ce3ed7744"
      },
      "outputs": [
        {
          "output_type": "execute_result",
          "data": {
            "text/plain": [
              "True     73242\n",
              "False    73199\n",
              "Name: flWinner, dtype: int64"
            ]
          },
          "metadata": {},
          "execution_count": 143
        }
      ],
      "source": [
        "win = df_l['flWinner']>0\n",
        "win.value_counts()"
      ]
    },
    {
      "cell_type": "code",
      "execution_count": null,
      "metadata": {
        "id": "vGfRqOEXe8kU"
      },
      "outputs": [],
      "source": [
        "a = df_l[['dpr', 'qtSurvived']]\n",
        "b = df_l[['vlDamage', 'qtKill']]"
      ]
    },
    {
      "cell_type": "code",
      "execution_count": null,
      "metadata": {
        "colab": {
          "base_uri": "https://localhost:8080/",
          "height": 81
        },
        "id": "74Y4Q4yofA80",
        "outputId": "c94d2389-667a-4b37-889b-12d994ec505c"
      },
      "outputs": [
        {
          "output_type": "execute_result",
          "data": {
            "text/plain": [
              "     dpr\n",
              "dpr  1.0"
            ],
            "text/html": [
              "\n",
              "  <div id=\"df-c3834811-bd0d-45b3-ba12-5b40903692f6\">\n",
              "    <div class=\"colab-df-container\">\n",
              "      <div>\n",
              "<style scoped>\n",
              "    .dataframe tbody tr th:only-of-type {\n",
              "        vertical-align: middle;\n",
              "    }\n",
              "\n",
              "    .dataframe tbody tr th {\n",
              "        vertical-align: top;\n",
              "    }\n",
              "\n",
              "    .dataframe thead th {\n",
              "        text-align: right;\n",
              "    }\n",
              "</style>\n",
              "<table border=\"1\" class=\"dataframe\">\n",
              "  <thead>\n",
              "    <tr style=\"text-align: right;\">\n",
              "      <th></th>\n",
              "      <th>dpr</th>\n",
              "    </tr>\n",
              "  </thead>\n",
              "  <tbody>\n",
              "    <tr>\n",
              "      <th>dpr</th>\n",
              "      <td>1.0</td>\n",
              "    </tr>\n",
              "  </tbody>\n",
              "</table>\n",
              "</div>\n",
              "      <button class=\"colab-df-convert\" onclick=\"convertToInteractive('df-c3834811-bd0d-45b3-ba12-5b40903692f6')\"\n",
              "              title=\"Convert this dataframe to an interactive table.\"\n",
              "              style=\"display:none;\">\n",
              "        \n",
              "  <svg xmlns=\"http://www.w3.org/2000/svg\" height=\"24px\"viewBox=\"0 0 24 24\"\n",
              "       width=\"24px\">\n",
              "    <path d=\"M0 0h24v24H0V0z\" fill=\"none\"/>\n",
              "    <path d=\"M18.56 5.44l.94 2.06.94-2.06 2.06-.94-2.06-.94-.94-2.06-.94 2.06-2.06.94zm-11 1L8.5 8.5l.94-2.06 2.06-.94-2.06-.94L8.5 2.5l-.94 2.06-2.06.94zm10 10l.94 2.06.94-2.06 2.06-.94-2.06-.94-.94-2.06-.94 2.06-2.06.94z\"/><path d=\"M17.41 7.96l-1.37-1.37c-.4-.4-.92-.59-1.43-.59-.52 0-1.04.2-1.43.59L10.3 9.45l-7.72 7.72c-.78.78-.78 2.05 0 2.83L4 21.41c.39.39.9.59 1.41.59.51 0 1.02-.2 1.41-.59l7.78-7.78 2.81-2.81c.8-.78.8-2.07 0-2.86zM5.41 20L4 18.59l7.72-7.72 1.47 1.35L5.41 20z\"/>\n",
              "  </svg>\n",
              "      </button>\n",
              "      \n",
              "  <style>\n",
              "    .colab-df-container {\n",
              "      display:flex;\n",
              "      flex-wrap:wrap;\n",
              "      gap: 12px;\n",
              "    }\n",
              "\n",
              "    .colab-df-convert {\n",
              "      background-color: #E8F0FE;\n",
              "      border: none;\n",
              "      border-radius: 50%;\n",
              "      cursor: pointer;\n",
              "      display: none;\n",
              "      fill: #1967D2;\n",
              "      height: 32px;\n",
              "      padding: 0 0 0 0;\n",
              "      width: 32px;\n",
              "    }\n",
              "\n",
              "    .colab-df-convert:hover {\n",
              "      background-color: #E2EBFA;\n",
              "      box-shadow: 0px 1px 2px rgba(60, 64, 67, 0.3), 0px 1px 3px 1px rgba(60, 64, 67, 0.15);\n",
              "      fill: #174EA6;\n",
              "    }\n",
              "\n",
              "    [theme=dark] .colab-df-convert {\n",
              "      background-color: #3B4455;\n",
              "      fill: #D2E3FC;\n",
              "    }\n",
              "\n",
              "    [theme=dark] .colab-df-convert:hover {\n",
              "      background-color: #434B5C;\n",
              "      box-shadow: 0px 1px 3px 1px rgba(0, 0, 0, 0.15);\n",
              "      filter: drop-shadow(0px 1px 2px rgba(0, 0, 0, 0.3));\n",
              "      fill: #FFFFFF;\n",
              "    }\n",
              "  </style>\n",
              "\n",
              "      <script>\n",
              "        const buttonEl =\n",
              "          document.querySelector('#df-c3834811-bd0d-45b3-ba12-5b40903692f6 button.colab-df-convert');\n",
              "        buttonEl.style.display =\n",
              "          google.colab.kernel.accessAllowed ? 'block' : 'none';\n",
              "\n",
              "        async function convertToInteractive(key) {\n",
              "          const element = document.querySelector('#df-c3834811-bd0d-45b3-ba12-5b40903692f6');\n",
              "          const dataTable =\n",
              "            await google.colab.kernel.invokeFunction('convertToInteractive',\n",
              "                                                     [key], {});\n",
              "          if (!dataTable) return;\n",
              "\n",
              "          const docLinkHtml = 'Like what you see? Visit the ' +\n",
              "            '<a target=\"_blank\" href=https://colab.research.google.com/notebooks/data_table.ipynb>data table notebook</a>'\n",
              "            + ' to learn more about interactive tables.';\n",
              "          element.innerHTML = '';\n",
              "          dataTable['output_type'] = 'display_data';\n",
              "          await google.colab.output.renderOutput(dataTable, element);\n",
              "          const docLink = document.createElement('div');\n",
              "          docLink.innerHTML = docLinkHtml;\n",
              "          element.appendChild(docLink);\n",
              "        }\n",
              "      </script>\n",
              "    </div>\n",
              "  </div>\n",
              "  "
            ]
          },
          "metadata": {},
          "execution_count": 145
        }
      ],
      "source": [
        "a.corr()"
      ]
    },
    {
      "cell_type": "code",
      "execution_count": null,
      "metadata": {
        "colab": {
          "base_uri": "https://localhost:8080/",
          "height": 112
        },
        "id": "VVjS6II7fArJ",
        "outputId": "2638c034-ff69-4ef9-e33d-da2f87591efe"
      },
      "outputs": [
        {
          "output_type": "execute_result",
          "data": {
            "text/plain": [
              "          vlDamage    qtKill\n",
              "vlDamage  1.000000  0.948241\n",
              "qtKill    0.948241  1.000000"
            ],
            "text/html": [
              "\n",
              "  <div id=\"df-d83ac1f8-4fd7-4c82-8ad2-31533d947bb3\">\n",
              "    <div class=\"colab-df-container\">\n",
              "      <div>\n",
              "<style scoped>\n",
              "    .dataframe tbody tr th:only-of-type {\n",
              "        vertical-align: middle;\n",
              "    }\n",
              "\n",
              "    .dataframe tbody tr th {\n",
              "        vertical-align: top;\n",
              "    }\n",
              "\n",
              "    .dataframe thead th {\n",
              "        text-align: right;\n",
              "    }\n",
              "</style>\n",
              "<table border=\"1\" class=\"dataframe\">\n",
              "  <thead>\n",
              "    <tr style=\"text-align: right;\">\n",
              "      <th></th>\n",
              "      <th>vlDamage</th>\n",
              "      <th>qtKill</th>\n",
              "    </tr>\n",
              "  </thead>\n",
              "  <tbody>\n",
              "    <tr>\n",
              "      <th>vlDamage</th>\n",
              "      <td>1.000000</td>\n",
              "      <td>0.948241</td>\n",
              "    </tr>\n",
              "    <tr>\n",
              "      <th>qtKill</th>\n",
              "      <td>0.948241</td>\n",
              "      <td>1.000000</td>\n",
              "    </tr>\n",
              "  </tbody>\n",
              "</table>\n",
              "</div>\n",
              "      <button class=\"colab-df-convert\" onclick=\"convertToInteractive('df-d83ac1f8-4fd7-4c82-8ad2-31533d947bb3')\"\n",
              "              title=\"Convert this dataframe to an interactive table.\"\n",
              "              style=\"display:none;\">\n",
              "        \n",
              "  <svg xmlns=\"http://www.w3.org/2000/svg\" height=\"24px\"viewBox=\"0 0 24 24\"\n",
              "       width=\"24px\">\n",
              "    <path d=\"M0 0h24v24H0V0z\" fill=\"none\"/>\n",
              "    <path d=\"M18.56 5.44l.94 2.06.94-2.06 2.06-.94-2.06-.94-.94-2.06-.94 2.06-2.06.94zm-11 1L8.5 8.5l.94-2.06 2.06-.94-2.06-.94L8.5 2.5l-.94 2.06-2.06.94zm10 10l.94 2.06.94-2.06 2.06-.94-2.06-.94-.94-2.06-.94 2.06-2.06.94z\"/><path d=\"M17.41 7.96l-1.37-1.37c-.4-.4-.92-.59-1.43-.59-.52 0-1.04.2-1.43.59L10.3 9.45l-7.72 7.72c-.78.78-.78 2.05 0 2.83L4 21.41c.39.39.9.59 1.41.59.51 0 1.02-.2 1.41-.59l7.78-7.78 2.81-2.81c.8-.78.8-2.07 0-2.86zM5.41 20L4 18.59l7.72-7.72 1.47 1.35L5.41 20z\"/>\n",
              "  </svg>\n",
              "      </button>\n",
              "      \n",
              "  <style>\n",
              "    .colab-df-container {\n",
              "      display:flex;\n",
              "      flex-wrap:wrap;\n",
              "      gap: 12px;\n",
              "    }\n",
              "\n",
              "    .colab-df-convert {\n",
              "      background-color: #E8F0FE;\n",
              "      border: none;\n",
              "      border-radius: 50%;\n",
              "      cursor: pointer;\n",
              "      display: none;\n",
              "      fill: #1967D2;\n",
              "      height: 32px;\n",
              "      padding: 0 0 0 0;\n",
              "      width: 32px;\n",
              "    }\n",
              "\n",
              "    .colab-df-convert:hover {\n",
              "      background-color: #E2EBFA;\n",
              "      box-shadow: 0px 1px 2px rgba(60, 64, 67, 0.3), 0px 1px 3px 1px rgba(60, 64, 67, 0.15);\n",
              "      fill: #174EA6;\n",
              "    }\n",
              "\n",
              "    [theme=dark] .colab-df-convert {\n",
              "      background-color: #3B4455;\n",
              "      fill: #D2E3FC;\n",
              "    }\n",
              "\n",
              "    [theme=dark] .colab-df-convert:hover {\n",
              "      background-color: #434B5C;\n",
              "      box-shadow: 0px 1px 3px 1px rgba(0, 0, 0, 0.15);\n",
              "      filter: drop-shadow(0px 1px 2px rgba(0, 0, 0, 0.3));\n",
              "      fill: #FFFFFF;\n",
              "    }\n",
              "  </style>\n",
              "\n",
              "      <script>\n",
              "        const buttonEl =\n",
              "          document.querySelector('#df-d83ac1f8-4fd7-4c82-8ad2-31533d947bb3 button.colab-df-convert');\n",
              "        buttonEl.style.display =\n",
              "          google.colab.kernel.accessAllowed ? 'block' : 'none';\n",
              "\n",
              "        async function convertToInteractive(key) {\n",
              "          const element = document.querySelector('#df-d83ac1f8-4fd7-4c82-8ad2-31533d947bb3');\n",
              "          const dataTable =\n",
              "            await google.colab.kernel.invokeFunction('convertToInteractive',\n",
              "                                                     [key], {});\n",
              "          if (!dataTable) return;\n",
              "\n",
              "          const docLinkHtml = 'Like what you see? Visit the ' +\n",
              "            '<a target=\"_blank\" href=https://colab.research.google.com/notebooks/data_table.ipynb>data table notebook</a>'\n",
              "            + ' to learn more about interactive tables.';\n",
              "          element.innerHTML = '';\n",
              "          dataTable['output_type'] = 'display_data';\n",
              "          await google.colab.output.renderOutput(dataTable, element);\n",
              "          const docLink = document.createElement('div');\n",
              "          docLink.innerHTML = docLinkHtml;\n",
              "          element.appendChild(docLink);\n",
              "        }\n",
              "      </script>\n",
              "    </div>\n",
              "  </div>\n",
              "  "
            ]
          },
          "metadata": {},
          "execution_count": 146
        }
      ],
      "source": [
        "b.corr()"
      ]
    },
    {
      "cell_type": "code",
      "execution_count": null,
      "metadata": {
        "colab": {
          "base_uri": "https://localhost:8080/"
        },
        "id": "jlbQDKW6f6cJ",
        "outputId": "2a2edc62-9ce8-4492-833a-afab97aa61b4"
      },
      "outputs": [
        {
          "output_type": "execute_result",
          "data": {
            "text/plain": [
              "count    146441.000000\n",
              "mean          8.148005\n",
              "std           4.008621\n",
              "min           0.000000\n",
              "25%           5.000000\n",
              "50%           8.000000\n",
              "75%          10.000000\n",
              "max          41.000000\n",
              "Name: qtHs, dtype: float64"
            ]
          },
          "metadata": {},
          "execution_count": 147
        }
      ],
      "source": [
        "df_l['qtHs'].describe()"
      ]
    },
    {
      "cell_type": "code",
      "execution_count": null,
      "metadata": {
        "id": "vjhmUBDEgPTS"
      },
      "outputs": [],
      "source": [
        "# Calcular %hs\n",
        "def phs(qtHs, kills):\n",
        "  phs = qtHs/kills #quanto mais alto melhor\n",
        "  return phs"
      ]
    },
    {
      "cell_type": "code",
      "execution_count": null,
      "metadata": {
        "id": "8fLoT7gmgeT7"
      },
      "outputs": [],
      "source": [
        "df_l.insert((df_l.shape[1]),\"phs\",phs(df_l['qtHs'], df_l['qtKill']),True)#Percentual de kills por hs (headshot)"
      ]
    },
    {
      "cell_type": "code",
      "execution_count": null,
      "metadata": {
        "colab": {
          "base_uri": "https://localhost:8080/"
        },
        "id": "kKmjhqyYg1dX",
        "outputId": "e2c226b0-835c-44c6-ea59-9d1fe7021d7b"
      },
      "outputs": [
        {
          "output_type": "execute_result",
          "data": {
            "text/plain": [
              "count    1.463920e+05\n",
              "mean              inf\n",
              "std               NaN\n",
              "min      0.000000e+00\n",
              "25%      3.000000e-01\n",
              "50%      3.913043e-01\n",
              "75%      5.000000e-01\n",
              "max               inf\n",
              "Name: phs, dtype: float64"
            ]
          },
          "metadata": {},
          "execution_count": 150
        }
      ],
      "source": [
        "df_l['phs'].describe()"
      ]
    },
    {
      "cell_type": "code",
      "execution_count": null,
      "metadata": {
        "colab": {
          "base_uri": "https://localhost:8080/"
        },
        "id": "Sf23g7PuHxFV",
        "outputId": "1a98f84b-15bb-4199-c42b-6637eac02571"
      },
      "outputs": [
        {
          "output_type": "execute_result",
          "data": {
            "text/plain": [
              "count    2.966000e+04\n",
              "mean              inf\n",
              "std               NaN\n",
              "min      5.087719e-01\n",
              "25%      5.416667e-01\n",
              "50%      5.789474e-01\n",
              "75%      6.363636e-01\n",
              "max               inf\n",
              "Name: phs, dtype: float64"
            ]
          },
          "metadata": {},
          "execution_count": 151
        }
      ],
      "source": [
        "phs = df_l[df_l['phs']> 0.5]\n",
        "phs['phs'].describe()"
      ]
    },
    {
      "cell_type": "code",
      "execution_count": null,
      "metadata": {
        "colab": {
          "base_uri": "https://localhost:8080/"
        },
        "id": "Y0f86I2ukJ05",
        "outputId": "d8a8f346-e90f-401f-cc94-e38c79e0b0a7"
      },
      "outputs": [
        {
          "output_type": "stream",
          "name": "stdout",
          "text": [
            "<class 'pandas.core.frame.DataFrame'>\n",
            "Int64Index: 146441 entries, 1 to 184150\n",
            "Data columns (total 31 columns):\n",
            " #   Column          Non-Null Count   Dtype  \n",
            "---  ------          --------------   -----  \n",
            " 0   idLobbyGame     146441 non-null  int64  \n",
            " 1   idPlayer        146441 non-null  int64  \n",
            " 2   idRoom          146441 non-null  int64  \n",
            " 3   qtKill          146441 non-null  int64  \n",
            " 4   qtAssist        146441 non-null  int64  \n",
            " 5   qtDeath         146441 non-null  int64  \n",
            " 6   qtHs            146441 non-null  int64  \n",
            " 7   qtBombeDefuse   146441 non-null  int64  \n",
            " 8   qtBombePlant    146441 non-null  int64  \n",
            " 9   qt1Kill         146441 non-null  int64  \n",
            " 10  qt2Kill         146441 non-null  int64  \n",
            " 11  qt3Kill         146441 non-null  int64  \n",
            " 12  qt4Kill         146441 non-null  int64  \n",
            " 13  qt5Kill         146441 non-null  int64  \n",
            " 14  qtFirstKill     146441 non-null  int64  \n",
            " 15  vlDamage        146441 non-null  int64  \n",
            " 16  qtHits          146441 non-null  float64\n",
            " 17  qtLastAlive     146441 non-null  float64\n",
            " 18  qtClutchWon     146441 non-null  int64  \n",
            " 19  qtRoundsPlayed  146441 non-null  int64  \n",
            " 20  descMapName     146441 non-null  object \n",
            " 21  vlLevel         146441 non-null  int64  \n",
            " 22  qtSurvived      146441 non-null  object \n",
            " 23  qtTrade         146441 non-null  float64\n",
            " 24  qtFlashAssist   146441 non-null  float64\n",
            " 25  flWinner        146441 non-null  int64  \n",
            " 26  kpr             146441 non-null  float64\n",
            " 27  dpr             146441 non-null  float64\n",
            " 28  pps             146441 non-null  float64\n",
            " 29  playerQuality   146441 non-null  object \n",
            " 30  phs             146392 non-null  float64\n",
            "dtypes: float64(8), int64(20), object(3)\n",
            "memory usage: 39.8+ MB\n"
          ]
        }
      ],
      "source": [
        "#para se colocar alguma afirmação deve saber pela quantidade de rounds jogados? Podemos considerar que a partir de uma quantidade minima de rounds para entrar no calculo? partidas muito longas podem ser retiradas?\n",
        "df_l.info()"
      ]
    },
    {
      "cell_type": "code",
      "execution_count": null,
      "metadata": {
        "id": "2R9vQL6LkVT1"
      },
      "outputs": [],
      "source": [
        "#regras de associação\n",
        "#kpr < 0.5 - ruim, Kpr>=0.5 < 1.0 - regular, 1-1.3 bom; 1.3-1.5 - muito bom; 1.5 - excelente\n",
        "bins = [0, 0.5, 1, 1.3, 1.5, np.inf]\n",
        "names = ['Ruim', 'Regular', 'Bom', 'Muito Bom', 'Excelente']\n",
        "df_l['kpr_categoric'] = pd.cut(df_l['kpr'], bins, labels=names)"
      ]
    },
    {
      "cell_type": "code",
      "execution_count": null,
      "metadata": {
        "colab": {
          "base_uri": "https://localhost:8080/",
          "height": 424
        },
        "id": "9SZCxQcMTSXN",
        "outputId": "e4f13fdd-8037-49be-8041-760e85a4d91b"
      },
      "outputs": [
        {
          "output_type": "execute_result",
          "data": {
            "text/plain": [
              "             kpr kpr_categoric\n",
              "37      1.333333     Muito Bom\n",
              "251     1.400000     Muito Bom\n",
              "271     1.586207     Excelente\n",
              "352     1.333333     Muito Bom\n",
              "387     1.333333     Muito Bom\n",
              "...          ...           ...\n",
              "182858  1.333333     Muito Bom\n",
              "183675  1.360000     Muito Bom\n",
              "183690  1.392857     Muito Bom\n",
              "183737  1.379310     Muito Bom\n",
              "184110  1.360000     Muito Bom\n",
              "\n",
              "[1547 rows x 2 columns]"
            ],
            "text/html": [
              "\n",
              "  <div id=\"df-d4faadbd-5988-44b2-bc10-4e3cfa269012\">\n",
              "    <div class=\"colab-df-container\">\n",
              "      <div>\n",
              "<style scoped>\n",
              "    .dataframe tbody tr th:only-of-type {\n",
              "        vertical-align: middle;\n",
              "    }\n",
              "\n",
              "    .dataframe tbody tr th {\n",
              "        vertical-align: top;\n",
              "    }\n",
              "\n",
              "    .dataframe thead th {\n",
              "        text-align: right;\n",
              "    }\n",
              "</style>\n",
              "<table border=\"1\" class=\"dataframe\">\n",
              "  <thead>\n",
              "    <tr style=\"text-align: right;\">\n",
              "      <th></th>\n",
              "      <th>kpr</th>\n",
              "      <th>kpr_categoric</th>\n",
              "    </tr>\n",
              "  </thead>\n",
              "  <tbody>\n",
              "    <tr>\n",
              "      <th>37</th>\n",
              "      <td>1.333333</td>\n",
              "      <td>Muito Bom</td>\n",
              "    </tr>\n",
              "    <tr>\n",
              "      <th>251</th>\n",
              "      <td>1.400000</td>\n",
              "      <td>Muito Bom</td>\n",
              "    </tr>\n",
              "    <tr>\n",
              "      <th>271</th>\n",
              "      <td>1.586207</td>\n",
              "      <td>Excelente</td>\n",
              "    </tr>\n",
              "    <tr>\n",
              "      <th>352</th>\n",
              "      <td>1.333333</td>\n",
              "      <td>Muito Bom</td>\n",
              "    </tr>\n",
              "    <tr>\n",
              "      <th>387</th>\n",
              "      <td>1.333333</td>\n",
              "      <td>Muito Bom</td>\n",
              "    </tr>\n",
              "    <tr>\n",
              "      <th>...</th>\n",
              "      <td>...</td>\n",
              "      <td>...</td>\n",
              "    </tr>\n",
              "    <tr>\n",
              "      <th>182858</th>\n",
              "      <td>1.333333</td>\n",
              "      <td>Muito Bom</td>\n",
              "    </tr>\n",
              "    <tr>\n",
              "      <th>183675</th>\n",
              "      <td>1.360000</td>\n",
              "      <td>Muito Bom</td>\n",
              "    </tr>\n",
              "    <tr>\n",
              "      <th>183690</th>\n",
              "      <td>1.392857</td>\n",
              "      <td>Muito Bom</td>\n",
              "    </tr>\n",
              "    <tr>\n",
              "      <th>183737</th>\n",
              "      <td>1.379310</td>\n",
              "      <td>Muito Bom</td>\n",
              "    </tr>\n",
              "    <tr>\n",
              "      <th>184110</th>\n",
              "      <td>1.360000</td>\n",
              "      <td>Muito Bom</td>\n",
              "    </tr>\n",
              "  </tbody>\n",
              "</table>\n",
              "<p>1547 rows × 2 columns</p>\n",
              "</div>\n",
              "      <button class=\"colab-df-convert\" onclick=\"convertToInteractive('df-d4faadbd-5988-44b2-bc10-4e3cfa269012')\"\n",
              "              title=\"Convert this dataframe to an interactive table.\"\n",
              "              style=\"display:none;\">\n",
              "        \n",
              "  <svg xmlns=\"http://www.w3.org/2000/svg\" height=\"24px\"viewBox=\"0 0 24 24\"\n",
              "       width=\"24px\">\n",
              "    <path d=\"M0 0h24v24H0V0z\" fill=\"none\"/>\n",
              "    <path d=\"M18.56 5.44l.94 2.06.94-2.06 2.06-.94-2.06-.94-.94-2.06-.94 2.06-2.06.94zm-11 1L8.5 8.5l.94-2.06 2.06-.94-2.06-.94L8.5 2.5l-.94 2.06-2.06.94zm10 10l.94 2.06.94-2.06 2.06-.94-2.06-.94-.94-2.06-.94 2.06-2.06.94z\"/><path d=\"M17.41 7.96l-1.37-1.37c-.4-.4-.92-.59-1.43-.59-.52 0-1.04.2-1.43.59L10.3 9.45l-7.72 7.72c-.78.78-.78 2.05 0 2.83L4 21.41c.39.39.9.59 1.41.59.51 0 1.02-.2 1.41-.59l7.78-7.78 2.81-2.81c.8-.78.8-2.07 0-2.86zM5.41 20L4 18.59l7.72-7.72 1.47 1.35L5.41 20z\"/>\n",
              "  </svg>\n",
              "      </button>\n",
              "      \n",
              "  <style>\n",
              "    .colab-df-container {\n",
              "      display:flex;\n",
              "      flex-wrap:wrap;\n",
              "      gap: 12px;\n",
              "    }\n",
              "\n",
              "    .colab-df-convert {\n",
              "      background-color: #E8F0FE;\n",
              "      border: none;\n",
              "      border-radius: 50%;\n",
              "      cursor: pointer;\n",
              "      display: none;\n",
              "      fill: #1967D2;\n",
              "      height: 32px;\n",
              "      padding: 0 0 0 0;\n",
              "      width: 32px;\n",
              "    }\n",
              "\n",
              "    .colab-df-convert:hover {\n",
              "      background-color: #E2EBFA;\n",
              "      box-shadow: 0px 1px 2px rgba(60, 64, 67, 0.3), 0px 1px 3px 1px rgba(60, 64, 67, 0.15);\n",
              "      fill: #174EA6;\n",
              "    }\n",
              "\n",
              "    [theme=dark] .colab-df-convert {\n",
              "      background-color: #3B4455;\n",
              "      fill: #D2E3FC;\n",
              "    }\n",
              "\n",
              "    [theme=dark] .colab-df-convert:hover {\n",
              "      background-color: #434B5C;\n",
              "      box-shadow: 0px 1px 3px 1px rgba(0, 0, 0, 0.15);\n",
              "      filter: drop-shadow(0px 1px 2px rgba(0, 0, 0, 0.3));\n",
              "      fill: #FFFFFF;\n",
              "    }\n",
              "  </style>\n",
              "\n",
              "      <script>\n",
              "        const buttonEl =\n",
              "          document.querySelector('#df-d4faadbd-5988-44b2-bc10-4e3cfa269012 button.colab-df-convert');\n",
              "        buttonEl.style.display =\n",
              "          google.colab.kernel.accessAllowed ? 'block' : 'none';\n",
              "\n",
              "        async function convertToInteractive(key) {\n",
              "          const element = document.querySelector('#df-d4faadbd-5988-44b2-bc10-4e3cfa269012');\n",
              "          const dataTable =\n",
              "            await google.colab.kernel.invokeFunction('convertToInteractive',\n",
              "                                                     [key], {});\n",
              "          if (!dataTable) return;\n",
              "\n",
              "          const docLinkHtml = 'Like what you see? Visit the ' +\n",
              "            '<a target=\"_blank\" href=https://colab.research.google.com/notebooks/data_table.ipynb>data table notebook</a>'\n",
              "            + ' to learn more about interactive tables.';\n",
              "          element.innerHTML = '';\n",
              "          dataTable['output_type'] = 'display_data';\n",
              "          await google.colab.output.renderOutput(dataTable, element);\n",
              "          const docLink = document.createElement('div');\n",
              "          docLink.innerHTML = docLinkHtml;\n",
              "          element.appendChild(docLink);\n",
              "        }\n",
              "      </script>\n",
              "    </div>\n",
              "  </div>\n",
              "  "
            ]
          },
          "metadata": {},
          "execution_count": 154
        }
      ],
      "source": [
        "filter = df_l[df_l['kpr']>1.3]\n",
        "#filter\n",
        "filter[['kpr','kpr_categoric']]"
      ]
    },
    {
      "cell_type": "code",
      "execution_count": null,
      "metadata": {
        "id": "EUrjJ_iRUhz5"
      },
      "outputs": [],
      "source": [
        "#dpr 0:0.2 - Excelente, 0.2:0.4 - Muito bom, 0.4:0.6 - Bom; 0.6:0.8 - Regular; 0.8 - Ruim\n",
        "bins = [0, 0.2, 0.4, 0.6, 0.8, np.inf]\n",
        "names = ['Excelente', 'Muito Bom', 'Bom', 'Regular', 'Ruim']\n",
        "df_l['dpr_categoric'] = pd.cut(df_l['dpr'], bins, labels=names)"
      ]
    },
    {
      "cell_type": "code",
      "execution_count": null,
      "metadata": {
        "colab": {
          "base_uri": "https://localhost:8080/",
          "height": 424
        },
        "id": "zMV6a5WaVaV8",
        "outputId": "a7f824dd-4ff8-4bac-e5e5-35ff0ee5105e"
      },
      "outputs": [
        {
          "output_type": "execute_result",
          "data": {
            "text/plain": [
              "             dpr dpr_categoric\n",
              "1448    0.275862     Muito Bom\n",
              "3056    0.142857     Excelente\n",
              "7272    0.260870     Muito Bom\n",
              "7497    0.148148     Excelente\n",
              "7588    0.296296     Muito Bom\n",
              "...          ...           ...\n",
              "181915  0.076923     Excelente\n",
              "182026  0.260870     Muito Bom\n",
              "182925  0.173913     Excelente\n",
              "183492  0.233333     Muito Bom\n",
              "184106  0.035714     Excelente\n",
              "\n",
              "[221 rows x 2 columns]"
            ],
            "text/html": [
              "\n",
              "  <div id=\"df-a77e690b-f3e1-4a8b-8c50-61a8d661f0e2\">\n",
              "    <div class=\"colab-df-container\">\n",
              "      <div>\n",
              "<style scoped>\n",
              "    .dataframe tbody tr th:only-of-type {\n",
              "        vertical-align: middle;\n",
              "    }\n",
              "\n",
              "    .dataframe tbody tr th {\n",
              "        vertical-align: top;\n",
              "    }\n",
              "\n",
              "    .dataframe thead th {\n",
              "        text-align: right;\n",
              "    }\n",
              "</style>\n",
              "<table border=\"1\" class=\"dataframe\">\n",
              "  <thead>\n",
              "    <tr style=\"text-align: right;\">\n",
              "      <th></th>\n",
              "      <th>dpr</th>\n",
              "      <th>dpr_categoric</th>\n",
              "    </tr>\n",
              "  </thead>\n",
              "  <tbody>\n",
              "    <tr>\n",
              "      <th>1448</th>\n",
              "      <td>0.275862</td>\n",
              "      <td>Muito Bom</td>\n",
              "    </tr>\n",
              "    <tr>\n",
              "      <th>3056</th>\n",
              "      <td>0.142857</td>\n",
              "      <td>Excelente</td>\n",
              "    </tr>\n",
              "    <tr>\n",
              "      <th>7272</th>\n",
              "      <td>0.260870</td>\n",
              "      <td>Muito Bom</td>\n",
              "    </tr>\n",
              "    <tr>\n",
              "      <th>7497</th>\n",
              "      <td>0.148148</td>\n",
              "      <td>Excelente</td>\n",
              "    </tr>\n",
              "    <tr>\n",
              "      <th>7588</th>\n",
              "      <td>0.296296</td>\n",
              "      <td>Muito Bom</td>\n",
              "    </tr>\n",
              "    <tr>\n",
              "      <th>...</th>\n",
              "      <td>...</td>\n",
              "      <td>...</td>\n",
              "    </tr>\n",
              "    <tr>\n",
              "      <th>181915</th>\n",
              "      <td>0.076923</td>\n",
              "      <td>Excelente</td>\n",
              "    </tr>\n",
              "    <tr>\n",
              "      <th>182026</th>\n",
              "      <td>0.260870</td>\n",
              "      <td>Muito Bom</td>\n",
              "    </tr>\n",
              "    <tr>\n",
              "      <th>182925</th>\n",
              "      <td>0.173913</td>\n",
              "      <td>Excelente</td>\n",
              "    </tr>\n",
              "    <tr>\n",
              "      <th>183492</th>\n",
              "      <td>0.233333</td>\n",
              "      <td>Muito Bom</td>\n",
              "    </tr>\n",
              "    <tr>\n",
              "      <th>184106</th>\n",
              "      <td>0.035714</td>\n",
              "      <td>Excelente</td>\n",
              "    </tr>\n",
              "  </tbody>\n",
              "</table>\n",
              "<p>221 rows × 2 columns</p>\n",
              "</div>\n",
              "      <button class=\"colab-df-convert\" onclick=\"convertToInteractive('df-a77e690b-f3e1-4a8b-8c50-61a8d661f0e2')\"\n",
              "              title=\"Convert this dataframe to an interactive table.\"\n",
              "              style=\"display:none;\">\n",
              "        \n",
              "  <svg xmlns=\"http://www.w3.org/2000/svg\" height=\"24px\"viewBox=\"0 0 24 24\"\n",
              "       width=\"24px\">\n",
              "    <path d=\"M0 0h24v24H0V0z\" fill=\"none\"/>\n",
              "    <path d=\"M18.56 5.44l.94 2.06.94-2.06 2.06-.94-2.06-.94-.94-2.06-.94 2.06-2.06.94zm-11 1L8.5 8.5l.94-2.06 2.06-.94-2.06-.94L8.5 2.5l-.94 2.06-2.06.94zm10 10l.94 2.06.94-2.06 2.06-.94-2.06-.94-.94-2.06-.94 2.06-2.06.94z\"/><path d=\"M17.41 7.96l-1.37-1.37c-.4-.4-.92-.59-1.43-.59-.52 0-1.04.2-1.43.59L10.3 9.45l-7.72 7.72c-.78.78-.78 2.05 0 2.83L4 21.41c.39.39.9.59 1.41.59.51 0 1.02-.2 1.41-.59l7.78-7.78 2.81-2.81c.8-.78.8-2.07 0-2.86zM5.41 20L4 18.59l7.72-7.72 1.47 1.35L5.41 20z\"/>\n",
              "  </svg>\n",
              "      </button>\n",
              "      \n",
              "  <style>\n",
              "    .colab-df-container {\n",
              "      display:flex;\n",
              "      flex-wrap:wrap;\n",
              "      gap: 12px;\n",
              "    }\n",
              "\n",
              "    .colab-df-convert {\n",
              "      background-color: #E8F0FE;\n",
              "      border: none;\n",
              "      border-radius: 50%;\n",
              "      cursor: pointer;\n",
              "      display: none;\n",
              "      fill: #1967D2;\n",
              "      height: 32px;\n",
              "      padding: 0 0 0 0;\n",
              "      width: 32px;\n",
              "    }\n",
              "\n",
              "    .colab-df-convert:hover {\n",
              "      background-color: #E2EBFA;\n",
              "      box-shadow: 0px 1px 2px rgba(60, 64, 67, 0.3), 0px 1px 3px 1px rgba(60, 64, 67, 0.15);\n",
              "      fill: #174EA6;\n",
              "    }\n",
              "\n",
              "    [theme=dark] .colab-df-convert {\n",
              "      background-color: #3B4455;\n",
              "      fill: #D2E3FC;\n",
              "    }\n",
              "\n",
              "    [theme=dark] .colab-df-convert:hover {\n",
              "      background-color: #434B5C;\n",
              "      box-shadow: 0px 1px 3px 1px rgba(0, 0, 0, 0.15);\n",
              "      filter: drop-shadow(0px 1px 2px rgba(0, 0, 0, 0.3));\n",
              "      fill: #FFFFFF;\n",
              "    }\n",
              "  </style>\n",
              "\n",
              "      <script>\n",
              "        const buttonEl =\n",
              "          document.querySelector('#df-a77e690b-f3e1-4a8b-8c50-61a8d661f0e2 button.colab-df-convert');\n",
              "        buttonEl.style.display =\n",
              "          google.colab.kernel.accessAllowed ? 'block' : 'none';\n",
              "\n",
              "        async function convertToInteractive(key) {\n",
              "          const element = document.querySelector('#df-a77e690b-f3e1-4a8b-8c50-61a8d661f0e2');\n",
              "          const dataTable =\n",
              "            await google.colab.kernel.invokeFunction('convertToInteractive',\n",
              "                                                     [key], {});\n",
              "          if (!dataTable) return;\n",
              "\n",
              "          const docLinkHtml = 'Like what you see? Visit the ' +\n",
              "            '<a target=\"_blank\" href=https://colab.research.google.com/notebooks/data_table.ipynb>data table notebook</a>'\n",
              "            + ' to learn more about interactive tables.';\n",
              "          element.innerHTML = '';\n",
              "          dataTable['output_type'] = 'display_data';\n",
              "          await google.colab.output.renderOutput(dataTable, element);\n",
              "          const docLink = document.createElement('div');\n",
              "          docLink.innerHTML = docLinkHtml;\n",
              "          element.appendChild(docLink);\n",
              "        }\n",
              "      </script>\n",
              "    </div>\n",
              "  </div>\n",
              "  "
            ]
          },
          "metadata": {},
          "execution_count": 156
        }
      ],
      "source": [
        "filter = df_l[df_l['dpr']<=0.3]\n",
        "#filter\n",
        "filter[['dpr','dpr_categoric']]"
      ]
    },
    {
      "cell_type": "code",
      "source": [
        "Var_Corr = df_l.corr()\n",
        "matrix = np.triu(df_l.corr())\n",
        "\n",
        "plt.figure(figsize = (20,7))\n",
        "sns.heatmap(Var_Corr, xticklabels=Var_Corr.columns, yticklabels=Var_Corr.columns,\\\n",
        "            annot=True,center= 0, cmap= 'coolwarm',mask=matrix)"
      ],
      "metadata": {
        "colab": {
          "base_uri": "https://localhost:8080/",
          "height": 516
        },
        "id": "kEoCdaYWntTi",
        "outputId": "84ab3b60-21e7-481e-e18e-330fff8d65c6"
      },
      "execution_count": null,
      "outputs": [
        {
          "output_type": "execute_result",
          "data": {
            "text/plain": [
              "<matplotlib.axes._subplots.AxesSubplot at 0x7f4e26087490>"
            ]
          },
          "metadata": {},
          "execution_count": 157
        },
        {
          "output_type": "display_data",
          "data": {
            "text/plain": [
              "<Figure size 1440x504 with 2 Axes>"
            ],
            "image/png": "[encoded data removed]"
          },
          "metadata": {
            "needs_background": "light"
          }
        }
      ]
    },
    {
      "cell_type": "code",
      "execution_count": null,
      "metadata": {
        "colab": {
          "base_uri": "https://localhost:8080/",
          "height": 206
        },
        "id": "0EbW1FmEWq6W",
        "outputId": "481743dd-458b-4f97-cba2-a4dfcd3a5a9d"
      },
      "outputs": [
        {
          "output_type": "execute_result",
          "data": {
            "text/plain": [
              "   kpr_categoric dpr_categoric playerQuality descMapName  flWinner\n",
              "1        Regular       Regular       Regular     de_nuke         1\n",
              "2           Ruim          Ruim          Ruim   de_mirage         0\n",
              "3           Ruim       Regular       Regular   de_mirage         1\n",
              "4           Ruim          Ruim       Regular     de_nuke         0\n",
              "11       Regular       Regular          Ruim   de_mirage         0"
            ],
            "text/html": [
              "\n",
              "  <div id=\"df-39ab4284-764c-4c15-a498-48fa9a225f13\">\n",
              "    <div class=\"colab-df-container\">\n",
              "      <div>\n",
              "<style scoped>\n",
              "    .dataframe tbody tr th:only-of-type {\n",
              "        vertical-align: middle;\n",
              "    }\n",
              "\n",
              "    .dataframe tbody tr th {\n",
              "        vertical-align: top;\n",
              "    }\n",
              "\n",
              "    .dataframe thead th {\n",
              "        text-align: right;\n",
              "    }\n",
              "</style>\n",
              "<table border=\"1\" class=\"dataframe\">\n",
              "  <thead>\n",
              "    <tr style=\"text-align: right;\">\n",
              "      <th></th>\n",
              "      <th>kpr_categoric</th>\n",
              "      <th>dpr_categoric</th>\n",
              "      <th>playerQuality</th>\n",
              "      <th>descMapName</th>\n",
              "      <th>flWinner</th>\n",
              "    </tr>\n",
              "  </thead>\n",
              "  <tbody>\n",
              "    <tr>\n",
              "      <th>1</th>\n",
              "      <td>Regular</td>\n",
              "      <td>Regular</td>\n",
              "      <td>Regular</td>\n",
              "      <td>de_nuke</td>\n",
              "      <td>1</td>\n",
              "    </tr>\n",
              "    <tr>\n",
              "      <th>2</th>\n",
              "      <td>Ruim</td>\n",
              "      <td>Ruim</td>\n",
              "      <td>Ruim</td>\n",
              "      <td>de_mirage</td>\n",
              "      <td>0</td>\n",
              "    </tr>\n",
              "    <tr>\n",
              "      <th>3</th>\n",
              "      <td>Ruim</td>\n",
              "      <td>Regular</td>\n",
              "      <td>Regular</td>\n",
              "      <td>de_mirage</td>\n",
              "      <td>1</td>\n",
              "    </tr>\n",
              "    <tr>\n",
              "      <th>4</th>\n",
              "      <td>Ruim</td>\n",
              "      <td>Ruim</td>\n",
              "      <td>Regular</td>\n",
              "      <td>de_nuke</td>\n",
              "      <td>0</td>\n",
              "    </tr>\n",
              "    <tr>\n",
              "      <th>11</th>\n",
              "      <td>Regular</td>\n",
              "      <td>Regular</td>\n",
              "      <td>Ruim</td>\n",
              "      <td>de_mirage</td>\n",
              "      <td>0</td>\n",
              "    </tr>\n",
              "  </tbody>\n",
              "</table>\n",
              "</div>\n",
              "      <button class=\"colab-df-convert\" onclick=\"convertToInteractive('df-39ab4284-764c-4c15-a498-48fa9a225f13')\"\n",
              "              title=\"Convert this dataframe to an interactive table.\"\n",
              "              style=\"display:none;\">\n",
              "        \n",
              "  <svg xmlns=\"http://www.w3.org/2000/svg\" height=\"24px\"viewBox=\"0 0 24 24\"\n",
              "       width=\"24px\">\n",
              "    <path d=\"M0 0h24v24H0V0z\" fill=\"none\"/>\n",
              "    <path d=\"M18.56 5.44l.94 2.06.94-2.06 2.06-.94-2.06-.94-.94-2.06-.94 2.06-2.06.94zm-11 1L8.5 8.5l.94-2.06 2.06-.94-2.06-.94L8.5 2.5l-.94 2.06-2.06.94zm10 10l.94 2.06.94-2.06 2.06-.94-2.06-.94-.94-2.06-.94 2.06-2.06.94z\"/><path d=\"M17.41 7.96l-1.37-1.37c-.4-.4-.92-.59-1.43-.59-.52 0-1.04.2-1.43.59L10.3 9.45l-7.72 7.72c-.78.78-.78 2.05 0 2.83L4 21.41c.39.39.9.59 1.41.59.51 0 1.02-.2 1.41-.59l7.78-7.78 2.81-2.81c.8-.78.8-2.07 0-2.86zM5.41 20L4 18.59l7.72-7.72 1.47 1.35L5.41 20z\"/>\n",
              "  </svg>\n",
              "      </button>\n",
              "      \n",
              "  <style>\n",
              "    .colab-df-container {\n",
              "      display:flex;\n",
              "      flex-wrap:wrap;\n",
              "      gap: 12px;\n",
              "    }\n",
              "\n",
              "    .colab-df-convert {\n",
              "      background-color: #E8F0FE;\n",
              "      border: none;\n",
              "      border-radius: 50%;\n",
              "      cursor: pointer;\n",
              "      display: none;\n",
              "      fill: #1967D2;\n",
              "      height: 32px;\n",
              "      padding: 0 0 0 0;\n",
              "      width: 32px;\n",
              "    }\n",
              "\n",
              "    .colab-df-convert:hover {\n",
              "      background-color: #E2EBFA;\n",
              "      box-shadow: 0px 1px 2px rgba(60, 64, 67, 0.3), 0px 1px 3px 1px rgba(60, 64, 67, 0.15);\n",
              "      fill: #174EA6;\n",
              "    }\n",
              "\n",
              "    [theme=dark] .colab-df-convert {\n",
              "      background-color: #3B4455;\n",
              "      fill: #D2E3FC;\n",
              "    }\n",
              "\n",
              "    [theme=dark] .colab-df-convert:hover {\n",
              "      background-color: #434B5C;\n",
              "      box-shadow: 0px 1px 3px 1px rgba(0, 0, 0, 0.15);\n",
              "      filter: drop-shadow(0px 1px 2px rgba(0, 0, 0, 0.3));\n",
              "      fill: #FFFFFF;\n",
              "    }\n",
              "  </style>\n",
              "\n",
              "      <script>\n",
              "        const buttonEl =\n",
              "          document.querySelector('#df-39ab4284-764c-4c15-a498-48fa9a225f13 button.colab-df-convert');\n",
              "        buttonEl.style.display =\n",
              "          google.colab.kernel.accessAllowed ? 'block' : 'none';\n",
              "\n",
              "        async function convertToInteractive(key) {\n",
              "          const element = document.querySelector('#df-39ab4284-764c-4c15-a498-48fa9a225f13');\n",
              "          const dataTable =\n",
              "            await google.colab.kernel.invokeFunction('convertToInteractive',\n",
              "                                                     [key], {});\n",
              "          if (!dataTable) return;\n",
              "\n",
              "          const docLinkHtml = 'Like what you see? Visit the ' +\n",
              "            '<a target=\"_blank\" href=https://colab.research.google.com/notebooks/data_table.ipynb>data table notebook</a>'\n",
              "            + ' to learn more about interactive tables.';\n",
              "          element.innerHTML = '';\n",
              "          dataTable['output_type'] = 'display_data';\n",
              "          await google.colab.output.renderOutput(dataTable, element);\n",
              "          const docLink = document.createElement('div');\n",
              "          docLink.innerHTML = docLinkHtml;\n",
              "          element.appendChild(docLink);\n",
              "        }\n",
              "      </script>\n",
              "    </div>\n",
              "  </div>\n",
              "  "
            ]
          },
          "metadata": {},
          "execution_count": 162
        }
      ],
      "source": [
        "df_rules = df_l[['kpr_categoric','dpr_categoric','playerQuality','descMapName', 'flWinner']]\n",
        "df_rules.head()"
      ]
    },
    {
      "cell_type": "code",
      "execution_count": null,
      "metadata": {
        "id": "l8NtForwXGyX"
      },
      "outputs": [],
      "source": [
        "df_transactions = pd.get_dummies(df_rules)\n",
        "#df_transactions = df_rules\n",
        "#df_transactions = pd.get_dummies(df_transactions, columns=['kpr_categoric'])\n",
        "#df_transactions = pd.get_dummies(df_transactions, columns=['dpr_categoric'])\n",
        "#df_transactions = pd.get_dummies(df_transactions, columns=['playerQuality'])\n",
        "#df_transactions = pd.get_dummies(df_transactions, columns=['descMapName'])"
      ]
    },
    {
      "cell_type": "code",
      "execution_count": null,
      "metadata": {
        "colab": {
          "base_uri": "https://localhost:8080/"
        },
        "id": "mx5d9dnwXO4m",
        "outputId": "69274c79-12e2-4e08-a4e2-752c5b0d451d"
      },
      "outputs": [
        {
          "output_type": "stream",
          "name": "stdout",
          "text": [
            "<class 'pandas.core.frame.DataFrame'>\n",
            "Int64Index: 146441 entries, 1 to 184150\n",
            "Data columns (total 24 columns):\n",
            " #   Column                   Non-Null Count   Dtype\n",
            "---  ------                   --------------   -----\n",
            " 0   flWinner                 146441 non-null  int64\n",
            " 1   kpr_categoric_Ruim       146441 non-null  uint8\n",
            " 2   kpr_categoric_Regular    146441 non-null  uint8\n",
            " 3   kpr_categoric_Bom        146441 non-null  uint8\n",
            " 4   kpr_categoric_Muito Bom  146441 non-null  uint8\n",
            " 5   kpr_categoric_Excelente  146441 non-null  uint8\n",
            " 6   dpr_categoric_Excelente  146441 non-null  uint8\n",
            " 7   dpr_categoric_Muito Bom  146441 non-null  uint8\n",
            " 8   dpr_categoric_Bom        146441 non-null  uint8\n",
            " 9   dpr_categoric_Regular    146441 non-null  uint8\n",
            " 10  dpr_categoric_Ruim       146441 non-null  uint8\n",
            " 11  playerQuality_Bom        146441 non-null  uint8\n",
            " 12  playerQuality_Excelente  146441 non-null  uint8\n",
            " 13  playerQuality_Muito Bom  146441 non-null  uint8\n",
            " 14  playerQuality_Regular    146441 non-null  uint8\n",
            " 15  playerQuality_Ruim       146441 non-null  uint8\n",
            " 16  descMapName_de_ancient   146441 non-null  uint8\n",
            " 17  descMapName_de_dust2     146441 non-null  uint8\n",
            " 18  descMapName_de_inferno   146441 non-null  uint8\n",
            " 19  descMapName_de_mirage    146441 non-null  uint8\n",
            " 20  descMapName_de_nuke      146441 non-null  uint8\n",
            " 21  descMapName_de_overpass  146441 non-null  uint8\n",
            " 22  descMapName_de_train     146441 non-null  uint8\n",
            " 23  descMapName_de_vertigo   146441 non-null  uint8\n",
            "dtypes: int64(1), uint8(23)\n",
            "memory usage: 9.5 MB\n"
          ]
        }
      ],
      "source": [
        "df_transactions.info()"
      ]
    },
    {
      "cell_type": "markdown",
      "metadata": {
        "id": "-yw2UFhP-iEK"
      },
      "source": [
        ""
      ]
    },
    {
      "cell_type": "code",
      "execution_count": null,
      "metadata": {
        "colab": {
          "base_uri": "https://localhost:8080/",
          "height": 457
        },
        "id": "kvSF5-0dX15v",
        "outputId": "b4a4740b-5715-4402-a463-b4d6a6d212eb"
      },
      "outputs": [
        {
          "output_type": "execute_result",
          "data": {
            "text/plain": [
              "     support                                           itemsets\n",
              "0   0.500147                                         (flWinner)\n",
              "1   0.740312                            (kpr_categoric_Regular)\n",
              "2   0.673561                            (dpr_categoric_Regular)\n",
              "3   0.601198                            (playerQuality_Regular)\n",
              "4   0.361470                               (playerQuality_Ruim)\n",
              "5   0.313444                            (descMapName_de_mirage)\n",
              "6   0.378221                  (kpr_categoric_Regular, flWinner)\n",
              "7   0.341926                  (dpr_categoric_Regular, flWinner)\n",
              "8   0.339461                  (playerQuality_Regular, flWinner)\n",
              "9   0.518297     (kpr_categoric_Regular, dpr_categoric_Regular)\n",
              "10  0.456996     (kpr_categoric_Regular, playerQuality_Regular)\n",
              "11  0.418503     (dpr_categoric_Regular, playerQuality_Regular)\n",
              "12  0.328200  (kpr_categoric_Regular, dpr_categoric_Regular,..."
            ],
            "text/html": [
              "\n",
              "  <div id=\"df-36a882af-2b8d-492d-96eb-c6621331d43c\">\n",
              "    <div class=\"colab-df-container\">\n",
              "      <div>\n",
              "<style scoped>\n",
              "    .dataframe tbody tr th:only-of-type {\n",
              "        vertical-align: middle;\n",
              "    }\n",
              "\n",
              "    .dataframe tbody tr th {\n",
              "        vertical-align: top;\n",
              "    }\n",
              "\n",
              "    .dataframe thead th {\n",
              "        text-align: right;\n",
              "    }\n",
              "</style>\n",
              "<table border=\"1\" class=\"dataframe\">\n",
              "  <thead>\n",
              "    <tr style=\"text-align: right;\">\n",
              "      <th></th>\n",
              "      <th>support</th>\n",
              "      <th>itemsets</th>\n",
              "    </tr>\n",
              "  </thead>\n",
              "  <tbody>\n",
              "    <tr>\n",
              "      <th>0</th>\n",
              "      <td>0.500147</td>\n",
              "      <td>(flWinner)</td>\n",
              "    </tr>\n",
              "    <tr>\n",
              "      <th>1</th>\n",
              "      <td>0.740312</td>\n",
              "      <td>(kpr_categoric_Regular)</td>\n",
              "    </tr>\n",
              "    <tr>\n",
              "      <th>2</th>\n",
              "      <td>0.673561</td>\n",
              "      <td>(dpr_categoric_Regular)</td>\n",
              "    </tr>\n",
              "    <tr>\n",
              "      <th>3</th>\n",
              "      <td>0.601198</td>\n",
              "      <td>(playerQuality_Regular)</td>\n",
              "    </tr>\n",
              "    <tr>\n",
              "      <th>4</th>\n",
              "      <td>0.361470</td>\n",
              "      <td>(playerQuality_Ruim)</td>\n",
              "    </tr>\n",
              "    <tr>\n",
              "      <th>5</th>\n",
              "      <td>0.313444</td>\n",
              "      <td>(descMapName_de_mirage)</td>\n",
              "    </tr>\n",
              "    <tr>\n",
              "      <th>6</th>\n",
              "      <td>0.378221</td>\n",
              "      <td>(kpr_categoric_Regular, flWinner)</td>\n",
              "    </tr>\n",
              "    <tr>\n",
              "      <th>7</th>\n",
              "      <td>0.341926</td>\n",
              "      <td>(dpr_categoric_Regular, flWinner)</td>\n",
              "    </tr>\n",
              "    <tr>\n",
              "      <th>8</th>\n",
              "      <td>0.339461</td>\n",
              "      <td>(playerQuality_Regular, flWinner)</td>\n",
              "    </tr>\n",
              "    <tr>\n",
              "      <th>9</th>\n",
              "      <td>0.518297</td>\n",
              "      <td>(kpr_categoric_Regular, dpr_categoric_Regular)</td>\n",
              "    </tr>\n",
              "    <tr>\n",
              "      <th>10</th>\n",
              "      <td>0.456996</td>\n",
              "      <td>(kpr_categoric_Regular, playerQuality_Regular)</td>\n",
              "    </tr>\n",
              "    <tr>\n",
              "      <th>11</th>\n",
              "      <td>0.418503</td>\n",
              "      <td>(dpr_categoric_Regular, playerQuality_Regular)</td>\n",
              "    </tr>\n",
              "    <tr>\n",
              "      <th>12</th>\n",
              "      <td>0.328200</td>\n",
              "      <td>(kpr_categoric_Regular, dpr_categoric_Regular,...</td>\n",
              "    </tr>\n",
              "  </tbody>\n",
              "</table>\n",
              "</div>\n",
              "      <button class=\"colab-df-convert\" onclick=\"convertToInteractive('df-36a882af-2b8d-492d-96eb-c6621331d43c')\"\n",
              "              title=\"Convert this dataframe to an interactive table.\"\n",
              "              style=\"display:none;\">\n",
              "        \n",
              "  <svg xmlns=\"http://www.w3.org/2000/svg\" height=\"24px\"viewBox=\"0 0 24 24\"\n",
              "       width=\"24px\">\n",
              "    <path d=\"M0 0h24v24H0V0z\" fill=\"none\"/>\n",
              "    <path d=\"M18.56 5.44l.94 2.06.94-2.06 2.06-.94-2.06-.94-.94-2.06-.94 2.06-2.06.94zm-11 1L8.5 8.5l.94-2.06 2.06-.94-2.06-.94L8.5 2.5l-.94 2.06-2.06.94zm10 10l.94 2.06.94-2.06 2.06-.94-2.06-.94-.94-2.06-.94 2.06-2.06.94z\"/><path d=\"M17.41 7.96l-1.37-1.37c-.4-.4-.92-.59-1.43-.59-.52 0-1.04.2-1.43.59L10.3 9.45l-7.72 7.72c-.78.78-.78 2.05 0 2.83L4 21.41c.39.39.9.59 1.41.59.51 0 1.02-.2 1.41-.59l7.78-7.78 2.81-2.81c.8-.78.8-2.07 0-2.86zM5.41 20L4 18.59l7.72-7.72 1.47 1.35L5.41 20z\"/>\n",
              "  </svg>\n",
              "      </button>\n",
              "      \n",
              "  <style>\n",
              "    .colab-df-container {\n",
              "      display:flex;\n",
              "      flex-wrap:wrap;\n",
              "      gap: 12px;\n",
              "    }\n",
              "\n",
              "    .colab-df-convert {\n",
              "      background-color: #E8F0FE;\n",
              "      border: none;\n",
              "      border-radius: 50%;\n",
              "      cursor: pointer;\n",
              "      display: none;\n",
              "      fill: #1967D2;\n",
              "      height: 32px;\n",
              "      padding: 0 0 0 0;\n",
              "      width: 32px;\n",
              "    }\n",
              "\n",
              "    .colab-df-convert:hover {\n",
              "      background-color: #E2EBFA;\n",
              "      box-shadow: 0px 1px 2px rgba(60, 64, 67, 0.3), 0px 1px 3px 1px rgba(60, 64, 67, 0.15);\n",
              "      fill: #174EA6;\n",
              "    }\n",
              "\n",
              "    [theme=dark] .colab-df-convert {\n",
              "      background-color: #3B4455;\n",
              "      fill: #D2E3FC;\n",
              "    }\n",
              "\n",
              "    [theme=dark] .colab-df-convert:hover {\n",
              "      background-color: #434B5C;\n",
              "      box-shadow: 0px 1px 3px 1px rgba(0, 0, 0, 0.15);\n",
              "      filter: drop-shadow(0px 1px 2px rgba(0, 0, 0, 0.3));\n",
              "      fill: #FFFFFF;\n",
              "    }\n",
              "  </style>\n",
              "\n",
              "      <script>\n",
              "        const buttonEl =\n",
              "          document.querySelector('#df-36a882af-2b8d-492d-96eb-c6621331d43c button.colab-df-convert');\n",
              "        buttonEl.style.display =\n",
              "          google.colab.kernel.accessAllowed ? 'block' : 'none';\n",
              "\n",
              "        async function convertToInteractive(key) {\n",
              "          const element = document.querySelector('#df-36a882af-2b8d-492d-96eb-c6621331d43c');\n",
              "          const dataTable =\n",
              "            await google.colab.kernel.invokeFunction('convertToInteractive',\n",
              "                                                     [key], {});\n",
              "          if (!dataTable) return;\n",
              "\n",
              "          const docLinkHtml = 'Like what you see? Visit the ' +\n",
              "            '<a target=\"_blank\" href=https://colab.research.google.com/notebooks/data_table.ipynb>data table notebook</a>'\n",
              "            + ' to learn more about interactive tables.';\n",
              "          element.innerHTML = '';\n",
              "          dataTable['output_type'] = 'display_data';\n",
              "          await google.colab.output.renderOutput(dataTable, element);\n",
              "          const docLink = document.createElement('div');\n",
              "          docLink.innerHTML = docLinkHtml;\n",
              "          element.appendChild(docLink);\n",
              "        }\n",
              "      </script>\n",
              "    </div>\n",
              "  </div>\n",
              "  "
            ]
          },
          "metadata": {},
          "execution_count": 168
        }
      ],
      "source": [
        "#Erro pois não tem apenas 0 ou 1\n",
        "frequent_itemsets = apriori(df_transactions, min_support=0.3, use_colnames=True)\n",
        "frequent_itemsets"
      ]
    },
    {
      "cell_type": "code",
      "execution_count": null,
      "metadata": {
        "colab": {
          "base_uri": "https://localhost:8080/",
          "height": 206
        },
        "id": "bE9ngVz_YAN6",
        "outputId": "5fed7ff6-992a-4868-fdc0-2666b2b6a600"
      },
      "outputs": [
        {
          "output_type": "execute_result",
          "data": {
            "text/plain": [
              "                                       antecedents              consequents  \\\n",
              "14  (dpr_categoric_Regular, playerQuality_Regular)  (kpr_categoric_Regular)   \n",
              "7                          (dpr_categoric_Regular)  (kpr_categoric_Regular)   \n",
              "9                          (playerQuality_Regular)  (kpr_categoric_Regular)   \n",
              "1                                       (flWinner)  (kpr_categoric_Regular)   \n",
              "13  (kpr_categoric_Regular, playerQuality_Regular)  (dpr_categoric_Regular)   \n",
              "\n",
              "    antecedent support  consequent support   support  confidence      lift  \\\n",
              "14            0.418503            0.740312  0.328200    0.784225  1.059317   \n",
              "7             0.673561            0.740312  0.518297    0.769488  1.039411   \n",
              "9             0.601198            0.740312  0.456996    0.760143  1.026788   \n",
              "1             0.500147            0.740312  0.378221    0.756219  1.021487   \n",
              "13            0.456996            0.673561  0.328200    0.718169  1.066226   \n",
              "\n",
              "    leverage  conviction  \n",
              "14  0.018378    1.203513  \n",
              "7   0.019652    1.126572  \n",
              "9   0.011923    1.082680  \n",
              "1   0.007956    1.065252  \n",
              "13  0.020385    1.158276  "
            ],
            "text/html": [
              "\n",
              "  <div id=\"df-74b22924-e3db-40ef-86a5-77fc429dfc6d\">\n",
              "    <div class=\"colab-df-container\">\n",
              "      <div>\n",
              "<style scoped>\n",
              "    .dataframe tbody tr th:only-of-type {\n",
              "        vertical-align: middle;\n",
              "    }\n",
              "\n",
              "    .dataframe tbody tr th {\n",
              "        vertical-align: top;\n",
              "    }\n",
              "\n",
              "    .dataframe thead th {\n",
              "        text-align: right;\n",
              "    }\n",
              "</style>\n",
              "<table border=\"1\" class=\"dataframe\">\n",
              "  <thead>\n",
              "    <tr style=\"text-align: right;\">\n",
              "      <th></th>\n",
              "      <th>antecedents</th>\n",
              "      <th>consequents</th>\n",
              "      <th>antecedent support</th>\n",
              "      <th>consequent support</th>\n",
              "      <th>support</th>\n",
              "      <th>confidence</th>\n",
              "      <th>lift</th>\n",
              "      <th>leverage</th>\n",
              "      <th>conviction</th>\n",
              "    </tr>\n",
              "  </thead>\n",
              "  <tbody>\n",
              "    <tr>\n",
              "      <th>14</th>\n",
              "      <td>(dpr_categoric_Regular, playerQuality_Regular)</td>\n",
              "      <td>(kpr_categoric_Regular)</td>\n",
              "      <td>0.418503</td>\n",
              "      <td>0.740312</td>\n",
              "      <td>0.328200</td>\n",
              "      <td>0.784225</td>\n",
              "      <td>1.059317</td>\n",
              "      <td>0.018378</td>\n",
              "      <td>1.203513</td>\n",
              "    </tr>\n",
              "    <tr>\n",
              "      <th>7</th>\n",
              "      <td>(dpr_categoric_Regular)</td>\n",
              "      <td>(kpr_categoric_Regular)</td>\n",
              "      <td>0.673561</td>\n",
              "      <td>0.740312</td>\n",
              "      <td>0.518297</td>\n",
              "      <td>0.769488</td>\n",
              "      <td>1.039411</td>\n",
              "      <td>0.019652</td>\n",
              "      <td>1.126572</td>\n",
              "    </tr>\n",
              "    <tr>\n",
              "      <th>9</th>\n",
              "      <td>(playerQuality_Regular)</td>\n",
              "      <td>(kpr_categoric_Regular)</td>\n",
              "      <td>0.601198</td>\n",
              "      <td>0.740312</td>\n",
              "      <td>0.456996</td>\n",
              "      <td>0.760143</td>\n",
              "      <td>1.026788</td>\n",
              "      <td>0.011923</td>\n",
              "      <td>1.082680</td>\n",
              "    </tr>\n",
              "    <tr>\n",
              "      <th>1</th>\n",
              "      <td>(flWinner)</td>\n",
              "      <td>(kpr_categoric_Regular)</td>\n",
              "      <td>0.500147</td>\n",
              "      <td>0.740312</td>\n",
              "      <td>0.378221</td>\n",
              "      <td>0.756219</td>\n",
              "      <td>1.021487</td>\n",
              "      <td>0.007956</td>\n",
              "      <td>1.065252</td>\n",
              "    </tr>\n",
              "    <tr>\n",
              "      <th>13</th>\n",
              "      <td>(kpr_categoric_Regular, playerQuality_Regular)</td>\n",
              "      <td>(dpr_categoric_Regular)</td>\n",
              "      <td>0.456996</td>\n",
              "      <td>0.673561</td>\n",
              "      <td>0.328200</td>\n",
              "      <td>0.718169</td>\n",
              "      <td>1.066226</td>\n",
              "      <td>0.020385</td>\n",
              "      <td>1.158276</td>\n",
              "    </tr>\n",
              "  </tbody>\n",
              "</table>\n",
              "</div>\n",
              "      <button class=\"colab-df-convert\" onclick=\"convertToInteractive('df-74b22924-e3db-40ef-86a5-77fc429dfc6d')\"\n",
              "              title=\"Convert this dataframe to an interactive table.\"\n",
              "              style=\"display:none;\">\n",
              "        \n",
              "  <svg xmlns=\"http://www.w3.org/2000/svg\" height=\"24px\"viewBox=\"0 0 24 24\"\n",
              "       width=\"24px\">\n",
              "    <path d=\"M0 0h24v24H0V0z\" fill=\"none\"/>\n",
              "    <path d=\"M18.56 5.44l.94 2.06.94-2.06 2.06-.94-2.06-.94-.94-2.06-.94 2.06-2.06.94zm-11 1L8.5 8.5l.94-2.06 2.06-.94-2.06-.94L8.5 2.5l-.94 2.06-2.06.94zm10 10l.94 2.06.94-2.06 2.06-.94-2.06-.94-.94-2.06-.94 2.06-2.06.94z\"/><path d=\"M17.41 7.96l-1.37-1.37c-.4-.4-.92-.59-1.43-.59-.52 0-1.04.2-1.43.59L10.3 9.45l-7.72 7.72c-.78.78-.78 2.05 0 2.83L4 21.41c.39.39.9.59 1.41.59.51 0 1.02-.2 1.41-.59l7.78-7.78 2.81-2.81c.8-.78.8-2.07 0-2.86zM5.41 20L4 18.59l7.72-7.72 1.47 1.35L5.41 20z\"/>\n",
              "  </svg>\n",
              "      </button>\n",
              "      \n",
              "  <style>\n",
              "    .colab-df-container {\n",
              "      display:flex;\n",
              "      flex-wrap:wrap;\n",
              "      gap: 12px;\n",
              "    }\n",
              "\n",
              "    .colab-df-convert {\n",
              "      background-color: #E8F0FE;\n",
              "      border: none;\n",
              "      border-radius: 50%;\n",
              "      cursor: pointer;\n",
              "      display: none;\n",
              "      fill: #1967D2;\n",
              "      height: 32px;\n",
              "      padding: 0 0 0 0;\n",
              "      width: 32px;\n",
              "    }\n",
              "\n",
              "    .colab-df-convert:hover {\n",
              "      background-color: #E2EBFA;\n",
              "      box-shadow: 0px 1px 2px rgba(60, 64, 67, 0.3), 0px 1px 3px 1px rgba(60, 64, 67, 0.15);\n",
              "      fill: #174EA6;\n",
              "    }\n",
              "\n",
              "    [theme=dark] .colab-df-convert {\n",
              "      background-color: #3B4455;\n",
              "      fill: #D2E3FC;\n",
              "    }\n",
              "\n",
              "    [theme=dark] .colab-df-convert:hover {\n",
              "      background-color: #434B5C;\n",
              "      box-shadow: 0px 1px 3px 1px rgba(0, 0, 0, 0.15);\n",
              "      filter: drop-shadow(0px 1px 2px rgba(0, 0, 0, 0.3));\n",
              "      fill: #FFFFFF;\n",
              "    }\n",
              "  </style>\n",
              "\n",
              "      <script>\n",
              "        const buttonEl =\n",
              "          document.querySelector('#df-74b22924-e3db-40ef-86a5-77fc429dfc6d button.colab-df-convert');\n",
              "        buttonEl.style.display =\n",
              "          google.colab.kernel.accessAllowed ? 'block' : 'none';\n",
              "\n",
              "        async function convertToInteractive(key) {\n",
              "          const element = document.querySelector('#df-74b22924-e3db-40ef-86a5-77fc429dfc6d');\n",
              "          const dataTable =\n",
              "            await google.colab.kernel.invokeFunction('convertToInteractive',\n",
              "                                                     [key], {});\n",
              "          if (!dataTable) return;\n",
              "\n",
              "          const docLinkHtml = 'Like what you see? Visit the ' +\n",
              "            '<a target=\"_blank\" href=https://colab.research.google.com/notebooks/data_table.ipynb>data table notebook</a>'\n",
              "            + ' to learn more about interactive tables.';\n",
              "          element.innerHTML = '';\n",
              "          dataTable['output_type'] = 'display_data';\n",
              "          await google.colab.output.renderOutput(dataTable, element);\n",
              "          const docLink = document.createElement('div');\n",
              "          docLink.innerHTML = docLinkHtml;\n",
              "          element.appendChild(docLink);\n",
              "        }\n",
              "      </script>\n",
              "    </div>\n",
              "  </div>\n",
              "  "
            ]
          },
          "metadata": {},
          "execution_count": 169
        }
      ],
      "source": [
        "rules = association_rules(frequent_itemsets, metric=\"confidence\", min_threshold=0.2)\n",
        "rules.sort_values(by=\"confidence\",ascending=False).head()"
      ]
    },
    {
      "cell_type": "code",
      "execution_count": null,
      "metadata": {
        "id": "fSMDyoJKIGmo"
      },
      "outputs": [],
      "source": [
        "cols_interesse = ['kpr_categoric_Ruim','kpr_categoric_Regular','kpr_categoric_Bom','kpr_categoric_Muito Bom','kpr_categoric_Excelente  ',\n",
        "                  'dpr_categoric_Ruim','dpr_categoric_Regular','dpr_categoric_Bom','dpr_categoric_Muito Bom','dpr_categoric_Excelente  ',\n",
        "                  'playerQuality_Bom', 'playerQuality_Muito Bom', 'playerQuality_Regular', 'playerQuality_Ruim', 'playerQuality_Excelente',\n",
        "                  'descMapName_de_ancient', 'descMapName_de_dust2', 'descMapName_de_inferno', 'descMapName_de_mirage', 'descMapName_de_nuke',\n",
        "                  'descMapName_de_overpass', 'descMapName_de_train', 'descMapName_de_vertigo'\n",
        "                  ]\n"
      ]
    },
    {
      "cell_type": "code",
      "source": [
        "df = pd.get_dummies(df_l, columns=[\"playerQuality\"])"
      ],
      "metadata": {
        "id": "tSnvsxtU7_fK"
      },
      "execution_count": 24,
      "outputs": []
    },
    {
      "cell_type": "code",
      "source": [
        "cols_interesse = ['qtKill','qtDeath','vlDamage','qtClutchWon','vlLevel','qtHs','qt5Kill','kpr','dpr','pps','playerQuality_Bom','playerQuality_Excelente','playerQuality_Muito Bom','playerQuality_Regular','playerQuality_Ruim','phs']\n",
        "target = 'flWinner'"
      ],
      "metadata": {
        "id": "B-A3tiyL8BJz"
      },
      "execution_count": 25,
      "outputs": []
    },
    {
      "cell_type": "code",
      "source": [
        "cols_interesse_all = cols_interesse.copy()\n",
        "cols_interesse_all.append(target)"
      ],
      "metadata": {
        "id": "mLfzNmir8DNe"
      },
      "execution_count": 26,
      "outputs": []
    },
    {
      "cell_type": "code",
      "source": [
        "X = df['qtKill']\n",
        "Y = df[target]\n",
        "regressao_linear(X,Y,['qtKill'])"
      ],
      "metadata": {
        "colab": {
          "base_uri": "https://localhost:8080/"
        },
        "id": "4_G1ovB6759L",
        "outputId": "4d7c296e-90bb-40a3-d38c-c8973660a784"
      },
      "execution_count": 31,
      "outputs": [
        {
          "output_type": "stream",
          "name": "stdout",
          "text": [
            "Coeficiente estimado:  [0.01427239]\n",
            "R2 (score):  0.04066337337629933\n",
            "Intercept 0.208 \n",
            "        Coefficient\n",
            "qtKill     0.014272\n"
          ]
        }
      ]
    },
    {
      "cell_type": "code",
      "source": [
        "X = df['kpr']\n",
        "Y = df[target]\n",
        "regressao_linear(X,Y,['kpr'])"
      ],
      "metadata": {
        "colab": {
          "base_uri": "https://localhost:8080/"
        },
        "id": "a5oXnCoH8WxU",
        "outputId": "1a90ba96-986a-4e41-f215-b265e649c8e6"
      },
      "execution_count": 32,
      "outputs": [
        {
          "output_type": "stream",
          "name": "stdout",
          "text": [
            "Coeficiente estimado:  [0.54598149]\n",
            "R2 (score):  0.058794559783095335\n",
            "Intercept 0.106 \n",
            "     Coefficient\n",
            "kpr     0.545981\n"
          ]
        }
      ]
    },
    {
      "cell_type": "code",
      "source": [
        "X = df['pps']\n",
        "Y = df[target]\n",
        "regressao_linear(X,Y,['pps'])"
      ],
      "metadata": {
        "colab": {
          "base_uri": "https://localhost:8080/"
        },
        "id": "gCaXwLet8a0p",
        "outputId": "5802ee3d-6325-4ce6-9d96-41ff0ba12c19"
      },
      "execution_count": 33,
      "outputs": [
        {
          "output_type": "stream",
          "name": "stdout",
          "text": [
            "Coeficiente estimado:  [0.01208665]\n",
            "R2 (score):  0.041638017753107825\n",
            "Intercept 0.212 \n",
            "     Coefficient\n",
            "pps     0.012087\n"
          ]
        }
      ]
    },
    {
      "cell_type": "code",
      "execution_count": null,
      "metadata": {
        "id": "PUP-ftqLJSYd"
      },
      "outputs": [],
      "source": [
        "cols_interesse_all = cols_interesse.copy()\n",
        "cols_interesse_all\n",
        "# df_transactions[cols_interesse_all]\n",
        "#df_l\n",
        "#df_transactions\n",
        "#sns.pairplot(df_l)"
      ]
    }
  ],
  "metadata": {
    "colab": {
      "collapsed_sections": [],
      "name": "trabalho_pratico_cs:go",
      "provenance": []
    },
    "interpreter": {
      "hash": "aee8b7b246df8f9039afb4144a1f6fd8d2ca17a180786b69acc140d282b71a49"
    },
    "kernelspec": {
      "display_name": "Python 3.9.12 64-bit",
      "language": "python",
      "name": "python3"
    },
    "language_info": {
      "codemirror_mode": {
        "name": "ipython",
        "version": 3
      },
      "file_extension": ".py",
      "mimetype": "text/x-python",
      "name": "python",
      "nbconvert_exporter": "python",
      "pygments_lexer": "ipython3",
      "version": "3.9.12"
    }
  },
  "nbformat": 4,
  "nbformat_minor": 0
}