{
  "cells": [
    {
      "cell_type": "markdown",
      "metadata": {
        "id": "eoWYIsy6z9Lq"
      },
      "source": [
        "> Introdução à Ciência dos Dados \\\n",
        "> Ciência da Computação – UFV/Florestal\n",
        "\n",
        "\n",
        "* **Nome:** lucas takeshi, Jonathan Lopes, Matheus Silva\n",
        "* **Matrícula:** 2665, 2666, 2649\n",
        "\n",
        "----\n",
        "# Importação dos Dados"
      ]
    },
    {
      "cell_type": "code",
      "execution_count": 71,
      "metadata": {
        "id": "WfqQbvhoz9Lw",
        "outputId": "5d08b063-945a-4299-bb3a-5d5ccb41e012",
        "colab": {
          "base_uri": "https://localhost:8080/"
        }
      },
      "outputs": [
        {
          "output_type": "stream",
          "name": "stdout",
          "text": [
            "--2022-07-22 18:57:43--  https://raw.githubusercontent.com/LTaka/cs-go-csv/main/tb_lobby_stats_player.csv\n",
            "Resolving raw.githubusercontent.com (raw.githubusercontent.com)... 185.199.110.133, 185.199.111.133, 185.199.109.133, ...\n",
            "Connecting to raw.githubusercontent.com (raw.githubusercontent.com)|185.199.110.133|:443... connected.\n",
            "HTTP request sent, awaiting response... 200 OK\n",
            "Length: 28373607 (27M) [text/plain]\n",
            "Saving to: ‘tb_lobby_stats_player.csv.2’\n",
            "\n",
            "tb_lobby_stats_play 100%[===================>]  27.06M   168MB/s    in 0.2s    \n",
            "\n",
            "2022-07-22 18:57:43 (168 MB/s) - ‘tb_lobby_stats_player.csv.2’ saved [28373607/28373607]\n",
            "\n",
            "--2022-07-22 18:57:44--  https://raw.githubusercontent.com/LTaka/cs-go-csv/main/tb_medalha.csv\n",
            "Resolving raw.githubusercontent.com (raw.githubusercontent.com)... 185.199.108.133, 185.199.109.133, 185.199.110.133, ...\n",
            "Connecting to raw.githubusercontent.com (raw.githubusercontent.com)|185.199.108.133|:443... connected.\n",
            "HTTP request sent, awaiting response... 200 OK\n",
            "Length: 1245 (1.2K) [text/plain]\n",
            "Saving to: ‘tb_medalha.csv.2’\n",
            "\n",
            "tb_medalha.csv.2    100%[===================>]   1.22K  --.-KB/s    in 0s      \n",
            "\n",
            "2022-07-22 18:57:44 (57.8 MB/s) - ‘tb_medalha.csv.2’ saved [1245/1245]\n",
            "\n",
            "--2022-07-22 18:57:44--  https://raw.githubusercontent.com/LTaka/cs-go-csv/main/tb_players.csv\n",
            "Resolving raw.githubusercontent.com (raw.githubusercontent.com)... 185.199.108.133, 185.199.109.133, 185.199.110.133, ...\n",
            "Connecting to raw.githubusercontent.com (raw.githubusercontent.com)|185.199.108.133|:443... connected.\n",
            "HTTP request sent, awaiting response... 200 OK\n",
            "Length: 132179 (129K) [text/plain]\n",
            "Saving to: ‘tb_players.csv.2’\n",
            "\n",
            "tb_players.csv.2    100%[===================>] 129.08K  --.-KB/s    in 0.02s   \n",
            "\n",
            "2022-07-22 18:57:44 (5.89 MB/s) - ‘tb_players.csv.2’ saved [132179/132179]\n",
            "\n",
            "--2022-07-22 18:57:44--  https://raw.githubusercontent.com/LTaka/cs-go-csv/main/tb_players_medalha.csv\n",
            "Resolving raw.githubusercontent.com (raw.githubusercontent.com)... 185.199.108.133, 185.199.109.133, 185.199.110.133, ...\n",
            "Connecting to raw.githubusercontent.com (raw.githubusercontent.com)|185.199.108.133|:443... connected.\n",
            "HTTP request sent, awaiting response... 200 OK\n",
            "Length: 1214232 (1.2M) [text/plain]\n",
            "Saving to: ‘tb_players_medalha.csv.2’\n",
            "\n",
            "tb_players_medalha. 100%[===================>]   1.16M  --.-KB/s    in 0.05s   \n",
            "\n",
            "2022-07-22 18:57:44 (21.4 MB/s) - ‘tb_players_medalha.csv.2’ saved [1214232/1214232]\n",
            "\n"
          ]
        }
      ],
      "source": [
        "### NÃO REMOVA ESSA CÉLULA! ####\n",
        "\n",
        "!wget https://raw.githubusercontent.com/LTaka/cs-go-csv/main/tb_lobby_stats_player.csv\n",
        "!wget https://raw.githubusercontent.com/LTaka/cs-go-csv/main/tb_medalha.csv\n",
        "!wget https://raw.githubusercontent.com/LTaka/cs-go-csv/main/tb_players.csv\n",
        "!wget https://raw.githubusercontent.com/LTaka/cs-go-csv/main/tb_players_medalha.csv"
      ]
    },
    {
      "cell_type": "code",
      "execution_count": 72,
      "metadata": {
        "id": "_X9J3UPRX7_6"
      },
      "outputs": [],
      "source": [
        "#### Não altere essa célula!!! ####\n",
        "import pandas as pd\n",
        "import numpy as np\n",
        "import seaborn as sns\n",
        "import matplotlib.pyplot as plt\n",
        "from sklearn.linear_model import LinearRegression"
      ]
    },
    {
      "cell_type": "code",
      "execution_count": 73,
      "metadata": {
        "id": "qoh2jRcKz9L1"
      },
      "outputs": [],
      "source": [
        "original_df_lobby = pd.read_csv('./tb_lobby_stats_player.csv')\n",
        "original_df_players = pd.read_csv('./tb_players.csv')\n",
        "df_l =original_df_lobby\n",
        "df_p =original_df_players\n",
        "#Informações de players\n",
        "#df_p.info()\n",
        "#tratando os dados de players\n",
        "df_p = df_p.drop(\"flFacebook\",axis=1)\n",
        "df_p = df_p.drop(\"flTwitter\",axis=1)\n",
        "df_p = df_p.drop(\"flTwitch\",axis=1)\n",
        "df_p = df_p.drop(\"dtBirth\",axis=1)\n",
        "df_p['dtRegistration'] = pd.to_datetime(df_p['dtRegistration'], infer_datetime_format=True)\n",
        "df_l['qtSurvived'].fillna('drop', inplace=True)\n",
        "#drop dos NAN\n",
        "drop=df_l[df_l[\"qtSurvived\"]=='drop'].index\n",
        "df_l=df_l.drop(drop)\n",
        "#Informações de players\n",
        "#df_p.info()\n",
        "#Informações de lobby\n",
        "#df_l.info()\n",
        "#tratando os dados de lobby\n",
        "df_l = df_l.drop(\"qtShots\",axis=1)\n",
        "df_l = df_l.drop(\"qtPlusKill\",axis=1)\n",
        "df_l = df_l.drop(\"dtCreatedAt\",axis=1)\n",
        "df_l = df_l.drop(\"qtHitRightLeg\",axis=1)\n",
        "df_l = df_l.drop(\"qtHitLeftLeg\",axis=1)\n",
        "df_l = df_l.drop(\"qtHitRightArm\",axis=1)\n",
        "df_l = df_l.drop(\"qtHitLeftAtm\",axis=1)\n",
        "df_l = df_l.drop(\"qtHitStomach\",axis=1)\n",
        "df_l = df_l.drop(\"qtHitChest\",axis=1)\n",
        "df_l = df_l.drop(\"qtHitHeadshot\",axis=1)\n",
        "df_l = df_l.drop(\"qtTk\",axis=1)\n",
        "df_l = df_l.drop(\"qtTkAssist\",axis=1)\n",
        "#Informações de lobby\n",
        "#df_l.info()\n",
        "#criação de dados categóricos de acordo com cada parametro\n",
        "#STATS na coluna de jogador junto com teste de hipotese para verificar se o player morre menos"
      ]
    },
    {
      "cell_type": "code",
      "source": [
        "#df_l.info()\n",
        "#drop de rounds menores que o primeiro quartil para ter apenas players que jogaram uma quantidade consideravel de rounds\n",
        "drop=df_l[df_l['qtRoundsPlayed']<df_l['qtRoundsPlayed'].quantile(0.25)].index\n",
        "df_l=df_l.drop(drop)\n",
        "df_l['qtRoundsPlayed'].describe()\n"
      ],
      "metadata": {
        "colab": {
          "base_uri": "https://localhost:8080/"
        },
        "id": "LCrSxDxl7X9K",
        "outputId": "903fdbe0-8fe8-4a0c-8b6f-a867420eff05"
      },
      "execution_count": 74,
      "outputs": [
        {
          "output_type": "execute_result",
          "data": {
            "text/plain": [
              "count    146441.000000\n",
              "mean         28.358691\n",
              "std           4.582400\n",
              "min          23.000000\n",
              "25%          25.000000\n",
              "50%          28.000000\n",
              "75%          30.000000\n",
              "max          84.000000\n",
              "Name: qtRoundsPlayed, dtype: float64"
            ]
          },
          "metadata": {},
          "execution_count": 74
        }
      ]
    },
    {
      "cell_type": "code",
      "source": [
        "# Calcular kill por round\n",
        "def kpr(kills, rounds):\n",
        "  kpr = kills/rounds #quanto mais alto melhor \n",
        "  return kpr\n",
        "\n",
        "def dpr(deaths, rounds): #quanto mais próximo de 0 melhor\n",
        "  dpr = deaths/rounds\n",
        "  return dpr\n",
        "  \n",
        "def regressao_linear(X,Y,cols):\n",
        "\n",
        "  if len(cols) == 1:\n",
        "    X = X.values.reshape(-1,1)\n",
        "\n",
        "  lm = LinearRegression()\n",
        "  lm.fit(X,Y)\n",
        "  print('Coeficiente estimado: ', lm.coef_)    \n",
        "  print('R2 (score): ', lm.score(X,Y))\n",
        "  print(\"Intercept %.3f \" % lm.intercept_)\n",
        "\n",
        "  coeff_df = pd.DataFrame(lm.coef_, cols, columns=['Coefficient'])\n",
        "  print(coeff_df)\n",
        "\n",
        "#qtAssist - 15, qtBombePlant - 15, qtBombeDefuse - 20, qtClutchWon - 20, qtTrade - 10, qtFlashAssist - 10, qtFirstKill - 10\n",
        "def distPoints(qtAssist, qtBombePlant, qtBombeDefuse, qtClutchWon, qtTrade, qtFlashAssist, qtFirstKill):\n",
        "  qtAssist = qtAssist*15\n",
        "  qtBombePlant = qtBombePlant*15\n",
        "  qtBombeDefuse = qtBombeDefuse*20\n",
        "  qtClutchWon = qtClutchWon*20\n",
        "  qtTrade = qtTrade*10\n",
        "  qtFlashAssist = qtFlashAssist*10\n",
        "  qtFirstKill = qtFirstKill*10\n",
        "  total = (qtAssist+qtBombePlant+qtBombeDefuse+qtClutchWon+qtTrade+qtFlashAssist+qtFirstKill)/7\n",
        "  return total\n",
        "\n",
        "df_l.insert((df_l.shape[1]),\"kpr\",kpr(df_l['qtKill'], df_l['qtRoundsPlayed']),True) #Kills Per Round\n",
        "df_l.insert((df_l.shape[1]),\"dpr\",dpr(df_l['qtDeath'], df_l['qtRoundsPlayed']),True) #Deaths Per Round\n",
        "df_l.insert((df_l.shape[1]),\"pps\",distPoints(df_l['qtAssist'], df_l['qtBombePlant'], df_l['qtBombeDefuse'], df_l['qtClutchWon'], df_l['qtTrade'], df_l['qtFlashAssist'], df_l['qtFirstKill']),True) #Points Per Stats\n",
        "df_l.insert((df_l.shape[1]),\"playerQuality\",'Null',True) #Player Quality\n",
        "df_l\n",
        "\n"
      ],
      "metadata": {
        "id": "vB2lY9bdzMfh",
        "colab": {
          "base_uri": "https://localhost:8080/",
          "height": 488
        },
        "outputId": "7c28ff5e-4db3-49e6-fe12-a6c972e45d01"
      },
      "execution_count": 75,
      "outputs": [
        {
          "output_type": "execute_result",
          "data": {
            "text/plain": [
              "        idLobbyGame  idPlayer  idRoom  qtKill  qtAssist  qtDeath  qtHs  \\\n",
              "1                 2         1       2      24         3       18     6   \n",
              "2                 3         2       3       6         4       23     2   \n",
              "3                 3       391   27508      10         5       20     4   \n",
              "4                 4         2       4       8         4       26     6   \n",
              "11               10         2      10      19         2       21     7   \n",
              "...             ...       ...     ...     ...       ...      ...   ...   \n",
              "184146       172906      2716  178495      17         3       19     7   \n",
              "184147       172907      2716  178496      21         3       13     5   \n",
              "184148       172908      2716  178497      15         1       22     5   \n",
              "184149       172909      2716  178498       9         6       23     2   \n",
              "184150       172910      2716  178499      15         5       20     6   \n",
              "\n",
              "        qtBombeDefuse  qtBombePlant  qt1Kill  ...  descMapName  vlLevel  \\\n",
              "1                   0             4        9  ...      de_nuke        9   \n",
              "2                   0             1        4  ...    de_mirage        2   \n",
              "3                   1             0        6  ...    de_mirage       15   \n",
              "4                   0             2        4  ...      de_nuke        2   \n",
              "11                  0             0        9  ...    de_mirage        2   \n",
              "...               ...           ...      ...  ...          ...      ...   \n",
              "184146              0             2       12  ...    de_mirage        9   \n",
              "184147              1             1        8  ...   de_vertigo        9   \n",
              "184148              0             1       11  ...      de_nuke        9   \n",
              "184149              0             3        9  ...   de_vertigo        9   \n",
              "184150              0             2       13  ...     de_dust2        9   \n",
              "\n",
              "        qtSurvived  qtTrade  qtFlashAssist  flWinner       kpr       dpr  \\\n",
              "1              8.0      1.0            0.0         1  0.888889  0.666667   \n",
              "2              2.0      3.0            0.0         0  0.240000  0.920000   \n",
              "3              3.0      4.0            0.0         1  0.400000  0.800000   \n",
              "4              4.0      4.0            2.0         0  0.266667  0.866667   \n",
              "11             6.0      3.0            3.0         0  0.703704  0.777778   \n",
              "...            ...      ...            ...       ...       ...       ...   \n",
              "184146         9.0      4.0            0.0         0  0.607143  0.678571   \n",
              "184147        11.0      0.0            0.0         1  0.807692  0.500000   \n",
              "184148         7.0      5.0            0.0         1  0.517241  0.758621   \n",
              "184149         4.0      2.0            0.0         0  0.333333  0.851852   \n",
              "184150         5.0      3.0            1.0         0  0.600000  0.800000   \n",
              "\n",
              "              pps  playerQuality  \n",
              "1       23.571429           Null  \n",
              "2       17.857143           Null  \n",
              "3       23.571429           Null  \n",
              "4       22.857143           Null  \n",
              "11      18.571429           Null  \n",
              "...           ...            ...  \n",
              "184146  20.714286           Null  \n",
              "184147  15.714286           Null  \n",
              "184148  18.571429           Null  \n",
              "184149  25.000000           Null  \n",
              "184150  22.142857           Null  \n",
              "\n",
              "[146441 rows x 30 columns]"
            ],
            "text/html": [
              "\n",
              "  <div id=\"df-57a329de-66a7-4cad-ba3c-485c0b591560\">\n",
              "    <div class=\"colab-df-container\">\n",
              "      <div>\n",
              "<style scoped>\n",
              "    .dataframe tbody tr th:only-of-type {\n",
              "        vertical-align: middle;\n",
              "    }\n",
              "\n",
              "    .dataframe tbody tr th {\n",
              "        vertical-align: top;\n",
              "    }\n",
              "\n",
              "    .dataframe thead th {\n",
              "        text-align: right;\n",
              "    }\n",
              "</style>\n",
              "<table border=\"1\" class=\"dataframe\">\n",
              "  <thead>\n",
              "    <tr style=\"text-align: right;\">\n",
              "      <th></th>\n",
              "      <th>idLobbyGame</th>\n",
              "      <th>idPlayer</th>\n",
              "      <th>idRoom</th>\n",
              "      <th>qtKill</th>\n",
              "      <th>qtAssist</th>\n",
              "      <th>qtDeath</th>\n",
              "      <th>qtHs</th>\n",
              "      <th>qtBombeDefuse</th>\n",
              "      <th>qtBombePlant</th>\n",
              "      <th>qt1Kill</th>\n",
              "      <th>...</th>\n",
              "      <th>descMapName</th>\n",
              "      <th>vlLevel</th>\n",
              "      <th>qtSurvived</th>\n",
              "      <th>qtTrade</th>\n",
              "      <th>qtFlashAssist</th>\n",
              "      <th>flWinner</th>\n",
              "      <th>kpr</th>\n",
              "      <th>dpr</th>\n",
              "      <th>pps</th>\n",
              "      <th>playerQuality</th>\n",
              "    </tr>\n",
              "  </thead>\n",
              "  <tbody>\n",
              "    <tr>\n",
              "      <th>1</th>\n",
              "      <td>2</td>\n",
              "      <td>1</td>\n",
              "      <td>2</td>\n",
              "      <td>24</td>\n",
              "      <td>3</td>\n",
              "      <td>18</td>\n",
              "      <td>6</td>\n",
              "      <td>0</td>\n",
              "      <td>4</td>\n",
              "      <td>9</td>\n",
              "      <td>...</td>\n",
              "      <td>de_nuke</td>\n",
              "      <td>9</td>\n",
              "      <td>8.0</td>\n",
              "      <td>1.0</td>\n",
              "      <td>0.0</td>\n",
              "      <td>1</td>\n",
              "      <td>0.888889</td>\n",
              "      <td>0.666667</td>\n",
              "      <td>23.571429</td>\n",
              "      <td>Null</td>\n",
              "    </tr>\n",
              "    <tr>\n",
              "      <th>2</th>\n",
              "      <td>3</td>\n",
              "      <td>2</td>\n",
              "      <td>3</td>\n",
              "      <td>6</td>\n",
              "      <td>4</td>\n",
              "      <td>23</td>\n",
              "      <td>2</td>\n",
              "      <td>0</td>\n",
              "      <td>1</td>\n",
              "      <td>4</td>\n",
              "      <td>...</td>\n",
              "      <td>de_mirage</td>\n",
              "      <td>2</td>\n",
              "      <td>2.0</td>\n",
              "      <td>3.0</td>\n",
              "      <td>0.0</td>\n",
              "      <td>0</td>\n",
              "      <td>0.240000</td>\n",
              "      <td>0.920000</td>\n",
              "      <td>17.857143</td>\n",
              "      <td>Null</td>\n",
              "    </tr>\n",
              "    <tr>\n",
              "      <th>3</th>\n",
              "      <td>3</td>\n",
              "      <td>391</td>\n",
              "      <td>27508</td>\n",
              "      <td>10</td>\n",
              "      <td>5</td>\n",
              "      <td>20</td>\n",
              "      <td>4</td>\n",
              "      <td>1</td>\n",
              "      <td>0</td>\n",
              "      <td>6</td>\n",
              "      <td>...</td>\n",
              "      <td>de_mirage</td>\n",
              "      <td>15</td>\n",
              "      <td>3.0</td>\n",
              "      <td>4.0</td>\n",
              "      <td>0.0</td>\n",
              "      <td>1</td>\n",
              "      <td>0.400000</td>\n",
              "      <td>0.800000</td>\n",
              "      <td>23.571429</td>\n",
              "      <td>Null</td>\n",
              "    </tr>\n",
              "    <tr>\n",
              "      <th>4</th>\n",
              "      <td>4</td>\n",
              "      <td>2</td>\n",
              "      <td>4</td>\n",
              "      <td>8</td>\n",
              "      <td>4</td>\n",
              "      <td>26</td>\n",
              "      <td>6</td>\n",
              "      <td>0</td>\n",
              "      <td>2</td>\n",
              "      <td>4</td>\n",
              "      <td>...</td>\n",
              "      <td>de_nuke</td>\n",
              "      <td>2</td>\n",
              "      <td>4.0</td>\n",
              "      <td>4.0</td>\n",
              "      <td>2.0</td>\n",
              "      <td>0</td>\n",
              "      <td>0.266667</td>\n",
              "      <td>0.866667</td>\n",
              "      <td>22.857143</td>\n",
              "      <td>Null</td>\n",
              "    </tr>\n",
              "    <tr>\n",
              "      <th>11</th>\n",
              "      <td>10</td>\n",
              "      <td>2</td>\n",
              "      <td>10</td>\n",
              "      <td>19</td>\n",
              "      <td>2</td>\n",
              "      <td>21</td>\n",
              "      <td>7</td>\n",
              "      <td>0</td>\n",
              "      <td>0</td>\n",
              "      <td>9</td>\n",
              "      <td>...</td>\n",
              "      <td>de_mirage</td>\n",
              "      <td>2</td>\n",
              "      <td>6.0</td>\n",
              "      <td>3.0</td>\n",
              "      <td>3.0</td>\n",
              "      <td>0</td>\n",
              "      <td>0.703704</td>\n",
              "      <td>0.777778</td>\n",
              "      <td>18.571429</td>\n",
              "      <td>Null</td>\n",
              "    </tr>\n",
              "    <tr>\n",
              "      <th>...</th>\n",
              "      <td>...</td>\n",
              "      <td>...</td>\n",
              "      <td>...</td>\n",
              "      <td>...</td>\n",
              "      <td>...</td>\n",
              "      <td>...</td>\n",
              "      <td>...</td>\n",
              "      <td>...</td>\n",
              "      <td>...</td>\n",
              "      <td>...</td>\n",
              "      <td>...</td>\n",
              "      <td>...</td>\n",
              "      <td>...</td>\n",
              "      <td>...</td>\n",
              "      <td>...</td>\n",
              "      <td>...</td>\n",
              "      <td>...</td>\n",
              "      <td>...</td>\n",
              "      <td>...</td>\n",
              "      <td>...</td>\n",
              "      <td>...</td>\n",
              "    </tr>\n",
              "    <tr>\n",
              "      <th>184146</th>\n",
              "      <td>172906</td>\n",
              "      <td>2716</td>\n",
              "      <td>178495</td>\n",
              "      <td>17</td>\n",
              "      <td>3</td>\n",
              "      <td>19</td>\n",
              "      <td>7</td>\n",
              "      <td>0</td>\n",
              "      <td>2</td>\n",
              "      <td>12</td>\n",
              "      <td>...</td>\n",
              "      <td>de_mirage</td>\n",
              "      <td>9</td>\n",
              "      <td>9.0</td>\n",
              "      <td>4.0</td>\n",
              "      <td>0.0</td>\n",
              "      <td>0</td>\n",
              "      <td>0.607143</td>\n",
              "      <td>0.678571</td>\n",
              "      <td>20.714286</td>\n",
              "      <td>Null</td>\n",
              "    </tr>\n",
              "    <tr>\n",
              "      <th>184147</th>\n",
              "      <td>172907</td>\n",
              "      <td>2716</td>\n",
              "      <td>178496</td>\n",
              "      <td>21</td>\n",
              "      <td>3</td>\n",
              "      <td>13</td>\n",
              "      <td>5</td>\n",
              "      <td>1</td>\n",
              "      <td>1</td>\n",
              "      <td>8</td>\n",
              "      <td>...</td>\n",
              "      <td>de_vertigo</td>\n",
              "      <td>9</td>\n",
              "      <td>11.0</td>\n",
              "      <td>0.0</td>\n",
              "      <td>0.0</td>\n",
              "      <td>1</td>\n",
              "      <td>0.807692</td>\n",
              "      <td>0.500000</td>\n",
              "      <td>15.714286</td>\n",
              "      <td>Null</td>\n",
              "    </tr>\n",
              "    <tr>\n",
              "      <th>184148</th>\n",
              "      <td>172908</td>\n",
              "      <td>2716</td>\n",
              "      <td>178497</td>\n",
              "      <td>15</td>\n",
              "      <td>1</td>\n",
              "      <td>22</td>\n",
              "      <td>5</td>\n",
              "      <td>0</td>\n",
              "      <td>1</td>\n",
              "      <td>11</td>\n",
              "      <td>...</td>\n",
              "      <td>de_nuke</td>\n",
              "      <td>9</td>\n",
              "      <td>7.0</td>\n",
              "      <td>5.0</td>\n",
              "      <td>0.0</td>\n",
              "      <td>1</td>\n",
              "      <td>0.517241</td>\n",
              "      <td>0.758621</td>\n",
              "      <td>18.571429</td>\n",
              "      <td>Null</td>\n",
              "    </tr>\n",
              "    <tr>\n",
              "      <th>184149</th>\n",
              "      <td>172909</td>\n",
              "      <td>2716</td>\n",
              "      <td>178498</td>\n",
              "      <td>9</td>\n",
              "      <td>6</td>\n",
              "      <td>23</td>\n",
              "      <td>2</td>\n",
              "      <td>0</td>\n",
              "      <td>3</td>\n",
              "      <td>9</td>\n",
              "      <td>...</td>\n",
              "      <td>de_vertigo</td>\n",
              "      <td>9</td>\n",
              "      <td>4.0</td>\n",
              "      <td>2.0</td>\n",
              "      <td>0.0</td>\n",
              "      <td>0</td>\n",
              "      <td>0.333333</td>\n",
              "      <td>0.851852</td>\n",
              "      <td>25.000000</td>\n",
              "      <td>Null</td>\n",
              "    </tr>\n",
              "    <tr>\n",
              "      <th>184150</th>\n",
              "      <td>172910</td>\n",
              "      <td>2716</td>\n",
              "      <td>178499</td>\n",
              "      <td>15</td>\n",
              "      <td>5</td>\n",
              "      <td>20</td>\n",
              "      <td>6</td>\n",
              "      <td>0</td>\n",
              "      <td>2</td>\n",
              "      <td>13</td>\n",
              "      <td>...</td>\n",
              "      <td>de_dust2</td>\n",
              "      <td>9</td>\n",
              "      <td>5.0</td>\n",
              "      <td>3.0</td>\n",
              "      <td>1.0</td>\n",
              "      <td>0</td>\n",
              "      <td>0.600000</td>\n",
              "      <td>0.800000</td>\n",
              "      <td>22.142857</td>\n",
              "      <td>Null</td>\n",
              "    </tr>\n",
              "  </tbody>\n",
              "</table>\n",
              "<p>146441 rows × 30 columns</p>\n",
              "</div>\n",
              "      <button class=\"colab-df-convert\" onclick=\"convertToInteractive('df-57a329de-66a7-4cad-ba3c-485c0b591560')\"\n",
              "              title=\"Convert this dataframe to an interactive table.\"\n",
              "              style=\"display:none;\">\n",
              "        \n",
              "  <svg xmlns=\"http://www.w3.org/2000/svg\" height=\"24px\"viewBox=\"0 0 24 24\"\n",
              "       width=\"24px\">\n",
              "    <path d=\"M0 0h24v24H0V0z\" fill=\"none\"/>\n",
              "    <path d=\"M18.56 5.44l.94 2.06.94-2.06 2.06-.94-2.06-.94-.94-2.06-.94 2.06-2.06.94zm-11 1L8.5 8.5l.94-2.06 2.06-.94-2.06-.94L8.5 2.5l-.94 2.06-2.06.94zm10 10l.94 2.06.94-2.06 2.06-.94-2.06-.94-.94-2.06-.94 2.06-2.06.94z\"/><path d=\"M17.41 7.96l-1.37-1.37c-.4-.4-.92-.59-1.43-.59-.52 0-1.04.2-1.43.59L10.3 9.45l-7.72 7.72c-.78.78-.78 2.05 0 2.83L4 21.41c.39.39.9.59 1.41.59.51 0 1.02-.2 1.41-.59l7.78-7.78 2.81-2.81c.8-.78.8-2.07 0-2.86zM5.41 20L4 18.59l7.72-7.72 1.47 1.35L5.41 20z\"/>\n",
              "  </svg>\n",
              "      </button>\n",
              "      \n",
              "  <style>\n",
              "    .colab-df-container {\n",
              "      display:flex;\n",
              "      flex-wrap:wrap;\n",
              "      gap: 12px;\n",
              "    }\n",
              "\n",
              "    .colab-df-convert {\n",
              "      background-color: #E8F0FE;\n",
              "      border: none;\n",
              "      border-radius: 50%;\n",
              "      cursor: pointer;\n",
              "      display: none;\n",
              "      fill: #1967D2;\n",
              "      height: 32px;\n",
              "      padding: 0 0 0 0;\n",
              "      width: 32px;\n",
              "    }\n",
              "\n",
              "    .colab-df-convert:hover {\n",
              "      background-color: #E2EBFA;\n",
              "      box-shadow: 0px 1px 2px rgba(60, 64, 67, 0.3), 0px 1px 3px 1px rgba(60, 64, 67, 0.15);\n",
              "      fill: #174EA6;\n",
              "    }\n",
              "\n",
              "    [theme=dark] .colab-df-convert {\n",
              "      background-color: #3B4455;\n",
              "      fill: #D2E3FC;\n",
              "    }\n",
              "\n",
              "    [theme=dark] .colab-df-convert:hover {\n",
              "      background-color: #434B5C;\n",
              "      box-shadow: 0px 1px 3px 1px rgba(0, 0, 0, 0.15);\n",
              "      filter: drop-shadow(0px 1px 2px rgba(0, 0, 0, 0.3));\n",
              "      fill: #FFFFFF;\n",
              "    }\n",
              "  </style>\n",
              "\n",
              "      <script>\n",
              "        const buttonEl =\n",
              "          document.querySelector('#df-57a329de-66a7-4cad-ba3c-485c0b591560 button.colab-df-convert');\n",
              "        buttonEl.style.display =\n",
              "          google.colab.kernel.accessAllowed ? 'block' : 'none';\n",
              "\n",
              "        async function convertToInteractive(key) {\n",
              "          const element = document.querySelector('#df-57a329de-66a7-4cad-ba3c-485c0b591560');\n",
              "          const dataTable =\n",
              "            await google.colab.kernel.invokeFunction('convertToInteractive',\n",
              "                                                     [key], {});\n",
              "          if (!dataTable) return;\n",
              "\n",
              "          const docLinkHtml = 'Like what you see? Visit the ' +\n",
              "            '<a target=\"_blank\" href=https://colab.research.google.com/notebooks/data_table.ipynb>data table notebook</a>'\n",
              "            + ' to learn more about interactive tables.';\n",
              "          element.innerHTML = '';\n",
              "          dataTable['output_type'] = 'display_data';\n",
              "          await google.colab.output.renderOutput(dataTable, element);\n",
              "          const docLink = document.createElement('div');\n",
              "          docLink.innerHTML = docLinkHtml;\n",
              "          element.appendChild(docLink);\n",
              "        }\n",
              "      </script>\n",
              "    </div>\n",
              "  </div>\n",
              "  "
            ]
          },
          "metadata": {},
          "execution_count": 75
        }
      ]
    },
    {
      "cell_type": "code",
      "source": [
        "def playerQuality(df):\n",
        "  for i in df.index:\n",
        "    if (df['pps'][i] <= 20.0):\n",
        "      df['playerQuality'][i] = 'Ruim'\n",
        "    elif ((df['pps'][i] > 20.0)&(df['pps'][i] <= 40.0)):\n",
        "      df['playerQuality'][i] = 'Regular'\n",
        "    elif ((df['pps'][i] > 40.0)&(df['pps'][i] <= 60.0)):\n",
        "      df['playerQuality'][i] = 'Bom'\n",
        "    elif ((df['pps'][i] > 60.0)&(df['pps'][i] <= 80.0)):\n",
        "      df['playerQuality'][i] = 'Muito Bom'\n",
        "    elif (df['pps'][i] > 80.0):\n",
        "      df['playerQuality'][i] = 'Excelente'"
      ],
      "metadata": {
        "id": "vPUi2Wox36Vx"
      },
      "execution_count": 76,
      "outputs": []
    },
    {
      "cell_type": "code",
      "source": [
        "playerQuality(df_l)"
      ],
      "metadata": {
        "id": "caJ8bqq6z3mN",
        "colab": {
          "base_uri": "https://localhost:8080/"
        },
        "outputId": "12764b96-6b3b-4153-8082-02349e373289"
      },
      "execution_count": 77,
      "outputs": [
        {
          "output_type": "stream",
          "name": "stderr",
          "text": [
            "/usr/local/lib/python3.7/dist-packages/ipykernel_launcher.py:6: SettingWithCopyWarning: \n",
            "A value is trying to be set on a copy of a slice from a DataFrame\n",
            "\n",
            "See the caveats in the documentation: https://pandas.pydata.org/pandas-docs/stable/user_guide/indexing.html#returning-a-view-versus-a-copy\n",
            "  \n",
            "/usr/local/lib/python3.7/dist-packages/ipykernel_launcher.py:4: SettingWithCopyWarning: \n",
            "A value is trying to be set on a copy of a slice from a DataFrame\n",
            "\n",
            "See the caveats in the documentation: https://pandas.pydata.org/pandas-docs/stable/user_guide/indexing.html#returning-a-view-versus-a-copy\n",
            "  after removing the cwd from sys.path.\n",
            "/usr/local/lib/python3.7/dist-packages/ipykernel_launcher.py:8: SettingWithCopyWarning: \n",
            "A value is trying to be set on a copy of a slice from a DataFrame\n",
            "\n",
            "See the caveats in the documentation: https://pandas.pydata.org/pandas-docs/stable/user_guide/indexing.html#returning-a-view-versus-a-copy\n",
            "  \n",
            "/usr/local/lib/python3.7/dist-packages/ipykernel_launcher.py:10: SettingWithCopyWarning: \n",
            "A value is trying to be set on a copy of a slice from a DataFrame\n",
            "\n",
            "See the caveats in the documentation: https://pandas.pydata.org/pandas-docs/stable/user_guide/indexing.html#returning-a-view-versus-a-copy\n",
            "  # Remove the CWD from sys.path while we load stuff.\n",
            "/usr/local/lib/python3.7/dist-packages/ipykernel_launcher.py:12: SettingWithCopyWarning: \n",
            "A value is trying to be set on a copy of a slice from a DataFrame\n",
            "\n",
            "See the caveats in the documentation: https://pandas.pydata.org/pandas-docs/stable/user_guide/indexing.html#returning-a-view-versus-a-copy\n",
            "  if sys.path[0] == '':\n"
          ]
        }
      ]
    },
    {
      "cell_type": "code",
      "source": [
        "df_l['playerQuality'].value_counts()"
      ],
      "metadata": {
        "colab": {
          "base_uri": "https://localhost:8080/"
        },
        "id": "Q5xNpWC355dw",
        "outputId": "d3954922-06ad-49ac-8bfa-b4fc7a8ccd9f"
      },
      "execution_count": 78,
      "outputs": [
        {
          "output_type": "execute_result",
          "data": {
            "text/plain": [
              "Regular      88040\n",
              "Ruim         52934\n",
              "Bom           5350\n",
              "Muito Bom      114\n",
              "Excelente        3\n",
              "Name: playerQuality, dtype: int64"
            ]
          },
          "metadata": {},
          "execution_count": 78
        }
      ]
    },
    {
      "cell_type": "code",
      "source": [
        "plt.bar(df_l['playerQuality'].unique(),df_l['playerQuality'].value_counts(), color='green')\n",
        "plt.ylabel('Quantidade total')\n",
        "plt.xlabel('Qualidade do jogador')\n",
        "plt.title('Quantidade de jogadores pela qualidade')\n",
        "plt.show()"
      ],
      "metadata": {
        "colab": {
          "base_uri": "https://localhost:8080/",
          "height": 295
        },
        "id": "OsqOrjAw4ERv",
        "outputId": "b85510d9-e446-415e-b0b7-3e6a9b315292"
      },
      "execution_count": 79,
      "outputs": [
        {
          "output_type": "display_data",
          "data": {
            "text/plain": [
              "<Figure size 432x288 with 1 Axes>"
            ],
            "image/png": "[encoded data removed]"
          },
          "metadata": {
            "needs_background": "light"
          }
        }
      ]
    },
    {
      "cell_type": "code",
      "source": [
        "playersLosers = df_l[df_l[\"flWinner\"]==0]\n",
        "plt.bar(playersLosers['playerQuality'].unique(),playersLosers['playerQuality'].value_counts(), color='red')\n",
        "plt.ylabel('Quantidade total de jogadores que perderam')\n",
        "plt.xlabel('Qualidade do jogador')\n",
        "plt.title('Quantidade de jogadores que perderam pela qualidade')\n",
        "plt.show()"
      ],
      "metadata": {
        "colab": {
          "base_uri": "https://localhost:8080/",
          "height": 295
        },
        "id": "aW0ZhHR44zAf",
        "outputId": "c245bedf-1219-41b1-a933-131d73bb07d3"
      },
      "execution_count": 80,
      "outputs": [
        {
          "output_type": "display_data",
          "data": {
            "text/plain": [
              "<Figure size 432x288 with 1 Axes>"
            ],
            "image/png": "[encoded data removed]"
          },
          "metadata": {
            "needs_background": "light"
          }
        }
      ]
    },
    {
      "cell_type": "code",
      "source": [
        "playersWinners = df_l[df_l[\"flWinner\"]==1]\n",
        "plt.bar(playersWinners['playerQuality'].unique(),playersWinners['playerQuality'].value_counts(), color='blue')\n",
        "plt.ylabel('Quantidade total de jogadores que ganharam')\n",
        "plt.xlabel('Qualidade do jogador')\n",
        "plt.title('Quantidade de jogadores que ganharam pela qualidade')\n",
        "plt.show()"
      ],
      "metadata": {
        "colab": {
          "base_uri": "https://localhost:8080/",
          "height": 295
        },
        "id": "dKQ60t_W5vd_",
        "outputId": "cf213d02-6b73-4b1b-c923-d48b867a8578"
      },
      "execution_count": 81,
      "outputs": [
        {
          "output_type": "display_data",
          "data": {
            "text/plain": [
              "<Figure size 432x288 with 1 Axes>"
            ],
            "image/png": "[encoded data removed]"
          },
          "metadata": {
            "needs_background": "light"
          }
        }
      ]
    },
    {
      "cell_type": "code",
      "source": [
        "playersLosers['playerQuality'].value_counts()"
      ],
      "metadata": {
        "colab": {
          "base_uri": "https://localhost:8080/"
        },
        "id": "H_WQFwTv6O6b",
        "outputId": "af4f3851-6286-4943-b262-0f3c59acfc5f"
      },
      "execution_count": 82,
      "outputs": [
        {
          "output_type": "execute_result",
          "data": {
            "text/plain": [
              "Regular      38329\n",
              "Ruim         32925\n",
              "Bom           1902\n",
              "Muito Bom       41\n",
              "Excelente        2\n",
              "Name: playerQuality, dtype: int64"
            ]
          },
          "metadata": {},
          "execution_count": 82
        }
      ]
    },
    {
      "cell_type": "code",
      "source": [
        "playersWinners['playerQuality'].value_counts()"
      ],
      "metadata": {
        "colab": {
          "base_uri": "https://localhost:8080/"
        },
        "id": "0RJYO4366B36",
        "outputId": "3d6d719b-a8f6-4465-f24e-0aceb8f4e606"
      },
      "execution_count": 83,
      "outputs": [
        {
          "output_type": "execute_result",
          "data": {
            "text/plain": [
              "Regular      49711\n",
              "Ruim         20009\n",
              "Bom           3448\n",
              "Muito Bom       73\n",
              "Excelente        1\n",
              "Name: playerQuality, dtype: int64"
            ]
          },
          "metadata": {},
          "execution_count": 83
        }
      ]
    },
    {
      "cell_type": "code",
      "source": [
        "vg = df_l[df_l['kpr']>=2]\n",
        "plt.bar(vg['qtRoundsPlayed'].unique(), vg['qtRoundsPlayed'].value_counts(), color='gray')\n",
        "plt.ylabel('Quantidade total de pessoas')\n",
        "plt.xlabel('quantidade de rounds jogados')\n",
        "plt.title('Quantidade total de pessoas com kdr maior que 2 que jogaram x rounds')\n",
        "plt.show()"
      ],
      "metadata": {
        "colab": {
          "base_uri": "https://localhost:8080/",
          "height": 295
        },
        "id": "jZJ-sZOmmdYj",
        "outputId": "b248b058-f7e7-4994-a6d7-896c2d1b1e43"
      },
      "execution_count": 84,
      "outputs": [
        {
          "output_type": "display_data",
          "data": {
            "text/plain": [
              "<Figure size 432x288 with 1 Axes>"
            ],
            "image/png": "[encoded data removed]"
          },
          "metadata": {
            "needs_background": "light"
          }
        }
      ]
    },
    {
      "cell_type": "code",
      "source": [
        "df_l['qtRoundsPlayed'].describe()\n",
        "#usar 1 quartil como separador deixando como minimo 23 rounds para se avaliar um jogador"
      ],
      "metadata": {
        "colab": {
          "base_uri": "https://localhost:8080/"
        },
        "id": "2-Dneb2VopZ0",
        "outputId": "1637dc04-c9cb-46fb-86bd-1dcbb8560d08"
      },
      "execution_count": 15,
      "outputs": [
        {
          "output_type": "execute_result",
          "data": {
            "text/plain": [
              "count    146441.000000\n",
              "mean         28.358691\n",
              "std           4.582400\n",
              "min          23.000000\n",
              "25%          25.000000\n",
              "50%          28.000000\n",
              "75%          30.000000\n",
              "max          84.000000\n",
              "Name: qtRoundsPlayed, dtype: float64"
            ]
          },
          "metadata": {},
          "execution_count": 15
        }
      ]
    },
    {
      "cell_type": "code",
      "source": [
        "vgpw = playersWinners[playersWinners['playerQuality']=='Muito Bom']\n",
        "plt.bar(vgpw['descMapName'].unique(), vgpw['descMapName'].value_counts(), color='yellow')\n",
        "plt.ylabel('Quantidade total de mapas')\n",
        "plt.xlabel('Nome do mapa')\n",
        "plt.title('Quantidade de mapas jogados pelos jogadores que ganharam que são muito bons')\n",
        "plt.show()"
      ],
      "metadata": {
        "colab": {
          "base_uri": "https://localhost:8080/",
          "height": 296
        },
        "id": "Oo8nfZco8xBH",
        "outputId": "9ce78aad-f8c1-4f48-c9eb-24feba652489"
      },
      "execution_count": 16,
      "outputs": [
        {
          "output_type": "display_data",
          "data": {
            "text/plain": [
              "<Figure size 432x288 with 1 Axes>"
            ],
            "image/png": "[encoded data removed]"
          },
          "metadata": {
            "needs_background": "light"
          }
        }
      ]
    },
    {
      "cell_type": "code",
      "source": [
        "vgpl = playersLosers[playersLosers['playerQuality']=='Muito Bom']\n",
        "plt.bar(vgpl['descMapName'].unique(), vgpl['descMapName'].value_counts(), color='orange')\n",
        "plt.ylabel('Quantidade total de mapas')\n",
        "plt.xlabel('Nome do mapa')\n",
        "plt.title('Quantidade de mapas jogados pelos jogadores que perderam e são muito bons')\n",
        "plt.show()"
      ],
      "metadata": {
        "colab": {
          "base_uri": "https://localhost:8080/",
          "height": 296
        },
        "id": "32aGFgde-0ie",
        "outputId": "6cab4f29-6296-4744-cc35-606e2ce65dbb"
      },
      "execution_count": 17,
      "outputs": [
        {
          "output_type": "display_data",
          "data": {
            "text/plain": [
              "<Figure size 432x288 with 1 Axes>"
            ],
            "image/png": "[encoded data removed]"
          },
          "metadata": {
            "needs_background": "light"
          }
        }
      ]
    },
    {
      "cell_type": "code",
      "source": [
        "plt.bar(df_l['descMapName'].unique(), df_l['descMapName'].value_counts(), color='blue')\n",
        "plt.ylabel('Quantidade total de mapas')\n",
        "plt.xlabel('Nome do mapa')\n",
        "plt.title('Quantidade de mapas jogados pelos jogadores do database')\n",
        "plt.show()"
      ],
      "metadata": {
        "colab": {
          "base_uri": "https://localhost:8080/",
          "height": 296
        },
        "id": "hBXLr1sWBHAL",
        "outputId": "6054c927-a536-44a3-c5f8-fe9e428cbfa2"
      },
      "execution_count": 18,
      "outputs": [
        {
          "output_type": "display_data",
          "data": {
            "text/plain": [
              "<Figure size 432x288 with 1 Axes>"
            ],
            "image/png": "[encoded data removed]"
          },
          "metadata": {
            "needs_background": "light"
          }
        }
      ]
    },
    {
      "cell_type": "code",
      "source": [
        "vgp = df_l[df_l['pps']>=60]\n",
        "plt.bar(vgp['descMapName'].unique(), vgp['descMapName'].value_counts(), color='orange')\n",
        "plt.ylabel('Quantidade total de mapas')\n",
        "plt.xlabel('Nome do mapa')\n",
        "plt.title('Quantidade de mapas jogados pelos jogadores que são muito bons')\n",
        "plt.show()\n",
        "#jogadores com qualidade alta tendem a jogar mais inferno -> Over -> dust2 -> vertigo -> Mirage -> Nuke -> Train -> Ancient"
      ],
      "metadata": {
        "colab": {
          "base_uri": "https://localhost:8080/",
          "height": 296
        },
        "id": "Vu0Tqrzz_xAy",
        "outputId": "0ff0ae59-7272-4068-bcb6-9bc577500c25"
      },
      "execution_count": 19,
      "outputs": [
        {
          "output_type": "display_data",
          "data": {
            "text/plain": [
              "<Figure size 432x288 with 1 Axes>"
            ],
            "image/png": "[encoded data removed]"
          },
          "metadata": {
            "needs_background": "light"
          }
        }
      ]
    },
    {
      "cell_type": "code",
      "source": [
        "y=len(playersWinners[playersWinners['playerQuality']=='Muito Bom'])+len(playersLosers[playersLosers['playerQuality']=='Muito Bom'])\n",
        "x=len(playersWinners[playersWinners['playerQuality']=='Muito Bom'])/y\n",
        "x\n",
        "#chance de vitoria de um player muito bom"
      ],
      "metadata": {
        "colab": {
          "base_uri": "https://localhost:8080/"
        },
        "id": "w-FDtFT4lxL5",
        "outputId": "7662f7ae-9998-45c3-e633-d31491c69857"
      },
      "execution_count": 20,
      "outputs": [
        {
          "output_type": "execute_result",
          "data": {
            "text/plain": [
              "0.6403508771929824"
            ]
          },
          "metadata": {},
          "execution_count": 20
        }
      ]
    },
    {
      "cell_type": "code",
      "source": [
        "y=len(playersWinners[playersWinners['playerQuality']=='Ruim'])+len(playersLosers[playersLosers['playerQuality']=='Ruim'])\n",
        "x=len(playersWinners[playersWinners['playerQuality']=='Ruim'])/y\n",
        "x\n",
        "#chance de vitoria de um player ruim"
      ],
      "metadata": {
        "colab": {
          "base_uri": "https://localhost:8080/"
        },
        "id": "A78GMHk9v6vi",
        "outputId": "1c383056-5dd1-4c11-9862-60eaa1107474"
      },
      "execution_count": 21,
      "outputs": [
        {
          "output_type": "execute_result",
          "data": {
            "text/plain": [
              "0.377999017644614"
            ]
          },
          "metadata": {},
          "execution_count": 21
        }
      ]
    },
    {
      "cell_type": "code",
      "source": [
        "vgp = df_l[df_l['pps']<=60]\n",
        "plt.bar(vgp['descMapName'].unique(), vgp['descMapName'].value_counts(), color='red')\n",
        "plt.ylabel('Quantidade total de mapas')\n",
        "plt.xlabel('Nome do mapa')\n",
        "plt.title('Quantidade de mapas jogados pelos jogadores Regulares/Ruins')\n",
        "plt.show()\n",
        "#diferente dos jogadores bons, os ruins tendem a jogar os mapas mais dificeis, e mais recentes, como Nuke, Vertigo e Ancient"
      ],
      "metadata": {
        "colab": {
          "base_uri": "https://localhost:8080/",
          "height": 296
        },
        "id": "OUFOxQ2EBfWw",
        "outputId": "a907f661-f7fa-40d0-e470-4fe8aebb48a3"
      },
      "execution_count": 22,
      "outputs": [
        {
          "output_type": "display_data",
          "data": {
            "text/plain": [
              "<Figure size 432x288 with 1 Axes>"
            ],
            "image/png": "[encoded data removed]"
          },
          "metadata": {
            "needs_background": "light"
          }
        }
      ]
    },
    {
      "cell_type": "code",
      "source": [
        "vgpl = playersWinners[playersWinners['playerQuality']=='Ruim']\n",
        "plt.bar(vgpl['descMapName'].unique(), vgpl['descMapName'].value_counts(), color='Green')\n",
        "plt.ylabel('Quantidade total de mapas')\n",
        "plt.xlabel('Nome do mapa')\n",
        "plt.title('Quantidade de vitorias dos jogadores que são Ruins/Mapa')\n",
        "plt.show()\n",
        "#Nuke, o mapa que eles mais jogam, é o terceiro mapa que ele menos ganham."
      ],
      "metadata": {
        "colab": {
          "base_uri": "https://localhost:8080/",
          "height": 296
        },
        "id": "mzyEQn2wx3nq",
        "outputId": "ce10a377-e048-4e9c-8d23-8acc21c47ef2"
      },
      "execution_count": 23,
      "outputs": [
        {
          "output_type": "display_data",
          "data": {
            "text/plain": [
              "<Figure size 432x288 with 1 Axes>"
            ],
            "image/png": "[encoded data removed]"
          },
          "metadata": {
            "needs_background": "light"
          }
        }
      ]
    },
    {
      "cell_type": "code",
      "source": [
        "plt.bar(playersLosers['vlLevel'].unique(), playersLosers['vlLevel'].value_counts(), color='purple')\n",
        "plt.ylabel('Quantidade total de jogadores do nivel')\n",
        "plt.xlabel('Nivel de jogadores que perderam')\n",
        "plt.title('Quantidade do nivel dos jogadores que perderam')\n",
        "plt.show()"
      ],
      "metadata": {
        "colab": {
          "base_uri": "https://localhost:8080/",
          "height": 295
        },
        "id": "XqpYYE0I_ZcE",
        "outputId": "f6a67dd8-798c-4f75-ba27-fac72a3f2009"
      },
      "execution_count": 24,
      "outputs": [
        {
          "output_type": "display_data",
          "data": {
            "text/plain": [
              "<Figure size 432x288 with 1 Axes>"
            ],
            "image/png": "[encoded data removed]"
          },
          "metadata": {
            "needs_background": "light"
          }
        }
      ]
    },
    {
      "cell_type": "code",
      "source": [
        "plt.bar(playersWinners['vlLevel'].unique(), playersWinners['vlLevel'].value_counts(), color='pink')\n",
        "plt.ylabel('Quantidade total de jogadores do nivel')\n",
        "plt.xlabel('Nivel de jogadores que ganharam')\n",
        "plt.title('Quantidade do nivel dos jogadores que ganharam')\n",
        "plt.show()"
      ],
      "metadata": {
        "colab": {
          "base_uri": "https://localhost:8080/",
          "height": 295
        },
        "id": "g_9KDkJJ_xdI",
        "outputId": "120f92e1-7c8e-42e2-b81b-c9bd4bfd291f"
      },
      "execution_count": 25,
      "outputs": [
        {
          "output_type": "display_data",
          "data": {
            "text/plain": [
              "<Figure size 432x288 with 1 Axes>"
            ],
            "image/png": "[encoded data removed]"
          },
          "metadata": {
            "needs_background": "light"
          }
        }
      ]
    },
    {
      "cell_type": "code",
      "source": [
        "rpl = playersLosers[playersLosers['playerQuality']=='Regular']\n",
        "plt.bar(rpl['vlLevel'].unique(), rpl['vlLevel'].value_counts(), color='cyan')\n",
        "plt.ylabel('Quantidade total de jogadores do nivel')\n",
        "plt.xlabel('Nivel de jogadores que perderam')\n",
        "plt.title('Quantidade do nivel dos jogadores Regulares que perderam')\n",
        "plt.show()"
      ],
      "metadata": {
        "colab": {
          "base_uri": "https://localhost:8080/",
          "height": 295
        },
        "id": "UmtM9GRJAE0M",
        "outputId": "b6c73f9e-4613-4157-90ea-8a710af9b8b6"
      },
      "execution_count": 26,
      "outputs": [
        {
          "output_type": "display_data",
          "data": {
            "text/plain": [
              "<Figure size 432x288 with 1 Axes>"
            ],
            "image/png": "[encoded data removed]"
          },
          "metadata": {
            "needs_background": "light"
          }
        }
      ]
    },
    {
      "cell_type": "code",
      "source": [
        "rpl = playersWinners[playersWinners['playerQuality']=='Muito Bom']\n",
        "plt.bar(rpl['vlLevel'].unique(), rpl['vlLevel'].value_counts(), color='brown')\n",
        "plt.ylabel('Quantidade total de jogadores do nivel')\n",
        "plt.xlabel('Nivel de jogadores que perderam')\n",
        "plt.title('Quantidade do nivel dos jogadores Regulares que perderam')\n",
        "plt.show()"
      ],
      "metadata": {
        "colab": {
          "base_uri": "https://localhost:8080/",
          "height": 295
        },
        "id": "2Vq9a7frAetu",
        "outputId": "865456a6-0736-40e1-a463-63540b6c282b"
      },
      "execution_count": 27,
      "outputs": [
        {
          "output_type": "display_data",
          "data": {
            "text/plain": [
              "<Figure size 432x288 with 1 Axes>"
            ],
            "image/png": "[encoded data removed]"
          },
          "metadata": {
            "needs_background": "light"
          }
        }
      ]
    },
    {
      "cell_type": "code",
      "source": [
        "rpl = df_l[df_l['pps']>=60]\n",
        "plt.bar(rpl['vlLevel'].unique(), rpl['vlLevel'].value_counts(), color='green')\n",
        "plt.ylabel('Quantidade total de jogadores do nivel')\n",
        "plt.xlabel('Nivel de jogadores que perderam')\n",
        "plt.title('Nivel dos jogadores considerados muito bons')\n",
        "plt.show()"
      ],
      "metadata": {
        "colab": {
          "base_uri": "https://localhost:8080/",
          "height": 295
        },
        "id": "YN5Vtq4T1BVe",
        "outputId": "104c5616-f2de-468d-a943-b4caf7936e67"
      },
      "execution_count": 28,
      "outputs": [
        {
          "output_type": "display_data",
          "data": {
            "text/plain": [
              "<Figure size 432x288 with 1 Axes>"
            ],
            "image/png": "[encoded data removed]"
          },
          "metadata": {
            "needs_background": "light"
          }
        }
      ]
    },
    {
      "cell_type": "code",
      "source": [
        "rpl = df_l[df_l['pps']<=60]\n",
        "plt.bar(rpl['vlLevel'].unique(), rpl['vlLevel'].value_counts(), color='red')\n",
        "plt.ylabel('Quantidade total de jogadores do nivel')\n",
        "plt.xlabel('Nivel de jogadores que perderam')\n",
        "plt.title('Nivel dos jogadores considerados muito ruins')\n",
        "plt.show()"
      ],
      "metadata": {
        "colab": {
          "base_uri": "https://localhost:8080/",
          "height": 295
        },
        "id": "Mu-AtDzBCfS5",
        "outputId": "41f851de-80d8-40b3-f127-ea8ed7429545"
      },
      "execution_count": 29,
      "outputs": [
        {
          "output_type": "display_data",
          "data": {
            "text/plain": [
              "<Figure size 432x288 with 1 Axes>"
            ],
            "image/png": "[encoded data removed]"
          },
          "metadata": {
            "needs_background": "light"
          }
        }
      ]
    },
    {
      "cell_type": "code",
      "source": [
        "df_l['pps'].describe()"
      ],
      "metadata": {
        "id": "Pajn2x-wIGvY",
        "colab": {
          "base_uri": "https://localhost:8080/"
        },
        "outputId": "ec91ce9f-4395-47fb-c827-677a80c48948"
      },
      "execution_count": 30,
      "outputs": [
        {
          "output_type": "execute_result",
          "data": {
            "text/plain": [
              "count    146441.000000\n",
              "mean         23.866106\n",
              "std           8.441323\n",
              "min           0.000000\n",
              "25%          17.857143\n",
              "50%          22.857143\n",
              "75%          29.285714\n",
              "max          90.714286\n",
              "Name: pps, dtype: float64"
            ]
          },
          "metadata": {},
          "execution_count": 30
        }
      ]
    },
    {
      "cell_type": "code",
      "source": [
        "killPorMapa = df_l.boxplot(column='kpr',by=\"descMapName\", rot =90)\n",
        "killPorMapa.set_title(\"kpr por mapa\")\n",
        "#inconclusivo por enquanto, pois o mapa que tem mais kills também é o mapa mais jogado\n",
        "#isso deve ser calculado com base na media de kills por partida "
      ],
      "metadata": {
        "id": "d1oksjRmknBz",
        "colab": {
          "base_uri": "https://localhost:8080/",
          "height": 425
        },
        "outputId": "bf345120-875d-4359-9e56-9f709aa8facc"
      },
      "execution_count": 31,
      "outputs": [
        {
          "output_type": "stream",
          "name": "stderr",
          "text": [
            "/usr/local/lib/python3.7/dist-packages/matplotlib/cbook/__init__.py:1376: VisibleDeprecationWarning: Creating an ndarray from ragged nested sequences (which is a list-or-tuple of lists-or-tuples-or ndarrays with different lengths or shapes) is deprecated. If you meant to do this, you must specify 'dtype=object' when creating the ndarray.\n",
            "  X = np.atleast_1d(X.T if isinstance(X, np.ndarray) else np.asarray(X))\n"
          ]
        },
        {
          "output_type": "execute_result",
          "data": {
            "text/plain": [
              "Text(0.5, 1.0, 'kpr por mapa')"
            ]
          },
          "metadata": {},
          "execution_count": 31
        },
        {
          "output_type": "display_data",
          "data": {
            "text/plain": [
              "<Figure size 432x288 with 1 Axes>"
            ],
            "image/png": "[encoded data removed]"
          },
          "metadata": {
            "needs_background": "light"
          }
        }
      ]
    },
    {
      "cell_type": "code",
      "source": [
        "x = df_l.groupby('descMapName')\n",
        "y = x['qtKill'].count()\n",
        "x['qtKill'].describe()\n",
        "#MEDIA DE KILLS POR MAPA"
      ],
      "metadata": {
        "id": "EOIOLMvanQEe",
        "colab": {
          "base_uri": "https://localhost:8080/",
          "height": 332
        },
        "outputId": "48a5def2-f940-4784-8e76-dcafba856b86"
      },
      "execution_count": 32,
      "outputs": [
        {
          "output_type": "execute_result",
          "data": {
            "text/plain": [
              "               count       mean       std  min   25%   50%   75%   max\n",
              "descMapName                                                           \n",
              "de_ancient    3387.0  20.859463  7.154590  0.0  16.0  20.0  25.0  61.0\n",
              "de_dust2     18761.0  20.382282  7.161748  0.0  15.0  20.0  25.0  85.0\n",
              "de_inferno   33851.0  20.092878  6.847048  0.0  15.0  19.0  24.0  70.0\n",
              "de_mirage    45901.0  20.548093  7.164280  0.0  16.0  20.0  25.0  73.0\n",
              "de_nuke      11211.0  20.731514  7.000101  0.0  16.0  20.0  25.0  60.0\n",
              "de_overpass  11156.0  20.740498  6.976928  0.0  16.0  20.0  25.0  67.0\n",
              "de_train      6168.0  20.541180  7.106518  1.0  16.0  20.0  25.0  68.0\n",
              "de_vertigo   16006.0  20.820317  7.143809  0.0  16.0  20.0  25.0  63.0"
            ],
            "text/html": [
              "\n",
              "  <div id=\"df-4874c46e-36d3-483f-b0d3-151c1d19fdfc\">\n",
              "    <div class=\"colab-df-container\">\n",
              "      <div>\n",
              "<style scoped>\n",
              "    .dataframe tbody tr th:only-of-type {\n",
              "        vertical-align: middle;\n",
              "    }\n",
              "\n",
              "    .dataframe tbody tr th {\n",
              "        vertical-align: top;\n",
              "    }\n",
              "\n",
              "    .dataframe thead th {\n",
              "        text-align: right;\n",
              "    }\n",
              "</style>\n",
              "<table border=\"1\" class=\"dataframe\">\n",
              "  <thead>\n",
              "    <tr style=\"text-align: right;\">\n",
              "      <th></th>\n",
              "      <th>count</th>\n",
              "      <th>mean</th>\n",
              "      <th>std</th>\n",
              "      <th>min</th>\n",
              "      <th>25%</th>\n",
              "      <th>50%</th>\n",
              "      <th>75%</th>\n",
              "      <th>max</th>\n",
              "    </tr>\n",
              "    <tr>\n",
              "      <th>descMapName</th>\n",
              "      <th></th>\n",
              "      <th></th>\n",
              "      <th></th>\n",
              "      <th></th>\n",
              "      <th></th>\n",
              "      <th></th>\n",
              "      <th></th>\n",
              "      <th></th>\n",
              "    </tr>\n",
              "  </thead>\n",
              "  <tbody>\n",
              "    <tr>\n",
              "      <th>de_ancient</th>\n",
              "      <td>3387.0</td>\n",
              "      <td>20.859463</td>\n",
              "      <td>7.154590</td>\n",
              "      <td>0.0</td>\n",
              "      <td>16.0</td>\n",
              "      <td>20.0</td>\n",
              "      <td>25.0</td>\n",
              "      <td>61.0</td>\n",
              "    </tr>\n",
              "    <tr>\n",
              "      <th>de_dust2</th>\n",
              "      <td>18761.0</td>\n",
              "      <td>20.382282</td>\n",
              "      <td>7.161748</td>\n",
              "      <td>0.0</td>\n",
              "      <td>15.0</td>\n",
              "      <td>20.0</td>\n",
              "      <td>25.0</td>\n",
              "      <td>85.0</td>\n",
              "    </tr>\n",
              "    <tr>\n",
              "      <th>de_inferno</th>\n",
              "      <td>33851.0</td>\n",
              "      <td>20.092878</td>\n",
              "      <td>6.847048</td>\n",
              "      <td>0.0</td>\n",
              "      <td>15.0</td>\n",
              "      <td>19.0</td>\n",
              "      <td>24.0</td>\n",
              "      <td>70.0</td>\n",
              "    </tr>\n",
              "    <tr>\n",
              "      <th>de_mirage</th>\n",
              "      <td>45901.0</td>\n",
              "      <td>20.548093</td>\n",
              "      <td>7.164280</td>\n",
              "      <td>0.0</td>\n",
              "      <td>16.0</td>\n",
              "      <td>20.0</td>\n",
              "      <td>25.0</td>\n",
              "      <td>73.0</td>\n",
              "    </tr>\n",
              "    <tr>\n",
              "      <th>de_nuke</th>\n",
              "      <td>11211.0</td>\n",
              "      <td>20.731514</td>\n",
              "      <td>7.000101</td>\n",
              "      <td>0.0</td>\n",
              "      <td>16.0</td>\n",
              "      <td>20.0</td>\n",
              "      <td>25.0</td>\n",
              "      <td>60.0</td>\n",
              "    </tr>\n",
              "    <tr>\n",
              "      <th>de_overpass</th>\n",
              "      <td>11156.0</td>\n",
              "      <td>20.740498</td>\n",
              "      <td>6.976928</td>\n",
              "      <td>0.0</td>\n",
              "      <td>16.0</td>\n",
              "      <td>20.0</td>\n",
              "      <td>25.0</td>\n",
              "      <td>67.0</td>\n",
              "    </tr>\n",
              "    <tr>\n",
              "      <th>de_train</th>\n",
              "      <td>6168.0</td>\n",
              "      <td>20.541180</td>\n",
              "      <td>7.106518</td>\n",
              "      <td>1.0</td>\n",
              "      <td>16.0</td>\n",
              "      <td>20.0</td>\n",
              "      <td>25.0</td>\n",
              "      <td>68.0</td>\n",
              "    </tr>\n",
              "    <tr>\n",
              "      <th>de_vertigo</th>\n",
              "      <td>16006.0</td>\n",
              "      <td>20.820317</td>\n",
              "      <td>7.143809</td>\n",
              "      <td>0.0</td>\n",
              "      <td>16.0</td>\n",
              "      <td>20.0</td>\n",
              "      <td>25.0</td>\n",
              "      <td>63.0</td>\n",
              "    </tr>\n",
              "  </tbody>\n",
              "</table>\n",
              "</div>\n",
              "      <button class=\"colab-df-convert\" onclick=\"convertToInteractive('df-4874c46e-36d3-483f-b0d3-151c1d19fdfc')\"\n",
              "              title=\"Convert this dataframe to an interactive table.\"\n",
              "              style=\"display:none;\">\n",
              "        \n",
              "  <svg xmlns=\"http://www.w3.org/2000/svg\" height=\"24px\"viewBox=\"0 0 24 24\"\n",
              "       width=\"24px\">\n",
              "    <path d=\"M0 0h24v24H0V0z\" fill=\"none\"/>\n",
              "    <path d=\"M18.56 5.44l.94 2.06.94-2.06 2.06-.94-2.06-.94-.94-2.06-.94 2.06-2.06.94zm-11 1L8.5 8.5l.94-2.06 2.06-.94-2.06-.94L8.5 2.5l-.94 2.06-2.06.94zm10 10l.94 2.06.94-2.06 2.06-.94-2.06-.94-.94-2.06-.94 2.06-2.06.94z\"/><path d=\"M17.41 7.96l-1.37-1.37c-.4-.4-.92-.59-1.43-.59-.52 0-1.04.2-1.43.59L10.3 9.45l-7.72 7.72c-.78.78-.78 2.05 0 2.83L4 21.41c.39.39.9.59 1.41.59.51 0 1.02-.2 1.41-.59l7.78-7.78 2.81-2.81c.8-.78.8-2.07 0-2.86zM5.41 20L4 18.59l7.72-7.72 1.47 1.35L5.41 20z\"/>\n",
              "  </svg>\n",
              "      </button>\n",
              "      \n",
              "  <style>\n",
              "    .colab-df-container {\n",
              "      display:flex;\n",
              "      flex-wrap:wrap;\n",
              "      gap: 12px;\n",
              "    }\n",
              "\n",
              "    .colab-df-convert {\n",
              "      background-color: #E8F0FE;\n",
              "      border: none;\n",
              "      border-radius: 50%;\n",
              "      cursor: pointer;\n",
              "      display: none;\n",
              "      fill: #1967D2;\n",
              "      height: 32px;\n",
              "      padding: 0 0 0 0;\n",
              "      width: 32px;\n",
              "    }\n",
              "\n",
              "    .colab-df-convert:hover {\n",
              "      background-color: #E2EBFA;\n",
              "      box-shadow: 0px 1px 2px rgba(60, 64, 67, 0.3), 0px 1px 3px 1px rgba(60, 64, 67, 0.15);\n",
              "      fill: #174EA6;\n",
              "    }\n",
              "\n",
              "    [theme=dark] .colab-df-convert {\n",
              "      background-color: #3B4455;\n",
              "      fill: #D2E3FC;\n",
              "    }\n",
              "\n",
              "    [theme=dark] .colab-df-convert:hover {\n",
              "      background-color: #434B5C;\n",
              "      box-shadow: 0px 1px 3px 1px rgba(0, 0, 0, 0.15);\n",
              "      filter: drop-shadow(0px 1px 2px rgba(0, 0, 0, 0.3));\n",
              "      fill: #FFFFFF;\n",
              "    }\n",
              "  </style>\n",
              "\n",
              "      <script>\n",
              "        const buttonEl =\n",
              "          document.querySelector('#df-4874c46e-36d3-483f-b0d3-151c1d19fdfc button.colab-df-convert');\n",
              "        buttonEl.style.display =\n",
              "          google.colab.kernel.accessAllowed ? 'block' : 'none';\n",
              "\n",
              "        async function convertToInteractive(key) {\n",
              "          const element = document.querySelector('#df-4874c46e-36d3-483f-b0d3-151c1d19fdfc');\n",
              "          const dataTable =\n",
              "            await google.colab.kernel.invokeFunction('convertToInteractive',\n",
              "                                                     [key], {});\n",
              "          if (!dataTable) return;\n",
              "\n",
              "          const docLinkHtml = 'Like what you see? Visit the ' +\n",
              "            '<a target=\"_blank\" href=https://colab.research.google.com/notebooks/data_table.ipynb>data table notebook</a>'\n",
              "            + ' to learn more about interactive tables.';\n",
              "          element.innerHTML = '';\n",
              "          dataTable['output_type'] = 'display_data';\n",
              "          await google.colab.output.renderOutput(dataTable, element);\n",
              "          const docLink = document.createElement('div');\n",
              "          docLink.innerHTML = docLinkHtml;\n",
              "          element.appendChild(docLink);\n",
              "        }\n",
              "      </script>\n",
              "    </div>\n",
              "  </div>\n",
              "  "
            ]
          },
          "metadata": {},
          "execution_count": 32
        }
      ]
    },
    {
      "cell_type": "code",
      "source": [
        "x = df_l.groupby('descMapName')\n",
        "y = x['qtClutchWon'].count()\n",
        "x['qtClutchWon'].describe()\n",
        "#MEDIA DE CLUTCH POR MAPA"
      ],
      "metadata": {
        "id": "QsdIUAjBHK7L",
        "colab": {
          "base_uri": "https://localhost:8080/",
          "height": 332
        },
        "outputId": "53ea89aa-cc80-470e-bb29-8d1c3a04bd05"
      },
      "execution_count": 33,
      "outputs": [
        {
          "output_type": "execute_result",
          "data": {
            "text/plain": [
              "               count      mean       std  min  25%  50%  75%  max\n",
              "descMapName                                                      \n",
              "de_ancient    3387.0  0.536758  0.756967  0.0  0.0  0.0  1.0  6.0\n",
              "de_dust2     18761.0  0.501626  0.733896  0.0  0.0  0.0  1.0  5.0\n",
              "de_inferno   33851.0  0.473634  0.711443  0.0  0.0  0.0  1.0  8.0\n",
              "de_mirage    45901.0  0.501514  0.731625  0.0  0.0  0.0  1.0  6.0\n",
              "de_nuke      11211.0  0.535545  0.763378  0.0  0.0  0.0  1.0  7.0\n",
              "de_overpass  11156.0  0.524919  0.748168  0.0  0.0  0.0  1.0  6.0\n",
              "de_train      6168.0  0.513619  0.739102  0.0  0.0  0.0  1.0  5.0\n",
              "de_vertigo   16006.0  0.544546  0.766029  0.0  0.0  0.0  1.0  8.0"
            ],
            "text/html": [
              "\n",
              "  <div id=\"df-0fe08155-e08f-4a75-b794-6e0152792748\">\n",
              "    <div class=\"colab-df-container\">\n",
              "      <div>\n",
              "<style scoped>\n",
              "    .dataframe tbody tr th:only-of-type {\n",
              "        vertical-align: middle;\n",
              "    }\n",
              "\n",
              "    .dataframe tbody tr th {\n",
              "        vertical-align: top;\n",
              "    }\n",
              "\n",
              "    .dataframe thead th {\n",
              "        text-align: right;\n",
              "    }\n",
              "</style>\n",
              "<table border=\"1\" class=\"dataframe\">\n",
              "  <thead>\n",
              "    <tr style=\"text-align: right;\">\n",
              "      <th></th>\n",
              "      <th>count</th>\n",
              "      <th>mean</th>\n",
              "      <th>std</th>\n",
              "      <th>min</th>\n",
              "      <th>25%</th>\n",
              "      <th>50%</th>\n",
              "      <th>75%</th>\n",
              "      <th>max</th>\n",
              "    </tr>\n",
              "    <tr>\n",
              "      <th>descMapName</th>\n",
              "      <th></th>\n",
              "      <th></th>\n",
              "      <th></th>\n",
              "      <th></th>\n",
              "      <th></th>\n",
              "      <th></th>\n",
              "      <th></th>\n",
              "      <th></th>\n",
              "    </tr>\n",
              "  </thead>\n",
              "  <tbody>\n",
              "    <tr>\n",
              "      <th>de_ancient</th>\n",
              "      <td>3387.0</td>\n",
              "      <td>0.536758</td>\n",
              "      <td>0.756967</td>\n",
              "      <td>0.0</td>\n",
              "      <td>0.0</td>\n",
              "      <td>0.0</td>\n",
              "      <td>1.0</td>\n",
              "      <td>6.0</td>\n",
              "    </tr>\n",
              "    <tr>\n",
              "      <th>de_dust2</th>\n",
              "      <td>18761.0</td>\n",
              "      <td>0.501626</td>\n",
              "      <td>0.733896</td>\n",
              "      <td>0.0</td>\n",
              "      <td>0.0</td>\n",
              "      <td>0.0</td>\n",
              "      <td>1.0</td>\n",
              "      <td>5.0</td>\n",
              "    </tr>\n",
              "    <tr>\n",
              "      <th>de_inferno</th>\n",
              "      <td>33851.0</td>\n",
              "      <td>0.473634</td>\n",
              "      <td>0.711443</td>\n",
              "      <td>0.0</td>\n",
              "      <td>0.0</td>\n",
              "      <td>0.0</td>\n",
              "      <td>1.0</td>\n",
              "      <td>8.0</td>\n",
              "    </tr>\n",
              "    <tr>\n",
              "      <th>de_mirage</th>\n",
              "      <td>45901.0</td>\n",
              "      <td>0.501514</td>\n",
              "      <td>0.731625</td>\n",
              "      <td>0.0</td>\n",
              "      <td>0.0</td>\n",
              "      <td>0.0</td>\n",
              "      <td>1.0</td>\n",
              "      <td>6.0</td>\n",
              "    </tr>\n",
              "    <tr>\n",
              "      <th>de_nuke</th>\n",
              "      <td>11211.0</td>\n",
              "      <td>0.535545</td>\n",
              "      <td>0.763378</td>\n",
              "      <td>0.0</td>\n",
              "      <td>0.0</td>\n",
              "      <td>0.0</td>\n",
              "      <td>1.0</td>\n",
              "      <td>7.0</td>\n",
              "    </tr>\n",
              "    <tr>\n",
              "      <th>de_overpass</th>\n",
              "      <td>11156.0</td>\n",
              "      <td>0.524919</td>\n",
              "      <td>0.748168</td>\n",
              "      <td>0.0</td>\n",
              "      <td>0.0</td>\n",
              "      <td>0.0</td>\n",
              "      <td>1.0</td>\n",
              "      <td>6.0</td>\n",
              "    </tr>\n",
              "    <tr>\n",
              "      <th>de_train</th>\n",
              "      <td>6168.0</td>\n",
              "      <td>0.513619</td>\n",
              "      <td>0.739102</td>\n",
              "      <td>0.0</td>\n",
              "      <td>0.0</td>\n",
              "      <td>0.0</td>\n",
              "      <td>1.0</td>\n",
              "      <td>5.0</td>\n",
              "    </tr>\n",
              "    <tr>\n",
              "      <th>de_vertigo</th>\n",
              "      <td>16006.0</td>\n",
              "      <td>0.544546</td>\n",
              "      <td>0.766029</td>\n",
              "      <td>0.0</td>\n",
              "      <td>0.0</td>\n",
              "      <td>0.0</td>\n",
              "      <td>1.0</td>\n",
              "      <td>8.0</td>\n",
              "    </tr>\n",
              "  </tbody>\n",
              "</table>\n",
              "</div>\n",
              "      <button class=\"colab-df-convert\" onclick=\"convertToInteractive('df-0fe08155-e08f-4a75-b794-6e0152792748')\"\n",
              "              title=\"Convert this dataframe to an interactive table.\"\n",
              "              style=\"display:none;\">\n",
              "        \n",
              "  <svg xmlns=\"http://www.w3.org/2000/svg\" height=\"24px\"viewBox=\"0 0 24 24\"\n",
              "       width=\"24px\">\n",
              "    <path d=\"M0 0h24v24H0V0z\" fill=\"none\"/>\n",
              "    <path d=\"M18.56 5.44l.94 2.06.94-2.06 2.06-.94-2.06-.94-.94-2.06-.94 2.06-2.06.94zm-11 1L8.5 8.5l.94-2.06 2.06-.94-2.06-.94L8.5 2.5l-.94 2.06-2.06.94zm10 10l.94 2.06.94-2.06 2.06-.94-2.06-.94-.94-2.06-.94 2.06-2.06.94z\"/><path d=\"M17.41 7.96l-1.37-1.37c-.4-.4-.92-.59-1.43-.59-.52 0-1.04.2-1.43.59L10.3 9.45l-7.72 7.72c-.78.78-.78 2.05 0 2.83L4 21.41c.39.39.9.59 1.41.59.51 0 1.02-.2 1.41-.59l7.78-7.78 2.81-2.81c.8-.78.8-2.07 0-2.86zM5.41 20L4 18.59l7.72-7.72 1.47 1.35L5.41 20z\"/>\n",
              "  </svg>\n",
              "      </button>\n",
              "      \n",
              "  <style>\n",
              "    .colab-df-container {\n",
              "      display:flex;\n",
              "      flex-wrap:wrap;\n",
              "      gap: 12px;\n",
              "    }\n",
              "\n",
              "    .colab-df-convert {\n",
              "      background-color: #E8F0FE;\n",
              "      border: none;\n",
              "      border-radius: 50%;\n",
              "      cursor: pointer;\n",
              "      display: none;\n",
              "      fill: #1967D2;\n",
              "      height: 32px;\n",
              "      padding: 0 0 0 0;\n",
              "      width: 32px;\n",
              "    }\n",
              "\n",
              "    .colab-df-convert:hover {\n",
              "      background-color: #E2EBFA;\n",
              "      box-shadow: 0px 1px 2px rgba(60, 64, 67, 0.3), 0px 1px 3px 1px rgba(60, 64, 67, 0.15);\n",
              "      fill: #174EA6;\n",
              "    }\n",
              "\n",
              "    [theme=dark] .colab-df-convert {\n",
              "      background-color: #3B4455;\n",
              "      fill: #D2E3FC;\n",
              "    }\n",
              "\n",
              "    [theme=dark] .colab-df-convert:hover {\n",
              "      background-color: #434B5C;\n",
              "      box-shadow: 0px 1px 3px 1px rgba(0, 0, 0, 0.15);\n",
              "      filter: drop-shadow(0px 1px 2px rgba(0, 0, 0, 0.3));\n",
              "      fill: #FFFFFF;\n",
              "    }\n",
              "  </style>\n",
              "\n",
              "      <script>\n",
              "        const buttonEl =\n",
              "          document.querySelector('#df-0fe08155-e08f-4a75-b794-6e0152792748 button.colab-df-convert');\n",
              "        buttonEl.style.display =\n",
              "          google.colab.kernel.accessAllowed ? 'block' : 'none';\n",
              "\n",
              "        async function convertToInteractive(key) {\n",
              "          const element = document.querySelector('#df-0fe08155-e08f-4a75-b794-6e0152792748');\n",
              "          const dataTable =\n",
              "            await google.colab.kernel.invokeFunction('convertToInteractive',\n",
              "                                                     [key], {});\n",
              "          if (!dataTable) return;\n",
              "\n",
              "          const docLinkHtml = 'Like what you see? Visit the ' +\n",
              "            '<a target=\"_blank\" href=https://colab.research.google.com/notebooks/data_table.ipynb>data table notebook</a>'\n",
              "            + ' to learn more about interactive tables.';\n",
              "          element.innerHTML = '';\n",
              "          dataTable['output_type'] = 'display_data';\n",
              "          await google.colab.output.renderOutput(dataTable, element);\n",
              "          const docLink = document.createElement('div');\n",
              "          docLink.innerHTML = docLinkHtml;\n",
              "          element.appendChild(docLink);\n",
              "        }\n",
              "      </script>\n",
              "    </div>\n",
              "  </div>\n",
              "  "
            ]
          },
          "metadata": {},
          "execution_count": 33
        }
      ]
    },
    {
      "cell_type": "code",
      "source": [
        "x = df_l.groupby('descMapName')\n",
        "y = x['kpr'].count()\n",
        "x['kpr'].describe()\n",
        "\n",
        "#MEDIA DE KPR POR MAPA"
      ],
      "metadata": {
        "id": "A7WWbLyDJU7j",
        "colab": {
          "base_uri": "https://localhost:8080/",
          "height": 332
        },
        "outputId": "1daf0027-0c30-4d5b-a71d-7391f9aad93f"
      },
      "execution_count": 34,
      "outputs": [
        {
          "output_type": "execute_result",
          "data": {
            "text/plain": [
              "               count      mean       std       min       25%       50%  \\\n",
              "descMapName                                                              \n",
              "de_ancient    3387.0  0.733093  0.222566  0.000000  0.583333  0.720000   \n",
              "de_dust2     18761.0  0.719231  0.225644  0.000000  0.560000  0.703704   \n",
              "de_inferno   33851.0  0.707766  0.215367  0.000000  0.560000  0.695652   \n",
              "de_mirage    45901.0  0.725325  0.226108  0.000000  0.566667  0.708333   \n",
              "de_nuke      11211.0  0.730884  0.219042  0.000000  0.583333  0.720000   \n",
              "de_overpass  11156.0  0.729719  0.217298  0.000000  0.576923  0.720000   \n",
              "de_train      6168.0  0.725963  0.223969  0.027778  0.571429  0.714286   \n",
              "de_vertigo   16006.0  0.734101  0.222927  0.000000  0.576923  0.722222   \n",
              "\n",
              "                  75%       max  \n",
              "descMapName                      \n",
              "de_ancient   0.870953  1.888889  \n",
              "de_dust2     0.862069  2.043478  \n",
              "de_inferno   0.840000  1.791667  \n",
              "de_mirage    0.866667  2.083333  \n",
              "de_nuke      0.866667  1.791667  \n",
              "de_overpass  0.866667  1.833333  \n",
              "de_train     0.862069  1.750000  \n",
              "de_vertigo   0.875000  1.827586  "
            ],
            "text/html": [
              "\n",
              "  <div id=\"df-4091ca2a-1ca1-4c93-93a3-06855c64ea0e\">\n",
              "    <div class=\"colab-df-container\">\n",
              "      <div>\n",
              "<style scoped>\n",
              "    .dataframe tbody tr th:only-of-type {\n",
              "        vertical-align: middle;\n",
              "    }\n",
              "\n",
              "    .dataframe tbody tr th {\n",
              "        vertical-align: top;\n",
              "    }\n",
              "\n",
              "    .dataframe thead th {\n",
              "        text-align: right;\n",
              "    }\n",
              "</style>\n",
              "<table border=\"1\" class=\"dataframe\">\n",
              "  <thead>\n",
              "    <tr style=\"text-align: right;\">\n",
              "      <th></th>\n",
              "      <th>count</th>\n",
              "      <th>mean</th>\n",
              "      <th>std</th>\n",
              "      <th>min</th>\n",
              "      <th>25%</th>\n",
              "      <th>50%</th>\n",
              "      <th>75%</th>\n",
              "      <th>max</th>\n",
              "    </tr>\n",
              "    <tr>\n",
              "      <th>descMapName</th>\n",
              "      <th></th>\n",
              "      <th></th>\n",
              "      <th></th>\n",
              "      <th></th>\n",
              "      <th></th>\n",
              "      <th></th>\n",
              "      <th></th>\n",
              "      <th></th>\n",
              "    </tr>\n",
              "  </thead>\n",
              "  <tbody>\n",
              "    <tr>\n",
              "      <th>de_ancient</th>\n",
              "      <td>3387.0</td>\n",
              "      <td>0.733093</td>\n",
              "      <td>0.222566</td>\n",
              "      <td>0.000000</td>\n",
              "      <td>0.583333</td>\n",
              "      <td>0.720000</td>\n",
              "      <td>0.870953</td>\n",
              "      <td>1.888889</td>\n",
              "    </tr>\n",
              "    <tr>\n",
              "      <th>de_dust2</th>\n",
              "      <td>18761.0</td>\n",
              "      <td>0.719231</td>\n",
              "      <td>0.225644</td>\n",
              "      <td>0.000000</td>\n",
              "      <td>0.560000</td>\n",
              "      <td>0.703704</td>\n",
              "      <td>0.862069</td>\n",
              "      <td>2.043478</td>\n",
              "    </tr>\n",
              "    <tr>\n",
              "      <th>de_inferno</th>\n",
              "      <td>33851.0</td>\n",
              "      <td>0.707766</td>\n",
              "      <td>0.215367</td>\n",
              "      <td>0.000000</td>\n",
              "      <td>0.560000</td>\n",
              "      <td>0.695652</td>\n",
              "      <td>0.840000</td>\n",
              "      <td>1.791667</td>\n",
              "    </tr>\n",
              "    <tr>\n",
              "      <th>de_mirage</th>\n",
              "      <td>45901.0</td>\n",
              "      <td>0.725325</td>\n",
              "      <td>0.226108</td>\n",
              "      <td>0.000000</td>\n",
              "      <td>0.566667</td>\n",
              "      <td>0.708333</td>\n",
              "      <td>0.866667</td>\n",
              "      <td>2.083333</td>\n",
              "    </tr>\n",
              "    <tr>\n",
              "      <th>de_nuke</th>\n",
              "      <td>11211.0</td>\n",
              "      <td>0.730884</td>\n",
              "      <td>0.219042</td>\n",
              "      <td>0.000000</td>\n",
              "      <td>0.583333</td>\n",
              "      <td>0.720000</td>\n",
              "      <td>0.866667</td>\n",
              "      <td>1.791667</td>\n",
              "    </tr>\n",
              "    <tr>\n",
              "      <th>de_overpass</th>\n",
              "      <td>11156.0</td>\n",
              "      <td>0.729719</td>\n",
              "      <td>0.217298</td>\n",
              "      <td>0.000000</td>\n",
              "      <td>0.576923</td>\n",
              "      <td>0.720000</td>\n",
              "      <td>0.866667</td>\n",
              "      <td>1.833333</td>\n",
              "    </tr>\n",
              "    <tr>\n",
              "      <th>de_train</th>\n",
              "      <td>6168.0</td>\n",
              "      <td>0.725963</td>\n",
              "      <td>0.223969</td>\n",
              "      <td>0.027778</td>\n",
              "      <td>0.571429</td>\n",
              "      <td>0.714286</td>\n",
              "      <td>0.862069</td>\n",
              "      <td>1.750000</td>\n",
              "    </tr>\n",
              "    <tr>\n",
              "      <th>de_vertigo</th>\n",
              "      <td>16006.0</td>\n",
              "      <td>0.734101</td>\n",
              "      <td>0.222927</td>\n",
              "      <td>0.000000</td>\n",
              "      <td>0.576923</td>\n",
              "      <td>0.722222</td>\n",
              "      <td>0.875000</td>\n",
              "      <td>1.827586</td>\n",
              "    </tr>\n",
              "  </tbody>\n",
              "</table>\n",
              "</div>\n",
              "      <button class=\"colab-df-convert\" onclick=\"convertToInteractive('df-4091ca2a-1ca1-4c93-93a3-06855c64ea0e')\"\n",
              "              title=\"Convert this dataframe to an interactive table.\"\n",
              "              style=\"display:none;\">\n",
              "        \n",
              "  <svg xmlns=\"http://www.w3.org/2000/svg\" height=\"24px\"viewBox=\"0 0 24 24\"\n",
              "       width=\"24px\">\n",
              "    <path d=\"M0 0h24v24H0V0z\" fill=\"none\"/>\n",
              "    <path d=\"M18.56 5.44l.94 2.06.94-2.06 2.06-.94-2.06-.94-.94-2.06-.94 2.06-2.06.94zm-11 1L8.5 8.5l.94-2.06 2.06-.94-2.06-.94L8.5 2.5l-.94 2.06-2.06.94zm10 10l.94 2.06.94-2.06 2.06-.94-2.06-.94-.94-2.06-.94 2.06-2.06.94z\"/><path d=\"M17.41 7.96l-1.37-1.37c-.4-.4-.92-.59-1.43-.59-.52 0-1.04.2-1.43.59L10.3 9.45l-7.72 7.72c-.78.78-.78 2.05 0 2.83L4 21.41c.39.39.9.59 1.41.59.51 0 1.02-.2 1.41-.59l7.78-7.78 2.81-2.81c.8-.78.8-2.07 0-2.86zM5.41 20L4 18.59l7.72-7.72 1.47 1.35L5.41 20z\"/>\n",
              "  </svg>\n",
              "      </button>\n",
              "      \n",
              "  <style>\n",
              "    .colab-df-container {\n",
              "      display:flex;\n",
              "      flex-wrap:wrap;\n",
              "      gap: 12px;\n",
              "    }\n",
              "\n",
              "    .colab-df-convert {\n",
              "      background-color: #E8F0FE;\n",
              "      border: none;\n",
              "      border-radius: 50%;\n",
              "      cursor: pointer;\n",
              "      display: none;\n",
              "      fill: #1967D2;\n",
              "      height: 32px;\n",
              "      padding: 0 0 0 0;\n",
              "      width: 32px;\n",
              "    }\n",
              "\n",
              "    .colab-df-convert:hover {\n",
              "      background-color: #E2EBFA;\n",
              "      box-shadow: 0px 1px 2px rgba(60, 64, 67, 0.3), 0px 1px 3px 1px rgba(60, 64, 67, 0.15);\n",
              "      fill: #174EA6;\n",
              "    }\n",
              "\n",
              "    [theme=dark] .colab-df-convert {\n",
              "      background-color: #3B4455;\n",
              "      fill: #D2E3FC;\n",
              "    }\n",
              "\n",
              "    [theme=dark] .colab-df-convert:hover {\n",
              "      background-color: #434B5C;\n",
              "      box-shadow: 0px 1px 3px 1px rgba(0, 0, 0, 0.15);\n",
              "      filter: drop-shadow(0px 1px 2px rgba(0, 0, 0, 0.3));\n",
              "      fill: #FFFFFF;\n",
              "    }\n",
              "  </style>\n",
              "\n",
              "      <script>\n",
              "        const buttonEl =\n",
              "          document.querySelector('#df-4091ca2a-1ca1-4c93-93a3-06855c64ea0e button.colab-df-convert');\n",
              "        buttonEl.style.display =\n",
              "          google.colab.kernel.accessAllowed ? 'block' : 'none';\n",
              "\n",
              "        async function convertToInteractive(key) {\n",
              "          const element = document.querySelector('#df-4091ca2a-1ca1-4c93-93a3-06855c64ea0e');\n",
              "          const dataTable =\n",
              "            await google.colab.kernel.invokeFunction('convertToInteractive',\n",
              "                                                     [key], {});\n",
              "          if (!dataTable) return;\n",
              "\n",
              "          const docLinkHtml = 'Like what you see? Visit the ' +\n",
              "            '<a target=\"_blank\" href=https://colab.research.google.com/notebooks/data_table.ipynb>data table notebook</a>'\n",
              "            + ' to learn more about interactive tables.';\n",
              "          element.innerHTML = '';\n",
              "          dataTable['output_type'] = 'display_data';\n",
              "          await google.colab.output.renderOutput(dataTable, element);\n",
              "          const docLink = document.createElement('div');\n",
              "          docLink.innerHTML = docLinkHtml;\n",
              "          element.appendChild(docLink);\n",
              "        }\n",
              "      </script>\n",
              "    </div>\n",
              "  </div>\n",
              "  "
            ]
          },
          "metadata": {},
          "execution_count": 34
        }
      ]
    },
    {
      "cell_type": "code",
      "source": [
        "kill = df_l.qtKill.sum() #quantidade de kills do DataBase\n",
        "flash = df_l.qtFlashAssist.sum()\n",
        "\n",
        "flash/kill #porcentagem de kills que tiveram auxilio de flashs\n",
        "#aproximadamente 2% das kills apenas tem assistencia de flashs"
      ],
      "metadata": {
        "id": "1HKADyxZp5gA",
        "colab": {
          "base_uri": "https://localhost:8080/"
        },
        "outputId": "73818e08-726b-4383-88ea-49cb16c766b8"
      },
      "execution_count": 35,
      "outputs": [
        {
          "output_type": "execute_result",
          "data": {
            "text/plain": [
              "0.02992931984727354"
            ]
          },
          "metadata": {},
          "execution_count": 35
        }
      ]
    },
    {
      "cell_type": "code",
      "source": [
        "killPorQualidade = df_l.boxplot(column='kpr',by=\"playerQuality\", rot =90)\n",
        "killPorQualidade.set_title(\"\")"
      ],
      "metadata": {
        "colab": {
          "base_uri": "https://localhost:8080/",
          "height": 416
        },
        "id": "jHixfU186lZJ",
        "outputId": "56d6f3c7-d138-4f79-e0f8-706f9bd16ae7"
      },
      "execution_count": 36,
      "outputs": [
        {
          "output_type": "stream",
          "name": "stderr",
          "text": [
            "/usr/local/lib/python3.7/dist-packages/matplotlib/cbook/__init__.py:1376: VisibleDeprecationWarning: Creating an ndarray from ragged nested sequences (which is a list-or-tuple of lists-or-tuples-or ndarrays with different lengths or shapes) is deprecated. If you meant to do this, you must specify 'dtype=object' when creating the ndarray.\n",
            "  X = np.atleast_1d(X.T if isinstance(X, np.ndarray) else np.asarray(X))\n"
          ]
        },
        {
          "output_type": "execute_result",
          "data": {
            "text/plain": [
              "Text(0.5, 1.0, '')"
            ]
          },
          "metadata": {},
          "execution_count": 36
        },
        {
          "output_type": "display_data",
          "data": {
            "text/plain": [
              "<Figure size 432x288 with 1 Axes>"
            ],
            "image/png": "[encoded data removed]"
          },
          "metadata": {
            "needs_background": "light"
          }
        }
      ]
    },
    {
      "cell_type": "code",
      "source": [
        "win = df_l['flWinner']>0\n",
        "win.value_counts()"
      ],
      "metadata": {
        "id": "AIc9iEpQ1Xzk",
        "colab": {
          "base_uri": "https://localhost:8080/"
        },
        "outputId": "59d5f912-9395-4dfd-fc33-666f74c4c06c"
      },
      "execution_count": 37,
      "outputs": [
        {
          "output_type": "execute_result",
          "data": {
            "text/plain": [
              "True     73242\n",
              "False    73199\n",
              "Name: flWinner, dtype: int64"
            ]
          },
          "metadata": {},
          "execution_count": 37
        }
      ]
    },
    {
      "cell_type": "code",
      "source": [
        "a = df_l[['dpr', 'qtSurvived']]\n",
        "b = df_l[['vlDamage', 'qtKill']]"
      ],
      "metadata": {
        "id": "vGfRqOEXe8kU"
      },
      "execution_count": 38,
      "outputs": []
    },
    {
      "cell_type": "code",
      "source": [
        "a.corr()"
      ],
      "metadata": {
        "colab": {
          "base_uri": "https://localhost:8080/",
          "height": 81
        },
        "id": "74Y4Q4yofA80",
        "outputId": "537a4583-e25d-4db4-e0c3-8b5f5e92f8a1"
      },
      "execution_count": 39,
      "outputs": [
        {
          "output_type": "execute_result",
          "data": {
            "text/plain": [
              "     dpr\n",
              "dpr  1.0"
            ],
            "text/html": [
              "\n",
              "  <div id=\"df-9909cc78-e9df-4ec5-911e-eb1217fd43e1\">\n",
              "    <div class=\"colab-df-container\">\n",
              "      <div>\n",
              "<style scoped>\n",
              "    .dataframe tbody tr th:only-of-type {\n",
              "        vertical-align: middle;\n",
              "    }\n",
              "\n",
              "    .dataframe tbody tr th {\n",
              "        vertical-align: top;\n",
              "    }\n",
              "\n",
              "    .dataframe thead th {\n",
              "        text-align: right;\n",
              "    }\n",
              "</style>\n",
              "<table border=\"1\" class=\"dataframe\">\n",
              "  <thead>\n",
              "    <tr style=\"text-align: right;\">\n",
              "      <th></th>\n",
              "      <th>dpr</th>\n",
              "    </tr>\n",
              "  </thead>\n",
              "  <tbody>\n",
              "    <tr>\n",
              "      <th>dpr</th>\n",
              "      <td>1.0</td>\n",
              "    </tr>\n",
              "  </tbody>\n",
              "</table>\n",
              "</div>\n",
              "      <button class=\"colab-df-convert\" onclick=\"convertToInteractive('df-9909cc78-e9df-4ec5-911e-eb1217fd43e1')\"\n",
              "              title=\"Convert this dataframe to an interactive table.\"\n",
              "              style=\"display:none;\">\n",
              "        \n",
              "  <svg xmlns=\"http://www.w3.org/2000/svg\" height=\"24px\"viewBox=\"0 0 24 24\"\n",
              "       width=\"24px\">\n",
              "    <path d=\"M0 0h24v24H0V0z\" fill=\"none\"/>\n",
              "    <path d=\"M18.56 5.44l.94 2.06.94-2.06 2.06-.94-2.06-.94-.94-2.06-.94 2.06-2.06.94zm-11 1L8.5 8.5l.94-2.06 2.06-.94-2.06-.94L8.5 2.5l-.94 2.06-2.06.94zm10 10l.94 2.06.94-2.06 2.06-.94-2.06-.94-.94-2.06-.94 2.06-2.06.94z\"/><path d=\"M17.41 7.96l-1.37-1.37c-.4-.4-.92-.59-1.43-.59-.52 0-1.04.2-1.43.59L10.3 9.45l-7.72 7.72c-.78.78-.78 2.05 0 2.83L4 21.41c.39.39.9.59 1.41.59.51 0 1.02-.2 1.41-.59l7.78-7.78 2.81-2.81c.8-.78.8-2.07 0-2.86zM5.41 20L4 18.59l7.72-7.72 1.47 1.35L5.41 20z\"/>\n",
              "  </svg>\n",
              "      </button>\n",
              "      \n",
              "  <style>\n",
              "    .colab-df-container {\n",
              "      display:flex;\n",
              "      flex-wrap:wrap;\n",
              "      gap: 12px;\n",
              "    }\n",
              "\n",
              "    .colab-df-convert {\n",
              "      background-color: #E8F0FE;\n",
              "      border: none;\n",
              "      border-radius: 50%;\n",
              "      cursor: pointer;\n",
              "      display: none;\n",
              "      fill: #1967D2;\n",
              "      height: 32px;\n",
              "      padding: 0 0 0 0;\n",
              "      width: 32px;\n",
              "    }\n",
              "\n",
              "    .colab-df-convert:hover {\n",
              "      background-color: #E2EBFA;\n",
              "      box-shadow: 0px 1px 2px rgba(60, 64, 67, 0.3), 0px 1px 3px 1px rgba(60, 64, 67, 0.15);\n",
              "      fill: #174EA6;\n",
              "    }\n",
              "\n",
              "    [theme=dark] .colab-df-convert {\n",
              "      background-color: #3B4455;\n",
              "      fill: #D2E3FC;\n",
              "    }\n",
              "\n",
              "    [theme=dark] .colab-df-convert:hover {\n",
              "      background-color: #434B5C;\n",
              "      box-shadow: 0px 1px 3px 1px rgba(0, 0, 0, 0.15);\n",
              "      filter: drop-shadow(0px 1px 2px rgba(0, 0, 0, 0.3));\n",
              "      fill: #FFFFFF;\n",
              "    }\n",
              "  </style>\n",
              "\n",
              "      <script>\n",
              "        const buttonEl =\n",
              "          document.querySelector('#df-9909cc78-e9df-4ec5-911e-eb1217fd43e1 button.colab-df-convert');\n",
              "        buttonEl.style.display =\n",
              "          google.colab.kernel.accessAllowed ? 'block' : 'none';\n",
              "\n",
              "        async function convertToInteractive(key) {\n",
              "          const element = document.querySelector('#df-9909cc78-e9df-4ec5-911e-eb1217fd43e1');\n",
              "          const dataTable =\n",
              "            await google.colab.kernel.invokeFunction('convertToInteractive',\n",
              "                                                     [key], {});\n",
              "          if (!dataTable) return;\n",
              "\n",
              "          const docLinkHtml = 'Like what you see? Visit the ' +\n",
              "            '<a target=\"_blank\" href=https://colab.research.google.com/notebooks/data_table.ipynb>data table notebook</a>'\n",
              "            + ' to learn more about interactive tables.';\n",
              "          element.innerHTML = '';\n",
              "          dataTable['output_type'] = 'display_data';\n",
              "          await google.colab.output.renderOutput(dataTable, element);\n",
              "          const docLink = document.createElement('div');\n",
              "          docLink.innerHTML = docLinkHtml;\n",
              "          element.appendChild(docLink);\n",
              "        }\n",
              "      </script>\n",
              "    </div>\n",
              "  </div>\n",
              "  "
            ]
          },
          "metadata": {},
          "execution_count": 39
        }
      ]
    },
    {
      "cell_type": "code",
      "source": [
        "b.corr()"
      ],
      "metadata": {
        "colab": {
          "base_uri": "https://localhost:8080/",
          "height": 112
        },
        "id": "VVjS6II7fArJ",
        "outputId": "c1057445-6490-45ef-a8b1-2c3bec954a34"
      },
      "execution_count": 40,
      "outputs": [
        {
          "output_type": "execute_result",
          "data": {
            "text/plain": [
              "          vlDamage    qtKill\n",
              "vlDamage  1.000000  0.948241\n",
              "qtKill    0.948241  1.000000"
            ],
            "text/html": [
              "\n",
              "  <div id=\"df-c7b373e7-9fa3-4200-93a5-814426fb1b35\">\n",
              "    <div class=\"colab-df-container\">\n",
              "      <div>\n",
              "<style scoped>\n",
              "    .dataframe tbody tr th:only-of-type {\n",
              "        vertical-align: middle;\n",
              "    }\n",
              "\n",
              "    .dataframe tbody tr th {\n",
              "        vertical-align: top;\n",
              "    }\n",
              "\n",
              "    .dataframe thead th {\n",
              "        text-align: right;\n",
              "    }\n",
              "</style>\n",
              "<table border=\"1\" class=\"dataframe\">\n",
              "  <thead>\n",
              "    <tr style=\"text-align: right;\">\n",
              "      <th></th>\n",
              "      <th>vlDamage</th>\n",
              "      <th>qtKill</th>\n",
              "    </tr>\n",
              "  </thead>\n",
              "  <tbody>\n",
              "    <tr>\n",
              "      <th>vlDamage</th>\n",
              "      <td>1.000000</td>\n",
              "      <td>0.948241</td>\n",
              "    </tr>\n",
              "    <tr>\n",
              "      <th>qtKill</th>\n",
              "      <td>0.948241</td>\n",
              "      <td>1.000000</td>\n",
              "    </tr>\n",
              "  </tbody>\n",
              "</table>\n",
              "</div>\n",
              "      <button class=\"colab-df-convert\" onclick=\"convertToInteractive('df-c7b373e7-9fa3-4200-93a5-814426fb1b35')\"\n",
              "              title=\"Convert this dataframe to an interactive table.\"\n",
              "              style=\"display:none;\">\n",
              "        \n",
              "  <svg xmlns=\"http://www.w3.org/2000/svg\" height=\"24px\"viewBox=\"0 0 24 24\"\n",
              "       width=\"24px\">\n",
              "    <path d=\"M0 0h24v24H0V0z\" fill=\"none\"/>\n",
              "    <path d=\"M18.56 5.44l.94 2.06.94-2.06 2.06-.94-2.06-.94-.94-2.06-.94 2.06-2.06.94zm-11 1L8.5 8.5l.94-2.06 2.06-.94-2.06-.94L8.5 2.5l-.94 2.06-2.06.94zm10 10l.94 2.06.94-2.06 2.06-.94-2.06-.94-.94-2.06-.94 2.06-2.06.94z\"/><path d=\"M17.41 7.96l-1.37-1.37c-.4-.4-.92-.59-1.43-.59-.52 0-1.04.2-1.43.59L10.3 9.45l-7.72 7.72c-.78.78-.78 2.05 0 2.83L4 21.41c.39.39.9.59 1.41.59.51 0 1.02-.2 1.41-.59l7.78-7.78 2.81-2.81c.8-.78.8-2.07 0-2.86zM5.41 20L4 18.59l7.72-7.72 1.47 1.35L5.41 20z\"/>\n",
              "  </svg>\n",
              "      </button>\n",
              "      \n",
              "  <style>\n",
              "    .colab-df-container {\n",
              "      display:flex;\n",
              "      flex-wrap:wrap;\n",
              "      gap: 12px;\n",
              "    }\n",
              "\n",
              "    .colab-df-convert {\n",
              "      background-color: #E8F0FE;\n",
              "      border: none;\n",
              "      border-radius: 50%;\n",
              "      cursor: pointer;\n",
              "      display: none;\n",
              "      fill: #1967D2;\n",
              "      height: 32px;\n",
              "      padding: 0 0 0 0;\n",
              "      width: 32px;\n",
              "    }\n",
              "\n",
              "    .colab-df-convert:hover {\n",
              "      background-color: #E2EBFA;\n",
              "      box-shadow: 0px 1px 2px rgba(60, 64, 67, 0.3), 0px 1px 3px 1px rgba(60, 64, 67, 0.15);\n",
              "      fill: #174EA6;\n",
              "    }\n",
              "\n",
              "    [theme=dark] .colab-df-convert {\n",
              "      background-color: #3B4455;\n",
              "      fill: #D2E3FC;\n",
              "    }\n",
              "\n",
              "    [theme=dark] .colab-df-convert:hover {\n",
              "      background-color: #434B5C;\n",
              "      box-shadow: 0px 1px 3px 1px rgba(0, 0, 0, 0.15);\n",
              "      filter: drop-shadow(0px 1px 2px rgba(0, 0, 0, 0.3));\n",
              "      fill: #FFFFFF;\n",
              "    }\n",
              "  </style>\n",
              "\n",
              "      <script>\n",
              "        const buttonEl =\n",
              "          document.querySelector('#df-c7b373e7-9fa3-4200-93a5-814426fb1b35 button.colab-df-convert');\n",
              "        buttonEl.style.display =\n",
              "          google.colab.kernel.accessAllowed ? 'block' : 'none';\n",
              "\n",
              "        async function convertToInteractive(key) {\n",
              "          const element = document.querySelector('#df-c7b373e7-9fa3-4200-93a5-814426fb1b35');\n",
              "          const dataTable =\n",
              "            await google.colab.kernel.invokeFunction('convertToInteractive',\n",
              "                                                     [key], {});\n",
              "          if (!dataTable) return;\n",
              "\n",
              "          const docLinkHtml = 'Like what you see? Visit the ' +\n",
              "            '<a target=\"_blank\" href=https://colab.research.google.com/notebooks/data_table.ipynb>data table notebook</a>'\n",
              "            + ' to learn more about interactive tables.';\n",
              "          element.innerHTML = '';\n",
              "          dataTable['output_type'] = 'display_data';\n",
              "          await google.colab.output.renderOutput(dataTable, element);\n",
              "          const docLink = document.createElement('div');\n",
              "          docLink.innerHTML = docLinkHtml;\n",
              "          element.appendChild(docLink);\n",
              "        }\n",
              "      </script>\n",
              "    </div>\n",
              "  </div>\n",
              "  "
            ]
          },
          "metadata": {},
          "execution_count": 40
        }
      ]
    },
    {
      "cell_type": "code",
      "source": [
        "df_l['qtHs'].describe()"
      ],
      "metadata": {
        "colab": {
          "base_uri": "https://localhost:8080/"
        },
        "id": "jlbQDKW6f6cJ",
        "outputId": "cc4ea774-055f-4cc6-f938-d08210bcc9fc"
      },
      "execution_count": 41,
      "outputs": [
        {
          "output_type": "execute_result",
          "data": {
            "text/plain": [
              "count    146441.000000\n",
              "mean          8.148005\n",
              "std           4.008621\n",
              "min           0.000000\n",
              "25%           5.000000\n",
              "50%           8.000000\n",
              "75%          10.000000\n",
              "max          41.000000\n",
              "Name: qtHs, dtype: float64"
            ]
          },
          "metadata": {},
          "execution_count": 41
        }
      ]
    },
    {
      "cell_type": "code",
      "source": [
        "# Calcular %hs\n",
        "def phs(qtHs, kills):\n",
        "  phs = qtHs/kills #quanto mais alto melhor \n",
        "  return phs"
      ],
      "metadata": {
        "id": "vjhmUBDEgPTS"
      },
      "execution_count": 92,
      "outputs": []
    },
    {
      "cell_type": "code",
      "source": [
        "df_l.insert((df_l.shape[1]),\"phs\",phs(df_l['qtHs'], df_l['qtKill']),True)#Percentual de kills por hs (headshot)"
      ],
      "metadata": {
        "id": "8fLoT7gmgeT7"
      },
      "execution_count": 93,
      "outputs": []
    },
    {
      "cell_type": "code",
      "source": [
        "df_l"
      ],
      "metadata": {
        "colab": {
          "base_uri": "https://localhost:8080/",
          "height": 488
        },
        "id": "kKmjhqyYg1dX",
        "outputId": "e7366b11-413f-4347-c614-dde54e4bb073"
      },
      "execution_count": 44,
      "outputs": [
        {
          "output_type": "execute_result",
          "data": {
            "text/plain": [
              "        idLobbyGame  idPlayer  idRoom  qtKill  qtAssist  qtDeath  qtHs  \\\n",
              "1                 2         1       2      24         3       18     6   \n",
              "2                 3         2       3       6         4       23     2   \n",
              "3                 3       391   27508      10         5       20     4   \n",
              "4                 4         2       4       8         4       26     6   \n",
              "11               10         2      10      19         2       21     7   \n",
              "...             ...       ...     ...     ...       ...      ...   ...   \n",
              "184146       172906      2716  178495      17         3       19     7   \n",
              "184147       172907      2716  178496      21         3       13     5   \n",
              "184148       172908      2716  178497      15         1       22     5   \n",
              "184149       172909      2716  178498       9         6       23     2   \n",
              "184150       172910      2716  178499      15         5       20     6   \n",
              "\n",
              "        qtBombeDefuse  qtBombePlant  qt1Kill  ...  vlLevel  qtSurvived  \\\n",
              "1                   0             4        9  ...        9         8.0   \n",
              "2                   0             1        4  ...        2         2.0   \n",
              "3                   1             0        6  ...       15         3.0   \n",
              "4                   0             2        4  ...        2         4.0   \n",
              "11                  0             0        9  ...        2         6.0   \n",
              "...               ...           ...      ...  ...      ...         ...   \n",
              "184146              0             2       12  ...        9         9.0   \n",
              "184147              1             1        8  ...        9        11.0   \n",
              "184148              0             1       11  ...        9         7.0   \n",
              "184149              0             3        9  ...        9         4.0   \n",
              "184150              0             2       13  ...        9         5.0   \n",
              "\n",
              "        qtTrade  qtFlashAssist  flWinner       kpr       dpr        pps  \\\n",
              "1           1.0            0.0         1  0.888889  0.666667  23.571429   \n",
              "2           3.0            0.0         0  0.240000  0.920000  17.857143   \n",
              "3           4.0            0.0         1  0.400000  0.800000  23.571429   \n",
              "4           4.0            2.0         0  0.266667  0.866667  22.857143   \n",
              "11          3.0            3.0         0  0.703704  0.777778  18.571429   \n",
              "...         ...            ...       ...       ...       ...        ...   \n",
              "184146      4.0            0.0         0  0.607143  0.678571  20.714286   \n",
              "184147      0.0            0.0         1  0.807692  0.500000  15.714286   \n",
              "184148      5.0            0.0         1  0.517241  0.758621  18.571429   \n",
              "184149      2.0            0.0         0  0.333333  0.851852  25.000000   \n",
              "184150      3.0            1.0         0  0.600000  0.800000  22.142857   \n",
              "\n",
              "        playerQuality       phs  \n",
              "1             Regular  0.250000  \n",
              "2                Ruim  0.333333  \n",
              "3             Regular  0.400000  \n",
              "4             Regular  0.750000  \n",
              "11               Ruim  0.368421  \n",
              "...               ...       ...  \n",
              "184146        Regular  0.411765  \n",
              "184147           Ruim  0.238095  \n",
              "184148           Ruim  0.333333  \n",
              "184149        Regular  0.222222  \n",
              "184150        Regular  0.400000  \n",
              "\n",
              "[146441 rows x 31 columns]"
            ],
            "text/html": [
              "\n",
              "  <div id=\"df-5c1e6851-8fac-40df-a3df-912370b55f35\">\n",
              "    <div class=\"colab-df-container\">\n",
              "      <div>\n",
              "<style scoped>\n",
              "    .dataframe tbody tr th:only-of-type {\n",
              "        vertical-align: middle;\n",
              "    }\n",
              "\n",
              "    .dataframe tbody tr th {\n",
              "        vertical-align: top;\n",
              "    }\n",
              "\n",
              "    .dataframe thead th {\n",
              "        text-align: right;\n",
              "    }\n",
              "</style>\n",
              "<table border=\"1\" class=\"dataframe\">\n",
              "  <thead>\n",
              "    <tr style=\"text-align: right;\">\n",
              "      <th></th>\n",
              "      <th>idLobbyGame</th>\n",
              "      <th>idPlayer</th>\n",
              "      <th>idRoom</th>\n",
              "      <th>qtKill</th>\n",
              "      <th>qtAssist</th>\n",
              "      <th>qtDeath</th>\n",
              "      <th>qtHs</th>\n",
              "      <th>qtBombeDefuse</th>\n",
              "      <th>qtBombePlant</th>\n",
              "      <th>qt1Kill</th>\n",
              "      <th>...</th>\n",
              "      <th>vlLevel</th>\n",
              "      <th>qtSurvived</th>\n",
              "      <th>qtTrade</th>\n",
              "      <th>qtFlashAssist</th>\n",
              "      <th>flWinner</th>\n",
              "      <th>kpr</th>\n",
              "      <th>dpr</th>\n",
              "      <th>pps</th>\n",
              "      <th>playerQuality</th>\n",
              "      <th>phs</th>\n",
              "    </tr>\n",
              "  </thead>\n",
              "  <tbody>\n",
              "    <tr>\n",
              "      <th>1</th>\n",
              "      <td>2</td>\n",
              "      <td>1</td>\n",
              "      <td>2</td>\n",
              "      <td>24</td>\n",
              "      <td>3</td>\n",
              "      <td>18</td>\n",
              "      <td>6</td>\n",
              "      <td>0</td>\n",
              "      <td>4</td>\n",
              "      <td>9</td>\n",
              "      <td>...</td>\n",
              "      <td>9</td>\n",
              "      <td>8.0</td>\n",
              "      <td>1.0</td>\n",
              "      <td>0.0</td>\n",
              "      <td>1</td>\n",
              "      <td>0.888889</td>\n",
              "      <td>0.666667</td>\n",
              "      <td>23.571429</td>\n",
              "      <td>Regular</td>\n",
              "      <td>0.250000</td>\n",
              "    </tr>\n",
              "    <tr>\n",
              "      <th>2</th>\n",
              "      <td>3</td>\n",
              "      <td>2</td>\n",
              "      <td>3</td>\n",
              "      <td>6</td>\n",
              "      <td>4</td>\n",
              "      <td>23</td>\n",
              "      <td>2</td>\n",
              "      <td>0</td>\n",
              "      <td>1</td>\n",
              "      <td>4</td>\n",
              "      <td>...</td>\n",
              "      <td>2</td>\n",
              "      <td>2.0</td>\n",
              "      <td>3.0</td>\n",
              "      <td>0.0</td>\n",
              "      <td>0</td>\n",
              "      <td>0.240000</td>\n",
              "      <td>0.920000</td>\n",
              "      <td>17.857143</td>\n",
              "      <td>Ruim</td>\n",
              "      <td>0.333333</td>\n",
              "    </tr>\n",
              "    <tr>\n",
              "      <th>3</th>\n",
              "      <td>3</td>\n",
              "      <td>391</td>\n",
              "      <td>27508</td>\n",
              "      <td>10</td>\n",
              "      <td>5</td>\n",
              "      <td>20</td>\n",
              "      <td>4</td>\n",
              "      <td>1</td>\n",
              "      <td>0</td>\n",
              "      <td>6</td>\n",
              "      <td>...</td>\n",
              "      <td>15</td>\n",
              "      <td>3.0</td>\n",
              "      <td>4.0</td>\n",
              "      <td>0.0</td>\n",
              "      <td>1</td>\n",
              "      <td>0.400000</td>\n",
              "      <td>0.800000</td>\n",
              "      <td>23.571429</td>\n",
              "      <td>Regular</td>\n",
              "      <td>0.400000</td>\n",
              "    </tr>\n",
              "    <tr>\n",
              "      <th>4</th>\n",
              "      <td>4</td>\n",
              "      <td>2</td>\n",
              "      <td>4</td>\n",
              "      <td>8</td>\n",
              "      <td>4</td>\n",
              "      <td>26</td>\n",
              "      <td>6</td>\n",
              "      <td>0</td>\n",
              "      <td>2</td>\n",
              "      <td>4</td>\n",
              "      <td>...</td>\n",
              "      <td>2</td>\n",
              "      <td>4.0</td>\n",
              "      <td>4.0</td>\n",
              "      <td>2.0</td>\n",
              "      <td>0</td>\n",
              "      <td>0.266667</td>\n",
              "      <td>0.866667</td>\n",
              "      <td>22.857143</td>\n",
              "      <td>Regular</td>\n",
              "      <td>0.750000</td>\n",
              "    </tr>\n",
              "    <tr>\n",
              "      <th>11</th>\n",
              "      <td>10</td>\n",
              "      <td>2</td>\n",
              "      <td>10</td>\n",
              "      <td>19</td>\n",
              "      <td>2</td>\n",
              "      <td>21</td>\n",
              "      <td>7</td>\n",
              "      <td>0</td>\n",
              "      <td>0</td>\n",
              "      <td>9</td>\n",
              "      <td>...</td>\n",
              "      <td>2</td>\n",
              "      <td>6.0</td>\n",
              "      <td>3.0</td>\n",
              "      <td>3.0</td>\n",
              "      <td>0</td>\n",
              "      <td>0.703704</td>\n",
              "      <td>0.777778</td>\n",
              "      <td>18.571429</td>\n",
              "      <td>Ruim</td>\n",
              "      <td>0.368421</td>\n",
              "    </tr>\n",
              "    <tr>\n",
              "      <th>...</th>\n",
              "      <td>...</td>\n",
              "      <td>...</td>\n",
              "      <td>...</td>\n",
              "      <td>...</td>\n",
              "      <td>...</td>\n",
              "      <td>...</td>\n",
              "      <td>...</td>\n",
              "      <td>...</td>\n",
              "      <td>...</td>\n",
              "      <td>...</td>\n",
              "      <td>...</td>\n",
              "      <td>...</td>\n",
              "      <td>...</td>\n",
              "      <td>...</td>\n",
              "      <td>...</td>\n",
              "      <td>...</td>\n",
              "      <td>...</td>\n",
              "      <td>...</td>\n",
              "      <td>...</td>\n",
              "      <td>...</td>\n",
              "      <td>...</td>\n",
              "    </tr>\n",
              "    <tr>\n",
              "      <th>184146</th>\n",
              "      <td>172906</td>\n",
              "      <td>2716</td>\n",
              "      <td>178495</td>\n",
              "      <td>17</td>\n",
              "      <td>3</td>\n",
              "      <td>19</td>\n",
              "      <td>7</td>\n",
              "      <td>0</td>\n",
              "      <td>2</td>\n",
              "      <td>12</td>\n",
              "      <td>...</td>\n",
              "      <td>9</td>\n",
              "      <td>9.0</td>\n",
              "      <td>4.0</td>\n",
              "      <td>0.0</td>\n",
              "      <td>0</td>\n",
              "      <td>0.607143</td>\n",
              "      <td>0.678571</td>\n",
              "      <td>20.714286</td>\n",
              "      <td>Regular</td>\n",
              "      <td>0.411765</td>\n",
              "    </tr>\n",
              "    <tr>\n",
              "      <th>184147</th>\n",
              "      <td>172907</td>\n",
              "      <td>2716</td>\n",
              "      <td>178496</td>\n",
              "      <td>21</td>\n",
              "      <td>3</td>\n",
              "      <td>13</td>\n",
              "      <td>5</td>\n",
              "      <td>1</td>\n",
              "      <td>1</td>\n",
              "      <td>8</td>\n",
              "      <td>...</td>\n",
              "      <td>9</td>\n",
              "      <td>11.0</td>\n",
              "      <td>0.0</td>\n",
              "      <td>0.0</td>\n",
              "      <td>1</td>\n",
              "      <td>0.807692</td>\n",
              "      <td>0.500000</td>\n",
              "      <td>15.714286</td>\n",
              "      <td>Ruim</td>\n",
              "      <td>0.238095</td>\n",
              "    </tr>\n",
              "    <tr>\n",
              "      <th>184148</th>\n",
              "      <td>172908</td>\n",
              "      <td>2716</td>\n",
              "      <td>178497</td>\n",
              "      <td>15</td>\n",
              "      <td>1</td>\n",
              "      <td>22</td>\n",
              "      <td>5</td>\n",
              "      <td>0</td>\n",
              "      <td>1</td>\n",
              "      <td>11</td>\n",
              "      <td>...</td>\n",
              "      <td>9</td>\n",
              "      <td>7.0</td>\n",
              "      <td>5.0</td>\n",
              "      <td>0.0</td>\n",
              "      <td>1</td>\n",
              "      <td>0.517241</td>\n",
              "      <td>0.758621</td>\n",
              "      <td>18.571429</td>\n",
              "      <td>Ruim</td>\n",
              "      <td>0.333333</td>\n",
              "    </tr>\n",
              "    <tr>\n",
              "      <th>184149</th>\n",
              "      <td>172909</td>\n",
              "      <td>2716</td>\n",
              "      <td>178498</td>\n",
              "      <td>9</td>\n",
              "      <td>6</td>\n",
              "      <td>23</td>\n",
              "      <td>2</td>\n",
              "      <td>0</td>\n",
              "      <td>3</td>\n",
              "      <td>9</td>\n",
              "      <td>...</td>\n",
              "      <td>9</td>\n",
              "      <td>4.0</td>\n",
              "      <td>2.0</td>\n",
              "      <td>0.0</td>\n",
              "      <td>0</td>\n",
              "      <td>0.333333</td>\n",
              "      <td>0.851852</td>\n",
              "      <td>25.000000</td>\n",
              "      <td>Regular</td>\n",
              "      <td>0.222222</td>\n",
              "    </tr>\n",
              "    <tr>\n",
              "      <th>184150</th>\n",
              "      <td>172910</td>\n",
              "      <td>2716</td>\n",
              "      <td>178499</td>\n",
              "      <td>15</td>\n",
              "      <td>5</td>\n",
              "      <td>20</td>\n",
              "      <td>6</td>\n",
              "      <td>0</td>\n",
              "      <td>2</td>\n",
              "      <td>13</td>\n",
              "      <td>...</td>\n",
              "      <td>9</td>\n",
              "      <td>5.0</td>\n",
              "      <td>3.0</td>\n",
              "      <td>1.0</td>\n",
              "      <td>0</td>\n",
              "      <td>0.600000</td>\n",
              "      <td>0.800000</td>\n",
              "      <td>22.142857</td>\n",
              "      <td>Regular</td>\n",
              "      <td>0.400000</td>\n",
              "    </tr>\n",
              "  </tbody>\n",
              "</table>\n",
              "<p>146441 rows × 31 columns</p>\n",
              "</div>\n",
              "      <button class=\"colab-df-convert\" onclick=\"convertToInteractive('df-5c1e6851-8fac-40df-a3df-912370b55f35')\"\n",
              "              title=\"Convert this dataframe to an interactive table.\"\n",
              "              style=\"display:none;\">\n",
              "        \n",
              "  <svg xmlns=\"http://www.w3.org/2000/svg\" height=\"24px\"viewBox=\"0 0 24 24\"\n",
              "       width=\"24px\">\n",
              "    <path d=\"M0 0h24v24H0V0z\" fill=\"none\"/>\n",
              "    <path d=\"M18.56 5.44l.94 2.06.94-2.06 2.06-.94-2.06-.94-.94-2.06-.94 2.06-2.06.94zm-11 1L8.5 8.5l.94-2.06 2.06-.94-2.06-.94L8.5 2.5l-.94 2.06-2.06.94zm10 10l.94 2.06.94-2.06 2.06-.94-2.06-.94-.94-2.06-.94 2.06-2.06.94z\"/><path d=\"M17.41 7.96l-1.37-1.37c-.4-.4-.92-.59-1.43-.59-.52 0-1.04.2-1.43.59L10.3 9.45l-7.72 7.72c-.78.78-.78 2.05 0 2.83L4 21.41c.39.39.9.59 1.41.59.51 0 1.02-.2 1.41-.59l7.78-7.78 2.81-2.81c.8-.78.8-2.07 0-2.86zM5.41 20L4 18.59l7.72-7.72 1.47 1.35L5.41 20z\"/>\n",
              "  </svg>\n",
              "      </button>\n",
              "      \n",
              "  <style>\n",
              "    .colab-df-container {\n",
              "      display:flex;\n",
              "      flex-wrap:wrap;\n",
              "      gap: 12px;\n",
              "    }\n",
              "\n",
              "    .colab-df-convert {\n",
              "      background-color: #E8F0FE;\n",
              "      border: none;\n",
              "      border-radius: 50%;\n",
              "      cursor: pointer;\n",
              "      display: none;\n",
              "      fill: #1967D2;\n",
              "      height: 32px;\n",
              "      padding: 0 0 0 0;\n",
              "      width: 32px;\n",
              "    }\n",
              "\n",
              "    .colab-df-convert:hover {\n",
              "      background-color: #E2EBFA;\n",
              "      box-shadow: 0px 1px 2px rgba(60, 64, 67, 0.3), 0px 1px 3px 1px rgba(60, 64, 67, 0.15);\n",
              "      fill: #174EA6;\n",
              "    }\n",
              "\n",
              "    [theme=dark] .colab-df-convert {\n",
              "      background-color: #3B4455;\n",
              "      fill: #D2E3FC;\n",
              "    }\n",
              "\n",
              "    [theme=dark] .colab-df-convert:hover {\n",
              "      background-color: #434B5C;\n",
              "      box-shadow: 0px 1px 3px 1px rgba(0, 0, 0, 0.15);\n",
              "      filter: drop-shadow(0px 1px 2px rgba(0, 0, 0, 0.3));\n",
              "      fill: #FFFFFF;\n",
              "    }\n",
              "  </style>\n",
              "\n",
              "      <script>\n",
              "        const buttonEl =\n",
              "          document.querySelector('#df-5c1e6851-8fac-40df-a3df-912370b55f35 button.colab-df-convert');\n",
              "        buttonEl.style.display =\n",
              "          google.colab.kernel.accessAllowed ? 'block' : 'none';\n",
              "\n",
              "        async function convertToInteractive(key) {\n",
              "          const element = document.querySelector('#df-5c1e6851-8fac-40df-a3df-912370b55f35');\n",
              "          const dataTable =\n",
              "            await google.colab.kernel.invokeFunction('convertToInteractive',\n",
              "                                                     [key], {});\n",
              "          if (!dataTable) return;\n",
              "\n",
              "          const docLinkHtml = 'Like what you see? Visit the ' +\n",
              "            '<a target=\"_blank\" href=https://colab.research.google.com/notebooks/data_table.ipynb>data table notebook</a>'\n",
              "            + ' to learn more about interactive tables.';\n",
              "          element.innerHTML = '';\n",
              "          dataTable['output_type'] = 'display_data';\n",
              "          await google.colab.output.renderOutput(dataTable, element);\n",
              "          const docLink = document.createElement('div');\n",
              "          docLink.innerHTML = docLinkHtml;\n",
              "          element.appendChild(docLink);\n",
              "        }\n",
              "      </script>\n",
              "    </div>\n",
              "  </div>\n",
              "  "
            ]
          },
          "metadata": {},
          "execution_count": 44
        }
      ]
    },
    {
      "cell_type": "code",
      "source": [
        "#para se colocar alguma afirmação deve saber pela quantidade de rounds jogados? Podemos considerar que a partir de uma quantidade minima de rounds para entrar no calculo? partidas muito longas podem ser retiradas?\n",
        "df_l.info()"
      ],
      "metadata": {
        "colab": {
          "base_uri": "https://localhost:8080/"
        },
        "id": "Y0f86I2ukJ05",
        "outputId": "7a3aa498-0beb-459a-9e36-10ec725cbfef"
      },
      "execution_count": 45,
      "outputs": [
        {
          "output_type": "stream",
          "name": "stdout",
          "text": [
            "<class 'pandas.core.frame.DataFrame'>\n",
            "Int64Index: 146441 entries, 1 to 184150\n",
            "Data columns (total 31 columns):\n",
            " #   Column          Non-Null Count   Dtype  \n",
            "---  ------          --------------   -----  \n",
            " 0   idLobbyGame     146441 non-null  int64  \n",
            " 1   idPlayer        146441 non-null  int64  \n",
            " 2   idRoom          146441 non-null  int64  \n",
            " 3   qtKill          146441 non-null  int64  \n",
            " 4   qtAssist        146441 non-null  int64  \n",
            " 5   qtDeath         146441 non-null  int64  \n",
            " 6   qtHs            146441 non-null  int64  \n",
            " 7   qtBombeDefuse   146441 non-null  int64  \n",
            " 8   qtBombePlant    146441 non-null  int64  \n",
            " 9   qt1Kill         146441 non-null  int64  \n",
            " 10  qt2Kill         146441 non-null  int64  \n",
            " 11  qt3Kill         146441 non-null  int64  \n",
            " 12  qt4Kill         146441 non-null  int64  \n",
            " 13  qt5Kill         146441 non-null  int64  \n",
            " 14  qtFirstKill     146441 non-null  int64  \n",
            " 15  vlDamage        146441 non-null  int64  \n",
            " 16  qtHits          146441 non-null  float64\n",
            " 17  qtLastAlive     146441 non-null  float64\n",
            " 18  qtClutchWon     146441 non-null  int64  \n",
            " 19  qtRoundsPlayed  146441 non-null  int64  \n",
            " 20  descMapName     146441 non-null  object \n",
            " 21  vlLevel         146441 non-null  int64  \n",
            " 22  qtSurvived      146441 non-null  object \n",
            " 23  qtTrade         146441 non-null  float64\n",
            " 24  qtFlashAssist   146441 non-null  float64\n",
            " 25  flWinner        146441 non-null  int64  \n",
            " 26  kpr             146441 non-null  float64\n",
            " 27  dpr             146441 non-null  float64\n",
            " 28  pps             146441 non-null  float64\n",
            " 29  playerQuality   146441 non-null  object \n",
            " 30  phs             146392 non-null  float64\n",
            "dtypes: float64(8), int64(20), object(3)\n",
            "memory usage: 39.8+ MB\n"
          ]
        }
      ]
    },
    {
      "cell_type": "code",
      "source": [
        "#regras de associação"
      ],
      "metadata": {
        "id": "2R9vQL6LkVT1"
      },
      "execution_count": 46,
      "outputs": []
    },
    {
      "cell_type": "code",
      "source": [
        "df = pd.get_dummies(df_l, columns=[\"playerQuality\"])"
      ],
      "metadata": {
        "id": "e97lkyU0QMdJ"
      },
      "execution_count": 95,
      "outputs": []
    },
    {
      "cell_type": "code",
      "source": [
        "cols_interesse = ['qtKill','qtDeath','vlDamage','qtClutchWon','vlLevel','qtHs','qt5Kill','kpr','dpr','pps','playerQuality_Bom','playerQuality_Excelente','playerQuality_Muito Bom','playerQuality_Regular','playerQuality_Ruim','phs']\n",
        "target = 'flWinner'"
      ],
      "metadata": {
        "id": "Y5sFPHttLp5l"
      },
      "execution_count": 109,
      "outputs": []
    },
    {
      "cell_type": "code",
      "source": [
        "df.info()"
      ],
      "metadata": {
        "colab": {
          "base_uri": "https://localhost:8080/"
        },
        "id": "4qUwvPv4VBA9",
        "outputId": "0956ecf5-6b96-4de7-fee9-9162f11eb57f"
      },
      "execution_count": 106,
      "outputs": [
        {
          "output_type": "stream",
          "name": "stdout",
          "text": [
            "<class 'pandas.core.frame.DataFrame'>\n",
            "Int64Index: 146441 entries, 1 to 184150\n",
            "Data columns (total 35 columns):\n",
            " #   Column                   Non-Null Count   Dtype  \n",
            "---  ------                   --------------   -----  \n",
            " 0   idLobbyGame              146441 non-null  int64  \n",
            " 1   idPlayer                 146441 non-null  int64  \n",
            " 2   idRoom                   146441 non-null  int64  \n",
            " 3   qtKill                   146441 non-null  int64  \n",
            " 4   qtAssist                 146441 non-null  int64  \n",
            " 5   qtDeath                  146441 non-null  int64  \n",
            " 6   qtHs                     146441 non-null  int64  \n",
            " 7   qtBombeDefuse            146441 non-null  int64  \n",
            " 8   qtBombePlant             146441 non-null  int64  \n",
            " 9   qt1Kill                  146441 non-null  int64  \n",
            " 10  qt2Kill                  146441 non-null  int64  \n",
            " 11  qt3Kill                  146441 non-null  int64  \n",
            " 12  qt4Kill                  146441 non-null  int64  \n",
            " 13  qt5Kill                  146441 non-null  int64  \n",
            " 14  qtFirstKill              146441 non-null  int64  \n",
            " 15  vlDamage                 146441 non-null  int64  \n",
            " 16  qtHits                   146441 non-null  float64\n",
            " 17  qtLastAlive              146441 non-null  float64\n",
            " 18  qtClutchWon              146441 non-null  int64  \n",
            " 19  qtRoundsPlayed           146441 non-null  int64  \n",
            " 20  descMapName              146441 non-null  object \n",
            " 21  vlLevel                  146441 non-null  int64  \n",
            " 22  qtSurvived               146441 non-null  object \n",
            " 23  qtTrade                  146441 non-null  float64\n",
            " 24  qtFlashAssist            146441 non-null  float64\n",
            " 25  flWinner                 146441 non-null  int64  \n",
            " 26  kpr                      146441 non-null  float64\n",
            " 27  dpr                      146441 non-null  float64\n",
            " 28  pps                      146441 non-null  float64\n",
            " 29  phs                      146392 non-null  float64\n",
            " 30  playerQuality_Bom        146441 non-null  uint8  \n",
            " 31  playerQuality_Excelente  146441 non-null  uint8  \n",
            " 32  playerQuality_Muito Bom  146441 non-null  uint8  \n",
            " 33  playerQuality_Regular    146441 non-null  uint8  \n",
            " 34  playerQuality_Ruim       146441 non-null  uint8  \n",
            "dtypes: float64(8), int64(20), object(2), uint8(5)\n",
            "memory usage: 39.4+ MB\n"
          ]
        }
      ]
    },
    {
      "cell_type": "code",
      "source": [
        "cols_interesse_all = cols_interesse.copy()\n",
        "cols_interesse_all.append(target)"
      ],
      "metadata": {
        "id": "Obi8UM0CMWn3"
      },
      "execution_count": 97,
      "outputs": []
    },
    {
      "cell_type": "code",
      "source": [
        "Var_Corr = df[cols_interesse_all].corr()\n",
        "matrix = np.triu(df[cols_interesse_all].corr())\n",
        "\n",
        "plt.figure(figsize = (20,7))\n",
        "sns.heatmap(Var_Corr, xticklabels=Var_Corr.columns, yticklabels=Var_Corr.columns,\\\n",
        "            annot=True,center= 0, cmap= 'coolwarm',mask=matrix)"
      ],
      "metadata": {
        "colab": {
          "base_uri": "https://localhost:8080/",
          "height": 561
        },
        "id": "wtspLJiTMobE",
        "outputId": "56b58bf2-3df4-412c-e0f6-d86620d70ea0"
      },
      "execution_count": 98,
      "outputs": [
        {
          "output_type": "execute_result",
          "data": {
            "text/plain": [
              "<matplotlib.axes._subplots.AxesSubplot at 0x7fa9ea398f90>"
            ]
          },
          "metadata": {},
          "execution_count": 98
        },
        {
          "output_type": "display_data",
          "data": {
            "text/plain": [
              "<Figure size 1440x504 with 2 Axes>"
            ],
            "image/png": "[encoded data removed]"
          },
          "metadata": {
            "needs_background": "light"
          }
        }
      ]
    },
    {
      "cell_type": "code",
      "source": [
        "X = df['qtKill']\n",
        "Y = df[target]\n",
        "regressao_linear(X,Y,['qtKill'])"
      ],
      "metadata": {
        "colab": {
          "base_uri": "https://localhost:8080/"
        },
        "id": "jqBG_x-xPmG_",
        "outputId": "2c343db3-9cf2-4c7e-90a6-442a3651b2d2"
      },
      "execution_count": 100,
      "outputs": [
        {
          "output_type": "stream",
          "name": "stdout",
          "text": [
            "Coeficiente estimado:  [0.01427239]\n",
            "R2 (score):  0.04066337337629933\n",
            "Intercept 0.208 \n",
            "        Coefficient\n",
            "qtKill     0.014272\n"
          ]
        }
      ]
    },
    {
      "cell_type": "code",
      "source": [
        "X = df['kpr']\n",
        "Y = df[target]\n",
        "regressao_linear(X,Y,['kpr'])"
      ],
      "metadata": {
        "colab": {
          "base_uri": "https://localhost:8080/"
        },
        "id": "-xbGJt7ES0Cx",
        "outputId": "c36edb0d-63bb-4212-f0fc-17fe96f5d00a"
      },
      "execution_count": 101,
      "outputs": [
        {
          "output_type": "stream",
          "name": "stdout",
          "text": [
            "Coeficiente estimado:  [0.54598149]\n",
            "R2 (score):  0.058794559783095335\n",
            "Intercept 0.106 \n",
            "     Coefficient\n",
            "kpr     0.545981\n"
          ]
        }
      ]
    },
    {
      "cell_type": "code",
      "source": [
        "X = df['pps']\n",
        "Y = df[target]\n",
        "regressao_linear(X,Y,['pps'])"
      ],
      "metadata": {
        "colab": {
          "base_uri": "https://localhost:8080/"
        },
        "id": "oGOKas7TT4uK",
        "outputId": "9d3e78ce-04ea-42e6-d7a9-c39134e82364"
      },
      "execution_count": 102,
      "outputs": [
        {
          "output_type": "stream",
          "name": "stdout",
          "text": [
            "Coeficiente estimado:  [0.01208665]\n",
            "R2 (score):  0.041638017753107825\n",
            "Intercept 0.212 \n",
            "     Coefficient\n",
            "pps     0.012087\n"
          ]
        }
      ]
    },
    {
      "cell_type": "code",
      "source": [
        "import statsmodels.api as sm"
      ],
      "metadata": {
        "colab": {
          "base_uri": "https://localhost:8080/"
        },
        "id": "UkfV_kjQU5Xo",
        "outputId": "edd53412-e731-47e9-88f1-0af60458b3f2"
      },
      "execution_count": 104,
      "outputs": [
        {
          "output_type": "stream",
          "name": "stderr",
          "text": [
            "/usr/local/lib/python3.7/dist-packages/statsmodels/tools/_testing.py:19: FutureWarning: pandas.util.testing is deprecated. Use the functions in the public API at pandas.testing instead.\n",
            "  import pandas.util.testing as tm\n"
          ]
        }
      ]
    },
    {
      "cell_type": "code",
      "source": [
        "X = df[cols_interesse]\n",
        "results = sm.OLS(Y,X).fit()\n",
        "print(results.summary())"
      ],
      "metadata": {
        "colab": {
          "base_uri": "https://localhost:8080/",
          "height": 345
        },
        "id": "9cmMbrU3U1ii",
        "outputId": "dc3a633d-2ad0-4f15-b11a-af16b0bc1906"
      },
      "execution_count": 108,
      "outputs": [
        {
          "output_type": "error",
          "ename": "MissingDataError",
          "evalue": "ignored",
          "traceback": [
            "\u001b[0;31m---------------------------------------------------------------------------\u001b[0m",
            "\u001b[0;31mMissingDataError\u001b[0m                          Traceback (most recent call last)",
            "\u001b[0;32m<ipython-input-108-10651dbe4de7>\u001b[0m in \u001b[0;36m<module>\u001b[0;34m()\u001b[0m\n\u001b[1;32m      1\u001b[0m \u001b[0mX\u001b[0m \u001b[0;34m=\u001b[0m \u001b[0mdf\u001b[0m\u001b[0;34m[\u001b[0m\u001b[0mcols_interesse\u001b[0m\u001b[0;34m]\u001b[0m\u001b[0;34m\u001b[0m\u001b[0;34m\u001b[0m\u001b[0m\n\u001b[0;32m----> 2\u001b[0;31m \u001b[0mresults\u001b[0m \u001b[0;34m=\u001b[0m \u001b[0msm\u001b[0m\u001b[0;34m.\u001b[0m\u001b[0mOLS\u001b[0m\u001b[0;34m(\u001b[0m\u001b[0mY\u001b[0m\u001b[0;34m,\u001b[0m\u001b[0mX\u001b[0m\u001b[0;34m)\u001b[0m\u001b[0;34m.\u001b[0m\u001b[0mfit\u001b[0m\u001b[0;34m(\u001b[0m\u001b[0;34m)\u001b[0m\u001b[0;34m\u001b[0m\u001b[0;34m\u001b[0m\u001b[0m\n\u001b[0m\u001b[1;32m      3\u001b[0m \u001b[0mprint\u001b[0m\u001b[0;34m(\u001b[0m\u001b[0mresults\u001b[0m\u001b[0;34m.\u001b[0m\u001b[0msummary\u001b[0m\u001b[0;34m(\u001b[0m\u001b[0;34m)\u001b[0m\u001b[0;34m)\u001b[0m\u001b[0;34m\u001b[0m\u001b[0;34m\u001b[0m\u001b[0m\n",
            "\u001b[0;32m/usr/local/lib/python3.7/dist-packages/statsmodels/regression/linear_model.py\u001b[0m in \u001b[0;36m__init__\u001b[0;34m(self, endog, exog, missing, hasconst, **kwargs)\u001b[0m\n\u001b[1;32m    836\u001b[0m                  **kwargs):\n\u001b[1;32m    837\u001b[0m         super(OLS, self).__init__(endog, exog, missing=missing,\n\u001b[0;32m--> 838\u001b[0;31m                                   hasconst=hasconst, **kwargs)\n\u001b[0m\u001b[1;32m    839\u001b[0m         \u001b[0;32mif\u001b[0m \u001b[0;34m\"weights\"\u001b[0m \u001b[0;32min\u001b[0m \u001b[0mself\u001b[0m\u001b[0;34m.\u001b[0m\u001b[0m_init_keys\u001b[0m\u001b[0;34m:\u001b[0m\u001b[0;34m\u001b[0m\u001b[0;34m\u001b[0m\u001b[0m\n\u001b[1;32m    840\u001b[0m             \u001b[0mself\u001b[0m\u001b[0;34m.\u001b[0m\u001b[0m_init_keys\u001b[0m\u001b[0;34m.\u001b[0m\u001b[0mremove\u001b[0m\u001b[0;34m(\u001b[0m\u001b[0;34m\"weights\"\u001b[0m\u001b[0;34m)\u001b[0m\u001b[0;34m\u001b[0m\u001b[0;34m\u001b[0m\u001b[0m\n",
            "\u001b[0;32m/usr/local/lib/python3.7/dist-packages/statsmodels/regression/linear_model.py\u001b[0m in \u001b[0;36m__init__\u001b[0;34m(self, endog, exog, weights, missing, hasconst, **kwargs)\u001b[0m\n\u001b[1;32m    682\u001b[0m             \u001b[0mweights\u001b[0m \u001b[0;34m=\u001b[0m \u001b[0mweights\u001b[0m\u001b[0;34m.\u001b[0m\u001b[0msqueeze\u001b[0m\u001b[0;34m(\u001b[0m\u001b[0;34m)\u001b[0m\u001b[0;34m\u001b[0m\u001b[0;34m\u001b[0m\u001b[0m\n\u001b[1;32m    683\u001b[0m         super(WLS, self).__init__(endog, exog, missing=missing,\n\u001b[0;32m--> 684\u001b[0;31m                                   weights=weights, hasconst=hasconst, **kwargs)\n\u001b[0m\u001b[1;32m    685\u001b[0m         \u001b[0mnobs\u001b[0m \u001b[0;34m=\u001b[0m \u001b[0mself\u001b[0m\u001b[0;34m.\u001b[0m\u001b[0mexog\u001b[0m\u001b[0;34m.\u001b[0m\u001b[0mshape\u001b[0m\u001b[0;34m[\u001b[0m\u001b[0;36m0\u001b[0m\u001b[0;34m]\u001b[0m\u001b[0;34m\u001b[0m\u001b[0;34m\u001b[0m\u001b[0m\n\u001b[1;32m    686\u001b[0m         \u001b[0mweights\u001b[0m \u001b[0;34m=\u001b[0m \u001b[0mself\u001b[0m\u001b[0;34m.\u001b[0m\u001b[0mweights\u001b[0m\u001b[0;34m\u001b[0m\u001b[0;34m\u001b[0m\u001b[0m\n",
            "\u001b[0;32m/usr/local/lib/python3.7/dist-packages/statsmodels/regression/linear_model.py\u001b[0m in \u001b[0;36m__init__\u001b[0;34m(self, endog, exog, **kwargs)\u001b[0m\n\u001b[1;32m    194\u001b[0m     \"\"\"\n\u001b[1;32m    195\u001b[0m     \u001b[0;32mdef\u001b[0m \u001b[0m__init__\u001b[0m\u001b[0;34m(\u001b[0m\u001b[0mself\u001b[0m\u001b[0;34m,\u001b[0m \u001b[0mendog\u001b[0m\u001b[0;34m,\u001b[0m \u001b[0mexog\u001b[0m\u001b[0;34m,\u001b[0m \u001b[0;34m**\u001b[0m\u001b[0mkwargs\u001b[0m\u001b[0;34m)\u001b[0m\u001b[0;34m:\u001b[0m\u001b[0;34m\u001b[0m\u001b[0;34m\u001b[0m\u001b[0m\n\u001b[0;32m--> 196\u001b[0;31m         \u001b[0msuper\u001b[0m\u001b[0;34m(\u001b[0m\u001b[0mRegressionModel\u001b[0m\u001b[0;34m,\u001b[0m \u001b[0mself\u001b[0m\u001b[0;34m)\u001b[0m\u001b[0;34m.\u001b[0m\u001b[0m__init__\u001b[0m\u001b[0;34m(\u001b[0m\u001b[0mendog\u001b[0m\u001b[0;34m,\u001b[0m \u001b[0mexog\u001b[0m\u001b[0;34m,\u001b[0m \u001b[0;34m**\u001b[0m\u001b[0mkwargs\u001b[0m\u001b[0;34m)\u001b[0m\u001b[0;34m\u001b[0m\u001b[0;34m\u001b[0m\u001b[0m\n\u001b[0m\u001b[1;32m    197\u001b[0m         \u001b[0mself\u001b[0m\u001b[0;34m.\u001b[0m\u001b[0m_data_attr\u001b[0m\u001b[0;34m.\u001b[0m\u001b[0mextend\u001b[0m\u001b[0;34m(\u001b[0m\u001b[0;34m[\u001b[0m\u001b[0;34m'pinv_wexog'\u001b[0m\u001b[0;34m,\u001b[0m \u001b[0;34m'wendog'\u001b[0m\u001b[0;34m,\u001b[0m \u001b[0;34m'wexog'\u001b[0m\u001b[0;34m,\u001b[0m \u001b[0;34m'weights'\u001b[0m\u001b[0;34m]\u001b[0m\u001b[0;34m)\u001b[0m\u001b[0;34m\u001b[0m\u001b[0;34m\u001b[0m\u001b[0m\n\u001b[1;32m    198\u001b[0m \u001b[0;34m\u001b[0m\u001b[0m\n",
            "\u001b[0;32m/usr/local/lib/python3.7/dist-packages/statsmodels/base/model.py\u001b[0m in \u001b[0;36m__init__\u001b[0;34m(self, endog, exog, **kwargs)\u001b[0m\n\u001b[1;32m    214\u001b[0m \u001b[0;34m\u001b[0m\u001b[0m\n\u001b[1;32m    215\u001b[0m     \u001b[0;32mdef\u001b[0m \u001b[0m__init__\u001b[0m\u001b[0;34m(\u001b[0m\u001b[0mself\u001b[0m\u001b[0;34m,\u001b[0m \u001b[0mendog\u001b[0m\u001b[0;34m,\u001b[0m \u001b[0mexog\u001b[0m\u001b[0;34m=\u001b[0m\u001b[0;32mNone\u001b[0m\u001b[0;34m,\u001b[0m \u001b[0;34m**\u001b[0m\u001b[0mkwargs\u001b[0m\u001b[0;34m)\u001b[0m\u001b[0;34m:\u001b[0m\u001b[0;34m\u001b[0m\u001b[0;34m\u001b[0m\u001b[0m\n\u001b[0;32m--> 216\u001b[0;31m         \u001b[0msuper\u001b[0m\u001b[0;34m(\u001b[0m\u001b[0mLikelihoodModel\u001b[0m\u001b[0;34m,\u001b[0m \u001b[0mself\u001b[0m\u001b[0;34m)\u001b[0m\u001b[0;34m.\u001b[0m\u001b[0m__init__\u001b[0m\u001b[0;34m(\u001b[0m\u001b[0mendog\u001b[0m\u001b[0;34m,\u001b[0m \u001b[0mexog\u001b[0m\u001b[0;34m,\u001b[0m \u001b[0;34m**\u001b[0m\u001b[0mkwargs\u001b[0m\u001b[0;34m)\u001b[0m\u001b[0;34m\u001b[0m\u001b[0;34m\u001b[0m\u001b[0m\n\u001b[0m\u001b[1;32m    217\u001b[0m         \u001b[0mself\u001b[0m\u001b[0;34m.\u001b[0m\u001b[0minitialize\u001b[0m\u001b[0;34m(\u001b[0m\u001b[0;34m)\u001b[0m\u001b[0;34m\u001b[0m\u001b[0;34m\u001b[0m\u001b[0m\n\u001b[1;32m    218\u001b[0m \u001b[0;34m\u001b[0m\u001b[0m\n",
            "\u001b[0;32m/usr/local/lib/python3.7/dist-packages/statsmodels/base/model.py\u001b[0m in \u001b[0;36m__init__\u001b[0;34m(self, endog, exog, **kwargs)\u001b[0m\n\u001b[1;32m     66\u001b[0m         \u001b[0mhasconst\u001b[0m \u001b[0;34m=\u001b[0m \u001b[0mkwargs\u001b[0m\u001b[0;34m.\u001b[0m\u001b[0mpop\u001b[0m\u001b[0;34m(\u001b[0m\u001b[0;34m'hasconst'\u001b[0m\u001b[0;34m,\u001b[0m \u001b[0;32mNone\u001b[0m\u001b[0;34m)\u001b[0m\u001b[0;34m\u001b[0m\u001b[0;34m\u001b[0m\u001b[0m\n\u001b[1;32m     67\u001b[0m         self.data = self._handle_data(endog, exog, missing, hasconst,\n\u001b[0;32m---> 68\u001b[0;31m                                       **kwargs)\n\u001b[0m\u001b[1;32m     69\u001b[0m         \u001b[0mself\u001b[0m\u001b[0;34m.\u001b[0m\u001b[0mk_constant\u001b[0m \u001b[0;34m=\u001b[0m \u001b[0mself\u001b[0m\u001b[0;34m.\u001b[0m\u001b[0mdata\u001b[0m\u001b[0;34m.\u001b[0m\u001b[0mk_constant\u001b[0m\u001b[0;34m\u001b[0m\u001b[0;34m\u001b[0m\u001b[0m\n\u001b[1;32m     70\u001b[0m         \u001b[0mself\u001b[0m\u001b[0;34m.\u001b[0m\u001b[0mexog\u001b[0m \u001b[0;34m=\u001b[0m \u001b[0mself\u001b[0m\u001b[0;34m.\u001b[0m\u001b[0mdata\u001b[0m\u001b[0;34m.\u001b[0m\u001b[0mexog\u001b[0m\u001b[0;34m\u001b[0m\u001b[0;34m\u001b[0m\u001b[0m\n",
            "\u001b[0;32m/usr/local/lib/python3.7/dist-packages/statsmodels/base/model.py\u001b[0m in \u001b[0;36m_handle_data\u001b[0;34m(self, endog, exog, missing, hasconst, **kwargs)\u001b[0m\n\u001b[1;32m     89\u001b[0m \u001b[0;34m\u001b[0m\u001b[0m\n\u001b[1;32m     90\u001b[0m     \u001b[0;32mdef\u001b[0m \u001b[0m_handle_data\u001b[0m\u001b[0;34m(\u001b[0m\u001b[0mself\u001b[0m\u001b[0;34m,\u001b[0m \u001b[0mendog\u001b[0m\u001b[0;34m,\u001b[0m \u001b[0mexog\u001b[0m\u001b[0;34m,\u001b[0m \u001b[0mmissing\u001b[0m\u001b[0;34m,\u001b[0m \u001b[0mhasconst\u001b[0m\u001b[0;34m,\u001b[0m \u001b[0;34m**\u001b[0m\u001b[0mkwargs\u001b[0m\u001b[0;34m)\u001b[0m\u001b[0;34m:\u001b[0m\u001b[0;34m\u001b[0m\u001b[0;34m\u001b[0m\u001b[0m\n\u001b[0;32m---> 91\u001b[0;31m         \u001b[0mdata\u001b[0m \u001b[0;34m=\u001b[0m \u001b[0mhandle_data\u001b[0m\u001b[0;34m(\u001b[0m\u001b[0mendog\u001b[0m\u001b[0;34m,\u001b[0m \u001b[0mexog\u001b[0m\u001b[0;34m,\u001b[0m \u001b[0mmissing\u001b[0m\u001b[0;34m,\u001b[0m \u001b[0mhasconst\u001b[0m\u001b[0;34m,\u001b[0m \u001b[0;34m**\u001b[0m\u001b[0mkwargs\u001b[0m\u001b[0;34m)\u001b[0m\u001b[0;34m\u001b[0m\u001b[0;34m\u001b[0m\u001b[0m\n\u001b[0m\u001b[1;32m     92\u001b[0m         \u001b[0;31m# kwargs arrays could have changed, easier to just attach here\u001b[0m\u001b[0;34m\u001b[0m\u001b[0;34m\u001b[0m\u001b[0;34m\u001b[0m\u001b[0m\n\u001b[1;32m     93\u001b[0m         \u001b[0;32mfor\u001b[0m \u001b[0mkey\u001b[0m \u001b[0;32min\u001b[0m \u001b[0mkwargs\u001b[0m\u001b[0;34m:\u001b[0m\u001b[0;34m\u001b[0m\u001b[0;34m\u001b[0m\u001b[0m\n",
            "\u001b[0;32m/usr/local/lib/python3.7/dist-packages/statsmodels/base/data.py\u001b[0m in \u001b[0;36mhandle_data\u001b[0;34m(endog, exog, missing, hasconst, **kwargs)\u001b[0m\n\u001b[1;32m    633\u001b[0m     \u001b[0mklass\u001b[0m \u001b[0;34m=\u001b[0m \u001b[0mhandle_data_class_factory\u001b[0m\u001b[0;34m(\u001b[0m\u001b[0mendog\u001b[0m\u001b[0;34m,\u001b[0m \u001b[0mexog\u001b[0m\u001b[0;34m)\u001b[0m\u001b[0;34m\u001b[0m\u001b[0;34m\u001b[0m\u001b[0m\n\u001b[1;32m    634\u001b[0m     return klass(endog, exog=exog, missing=missing, hasconst=hasconst,\n\u001b[0;32m--> 635\u001b[0;31m                  **kwargs)\n\u001b[0m",
            "\u001b[0;32m/usr/local/lib/python3.7/dist-packages/statsmodels/base/data.py\u001b[0m in \u001b[0;36m__init__\u001b[0;34m(self, endog, exog, missing, hasconst, **kwargs)\u001b[0m\n\u001b[1;32m     78\u001b[0m         \u001b[0mself\u001b[0m\u001b[0;34m.\u001b[0m\u001b[0mconst_idx\u001b[0m \u001b[0;34m=\u001b[0m \u001b[0;32mNone\u001b[0m\u001b[0;34m\u001b[0m\u001b[0;34m\u001b[0m\u001b[0m\n\u001b[1;32m     79\u001b[0m         \u001b[0mself\u001b[0m\u001b[0;34m.\u001b[0m\u001b[0mk_constant\u001b[0m \u001b[0;34m=\u001b[0m \u001b[0;36m0\u001b[0m\u001b[0;34m\u001b[0m\u001b[0;34m\u001b[0m\u001b[0m\n\u001b[0;32m---> 80\u001b[0;31m         \u001b[0mself\u001b[0m\u001b[0;34m.\u001b[0m\u001b[0m_handle_constant\u001b[0m\u001b[0;34m(\u001b[0m\u001b[0mhasconst\u001b[0m\u001b[0;34m)\u001b[0m\u001b[0;34m\u001b[0m\u001b[0;34m\u001b[0m\u001b[0m\n\u001b[0m\u001b[1;32m     81\u001b[0m         \u001b[0mself\u001b[0m\u001b[0;34m.\u001b[0m\u001b[0m_check_integrity\u001b[0m\u001b[0;34m(\u001b[0m\u001b[0;34m)\u001b[0m\u001b[0;34m\u001b[0m\u001b[0;34m\u001b[0m\u001b[0m\n\u001b[1;32m     82\u001b[0m         \u001b[0mself\u001b[0m\u001b[0;34m.\u001b[0m\u001b[0m_cache\u001b[0m \u001b[0;34m=\u001b[0m \u001b[0;34m{\u001b[0m\u001b[0;34m}\u001b[0m\u001b[0;34m\u001b[0m\u001b[0;34m\u001b[0m\u001b[0m\n",
            "\u001b[0;32m/usr/local/lib/python3.7/dist-packages/statsmodels/base/data.py\u001b[0m in \u001b[0;36m_handle_constant\u001b[0;34m(self, hasconst)\u001b[0m\n\u001b[1;32m    124\u001b[0m             \u001b[0mptp_\u001b[0m \u001b[0;34m=\u001b[0m \u001b[0mnp\u001b[0m\u001b[0;34m.\u001b[0m\u001b[0mptp\u001b[0m\u001b[0;34m(\u001b[0m\u001b[0mself\u001b[0m\u001b[0;34m.\u001b[0m\u001b[0mexog\u001b[0m\u001b[0;34m,\u001b[0m \u001b[0maxis\u001b[0m\u001b[0;34m=\u001b[0m\u001b[0;36m0\u001b[0m\u001b[0;34m)\u001b[0m\u001b[0;34m\u001b[0m\u001b[0;34m\u001b[0m\u001b[0m\n\u001b[1;32m    125\u001b[0m             \u001b[0;32mif\u001b[0m \u001b[0;32mnot\u001b[0m \u001b[0mnp\u001b[0m\u001b[0;34m.\u001b[0m\u001b[0misfinite\u001b[0m\u001b[0;34m(\u001b[0m\u001b[0mptp_\u001b[0m\u001b[0;34m)\u001b[0m\u001b[0;34m.\u001b[0m\u001b[0mall\u001b[0m\u001b[0;34m(\u001b[0m\u001b[0;34m)\u001b[0m\u001b[0;34m:\u001b[0m\u001b[0;34m\u001b[0m\u001b[0;34m\u001b[0m\u001b[0m\n\u001b[0;32m--> 126\u001b[0;31m                 \u001b[0;32mraise\u001b[0m \u001b[0mMissingDataError\u001b[0m\u001b[0;34m(\u001b[0m\u001b[0;34m'exog contains inf or nans'\u001b[0m\u001b[0;34m)\u001b[0m\u001b[0;34m\u001b[0m\u001b[0;34m\u001b[0m\u001b[0m\n\u001b[0m\u001b[1;32m    127\u001b[0m             \u001b[0mconst_idx\u001b[0m \u001b[0;34m=\u001b[0m \u001b[0mnp\u001b[0m\u001b[0;34m.\u001b[0m\u001b[0mwhere\u001b[0m\u001b[0;34m(\u001b[0m\u001b[0mptp_\u001b[0m \u001b[0;34m==\u001b[0m \u001b[0;36m0\u001b[0m\u001b[0;34m)\u001b[0m\u001b[0;34m[\u001b[0m\u001b[0;36m0\u001b[0m\u001b[0;34m]\u001b[0m\u001b[0;34m.\u001b[0m\u001b[0msqueeze\u001b[0m\u001b[0;34m(\u001b[0m\u001b[0;34m)\u001b[0m\u001b[0;34m\u001b[0m\u001b[0;34m\u001b[0m\u001b[0m\n\u001b[1;32m    128\u001b[0m             \u001b[0mself\u001b[0m\u001b[0;34m.\u001b[0m\u001b[0mk_constant\u001b[0m \u001b[0;34m=\u001b[0m \u001b[0mconst_idx\u001b[0m\u001b[0;34m.\u001b[0m\u001b[0msize\u001b[0m\u001b[0;34m\u001b[0m\u001b[0;34m\u001b[0m\u001b[0m\n",
            "\u001b[0;31mMissingDataError\u001b[0m: exog contains inf or nans"
          ]
        }
      ]
    }
  ],
  "metadata": {
    "colab": {
      "name": "trabalho_pratico_cs_go.ipynb",
      "provenance": [],
      "collapsed_sections": []
    },
    "interpreter": {
      "hash": "aee8b7b246df8f9039afb4144a1f6fd8d2ca17a180786b69acc140d282b71a49"
    },
    "kernelspec": {
      "display_name": "Python 3.9.12 64-bit",
      "language": "python",
      "name": "python3"
    },
    "language_info": {
      "codemirror_mode": {
        "name": "ipython",
        "version": 3
      },
      "file_extension": ".py",
      "mimetype": "text/x-python",
      "name": "python",
      "nbconvert_exporter": "python",
      "pygments_lexer": "ipython3",
      "version": "3.9.12"
    }
  },
  "nbformat": 4,
  "nbformat_minor": 0
}