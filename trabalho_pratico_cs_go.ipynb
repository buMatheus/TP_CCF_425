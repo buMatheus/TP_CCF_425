{
  "cells": [
    {
      "cell_type": "markdown",
      "metadata": {
        "id": "eoWYIsy6z9Lq"
      },
      "source": [
        "> Introdução à Ciência dos Dados \\\n",
        "> Ciência da Computação – UFV/Florestal\n",
        "\n",
        "\n",
        "* **Nome:** lucas takeshi, Jonathan Lopes, Matheus Silva\n",
        "* **Matrícula:** 2665, 2666, 2649\n",
        "\n",
        "----\n",
        "# Importação dos Dados"
      ]
    },
    {
      "cell_type": "markdown",
      "metadata": {
        "id": "puW1D7z6-uFu"
      },
      "source": [
        "**Etapa 1 - Escolha dos dados e planejamento**"
      ]
    },
    {
      "cell_type": "code",
      "execution_count": null,
      "metadata": {
        "colab": {
          "base_uri": "https://localhost:8080/"
        },
        "id": "WfqQbvhoz9Lw",
        "outputId": "af730f35-6af6-47ec-ab05-8c2b94f69993"
      },
      "outputs": [
        {
          "output_type": "stream",
          "name": "stdout",
          "text": [
            "--2022-07-27 03:13:11--  https://raw.githubusercontent.com/LTaka/cs-go-csv/main/tb_lobby_stats_player.csv\n",
            "Resolving raw.githubusercontent.com (raw.githubusercontent.com)... 185.199.108.133, 185.199.109.133, 185.199.110.133, ...\n",
            "Connecting to raw.githubusercontent.com (raw.githubusercontent.com)|185.199.108.133|:443... connected.\n",
            "HTTP request sent, awaiting response... 200 OK\n",
            "Length: 28373607 (27M) [text/plain]\n",
            "Saving to: ‘tb_lobby_stats_player.csv.1’\n",
            "\n",
            "tb_lobby_stats_play 100%[===================>]  27.06M   145MB/s    in 0.2s    \n",
            "\n",
            "2022-07-27 03:13:11 (145 MB/s) - ‘tb_lobby_stats_player.csv.1’ saved [28373607/28373607]\n",
            "\n"
          ]
        }
      ],
      "source": [
        "#Importações de databases\n",
        "#Etapa 1\n",
        "\n",
        "!wget https://raw.githubusercontent.com/LTaka/cs-go-csv/main/tb_lobby_stats_player.csv"
      ]
    },
    {
      "cell_type": "code",
      "execution_count": null,
      "metadata": {
        "id": "_X9J3UPRX7_6"
      },
      "outputs": [],
      "source": [
        "#importações das bibliotecas utilizadas\n",
        "import pandas as pd\n",
        "import numpy as np\n",
        "import seaborn as sns\n",
        "import matplotlib.pyplot as plt\n",
        "import sklearn\n",
        "from mlxtend.frequent_patterns import apriori\n",
        "from mlxtend.frequent_patterns import association_rules\n",
        "from sklearn.linear_model import LinearRegression\n",
        "from sklearn.cluster import KMeans"
      ]
    },
    {
      "cell_type": "markdown",
      "metadata": {
        "id": "brZcBiXk-0NU"
      },
      "source": [
        "**Etapa 2 - Preparação e análise exploratória dos dados**"
      ]
    },
    {
      "cell_type": "markdown",
      "metadata": {
        "id": "6BBJQAkXMFDQ"
      },
      "source": [
        "Tratamento de dados"
      ]
    },
    {
      "cell_type": "code",
      "execution_count": null,
      "metadata": {
        "id": "qoh2jRcKz9L1"
      },
      "outputs": [],
      "source": [
        "original_df_lobby = pd.read_csv('./tb_lobby_stats_player.csv')\n",
        "df_l =original_df_lobby\n",
        "df_l['qtSurvived'].fillna('drop', inplace=True)\n",
        "#drop dos NAN\n",
        "drop=df_l[df_l[\"qtSurvived\"]=='drop'].index\n",
        "df_l=df_l.drop(drop)\n",
        "#Informações de lobby\n",
        "#df_l.info()\n",
        "# Tratando os dados de lobby retirando info irrelevante\n",
        "df_l = df_l.drop(\"qtShots\",axis=1)\n",
        "df_l = df_l.drop(\"idLobbyGame\",axis=1)\n",
        "df_l = df_l.drop(\"idPlayer\",axis=1)\n",
        "df_l = df_l.drop(\"idRoom\",axis=1)\n",
        "df_l = df_l.drop(\"qtPlusKill\",axis=1)\n",
        "df_l = df_l.drop(\"dtCreatedAt\",axis=1)\n",
        "df_l = df_l.drop(\"qtHitRightLeg\",axis=1)\n",
        "df_l = df_l.drop(\"qtHitLeftLeg\",axis=1)\n",
        "df_l = df_l.drop(\"qtHitRightArm\",axis=1)\n",
        "df_l = df_l.drop(\"qtHitLeftAtm\",axis=1)\n",
        "df_l = df_l.drop(\"qtHitStomach\",axis=1)\n",
        "df_l = df_l.drop(\"qtHitChest\",axis=1)\n",
        "df_l = df_l.drop(\"qtHitHeadshot\",axis=1)\n",
        "df_l = df_l.drop(\"qtTk\",axis=1)\n",
        "df_l = df_l.drop(\"qtTkAssist\",axis=1)\n",
        "drop=df_l[df_l['qtRoundsPlayed']<df_l['qtRoundsPlayed'].quantile(0.25)].index\n",
        "df_l=df_l.drop(drop)\n",
        "drop=df_l[df_l['qtRoundsPlayed']<df_l['qtDeath']].index\n",
        "df_l=df_l.drop(drop)"
      ]
    },
    {
      "cell_type": "code",
      "execution_count": null,
      "metadata": {
        "colab": {
          "base_uri": "https://localhost:8080/"
        },
        "id": "MAkpWAmi7Rg8",
        "outputId": "3cf5e702-4ab0-4217-853a-86db0cc96458"
      },
      "outputs": [
        {
          "output_type": "stream",
          "name": "stdout",
          "text": [
            "<class 'pandas.core.frame.DataFrame'>\n",
            "Int64Index: 146381 entries, 1 to 184150\n",
            "Data columns (total 23 columns):\n",
            " #   Column          Non-Null Count   Dtype  \n",
            "---  ------          --------------   -----  \n",
            " 0   qtKill          146381 non-null  int64  \n",
            " 1   qtAssist        146381 non-null  int64  \n",
            " 2   qtDeath         146381 non-null  int64  \n",
            " 3   qtHs            146381 non-null  int64  \n",
            " 4   qtBombeDefuse   146381 non-null  int64  \n",
            " 5   qtBombePlant    146381 non-null  int64  \n",
            " 6   qt1Kill         146381 non-null  int64  \n",
            " 7   qt2Kill         146381 non-null  int64  \n",
            " 8   qt3Kill         146381 non-null  int64  \n",
            " 9   qt4Kill         146381 non-null  int64  \n",
            " 10  qt5Kill         146381 non-null  int64  \n",
            " 11  qtFirstKill     146381 non-null  int64  \n",
            " 12  vlDamage        146381 non-null  int64  \n",
            " 13  qtHits          146381 non-null  float64\n",
            " 14  qtLastAlive     146381 non-null  float64\n",
            " 15  qtClutchWon     146381 non-null  int64  \n",
            " 16  qtRoundsPlayed  146381 non-null  int64  \n",
            " 17  descMapName     146381 non-null  object \n",
            " 18  vlLevel         146381 non-null  int64  \n",
            " 19  qtSurvived      146381 non-null  object \n",
            " 20  qtTrade         146381 non-null  float64\n",
            " 21  qtFlashAssist   146381 non-null  float64\n",
            " 22  flWinner        146381 non-null  int64  \n",
            "dtypes: float64(4), int64(17), object(2)\n",
            "memory usage: 26.8+ MB\n"
          ]
        }
      ],
      "source": [
        "df_l.info()"
      ]
    },
    {
      "cell_type": "markdown",
      "metadata": {
        "id": "4HkInGa8Mkb7"
      },
      "source": [
        "Funções geradoras de valores de métricas feitas pelo grupo"
      ]
    },
    {
      "cell_type": "code",
      "execution_count": null,
      "metadata": {
        "id": "vB2lY9bdzMfh"
      },
      "outputs": [],
      "source": [
        "# Calcular kill por round\n",
        "def kpr(kills, rounds):\n",
        "  kpr = kills/rounds #quanto mais alto melhor \n",
        "  return kpr\n",
        "\n",
        "#Calcula mortes por rounds\n",
        "def dpr(deaths, rounds): #quanto mais próximo de 0 melhor\n",
        "  dpr = deaths/rounds\n",
        "  return dpr\n",
        "\n",
        "#Distribuição de peso de atributos (baseado em impacto no round)\n",
        "#qtAssist - 15, qtBombePlant - 15, qtBombeDefuse - 20, qtClutchWon - 20, qtTrade - 10, qtFlashAssist - 10, qtFirstKill - 10\n",
        "def distPoints(qtAssist, qtBombePlant, qtBombeDefuse, qtClutchWon, qtTrade, qtFlashAssist, qtFirstKill):\n",
        "  qtAssist = qtAssist*15\n",
        "  qtBombePlant = qtBombePlant*15\n",
        "  qtBombeDefuse = qtBombeDefuse*20\n",
        "  qtClutchWon = qtClutchWon*20\n",
        "  qtTrade = qtTrade*10\n",
        "  qtFlashAssist = qtFlashAssist*10\n",
        "  qtFirstKill = qtFirstKill*10\n",
        "  total = (qtAssist+qtBombePlant+qtBombeDefuse+qtClutchWon+qtTrade+qtFlashAssist+qtFirstKill)/7\n",
        "  \n",
        "  return total\n",
        "\n",
        "def regressao_linear(X,Y,cols):\n",
        "  if len(cols) == 1:\n",
        "    X = X.values.reshape(-1,1)\n",
        "\n",
        "  lm = LinearRegression()\n",
        "  lm.fit(X,Y)\n",
        "  print('Coeficiente estimado: ', lm.coef_)    \n",
        "  print('R2 (score): ', lm.score(X,Y))\n",
        "  print(\"Intercept %.3f \" % lm.intercept_)\n",
        "\n",
        "  coeff_df = pd.DataFrame(lm.coef_, cols, columns=['Coefficient'])\n",
        "  print(coeff_df)\n",
        "\n",
        "#Categorização de parametros em qualidade de jogador\n",
        "#pps Pontos por status\n",
        "def playerQuality(df):\n",
        "  for i in df.index:\n",
        "    if (df['pps'][i] <= 20.0):\n",
        "      df['playerQuality'][i] = 'Ruim'\n",
        "    elif ((df['pps'][i] > 20.0)&(df['pps'][i] <= 40.0)):\n",
        "      df['playerQuality'][i] = 'Regular'\n",
        "    elif ((df['pps'][i] > 40.0)&(df['pps'][i] <= 60.0)):\n",
        "      df['playerQuality'][i] = 'Bom'\n",
        "    elif ((df['pps'][i] > 60.0)&(df['pps'][i] <= 80.0)):\n",
        "      df['playerQuality'][i] = 'Muito Bom'\n",
        "    elif (df['pps'][i] > 80.0):\n",
        "      df['playerQuality'][i] = 'Excelente'\n",
        "\n",
        "#Categorização de parametros em qualidade de jogador\n",
        "def category(df):\n",
        "  for i in df.index:\n",
        "    if (df['dpr'][i] <= 0.5):\n",
        "      df['dM50'][i] = 1\n",
        "    else:\n",
        "      df['dM50'][i] = 0\n",
        "\n",
        "#https://acervolima.com/regressao-linear-implementacao-python/ Função encontrada\n",
        "#b_0 e b_1 são coeficientes de regressão e representam a interceptação y e a inclinação da linha de regressão, respectivamente.\n",
        "def estimate_coef(x, y): \n",
        "    \n",
        "    n = np.size(x) \n",
        "  \n",
        "    \n",
        "    m_x, m_y = np.mean(x), np.mean(y) \n",
        "  \n",
        "    \n",
        "    SS_xy = np.sum(y*x) - n*m_y*m_x \n",
        "    SS_xx = np.sum(x*x) - n*m_x*m_x \n",
        "  \n",
        "    \n",
        "    b_1 = SS_xy / SS_xx \n",
        "    b_0 = m_y - b_1*m_x \n",
        "  \n",
        "    return(b_0, b_1) \n",
        "  \n",
        "def plot_regression_line(x, y, b): \n",
        "    \n",
        "    plt.scatter(x, y, color = \"m\", \n",
        "               marker = \"o\", s = 30) \n",
        "  \n",
        "    \n",
        "    y_pred = b[0] + b[1]*x \n",
        "  \n",
        "    \n",
        "    plt.plot(x, y_pred, color = \"g\") \n",
        "  \n",
        "    \n",
        "    plt.xlabel('x') \n",
        "    plt.ylabel('y') \n",
        "  \n",
        "    \n",
        "    plt.show()"
      ]
    },
    {
      "cell_type": "markdown",
      "metadata": {
        "id": "nlg-lojRND1B"
      },
      "source": [
        "Execução de funções de métricas"
      ]
    },
    {
      "cell_type": "code",
      "execution_count": null,
      "metadata": {
        "colab": {
          "base_uri": "https://localhost:8080/"
        },
        "id": "Puh_KPl4NDJU",
        "outputId": "e4248d43-101a-4057-e591-b83cb6a9194a"
      },
      "outputs": [
        {
          "output_type": "stream",
          "name": "stderr",
          "text": [
            "/usr/local/lib/python3.7/dist-packages/ipykernel_launcher.py:59: SettingWithCopyWarning: \n",
            "A value is trying to be set on a copy of a slice from a DataFrame\n",
            "\n",
            "See the caveats in the documentation: https://pandas.pydata.org/pandas-docs/stable/user_guide/indexing.html#returning-a-view-versus-a-copy\n",
            "/usr/local/lib/python3.7/dist-packages/ipykernel_launcher.py:57: SettingWithCopyWarning: \n",
            "A value is trying to be set on a copy of a slice from a DataFrame\n",
            "\n",
            "See the caveats in the documentation: https://pandas.pydata.org/pandas-docs/stable/user_guide/indexing.html#returning-a-view-versus-a-copy\n"
          ]
        }
      ],
      "source": [
        "df_l.insert((df_l.shape[1]),\"kpr\",kpr(df_l['qtKill'], df_l['qtRoundsPlayed']),True) #Kills Per Round\n",
        "df_l.insert((df_l.shape[1]),\"dpr\",dpr(df_l['qtDeath'], df_l['qtRoundsPlayed']),True) #Deaths Per Round\n",
        "df_l.insert((df_l.shape[1]),\"pps\",distPoints(df_l['qtAssist'], df_l['qtBombePlant'], df_l['qtBombeDefuse'], df_l['qtClutchWon'], df_l['qtTrade'], df_l['qtFlashAssist'], df_l['qtFirstKill']),True) #Points Per Stats\n",
        "df_l.insert((df_l.shape[1]),\"playerQuality\",'Null',True) #Player Quality\n",
        "df_l.insert((df_l.shape[1]),\"dM50\",'Null',True) #dpr <=0.5 = 1 or 0\n",
        "category(df_l)\n",
        "#df_l"
      ]
    },
    {
      "cell_type": "markdown",
      "metadata": {
        "id": "vyN_JCHIO33s"
      },
      "source": [
        "**Análise exploratória do dataframe depois do tratamento de dados**"
      ]
    },
    {
      "cell_type": "code",
      "execution_count": null,
      "metadata": {
        "colab": {
          "base_uri": "https://localhost:8080/"
        },
        "id": "Q5xNpWC355dw",
        "outputId": "84ab50c0-a620-47e1-e83d-44475eef868e"
      },
      "outputs": [
        {
          "output_type": "stream",
          "name": "stderr",
          "text": [
            "/usr/local/lib/python3.7/dist-packages/ipykernel_launcher.py:45: SettingWithCopyWarning: \n",
            "A value is trying to be set on a copy of a slice from a DataFrame\n",
            "\n",
            "See the caveats in the documentation: https://pandas.pydata.org/pandas-docs/stable/user_guide/indexing.html#returning-a-view-versus-a-copy\n",
            "/usr/local/lib/python3.7/dist-packages/ipykernel_launcher.py:43: SettingWithCopyWarning: \n",
            "A value is trying to be set on a copy of a slice from a DataFrame\n",
            "\n",
            "See the caveats in the documentation: https://pandas.pydata.org/pandas-docs/stable/user_guide/indexing.html#returning-a-view-versus-a-copy\n",
            "/usr/local/lib/python3.7/dist-packages/ipykernel_launcher.py:47: SettingWithCopyWarning: \n",
            "A value is trying to be set on a copy of a slice from a DataFrame\n",
            "\n",
            "See the caveats in the documentation: https://pandas.pydata.org/pandas-docs/stable/user_guide/indexing.html#returning-a-view-versus-a-copy\n",
            "/usr/local/lib/python3.7/dist-packages/ipykernel_launcher.py:49: SettingWithCopyWarning: \n",
            "A value is trying to be set on a copy of a slice from a DataFrame\n",
            "\n",
            "See the caveats in the documentation: https://pandas.pydata.org/pandas-docs/stable/user_guide/indexing.html#returning-a-view-versus-a-copy\n",
            "/usr/local/lib/python3.7/dist-packages/ipykernel_launcher.py:51: SettingWithCopyWarning: \n",
            "A value is trying to be set on a copy of a slice from a DataFrame\n",
            "\n",
            "See the caveats in the documentation: https://pandas.pydata.org/pandas-docs/stable/user_guide/indexing.html#returning-a-view-versus-a-copy\n"
          ]
        },
        {
          "output_type": "execute_result",
          "data": {
            "text/plain": [
              "Regular      88005\n",
              "Ruim         52910\n",
              "Bom           5349\n",
              "Muito Bom      114\n",
              "Excelente        3\n",
              "Name: playerQuality, dtype: int64"
            ]
          },
          "metadata": {},
          "execution_count": 14
        }
      ],
      "source": [
        "playerQuality(df_l)\n",
        "df_l['playerQuality'].value_counts()"
      ]
    },
    {
      "cell_type": "code",
      "execution_count": null,
      "metadata": {
        "colab": {
          "base_uri": "https://localhost:8080/",
          "height": 458
        },
        "id": "OsqOrjAw4ERv",
        "outputId": "af0116f5-36ec-4f40-f3f7-9d1ec2ae6617"
      },
      "outputs": [
        {
          "output_type": "display_data",
          "data": {
            "text/plain": [
              "<Figure size 1008x504 with 1 Axes>"
            ],
            "image/png": "[encoded data removed]"
          },
          "metadata": {
            "needs_background": "light"
          }
        }
      ],
      "source": [
        "plt.figure(figsize=(14, 7))\n",
        "df_l['playerQuality'].hist( bins=10, ec = \"k\", alpha = .5, color = \"black\")\n",
        "plt.ylabel('Quantidade total')\n",
        "plt.xlabel('Qualidade do jogador')\n",
        "plt.title('Quantidade de jogadores pela qualidade')\n",
        "plt.show()"
      ]
    },
    {
      "cell_type": "code",
      "execution_count": null,
      "metadata": {
        "colab": {
          "base_uri": "https://localhost:8080/",
          "height": 458
        },
        "id": "aW0ZhHR44zAf",
        "outputId": "28234361-f8d3-42b0-de97-ee6f9c7d5aa9"
      },
      "outputs": [
        {
          "output_type": "display_data",
          "data": {
            "text/plain": [
              "<Figure size 1008x504 with 1 Axes>"
            ],
            "image/png": "[encoded data removed]"
          },
          "metadata": {
            "needs_background": "light"
          }
        }
      ],
      "source": [
        "plt.figure(figsize=(14, 7))\n",
        "playersLosers = df_l[df_l[\"flWinner\"]==0]\n",
        "playersLosers['playerQuality'].hist( bins=20, ec = \"k\", alpha = .5, color = \"green\")\n",
        "plt.ylabel('Quantidade total de jogadores que perderam')\n",
        "plt.xlabel('Qualidade do jogador')\n",
        "plt.title('Quantidade de jogadores que perderam pela qualidade')\n",
        "plt.show()"
      ]
    },
    {
      "cell_type": "code",
      "execution_count": null,
      "metadata": {
        "colab": {
          "base_uri": "https://localhost:8080/",
          "height": 458
        },
        "id": "dKQ60t_W5vd_",
        "outputId": "c6aca573-80ae-4e9c-cc72-49eca4f8c937"
      },
      "outputs": [
        {
          "output_type": "display_data",
          "data": {
            "text/plain": [
              "<Figure size 1008x504 with 1 Axes>"
            ],
            "image/png": "[encoded data removed]"
          },
          "metadata": {
            "needs_background": "light"
          }
        }
      ],
      "source": [
        "plt.figure(figsize=(14, 7))\n",
        "playersWinners = df_l[df_l[\"flWinner\"]==1]\n",
        "playersWinners['playerQuality'].hist( bins=10, ec = \"k\", alpha = .5, color = \"blue\")\n",
        "plt.ylabel('Quantidade total de jogadores que ganharam')\n",
        "plt.xlabel('Qualidade do jogador')\n",
        "plt.title('Quantidade de jogadores que ganharam pela qualidade')\n",
        "plt.show()"
      ]
    },
    {
      "cell_type": "markdown",
      "metadata": {
        "id": "FePz_qaHPVkg"
      },
      "source": [
        "Após uma vizualização de dados relacionados a vitória e a derrota através da qualidade do jogador pode-se concluir que como os dados estão pareados e não muito distantes. Dessa forma a qualidade do jogador não está relacionado a conclusão da partida (se o player perdeu ou ganhou)"
      ]
    },
    {
      "cell_type": "code",
      "execution_count": null,
      "metadata": {
        "colab": {
          "base_uri": "https://localhost:8080/",
          "height": 458
        },
        "id": "jZJ-sZOmmdYj",
        "outputId": "83e3df53-aab1-41a8-8e49-09ac547350b4"
      },
      "outputs": [
        {
          "output_type": "display_data",
          "data": {
            "text/plain": [
              "<Figure size 1008x504 with 1 Axes>"
            ],
            "image/png": "[encoded data removed]"
          },
          "metadata": {
            "needs_background": "light"
          }
        }
      ],
      "source": [
        "plt.figure(figsize=(14, 7))\n",
        "vg = df_l[df_l['kpr']>=2]\n",
        "vg['qtRoundsPlayed'].hist( bins=10, ec = \"k\", alpha = .5, color = \"gray\")\n",
        "plt.ylabel('Quantidade total de pessoas')\n",
        "plt.xlabel('quantidade de rounds jogados')\n",
        "plt.title('Quantidade total de pessoas com kpr maior que 2 que jogaram x rounds')\n",
        "plt.show()"
      ]
    },
    {
      "cell_type": "code",
      "source": [
        "vg['qtRoundsPlayed'].value_counts()"
      ],
      "metadata": {
        "id": "M2zQmdjROygo",
        "outputId": "d8a57f91-9db3-482f-be92-e8d7cd57adf8",
        "colab": {
          "base_uri": "https://localhost:8080/"
        }
      },
      "execution_count": null,
      "outputs": [
        {
          "output_type": "execute_result",
          "data": {
            "text/plain": [
              "23    2\n",
              "24    1\n",
              "28    1\n",
              "Name: qtRoundsPlayed, dtype: int64"
            ]
          },
          "metadata": {},
          "execution_count": 19
        }
      ]
    },
    {
      "cell_type": "code",
      "execution_count": null,
      "metadata": {
        "colab": {
          "base_uri": "https://localhost:8080/",
          "height": 458
        },
        "id": "n5gJ3EtTZ6xr",
        "outputId": "31cc2267-05e2-4293-d0f3-0d4ecb9e6ecc"
      },
      "outputs": [
        {
          "output_type": "display_data",
          "data": {
            "text/plain": [
              "<Figure size 1008x504 with 1 Axes>"
            ],
            "image/png": "[encoded data removed]"
          },
          "metadata": {
            "needs_background": "light"
          }
        }
      ],
      "source": [
        "plt.figure(figsize=(14, 7))\n",
        "vg = df_l[df_l['kpr']>=1.5]\n",
        "vg['playerQuality'].hist( bins=10, ec = \"k\", alpha = .5, color = \"green\")\n",
        "plt.ylabel('Quantidade total de pessoas')\n",
        "plt.xlabel('Qualidade de jogador')\n",
        "plt.title('Quantidade total de pessoas com kpr maior que 1.5 por qualidade')\n",
        "plt.show()"
      ]
    },
    {
      "cell_type": "markdown",
      "metadata": {
        "id": "C8BPH_BUSDTZ"
      },
      "source": [
        "Players com Kpr alto estão entre 23 a 28 rounds jogados"
      ]
    },
    {
      "cell_type": "code",
      "execution_count": null,
      "metadata": {
        "colab": {
          "base_uri": "https://localhost:8080/"
        },
        "id": "AXRly6He8WcQ",
        "outputId": "4e80c341-54a5-409e-a084-8108a53900cd"
      },
      "outputs": [
        {
          "output_type": "execute_result",
          "data": {
            "text/plain": [
              "de_mirage      45887\n",
              "de_inferno     33833\n",
              "de_dust2       18753\n",
              "de_vertigo     16001\n",
              "de_nuke        11205\n",
              "de_overpass    11151\n",
              "de_train        6166\n",
              "de_ancient      3385\n",
              "Name: descMapName, dtype: int64"
            ]
          },
          "metadata": {},
          "execution_count": 21
        }
      ],
      "source": [
        "df_l['descMapName'].value_counts()"
      ]
    },
    {
      "cell_type": "code",
      "execution_count": null,
      "metadata": {
        "colab": {
          "base_uri": "https://localhost:8080/",
          "height": 459
        },
        "id": "hBXLr1sWBHAL",
        "outputId": "68560cd9-1ba1-4805-9015-b183074c795e"
      },
      "outputs": [
        {
          "output_type": "display_data",
          "data": {
            "text/plain": [
              "<Figure size 1008x504 with 1 Axes>"
            ],
            "image/png": "[encoded data removed]"
          },
          "metadata": {
            "needs_background": "light"
          }
        }
      ],
      "source": [
        "plt.figure(figsize=(14, 7))\n",
        "df_l['descMapName'].hist( bins=40, ec = \"k\", alpha = .6, color = \"blue\")\n",
        "plt.ylabel('Quantidade total de mapas')\n",
        "plt.xlabel('Nome do mapa')\n",
        "plt.title('Quantidade de mapas jogados pelos jogadores do database')\n",
        "plt.show()"
      ]
    },
    {
      "cell_type": "code",
      "execution_count": null,
      "metadata": {
        "colab": {
          "base_uri": "https://localhost:8080/",
          "height": 459
        },
        "id": "Oo8nfZco8xBH",
        "outputId": "389f852a-2090-4cfe-9725-b8c1bea55fd5"
      },
      "outputs": [
        {
          "output_type": "display_data",
          "data": {
            "text/plain": [
              "<Figure size 1008x504 with 1 Axes>"
            ],
            "image/png": "[encoded data removed]"
          },
          "metadata": {
            "needs_background": "light"
          }
        }
      ],
      "source": [
        "plt.figure(figsize=(14, 7))\n",
        "playersWinners['descMapName'].hist( bins=40, ec = \"k\", alpha = .6, color = \"yellow\")\n",
        "plt.ylabel('Quantidade total de mapas')\n",
        "plt.xlabel('Nome do mapa')\n",
        "plt.title('Quantidade de mapas jogados pelos jogadores que ganharam')\n",
        "plt.show()"
      ]
    },
    {
      "cell_type": "code",
      "source": [
        "playersLosers['descMapName'].value_counts()"
      ],
      "metadata": {
        "colab": {
          "base_uri": "https://localhost:8080/"
        },
        "id": "VFEObOxCAixY",
        "outputId": "6d873116-8e8e-45d1-8a4a-0bd0b80ece95"
      },
      "execution_count": null,
      "outputs": [
        {
          "output_type": "execute_result",
          "data": {
            "text/plain": [
              "de_mirage      22971\n",
              "de_inferno     17010\n",
              "de_dust2        9481\n",
              "de_vertigo      7873\n",
              "de_overpass     5563\n",
              "de_nuke         5559\n",
              "de_train        2991\n",
              "de_ancient      1698\n",
              "Name: descMapName, dtype: int64"
            ]
          },
          "metadata": {},
          "execution_count": 24
        }
      ]
    },
    {
      "cell_type": "code",
      "execution_count": null,
      "metadata": {
        "colab": {
          "base_uri": "https://localhost:8080/",
          "height": 459
        },
        "id": "32aGFgde-0ie",
        "outputId": "2355bae0-5c0f-4700-fffa-0854f2208931"
      },
      "outputs": [
        {
          "output_type": "display_data",
          "data": {
            "text/plain": [
              "<Figure size 1008x504 with 1 Axes>"
            ],
            "image/png": "[encoded data removed]"
          },
          "metadata": {
            "needs_background": "light"
          }
        }
      ],
      "source": [
        "plt.figure(figsize=(14, 7))\n",
        "playersLosers['descMapName'].hist( bins=40, ec = \"k\", alpha = .6, color = \"pink\")\n",
        "plt.ylabel('Quantidade total de mapas')\n",
        "plt.xlabel('Nome do mapa')\n",
        "plt.title('Quantidade de mapas jogados pelos jogadores que perderam')\n",
        "plt.show()"
      ]
    },
    {
      "cell_type": "code",
      "execution_count": null,
      "metadata": {
        "colab": {
          "base_uri": "https://localhost:8080/",
          "height": 459
        },
        "id": "Vu0Tqrzz_xAy",
        "outputId": "48233222-ffa7-46dc-fdc7-02c1c67cd048"
      },
      "outputs": [
        {
          "output_type": "display_data",
          "data": {
            "text/plain": [
              "<Figure size 1008x504 with 1 Axes>"
            ],
            "image/png": "[encoded data removed]"
          },
          "metadata": {
            "needs_background": "light"
          }
        }
      ],
      "source": [
        "plt.figure(figsize=(14, 7))\n",
        "vgp = df_l[df_l['pps']>=60]\n",
        "vgp['descMapName'].hist( bins=40, ec = \"k\", alpha = .6, color = \"orange\")\n",
        "plt.ylabel('Quantidade total de mapas')\n",
        "plt.xlabel('Nome do mapa')\n",
        "plt.title('Quantidade de mapas jogados pelos jogadores que são muito bons e excelentes')\n",
        "plt.show()\n",
        "#jogadores com qualidade alta tendem a jogar mais inferno -> Over -> dust2 -> vertigo -> Mirage -> Nuke -> Train -> Ancient"
      ]
    },
    {
      "cell_type": "code",
      "execution_count": null,
      "metadata": {
        "colab": {
          "base_uri": "https://localhost:8080/",
          "height": 459
        },
        "id": "OUFOxQ2EBfWw",
        "outputId": "bfaeffc7-d9ff-4da7-cc63-6619a6f4ef8a"
      },
      "outputs": [
        {
          "output_type": "display_data",
          "data": {
            "text/plain": [
              "<Figure size 1008x504 with 1 Axes>"
            ],
            "image/png": "[encoded data removed]"
          },
          "metadata": {
            "needs_background": "light"
          }
        }
      ],
      "source": [
        "plt.figure(figsize=(14, 7))\n",
        "vgp = df_l[df_l['pps']<=40]\n",
        "vgp['descMapName'].hist( bins=40, ec = \"k\", alpha = .6, color = \"red\")\n",
        "plt.ylabel('Quantidade total de mapas')\n",
        "plt.xlabel('Nome do mapa')\n",
        "plt.title('Quantidade de mapas jogados pelos jogadores que regulares a ruins')\n",
        "plt.show()"
      ]
    },
    {
      "cell_type": "markdown",
      "metadata": {
        "id": "OrTWTqpOYlU-"
      },
      "source": [
        "Os mapas mais jogados possuem players que perderam e possuem qualidade baixa."
      ]
    },
    {
      "cell_type": "code",
      "execution_count": null,
      "metadata": {
        "colab": {
          "base_uri": "https://localhost:8080/",
          "height": 458
        },
        "id": "G8EscVPiakE4",
        "outputId": "f9b24829-453c-4f3a-fc77-53d4f8db18f0"
      },
      "outputs": [
        {
          "output_type": "display_data",
          "data": {
            "text/plain": [
              "<Figure size 1008x504 with 1 Axes>"
            ],
            "image/png": "[encoded data removed]"
          },
          "metadata": {
            "needs_background": "light"
          }
        }
      ],
      "source": [
        "plt.figure(figsize=(14, 7))\n",
        "df_l['vlLevel'].hist( bins=40, ec = \"k\", alpha = .6, color = \"green\")\n",
        "plt.ylabel('Quantidade total de jogadores')\n",
        "plt.xlabel('Nivel')\n",
        "plt.title('Quantidade de jogadores por nivel')\n",
        "plt.show()"
      ]
    },
    {
      "cell_type": "code",
      "execution_count": null,
      "metadata": {
        "colab": {
          "base_uri": "https://localhost:8080/",
          "height": 458
        },
        "id": "XqpYYE0I_ZcE",
        "outputId": "36c0ad5e-6d06-4cbf-d48f-9727cce091cc"
      },
      "outputs": [
        {
          "output_type": "display_data",
          "data": {
            "text/plain": [
              "<Figure size 1008x504 with 1 Axes>"
            ],
            "image/png": "[encoded data removed]"
          },
          "metadata": {
            "needs_background": "light"
          }
        }
      ],
      "source": [
        "plt.figure(figsize=(14, 7))\n",
        "playersLosers['vlLevel'].hist( bins=40, ec = \"k\", alpha = .6, color = \"purple\")\n",
        "plt.ylabel('Quantidade total de jogadores do nivel')\n",
        "plt.xlabel('Nivel de jogadores que perderam')\n",
        "plt.title('Quantidade do nivel dos jogadores que perderam')\n",
        "plt.show()"
      ]
    },
    {
      "cell_type": "code",
      "execution_count": null,
      "metadata": {
        "colab": {
          "base_uri": "https://localhost:8080/",
          "height": 458
        },
        "id": "g_9KDkJJ_xdI",
        "outputId": "e21ea36a-a1e4-492c-9345-4d76da066ec7"
      },
      "outputs": [
        {
          "output_type": "display_data",
          "data": {
            "text/plain": [
              "<Figure size 1008x504 with 1 Axes>"
            ],
            "image/png": "[encoded data removed]"
          },
          "metadata": {
            "needs_background": "light"
          }
        }
      ],
      "source": [
        "plt.figure(figsize=(14, 7))\n",
        "playersWinners['vlLevel'].hist( bins=40, ec = \"k\", alpha = .6, color = \"pink\")\n",
        "plt.ylabel('Quantidade total de jogadores do nivel')\n",
        "plt.xlabel('Nivel de jogadores que ganharam')\n",
        "plt.title('Quantidade do nivel dos jogadores que ganharam')\n",
        "plt.show()"
      ]
    },
    {
      "cell_type": "markdown",
      "source": [
        ""
      ],
      "metadata": {
        "id": "CiQ_XvIqGQ0q"
      }
    },
    {
      "cell_type": "code",
      "execution_count": null,
      "metadata": {
        "colab": {
          "base_uri": "https://localhost:8080/",
          "height": 458
        },
        "id": "UmtM9GRJAE0M",
        "outputId": "bdc21c03-2767-4529-d993-740e383a74de"
      },
      "outputs": [
        {
          "output_type": "display_data",
          "data": {
            "text/plain": [
              "<Figure size 1008x504 with 1 Axes>"
            ],
            "image/png": "[encoded data removed]"
          },
          "metadata": {
            "needs_background": "light"
          }
        }
      ],
      "source": [
        "plt.figure(figsize=(14, 7))\n",
        "pqr = df_l[df_l[\"playerQuality\"]=='Ruim']\n",
        "ruim =pqr['vlLevel'].value_counts().unique()\n",
        "pqr['vlLevel'].hist( bins=40, ec = \"k\", alpha = .6, color = \"royalblue\")\n",
        "plt.ylabel('Quantidade total de jogadores do nivel')\n",
        "plt.xlabel('Nivel de jogadores que perderam')\n",
        "plt.title('Quantidade do nivel dos jogadores Ruins que perderam')\n",
        "plt.show()"
      ]
    },
    {
      "cell_type": "code",
      "execution_count": null,
      "metadata": {
        "colab": {
          "base_uri": "https://localhost:8080/",
          "height": 458
        },
        "id": "2Vq9a7frAetu",
        "outputId": "e1f51b2f-8cc3-45d3-a09a-cc6b9455bb6a"
      },
      "outputs": [
        {
          "output_type": "display_data",
          "data": {
            "text/plain": [
              "<Figure size 1008x504 with 1 Axes>"
            ],
            "image/png": "[encoded data removed]"
          },
          "metadata": {
            "needs_background": "light"
          }
        }
      ],
      "source": [
        "plt.figure(figsize=(14, 7))\n",
        "pqr = df_l[df_l[\"playerQuality\"]=='Regular']\n",
        "pqr['vlLevel'].hist( bins=40, ec = \"k\", alpha = .6, color = \"blue\")\n",
        "plt.ylabel('Quantidade total de jogadores do nivel')\n",
        "plt.xlabel('Nivel de jogadores que perderam')\n",
        "plt.title('Quantidade do nivel dos jogadores')\n",
        "plt.show()"
      ]
    },
    {
      "cell_type": "code",
      "execution_count": null,
      "metadata": {
        "colab": {
          "base_uri": "https://localhost:8080/",
          "height": 458
        },
        "id": "YN5Vtq4T1BVe",
        "outputId": "869b2036-9059-4fe9-e658-dd611635b300"
      },
      "outputs": [
        {
          "output_type": "display_data",
          "data": {
            "text/plain": [
              "<Figure size 1008x504 with 1 Axes>"
            ],
            "image/png": "[encoded data removed]"
          },
          "metadata": {
            "needs_background": "light"
          }
        }
      ],
      "source": [
        "plt.figure(figsize=(14, 7))\n",
        "pqr = df_l[df_l[\"playerQuality\"]=='Bom']\n",
        "pqr['vlLevel'].hist( bins=40, ec = \"k\", alpha = .6, color = \"red\")\n",
        "plt.ylabel('Quantidade total de jogadores do nivel')\n",
        "plt.xlabel('Nivel de jogadores que perderam')\n",
        "plt.title('Quantidade do nivel dos jogadores Regular que perderam')\n",
        "plt.show()"
      ]
    },
    {
      "cell_type": "code",
      "execution_count": null,
      "metadata": {
        "colab": {
          "base_uri": "https://localhost:8080/",
          "height": 458
        },
        "id": "Mu-AtDzBCfS5",
        "outputId": "7b11b0bb-1e7e-46e9-afe9-474fed8291e6"
      },
      "outputs": [
        {
          "output_type": "display_data",
          "data": {
            "text/plain": [
              "<Figure size 1008x504 with 1 Axes>"
            ],
            "image/png": "[encoded data removed]"
          },
          "metadata": {
            "needs_background": "light"
          }
        }
      ],
      "source": [
        "plt.figure(figsize=(14, 7))\n",
        "pqr = df_l[df_l[\"playerQuality\"]=='Muito Bom']\n",
        "pqr['vlLevel'].hist( bins=40, ec = \"k\", alpha = .6, color = \"yellow\")\n",
        "plt.ylabel('Quantidade total de jogadores do nivel')\n",
        "plt.xlabel('Nivel de jogadores que perderam')\n",
        "plt.title('Quantidade do nivel dos jogadores Regular que perderam')\n",
        "plt.show()"
      ]
    },
    {
      "cell_type": "code",
      "execution_count": null,
      "metadata": {
        "colab": {
          "base_uri": "https://localhost:8080/",
          "height": 458
        },
        "id": "cUweCYvgCCvp",
        "outputId": "5db28f51-abee-44bd-a63a-b9d0141bc49d"
      },
      "outputs": [
        {
          "output_type": "display_data",
          "data": {
            "text/plain": [
              "<Figure size 1008x504 with 1 Axes>"
            ],
            "image/png": "[encoded data removed]"
          },
          "metadata": {
            "needs_background": "light"
          }
        }
      ],
      "source": [
        "plt.figure(figsize=(14, 7))\n",
        "pqr = df_l[df_l[\"pps\"]>=60]\n",
        "pqr['vlLevel'].hist( bins=40, ec = \"k\", alpha = .6, color = \"orange\")\n",
        "plt.ylabel('Quantidade total de jogadores do nivel')\n",
        "plt.xlabel('Nivel de jogadores que perderam')\n",
        "plt.title('Quantidade do nivel dos jogadores Excelente')\n",
        "plt.show()"
      ]
    },
    {
      "cell_type": "markdown",
      "metadata": {
        "id": "hXZBOOcuE5sr"
      },
      "source": [
        "**Após a avaliação de nivel por qualidade podemos ver que até os melhores niveis nao estao relacionados com a qualidade.**"
      ]
    },
    {
      "cell_type": "code",
      "execution_count": null,
      "metadata": {
        "colab": {
          "base_uri": "https://localhost:8080/"
        },
        "id": "Pajn2x-wIGvY",
        "outputId": "e0186607-941d-4649-93f9-d4f6560605d9"
      },
      "outputs": [
        {
          "output_type": "execute_result",
          "data": {
            "text/plain": [
              "count    146381.000000\n",
              "mean         23.866793\n",
              "std           8.441445\n",
              "min           0.000000\n",
              "25%          17.857143\n",
              "50%          22.857143\n",
              "75%          29.285714\n",
              "max          90.714286\n",
              "Name: pps, dtype: float64"
            ]
          },
          "metadata": {},
          "execution_count": 36
        }
      ],
      "source": [
        "df_l['pps'].describe()"
      ]
    },
    {
      "cell_type": "code",
      "execution_count": null,
      "metadata": {
        "colab": {
          "base_uri": "https://localhost:8080/",
          "height": 605
        },
        "id": "d1oksjRmknBz",
        "outputId": "f84ca6d0-7048-48eb-d744-faabfe514479"
      },
      "outputs": [
        {
          "output_type": "stream",
          "name": "stderr",
          "text": [
            "/usr/local/lib/python3.7/dist-packages/matplotlib/cbook/__init__.py:1376: VisibleDeprecationWarning: Creating an ndarray from ragged nested sequences (which is a list-or-tuple of lists-or-tuples-or ndarrays with different lengths or shapes) is deprecated. If you meant to do this, you must specify 'dtype=object' when creating the ndarray.\n",
            "  X = np.atleast_1d(X.T if isinstance(X, np.ndarray) else np.asarray(X))\n"
          ]
        },
        {
          "output_type": "execute_result",
          "data": {
            "text/plain": [
              "Text(0.5, 1.0, 'kpr por mapa')"
            ]
          },
          "metadata": {},
          "execution_count": 37
        },
        {
          "output_type": "display_data",
          "data": {
            "text/plain": [
              "<Figure size 1008x504 with 1 Axes>"
            ],
            "image/png": "[encoded data removed]"
          },
          "metadata": {
            "needs_background": "light"
          }
        }
      ],
      "source": [
        "killPorMapa = df_l.boxplot(column='kpr',by=\"descMapName\", figsize=(14,7), rot =90)\n",
        "killPorMapa.set_title(\"kpr por mapa\")\n",
        "#inconclusivo por enquanto, pois o mapa que tem mais kills também é o mapa mais jogado\n",
        "#isso deve ser calculado com base na media de kills por partida "
      ]
    },
    {
      "cell_type": "code",
      "execution_count": null,
      "metadata": {
        "colab": {
          "base_uri": "https://localhost:8080/",
          "height": 332
        },
        "id": "EOIOLMvanQEe",
        "outputId": "fedbe69a-fc06-4c4d-8d34-e88caa2c8bcd"
      },
      "outputs": [
        {
          "output_type": "execute_result",
          "data": {
            "text/plain": [
              "               count       mean       std  min   25%   50%   75%   max\n",
              "descMapName                                                           \n",
              "de_ancient    3385.0  20.860561  7.156520  0.0  16.0  20.0  25.0  61.0\n",
              "de_dust2     18753.0  20.383192  7.160521  0.0  15.0  20.0  25.0  85.0\n",
              "de_inferno   33833.0  20.093843  6.846416  0.0  15.0  19.0  24.0  70.0\n",
              "de_mirage    45887.0  20.548521  7.164227  0.0  16.0  20.0  25.0  73.0\n",
              "de_nuke      11205.0  20.733244  7.000355  0.0  16.0  20.0  25.0  60.0\n",
              "de_overpass  11151.0  20.739127  6.977826  0.0  16.0  20.0  25.0  67.0\n",
              "de_train      6166.0  20.541356  7.107641  1.0  16.0  20.0  25.0  68.0\n",
              "de_vertigo   16001.0  20.819761  7.142549  0.0  16.0  20.0  25.0  63.0"
            ],
            "text/html": [
              "\n",
              "  <div id=\"df-0a8d6b56-43e2-4d86-9671-17657cf73ab6\">\n",
              "    <div class=\"colab-df-container\">\n",
              "      <div>\n",
              "<style scoped>\n",
              "    .dataframe tbody tr th:only-of-type {\n",
              "        vertical-align: middle;\n",
              "    }\n",
              "\n",
              "    .dataframe tbody tr th {\n",
              "        vertical-align: top;\n",
              "    }\n",
              "\n",
              "    .dataframe thead th {\n",
              "        text-align: right;\n",
              "    }\n",
              "</style>\n",
              "<table border=\"1\" class=\"dataframe\">\n",
              "  <thead>\n",
              "    <tr style=\"text-align: right;\">\n",
              "      <th></th>\n",
              "      <th>count</th>\n",
              "      <th>mean</th>\n",
              "      <th>std</th>\n",
              "      <th>min</th>\n",
              "      <th>25%</th>\n",
              "      <th>50%</th>\n",
              "      <th>75%</th>\n",
              "      <th>max</th>\n",
              "    </tr>\n",
              "    <tr>\n",
              "      <th>descMapName</th>\n",
              "      <th></th>\n",
              "      <th></th>\n",
              "      <th></th>\n",
              "      <th></th>\n",
              "      <th></th>\n",
              "      <th></th>\n",
              "      <th></th>\n",
              "      <th></th>\n",
              "    </tr>\n",
              "  </thead>\n",
              "  <tbody>\n",
              "    <tr>\n",
              "      <th>de_ancient</th>\n",
              "      <td>3385.0</td>\n",
              "      <td>20.860561</td>\n",
              "      <td>7.156520</td>\n",
              "      <td>0.0</td>\n",
              "      <td>16.0</td>\n",
              "      <td>20.0</td>\n",
              "      <td>25.0</td>\n",
              "      <td>61.0</td>\n",
              "    </tr>\n",
              "    <tr>\n",
              "      <th>de_dust2</th>\n",
              "      <td>18753.0</td>\n",
              "      <td>20.383192</td>\n",
              "      <td>7.160521</td>\n",
              "      <td>0.0</td>\n",
              "      <td>15.0</td>\n",
              "      <td>20.0</td>\n",
              "      <td>25.0</td>\n",
              "      <td>85.0</td>\n",
              "    </tr>\n",
              "    <tr>\n",
              "      <th>de_inferno</th>\n",
              "      <td>33833.0</td>\n",
              "      <td>20.093843</td>\n",
              "      <td>6.846416</td>\n",
              "      <td>0.0</td>\n",
              "      <td>15.0</td>\n",
              "      <td>19.0</td>\n",
              "      <td>24.0</td>\n",
              "      <td>70.0</td>\n",
              "    </tr>\n",
              "    <tr>\n",
              "      <th>de_mirage</th>\n",
              "      <td>45887.0</td>\n",
              "      <td>20.548521</td>\n",
              "      <td>7.164227</td>\n",
              "      <td>0.0</td>\n",
              "      <td>16.0</td>\n",
              "      <td>20.0</td>\n",
              "      <td>25.0</td>\n",
              "      <td>73.0</td>\n",
              "    </tr>\n",
              "    <tr>\n",
              "      <th>de_nuke</th>\n",
              "      <td>11205.0</td>\n",
              "      <td>20.733244</td>\n",
              "      <td>7.000355</td>\n",
              "      <td>0.0</td>\n",
              "      <td>16.0</td>\n",
              "      <td>20.0</td>\n",
              "      <td>25.0</td>\n",
              "      <td>60.0</td>\n",
              "    </tr>\n",
              "    <tr>\n",
              "      <th>de_overpass</th>\n",
              "      <td>11151.0</td>\n",
              "      <td>20.739127</td>\n",
              "      <td>6.977826</td>\n",
              "      <td>0.0</td>\n",
              "      <td>16.0</td>\n",
              "      <td>20.0</td>\n",
              "      <td>25.0</td>\n",
              "      <td>67.0</td>\n",
              "    </tr>\n",
              "    <tr>\n",
              "      <th>de_train</th>\n",
              "      <td>6166.0</td>\n",
              "      <td>20.541356</td>\n",
              "      <td>7.107641</td>\n",
              "      <td>1.0</td>\n",
              "      <td>16.0</td>\n",
              "      <td>20.0</td>\n",
              "      <td>25.0</td>\n",
              "      <td>68.0</td>\n",
              "    </tr>\n",
              "    <tr>\n",
              "      <th>de_vertigo</th>\n",
              "      <td>16001.0</td>\n",
              "      <td>20.819761</td>\n",
              "      <td>7.142549</td>\n",
              "      <td>0.0</td>\n",
              "      <td>16.0</td>\n",
              "      <td>20.0</td>\n",
              "      <td>25.0</td>\n",
              "      <td>63.0</td>\n",
              "    </tr>\n",
              "  </tbody>\n",
              "</table>\n",
              "</div>\n",
              "      <button class=\"colab-df-convert\" onclick=\"convertToInteractive('df-0a8d6b56-43e2-4d86-9671-17657cf73ab6')\"\n",
              "              title=\"Convert this dataframe to an interactive table.\"\n",
              "              style=\"display:none;\">\n",
              "        \n",
              "  <svg xmlns=\"http://www.w3.org/2000/svg\" height=\"24px\"viewBox=\"0 0 24 24\"\n",
              "       width=\"24px\">\n",
              "    <path d=\"M0 0h24v24H0V0z\" fill=\"none\"/>\n",
              "    <path d=\"M18.56 5.44l.94 2.06.94-2.06 2.06-.94-2.06-.94-.94-2.06-.94 2.06-2.06.94zm-11 1L8.5 8.5l.94-2.06 2.06-.94-2.06-.94L8.5 2.5l-.94 2.06-2.06.94zm10 10l.94 2.06.94-2.06 2.06-.94-2.06-.94-.94-2.06-.94 2.06-2.06.94z\"/><path d=\"M17.41 7.96l-1.37-1.37c-.4-.4-.92-.59-1.43-.59-.52 0-1.04.2-1.43.59L10.3 9.45l-7.72 7.72c-.78.78-.78 2.05 0 2.83L4 21.41c.39.39.9.59 1.41.59.51 0 1.02-.2 1.41-.59l7.78-7.78 2.81-2.81c.8-.78.8-2.07 0-2.86zM5.41 20L4 18.59l7.72-7.72 1.47 1.35L5.41 20z\"/>\n",
              "  </svg>\n",
              "      </button>\n",
              "      \n",
              "  <style>\n",
              "    .colab-df-container {\n",
              "      display:flex;\n",
              "      flex-wrap:wrap;\n",
              "      gap: 12px;\n",
              "    }\n",
              "\n",
              "    .colab-df-convert {\n",
              "      background-color: #E8F0FE;\n",
              "      border: none;\n",
              "      border-radius: 50%;\n",
              "      cursor: pointer;\n",
              "      display: none;\n",
              "      fill: #1967D2;\n",
              "      height: 32px;\n",
              "      padding: 0 0 0 0;\n",
              "      width: 32px;\n",
              "    }\n",
              "\n",
              "    .colab-df-convert:hover {\n",
              "      background-color: #E2EBFA;\n",
              "      box-shadow: 0px 1px 2px rgba(60, 64, 67, 0.3), 0px 1px 3px 1px rgba(60, 64, 67, 0.15);\n",
              "      fill: #174EA6;\n",
              "    }\n",
              "\n",
              "    [theme=dark] .colab-df-convert {\n",
              "      background-color: #3B4455;\n",
              "      fill: #D2E3FC;\n",
              "    }\n",
              "\n",
              "    [theme=dark] .colab-df-convert:hover {\n",
              "      background-color: #434B5C;\n",
              "      box-shadow: 0px 1px 3px 1px rgba(0, 0, 0, 0.15);\n",
              "      filter: drop-shadow(0px 1px 2px rgba(0, 0, 0, 0.3));\n",
              "      fill: #FFFFFF;\n",
              "    }\n",
              "  </style>\n",
              "\n",
              "      <script>\n",
              "        const buttonEl =\n",
              "          document.querySelector('#df-0a8d6b56-43e2-4d86-9671-17657cf73ab6 button.colab-df-convert');\n",
              "        buttonEl.style.display =\n",
              "          google.colab.kernel.accessAllowed ? 'block' : 'none';\n",
              "\n",
              "        async function convertToInteractive(key) {\n",
              "          const element = document.querySelector('#df-0a8d6b56-43e2-4d86-9671-17657cf73ab6');\n",
              "          const dataTable =\n",
              "            await google.colab.kernel.invokeFunction('convertToInteractive',\n",
              "                                                     [key], {});\n",
              "          if (!dataTable) return;\n",
              "\n",
              "          const docLinkHtml = 'Like what you see? Visit the ' +\n",
              "            '<a target=\"_blank\" href=https://colab.research.google.com/notebooks/data_table.ipynb>data table notebook</a>'\n",
              "            + ' to learn more about interactive tables.';\n",
              "          element.innerHTML = '';\n",
              "          dataTable['output_type'] = 'display_data';\n",
              "          await google.colab.output.renderOutput(dataTable, element);\n",
              "          const docLink = document.createElement('div');\n",
              "          docLink.innerHTML = docLinkHtml;\n",
              "          element.appendChild(docLink);\n",
              "        }\n",
              "      </script>\n",
              "    </div>\n",
              "  </div>\n",
              "  "
            ]
          },
          "metadata": {},
          "execution_count": 38
        }
      ],
      "source": [
        "x = df_l.groupby('descMapName')\n",
        "y = x['qtKill'].count()\n",
        "x['qtKill'].describe()\n",
        "#MEDIA DE KILLS POR MAPA"
      ]
    },
    {
      "cell_type": "code",
      "execution_count": null,
      "metadata": {
        "colab": {
          "base_uri": "https://localhost:8080/",
          "height": 332
        },
        "id": "QsdIUAjBHK7L",
        "outputId": "251244f5-9ff1-4f81-fb35-507e14911234"
      },
      "outputs": [
        {
          "output_type": "execute_result",
          "data": {
            "text/plain": [
              "               count      mean       std  min  25%  50%  75%  max\n",
              "descMapName                                                      \n",
              "de_ancient    3385.0  0.536780  0.757092  0.0  0.0  0.0  1.0  6.0\n",
              "de_dust2     18753.0  0.501786  0.733980  0.0  0.0  0.0  1.0  5.0\n",
              "de_inferno   33833.0  0.473827  0.711546  0.0  0.0  0.0  1.0  8.0\n",
              "de_mirage    45887.0  0.501602  0.731685  0.0  0.0  0.0  1.0  6.0\n",
              "de_nuke      11205.0  0.535475  0.763382  0.0  0.0  0.0  1.0  7.0\n",
              "de_overpass  11151.0  0.525065  0.748256  0.0  0.0  0.0  1.0  6.0\n",
              "de_train      6166.0  0.513623  0.739167  0.0  0.0  0.0  1.0  5.0\n",
              "de_vertigo   16001.0  0.544653  0.766092  0.0  0.0  0.0  1.0  8.0"
            ],
            "text/html": [
              "\n",
              "  <div id=\"df-4f95ca20-e8b7-4d41-97f8-84b1a9ce3eda\">\n",
              "    <div class=\"colab-df-container\">\n",
              "      <div>\n",
              "<style scoped>\n",
              "    .dataframe tbody tr th:only-of-type {\n",
              "        vertical-align: middle;\n",
              "    }\n",
              "\n",
              "    .dataframe tbody tr th {\n",
              "        vertical-align: top;\n",
              "    }\n",
              "\n",
              "    .dataframe thead th {\n",
              "        text-align: right;\n",
              "    }\n",
              "</style>\n",
              "<table border=\"1\" class=\"dataframe\">\n",
              "  <thead>\n",
              "    <tr style=\"text-align: right;\">\n",
              "      <th></th>\n",
              "      <th>count</th>\n",
              "      <th>mean</th>\n",
              "      <th>std</th>\n",
              "      <th>min</th>\n",
              "      <th>25%</th>\n",
              "      <th>50%</th>\n",
              "      <th>75%</th>\n",
              "      <th>max</th>\n",
              "    </tr>\n",
              "    <tr>\n",
              "      <th>descMapName</th>\n",
              "      <th></th>\n",
              "      <th></th>\n",
              "      <th></th>\n",
              "      <th></th>\n",
              "      <th></th>\n",
              "      <th></th>\n",
              "      <th></th>\n",
              "      <th></th>\n",
              "    </tr>\n",
              "  </thead>\n",
              "  <tbody>\n",
              "    <tr>\n",
              "      <th>de_ancient</th>\n",
              "      <td>3385.0</td>\n",
              "      <td>0.536780</td>\n",
              "      <td>0.757092</td>\n",
              "      <td>0.0</td>\n",
              "      <td>0.0</td>\n",
              "      <td>0.0</td>\n",
              "      <td>1.0</td>\n",
              "      <td>6.0</td>\n",
              "    </tr>\n",
              "    <tr>\n",
              "      <th>de_dust2</th>\n",
              "      <td>18753.0</td>\n",
              "      <td>0.501786</td>\n",
              "      <td>0.733980</td>\n",
              "      <td>0.0</td>\n",
              "      <td>0.0</td>\n",
              "      <td>0.0</td>\n",
              "      <td>1.0</td>\n",
              "      <td>5.0</td>\n",
              "    </tr>\n",
              "    <tr>\n",
              "      <th>de_inferno</th>\n",
              "      <td>33833.0</td>\n",
              "      <td>0.473827</td>\n",
              "      <td>0.711546</td>\n",
              "      <td>0.0</td>\n",
              "      <td>0.0</td>\n",
              "      <td>0.0</td>\n",
              "      <td>1.0</td>\n",
              "      <td>8.0</td>\n",
              "    </tr>\n",
              "    <tr>\n",
              "      <th>de_mirage</th>\n",
              "      <td>45887.0</td>\n",
              "      <td>0.501602</td>\n",
              "      <td>0.731685</td>\n",
              "      <td>0.0</td>\n",
              "      <td>0.0</td>\n",
              "      <td>0.0</td>\n",
              "      <td>1.0</td>\n",
              "      <td>6.0</td>\n",
              "    </tr>\n",
              "    <tr>\n",
              "      <th>de_nuke</th>\n",
              "      <td>11205.0</td>\n",
              "      <td>0.535475</td>\n",
              "      <td>0.763382</td>\n",
              "      <td>0.0</td>\n",
              "      <td>0.0</td>\n",
              "      <td>0.0</td>\n",
              "      <td>1.0</td>\n",
              "      <td>7.0</td>\n",
              "    </tr>\n",
              "    <tr>\n",
              "      <th>de_overpass</th>\n",
              "      <td>11151.0</td>\n",
              "      <td>0.525065</td>\n",
              "      <td>0.748256</td>\n",
              "      <td>0.0</td>\n",
              "      <td>0.0</td>\n",
              "      <td>0.0</td>\n",
              "      <td>1.0</td>\n",
              "      <td>6.0</td>\n",
              "    </tr>\n",
              "    <tr>\n",
              "      <th>de_train</th>\n",
              "      <td>6166.0</td>\n",
              "      <td>0.513623</td>\n",
              "      <td>0.739167</td>\n",
              "      <td>0.0</td>\n",
              "      <td>0.0</td>\n",
              "      <td>0.0</td>\n",
              "      <td>1.0</td>\n",
              "      <td>5.0</td>\n",
              "    </tr>\n",
              "    <tr>\n",
              "      <th>de_vertigo</th>\n",
              "      <td>16001.0</td>\n",
              "      <td>0.544653</td>\n",
              "      <td>0.766092</td>\n",
              "      <td>0.0</td>\n",
              "      <td>0.0</td>\n",
              "      <td>0.0</td>\n",
              "      <td>1.0</td>\n",
              "      <td>8.0</td>\n",
              "    </tr>\n",
              "  </tbody>\n",
              "</table>\n",
              "</div>\n",
              "      <button class=\"colab-df-convert\" onclick=\"convertToInteractive('df-4f95ca20-e8b7-4d41-97f8-84b1a9ce3eda')\"\n",
              "              title=\"Convert this dataframe to an interactive table.\"\n",
              "              style=\"display:none;\">\n",
              "        \n",
              "  <svg xmlns=\"http://www.w3.org/2000/svg\" height=\"24px\"viewBox=\"0 0 24 24\"\n",
              "       width=\"24px\">\n",
              "    <path d=\"M0 0h24v24H0V0z\" fill=\"none\"/>\n",
              "    <path d=\"M18.56 5.44l.94 2.06.94-2.06 2.06-.94-2.06-.94-.94-2.06-.94 2.06-2.06.94zm-11 1L8.5 8.5l.94-2.06 2.06-.94-2.06-.94L8.5 2.5l-.94 2.06-2.06.94zm10 10l.94 2.06.94-2.06 2.06-.94-2.06-.94-.94-2.06-.94 2.06-2.06.94z\"/><path d=\"M17.41 7.96l-1.37-1.37c-.4-.4-.92-.59-1.43-.59-.52 0-1.04.2-1.43.59L10.3 9.45l-7.72 7.72c-.78.78-.78 2.05 0 2.83L4 21.41c.39.39.9.59 1.41.59.51 0 1.02-.2 1.41-.59l7.78-7.78 2.81-2.81c.8-.78.8-2.07 0-2.86zM5.41 20L4 18.59l7.72-7.72 1.47 1.35L5.41 20z\"/>\n",
              "  </svg>\n",
              "      </button>\n",
              "      \n",
              "  <style>\n",
              "    .colab-df-container {\n",
              "      display:flex;\n",
              "      flex-wrap:wrap;\n",
              "      gap: 12px;\n",
              "    }\n",
              "\n",
              "    .colab-df-convert {\n",
              "      background-color: #E8F0FE;\n",
              "      border: none;\n",
              "      border-radius: 50%;\n",
              "      cursor: pointer;\n",
              "      display: none;\n",
              "      fill: #1967D2;\n",
              "      height: 32px;\n",
              "      padding: 0 0 0 0;\n",
              "      width: 32px;\n",
              "    }\n",
              "\n",
              "    .colab-df-convert:hover {\n",
              "      background-color: #E2EBFA;\n",
              "      box-shadow: 0px 1px 2px rgba(60, 64, 67, 0.3), 0px 1px 3px 1px rgba(60, 64, 67, 0.15);\n",
              "      fill: #174EA6;\n",
              "    }\n",
              "\n",
              "    [theme=dark] .colab-df-convert {\n",
              "      background-color: #3B4455;\n",
              "      fill: #D2E3FC;\n",
              "    }\n",
              "\n",
              "    [theme=dark] .colab-df-convert:hover {\n",
              "      background-color: #434B5C;\n",
              "      box-shadow: 0px 1px 3px 1px rgba(0, 0, 0, 0.15);\n",
              "      filter: drop-shadow(0px 1px 2px rgba(0, 0, 0, 0.3));\n",
              "      fill: #FFFFFF;\n",
              "    }\n",
              "  </style>\n",
              "\n",
              "      <script>\n",
              "        const buttonEl =\n",
              "          document.querySelector('#df-4f95ca20-e8b7-4d41-97f8-84b1a9ce3eda button.colab-df-convert');\n",
              "        buttonEl.style.display =\n",
              "          google.colab.kernel.accessAllowed ? 'block' : 'none';\n",
              "\n",
              "        async function convertToInteractive(key) {\n",
              "          const element = document.querySelector('#df-4f95ca20-e8b7-4d41-97f8-84b1a9ce3eda');\n",
              "          const dataTable =\n",
              "            await google.colab.kernel.invokeFunction('convertToInteractive',\n",
              "                                                     [key], {});\n",
              "          if (!dataTable) return;\n",
              "\n",
              "          const docLinkHtml = 'Like what you see? Visit the ' +\n",
              "            '<a target=\"_blank\" href=https://colab.research.google.com/notebooks/data_table.ipynb>data table notebook</a>'\n",
              "            + ' to learn more about interactive tables.';\n",
              "          element.innerHTML = '';\n",
              "          dataTable['output_type'] = 'display_data';\n",
              "          await google.colab.output.renderOutput(dataTable, element);\n",
              "          const docLink = document.createElement('div');\n",
              "          docLink.innerHTML = docLinkHtml;\n",
              "          element.appendChild(docLink);\n",
              "        }\n",
              "      </script>\n",
              "    </div>\n",
              "  </div>\n",
              "  "
            ]
          },
          "metadata": {},
          "execution_count": 39
        }
      ],
      "source": [
        "x = df_l.groupby('descMapName')\n",
        "y = x['qtClutchWon'].count()\n",
        "x['qtClutchWon'].describe()\n",
        "#MEDIA DE CLUTCH POR MAPA"
      ]
    },
    {
      "cell_type": "code",
      "execution_count": null,
      "metadata": {
        "colab": {
          "base_uri": "https://localhost:8080/",
          "height": 332
        },
        "id": "A7WWbLyDJU7j",
        "outputId": "74957968-4df1-4fe0-d06b-8a0c9daf99e2"
      },
      "outputs": [
        {
          "output_type": "execute_result",
          "data": {
            "text/plain": [
              "               count      mean       std       min       25%       50%  \\\n",
              "descMapName                                                              \n",
              "de_ancient    3385.0  0.733093  0.222625  0.000000  0.583333  0.720000   \n",
              "de_dust2     18753.0  0.719242  0.225617  0.000000  0.560000  0.703704   \n",
              "de_inferno   33833.0  0.707770  0.215346  0.000000  0.560000  0.695652   \n",
              "de_mirage    45887.0  0.725310  0.226072  0.000000  0.566667  0.708333   \n",
              "de_nuke      11205.0  0.730903  0.219040  0.000000  0.583333  0.720000   \n",
              "de_overpass  11151.0  0.729663  0.217308  0.000000  0.576923  0.720000   \n",
              "de_train      6166.0  0.725927  0.223992  0.027778  0.571429  0.714286   \n",
              "de_vertigo   16001.0  0.734103  0.222906  0.000000  0.576923  0.722222   \n",
              "\n",
              "                  75%       max  \n",
              "descMapName                      \n",
              "de_ancient   0.872340  1.888889  \n",
              "de_dust2     0.862069  2.043478  \n",
              "de_inferno   0.840000  1.791667  \n",
              "de_mirage    0.866667  2.083333  \n",
              "de_nuke      0.866667  1.791667  \n",
              "de_overpass  0.866667  1.833333  \n",
              "de_train     0.862069  1.750000  \n",
              "de_vertigo   0.875000  1.827586  "
            ],
            "text/html": [
              "\n",
              "  <div id=\"df-fabda2bf-c65c-4a11-ad62-2b0786a4b2d0\">\n",
              "    <div class=\"colab-df-container\">\n",
              "      <div>\n",
              "<style scoped>\n",
              "    .dataframe tbody tr th:only-of-type {\n",
              "        vertical-align: middle;\n",
              "    }\n",
              "\n",
              "    .dataframe tbody tr th {\n",
              "        vertical-align: top;\n",
              "    }\n",
              "\n",
              "    .dataframe thead th {\n",
              "        text-align: right;\n",
              "    }\n",
              "</style>\n",
              "<table border=\"1\" class=\"dataframe\">\n",
              "  <thead>\n",
              "    <tr style=\"text-align: right;\">\n",
              "      <th></th>\n",
              "      <th>count</th>\n",
              "      <th>mean</th>\n",
              "      <th>std</th>\n",
              "      <th>min</th>\n",
              "      <th>25%</th>\n",
              "      <th>50%</th>\n",
              "      <th>75%</th>\n",
              "      <th>max</th>\n",
              "    </tr>\n",
              "    <tr>\n",
              "      <th>descMapName</th>\n",
              "      <th></th>\n",
              "      <th></th>\n",
              "      <th></th>\n",
              "      <th></th>\n",
              "      <th></th>\n",
              "      <th></th>\n",
              "      <th></th>\n",
              "      <th></th>\n",
              "    </tr>\n",
              "  </thead>\n",
              "  <tbody>\n",
              "    <tr>\n",
              "      <th>de_ancient</th>\n",
              "      <td>3385.0</td>\n",
              "      <td>0.733093</td>\n",
              "      <td>0.222625</td>\n",
              "      <td>0.000000</td>\n",
              "      <td>0.583333</td>\n",
              "      <td>0.720000</td>\n",
              "      <td>0.872340</td>\n",
              "      <td>1.888889</td>\n",
              "    </tr>\n",
              "    <tr>\n",
              "      <th>de_dust2</th>\n",
              "      <td>18753.0</td>\n",
              "      <td>0.719242</td>\n",
              "      <td>0.225617</td>\n",
              "      <td>0.000000</td>\n",
              "      <td>0.560000</td>\n",
              "      <td>0.703704</td>\n",
              "      <td>0.862069</td>\n",
              "      <td>2.043478</td>\n",
              "    </tr>\n",
              "    <tr>\n",
              "      <th>de_inferno</th>\n",
              "      <td>33833.0</td>\n",
              "      <td>0.707770</td>\n",
              "      <td>0.215346</td>\n",
              "      <td>0.000000</td>\n",
              "      <td>0.560000</td>\n",
              "      <td>0.695652</td>\n",
              "      <td>0.840000</td>\n",
              "      <td>1.791667</td>\n",
              "    </tr>\n",
              "    <tr>\n",
              "      <th>de_mirage</th>\n",
              "      <td>45887.0</td>\n",
              "      <td>0.725310</td>\n",
              "      <td>0.226072</td>\n",
              "      <td>0.000000</td>\n",
              "      <td>0.566667</td>\n",
              "      <td>0.708333</td>\n",
              "      <td>0.866667</td>\n",
              "      <td>2.083333</td>\n",
              "    </tr>\n",
              "    <tr>\n",
              "      <th>de_nuke</th>\n",
              "      <td>11205.0</td>\n",
              "      <td>0.730903</td>\n",
              "      <td>0.219040</td>\n",
              "      <td>0.000000</td>\n",
              "      <td>0.583333</td>\n",
              "      <td>0.720000</td>\n",
              "      <td>0.866667</td>\n",
              "      <td>1.791667</td>\n",
              "    </tr>\n",
              "    <tr>\n",
              "      <th>de_overpass</th>\n",
              "      <td>11151.0</td>\n",
              "      <td>0.729663</td>\n",
              "      <td>0.217308</td>\n",
              "      <td>0.000000</td>\n",
              "      <td>0.576923</td>\n",
              "      <td>0.720000</td>\n",
              "      <td>0.866667</td>\n",
              "      <td>1.833333</td>\n",
              "    </tr>\n",
              "    <tr>\n",
              "      <th>de_train</th>\n",
              "      <td>6166.0</td>\n",
              "      <td>0.725927</td>\n",
              "      <td>0.223992</td>\n",
              "      <td>0.027778</td>\n",
              "      <td>0.571429</td>\n",
              "      <td>0.714286</td>\n",
              "      <td>0.862069</td>\n",
              "      <td>1.750000</td>\n",
              "    </tr>\n",
              "    <tr>\n",
              "      <th>de_vertigo</th>\n",
              "      <td>16001.0</td>\n",
              "      <td>0.734103</td>\n",
              "      <td>0.222906</td>\n",
              "      <td>0.000000</td>\n",
              "      <td>0.576923</td>\n",
              "      <td>0.722222</td>\n",
              "      <td>0.875000</td>\n",
              "      <td>1.827586</td>\n",
              "    </tr>\n",
              "  </tbody>\n",
              "</table>\n",
              "</div>\n",
              "      <button class=\"colab-df-convert\" onclick=\"convertToInteractive('df-fabda2bf-c65c-4a11-ad62-2b0786a4b2d0')\"\n",
              "              title=\"Convert this dataframe to an interactive table.\"\n",
              "              style=\"display:none;\">\n",
              "        \n",
              "  <svg xmlns=\"http://www.w3.org/2000/svg\" height=\"24px\"viewBox=\"0 0 24 24\"\n",
              "       width=\"24px\">\n",
              "    <path d=\"M0 0h24v24H0V0z\" fill=\"none\"/>\n",
              "    <path d=\"M18.56 5.44l.94 2.06.94-2.06 2.06-.94-2.06-.94-.94-2.06-.94 2.06-2.06.94zm-11 1L8.5 8.5l.94-2.06 2.06-.94-2.06-.94L8.5 2.5l-.94 2.06-2.06.94zm10 10l.94 2.06.94-2.06 2.06-.94-2.06-.94-.94-2.06-.94 2.06-2.06.94z\"/><path d=\"M17.41 7.96l-1.37-1.37c-.4-.4-.92-.59-1.43-.59-.52 0-1.04.2-1.43.59L10.3 9.45l-7.72 7.72c-.78.78-.78 2.05 0 2.83L4 21.41c.39.39.9.59 1.41.59.51 0 1.02-.2 1.41-.59l7.78-7.78 2.81-2.81c.8-.78.8-2.07 0-2.86zM5.41 20L4 18.59l7.72-7.72 1.47 1.35L5.41 20z\"/>\n",
              "  </svg>\n",
              "      </button>\n",
              "      \n",
              "  <style>\n",
              "    .colab-df-container {\n",
              "      display:flex;\n",
              "      flex-wrap:wrap;\n",
              "      gap: 12px;\n",
              "    }\n",
              "\n",
              "    .colab-df-convert {\n",
              "      background-color: #E8F0FE;\n",
              "      border: none;\n",
              "      border-radius: 50%;\n",
              "      cursor: pointer;\n",
              "      display: none;\n",
              "      fill: #1967D2;\n",
              "      height: 32px;\n",
              "      padding: 0 0 0 0;\n",
              "      width: 32px;\n",
              "    }\n",
              "\n",
              "    .colab-df-convert:hover {\n",
              "      background-color: #E2EBFA;\n",
              "      box-shadow: 0px 1px 2px rgba(60, 64, 67, 0.3), 0px 1px 3px 1px rgba(60, 64, 67, 0.15);\n",
              "      fill: #174EA6;\n",
              "    }\n",
              "\n",
              "    [theme=dark] .colab-df-convert {\n",
              "      background-color: #3B4455;\n",
              "      fill: #D2E3FC;\n",
              "    }\n",
              "\n",
              "    [theme=dark] .colab-df-convert:hover {\n",
              "      background-color: #434B5C;\n",
              "      box-shadow: 0px 1px 3px 1px rgba(0, 0, 0, 0.15);\n",
              "      filter: drop-shadow(0px 1px 2px rgba(0, 0, 0, 0.3));\n",
              "      fill: #FFFFFF;\n",
              "    }\n",
              "  </style>\n",
              "\n",
              "      <script>\n",
              "        const buttonEl =\n",
              "          document.querySelector('#df-fabda2bf-c65c-4a11-ad62-2b0786a4b2d0 button.colab-df-convert');\n",
              "        buttonEl.style.display =\n",
              "          google.colab.kernel.accessAllowed ? 'block' : 'none';\n",
              "\n",
              "        async function convertToInteractive(key) {\n",
              "          const element = document.querySelector('#df-fabda2bf-c65c-4a11-ad62-2b0786a4b2d0');\n",
              "          const dataTable =\n",
              "            await google.colab.kernel.invokeFunction('convertToInteractive',\n",
              "                                                     [key], {});\n",
              "          if (!dataTable) return;\n",
              "\n",
              "          const docLinkHtml = 'Like what you see? Visit the ' +\n",
              "            '<a target=\"_blank\" href=https://colab.research.google.com/notebooks/data_table.ipynb>data table notebook</a>'\n",
              "            + ' to learn more about interactive tables.';\n",
              "          element.innerHTML = '';\n",
              "          dataTable['output_type'] = 'display_data';\n",
              "          await google.colab.output.renderOutput(dataTable, element);\n",
              "          const docLink = document.createElement('div');\n",
              "          docLink.innerHTML = docLinkHtml;\n",
              "          element.appendChild(docLink);\n",
              "        }\n",
              "      </script>\n",
              "    </div>\n",
              "  </div>\n",
              "  "
            ]
          },
          "metadata": {},
          "execution_count": 40
        }
      ],
      "source": [
        "x = df_l.groupby('descMapName')\n",
        "y = x['kpr'].count()\n",
        "x['kpr'].describe()\n",
        "\n",
        "#MEDIA DE KPR POR MAPA"
      ]
    },
    {
      "cell_type": "code",
      "execution_count": null,
      "metadata": {
        "colab": {
          "base_uri": "https://localhost:8080/"
        },
        "id": "1HKADyxZp5gA",
        "outputId": "a52c11c3-5c12-4697-be7d-430493ddf7c3"
      },
      "outputs": [
        {
          "output_type": "execute_result",
          "data": {
            "text/plain": [
              "0.029936208247012232"
            ]
          },
          "metadata": {},
          "execution_count": 41
        }
      ],
      "source": [
        "kill = df_l.qtKill.sum() #quantidade de kills do DataBase\n",
        "flash = df_l.qtFlashAssist.sum()\n",
        "\n",
        "flash/kill #porcentagem de kills que tiveram auxilio de flashs\n",
        "#aproximadamente 2% das kills apenas tem assistencia de flashs"
      ]
    },
    {
      "cell_type": "code",
      "execution_count": null,
      "metadata": {
        "colab": {
          "base_uri": "https://localhost:8080/",
          "height": 596
        },
        "id": "jHixfU186lZJ",
        "outputId": "01363efd-c94c-47b1-fe42-f10c87ad618c"
      },
      "outputs": [
        {
          "output_type": "stream",
          "name": "stderr",
          "text": [
            "/usr/local/lib/python3.7/dist-packages/matplotlib/cbook/__init__.py:1376: VisibleDeprecationWarning: Creating an ndarray from ragged nested sequences (which is a list-or-tuple of lists-or-tuples-or ndarrays with different lengths or shapes) is deprecated. If you meant to do this, you must specify 'dtype=object' when creating the ndarray.\n",
            "  X = np.atleast_1d(X.T if isinstance(X, np.ndarray) else np.asarray(X))\n"
          ]
        },
        {
          "output_type": "execute_result",
          "data": {
            "text/plain": [
              "Text(0.5, 1.0, 'Kpr por qualidade de player')"
            ]
          },
          "metadata": {},
          "execution_count": 42
        },
        {
          "output_type": "display_data",
          "data": {
            "text/plain": [
              "<Figure size 1008x504 with 1 Axes>"
            ],
            "image/png": "[encoded data removed]"
          },
          "metadata": {
            "needs_background": "light"
          }
        }
      ],
      "source": [
        "killPorQualidade = df_l.boxplot(column='kpr',by=\"playerQuality\", figsize=(14,7), rot =90)\n",
        "killPorQualidade.set_title(\"Kpr por qualidade de player\")"
      ]
    },
    {
      "cell_type": "code",
      "execution_count": null,
      "metadata": {
        "colab": {
          "base_uri": "https://localhost:8080/"
        },
        "id": "AIc9iEpQ1Xzk",
        "outputId": "57a8217f-52c4-4301-98a9-935e33e289c2"
      },
      "outputs": [
        {
          "output_type": "execute_result",
          "data": {
            "text/plain": [
              "True     73235\n",
              "False    73146\n",
              "Name: flWinner, dtype: int64"
            ]
          },
          "metadata": {},
          "execution_count": 43
        }
      ],
      "source": [
        "win = df_l['flWinner']>0\n",
        "win.value_counts()"
      ]
    },
    {
      "cell_type": "code",
      "execution_count": null,
      "metadata": {
        "colab": {
          "base_uri": "https://localhost:8080/"
        },
        "id": "EAhasdsQMrFP",
        "outputId": "91490b57-f7f1-42cf-b2b7-ebc2325dc1f4"
      },
      "outputs": [
        {
          "output_type": "execute_result",
          "data": {
            "text/plain": [
              "1          8.0\n",
              "2          2.0\n",
              "3          3.0\n",
              "4          4.0\n",
              "11         6.0\n",
              "          ... \n",
              "184146     9.0\n",
              "184147    11.0\n",
              "184148     7.0\n",
              "184149     4.0\n",
              "184150     5.0\n",
              "Name: qtSurvived, Length: 146381, dtype: object"
            ]
          },
          "metadata": {},
          "execution_count": 44
        }
      ],
      "source": [
        "df_l['qtSurvived']"
      ]
    },
    {
      "cell_type": "code",
      "execution_count": null,
      "metadata": {
        "colab": {
          "base_uri": "https://localhost:8080/",
          "height": 81
        },
        "id": "74Y4Q4yofA80",
        "outputId": "cff2d008-b080-4e28-a4ac-6f830bae3d93"
      },
      "outputs": [
        {
          "output_type": "execute_result",
          "data": {
            "text/plain": [
              "     dpr\n",
              "dpr  1.0"
            ],
            "text/html": [
              "\n",
              "  <div id=\"df-bea35eaf-18c5-4295-ac35-5e25aea3216d\">\n",
              "    <div class=\"colab-df-container\">\n",
              "      <div>\n",
              "<style scoped>\n",
              "    .dataframe tbody tr th:only-of-type {\n",
              "        vertical-align: middle;\n",
              "    }\n",
              "\n",
              "    .dataframe tbody tr th {\n",
              "        vertical-align: top;\n",
              "    }\n",
              "\n",
              "    .dataframe thead th {\n",
              "        text-align: right;\n",
              "    }\n",
              "</style>\n",
              "<table border=\"1\" class=\"dataframe\">\n",
              "  <thead>\n",
              "    <tr style=\"text-align: right;\">\n",
              "      <th></th>\n",
              "      <th>dpr</th>\n",
              "    </tr>\n",
              "  </thead>\n",
              "  <tbody>\n",
              "    <tr>\n",
              "      <th>dpr</th>\n",
              "      <td>1.0</td>\n",
              "    </tr>\n",
              "  </tbody>\n",
              "</table>\n",
              "</div>\n",
              "      <button class=\"colab-df-convert\" onclick=\"convertToInteractive('df-bea35eaf-18c5-4295-ac35-5e25aea3216d')\"\n",
              "              title=\"Convert this dataframe to an interactive table.\"\n",
              "              style=\"display:none;\">\n",
              "        \n",
              "  <svg xmlns=\"http://www.w3.org/2000/svg\" height=\"24px\"viewBox=\"0 0 24 24\"\n",
              "       width=\"24px\">\n",
              "    <path d=\"M0 0h24v24H0V0z\" fill=\"none\"/>\n",
              "    <path d=\"M18.56 5.44l.94 2.06.94-2.06 2.06-.94-2.06-.94-.94-2.06-.94 2.06-2.06.94zm-11 1L8.5 8.5l.94-2.06 2.06-.94-2.06-.94L8.5 2.5l-.94 2.06-2.06.94zm10 10l.94 2.06.94-2.06 2.06-.94-2.06-.94-.94-2.06-.94 2.06-2.06.94z\"/><path d=\"M17.41 7.96l-1.37-1.37c-.4-.4-.92-.59-1.43-.59-.52 0-1.04.2-1.43.59L10.3 9.45l-7.72 7.72c-.78.78-.78 2.05 0 2.83L4 21.41c.39.39.9.59 1.41.59.51 0 1.02-.2 1.41-.59l7.78-7.78 2.81-2.81c.8-.78.8-2.07 0-2.86zM5.41 20L4 18.59l7.72-7.72 1.47 1.35L5.41 20z\"/>\n",
              "  </svg>\n",
              "      </button>\n",
              "      \n",
              "  <style>\n",
              "    .colab-df-container {\n",
              "      display:flex;\n",
              "      flex-wrap:wrap;\n",
              "      gap: 12px;\n",
              "    }\n",
              "\n",
              "    .colab-df-convert {\n",
              "      background-color: #E8F0FE;\n",
              "      border: none;\n",
              "      border-radius: 50%;\n",
              "      cursor: pointer;\n",
              "      display: none;\n",
              "      fill: #1967D2;\n",
              "      height: 32px;\n",
              "      padding: 0 0 0 0;\n",
              "      width: 32px;\n",
              "    }\n",
              "\n",
              "    .colab-df-convert:hover {\n",
              "      background-color: #E2EBFA;\n",
              "      box-shadow: 0px 1px 2px rgba(60, 64, 67, 0.3), 0px 1px 3px 1px rgba(60, 64, 67, 0.15);\n",
              "      fill: #174EA6;\n",
              "    }\n",
              "\n",
              "    [theme=dark] .colab-df-convert {\n",
              "      background-color: #3B4455;\n",
              "      fill: #D2E3FC;\n",
              "    }\n",
              "\n",
              "    [theme=dark] .colab-df-convert:hover {\n",
              "      background-color: #434B5C;\n",
              "      box-shadow: 0px 1px 3px 1px rgba(0, 0, 0, 0.15);\n",
              "      filter: drop-shadow(0px 1px 2px rgba(0, 0, 0, 0.3));\n",
              "      fill: #FFFFFF;\n",
              "    }\n",
              "  </style>\n",
              "\n",
              "      <script>\n",
              "        const buttonEl =\n",
              "          document.querySelector('#df-bea35eaf-18c5-4295-ac35-5e25aea3216d button.colab-df-convert');\n",
              "        buttonEl.style.display =\n",
              "          google.colab.kernel.accessAllowed ? 'block' : 'none';\n",
              "\n",
              "        async function convertToInteractive(key) {\n",
              "          const element = document.querySelector('#df-bea35eaf-18c5-4295-ac35-5e25aea3216d');\n",
              "          const dataTable =\n",
              "            await google.colab.kernel.invokeFunction('convertToInteractive',\n",
              "                                                     [key], {});\n",
              "          if (!dataTable) return;\n",
              "\n",
              "          const docLinkHtml = 'Like what you see? Visit the ' +\n",
              "            '<a target=\"_blank\" href=https://colab.research.google.com/notebooks/data_table.ipynb>data table notebook</a>'\n",
              "            + ' to learn more about interactive tables.';\n",
              "          element.innerHTML = '';\n",
              "          dataTable['output_type'] = 'display_data';\n",
              "          await google.colab.output.renderOutput(dataTable, element);\n",
              "          const docLink = document.createElement('div');\n",
              "          docLink.innerHTML = docLinkHtml;\n",
              "          element.appendChild(docLink);\n",
              "        }\n",
              "      </script>\n",
              "    </div>\n",
              "  </div>\n",
              "  "
            ]
          },
          "metadata": {},
          "execution_count": 45
        }
      ],
      "source": [
        "a = df_l[['dpr', 'qtSurvived']]\n",
        "a.corr()"
      ]
    },
    {
      "cell_type": "code",
      "execution_count": null,
      "metadata": {
        "colab": {
          "base_uri": "https://localhost:8080/",
          "height": 112
        },
        "id": "VVjS6II7fArJ",
        "outputId": "8e4284c6-ac59-4916-ed01-a83534322c5e"
      },
      "outputs": [
        {
          "output_type": "execute_result",
          "data": {
            "text/plain": [
              "          vlDamage    qtKill\n",
              "vlDamage  1.000000  0.948231\n",
              "qtKill    0.948231  1.000000"
            ],
            "text/html": [
              "\n",
              "  <div id=\"df-fba7cade-fea9-41c4-a62b-dee78ed40f10\">\n",
              "    <div class=\"colab-df-container\">\n",
              "      <div>\n",
              "<style scoped>\n",
              "    .dataframe tbody tr th:only-of-type {\n",
              "        vertical-align: middle;\n",
              "    }\n",
              "\n",
              "    .dataframe tbody tr th {\n",
              "        vertical-align: top;\n",
              "    }\n",
              "\n",
              "    .dataframe thead th {\n",
              "        text-align: right;\n",
              "    }\n",
              "</style>\n",
              "<table border=\"1\" class=\"dataframe\">\n",
              "  <thead>\n",
              "    <tr style=\"text-align: right;\">\n",
              "      <th></th>\n",
              "      <th>vlDamage</th>\n",
              "      <th>qtKill</th>\n",
              "    </tr>\n",
              "  </thead>\n",
              "  <tbody>\n",
              "    <tr>\n",
              "      <th>vlDamage</th>\n",
              "      <td>1.000000</td>\n",
              "      <td>0.948231</td>\n",
              "    </tr>\n",
              "    <tr>\n",
              "      <th>qtKill</th>\n",
              "      <td>0.948231</td>\n",
              "      <td>1.000000</td>\n",
              "    </tr>\n",
              "  </tbody>\n",
              "</table>\n",
              "</div>\n",
              "      <button class=\"colab-df-convert\" onclick=\"convertToInteractive('df-fba7cade-fea9-41c4-a62b-dee78ed40f10')\"\n",
              "              title=\"Convert this dataframe to an interactive table.\"\n",
              "              style=\"display:none;\">\n",
              "        \n",
              "  <svg xmlns=\"http://www.w3.org/2000/svg\" height=\"24px\"viewBox=\"0 0 24 24\"\n",
              "       width=\"24px\">\n",
              "    <path d=\"M0 0h24v24H0V0z\" fill=\"none\"/>\n",
              "    <path d=\"M18.56 5.44l.94 2.06.94-2.06 2.06-.94-2.06-.94-.94-2.06-.94 2.06-2.06.94zm-11 1L8.5 8.5l.94-2.06 2.06-.94-2.06-.94L8.5 2.5l-.94 2.06-2.06.94zm10 10l.94 2.06.94-2.06 2.06-.94-2.06-.94-.94-2.06-.94 2.06-2.06.94z\"/><path d=\"M17.41 7.96l-1.37-1.37c-.4-.4-.92-.59-1.43-.59-.52 0-1.04.2-1.43.59L10.3 9.45l-7.72 7.72c-.78.78-.78 2.05 0 2.83L4 21.41c.39.39.9.59 1.41.59.51 0 1.02-.2 1.41-.59l7.78-7.78 2.81-2.81c.8-.78.8-2.07 0-2.86zM5.41 20L4 18.59l7.72-7.72 1.47 1.35L5.41 20z\"/>\n",
              "  </svg>\n",
              "      </button>\n",
              "      \n",
              "  <style>\n",
              "    .colab-df-container {\n",
              "      display:flex;\n",
              "      flex-wrap:wrap;\n",
              "      gap: 12px;\n",
              "    }\n",
              "\n",
              "    .colab-df-convert {\n",
              "      background-color: #E8F0FE;\n",
              "      border: none;\n",
              "      border-radius: 50%;\n",
              "      cursor: pointer;\n",
              "      display: none;\n",
              "      fill: #1967D2;\n",
              "      height: 32px;\n",
              "      padding: 0 0 0 0;\n",
              "      width: 32px;\n",
              "    }\n",
              "\n",
              "    .colab-df-convert:hover {\n",
              "      background-color: #E2EBFA;\n",
              "      box-shadow: 0px 1px 2px rgba(60, 64, 67, 0.3), 0px 1px 3px 1px rgba(60, 64, 67, 0.15);\n",
              "      fill: #174EA6;\n",
              "    }\n",
              "\n",
              "    [theme=dark] .colab-df-convert {\n",
              "      background-color: #3B4455;\n",
              "      fill: #D2E3FC;\n",
              "    }\n",
              "\n",
              "    [theme=dark] .colab-df-convert:hover {\n",
              "      background-color: #434B5C;\n",
              "      box-shadow: 0px 1px 3px 1px rgba(0, 0, 0, 0.15);\n",
              "      filter: drop-shadow(0px 1px 2px rgba(0, 0, 0, 0.3));\n",
              "      fill: #FFFFFF;\n",
              "    }\n",
              "  </style>\n",
              "\n",
              "      <script>\n",
              "        const buttonEl =\n",
              "          document.querySelector('#df-fba7cade-fea9-41c4-a62b-dee78ed40f10 button.colab-df-convert');\n",
              "        buttonEl.style.display =\n",
              "          google.colab.kernel.accessAllowed ? 'block' : 'none';\n",
              "\n",
              "        async function convertToInteractive(key) {\n",
              "          const element = document.querySelector('#df-fba7cade-fea9-41c4-a62b-dee78ed40f10');\n",
              "          const dataTable =\n",
              "            await google.colab.kernel.invokeFunction('convertToInteractive',\n",
              "                                                     [key], {});\n",
              "          if (!dataTable) return;\n",
              "\n",
              "          const docLinkHtml = 'Like what you see? Visit the ' +\n",
              "            '<a target=\"_blank\" href=https://colab.research.google.com/notebooks/data_table.ipynb>data table notebook</a>'\n",
              "            + ' to learn more about interactive tables.';\n",
              "          element.innerHTML = '';\n",
              "          dataTable['output_type'] = 'display_data';\n",
              "          await google.colab.output.renderOutput(dataTable, element);\n",
              "          const docLink = document.createElement('div');\n",
              "          docLink.innerHTML = docLinkHtml;\n",
              "          element.appendChild(docLink);\n",
              "        }\n",
              "      </script>\n",
              "    </div>\n",
              "  </div>\n",
              "  "
            ]
          },
          "metadata": {},
          "execution_count": 46
        }
      ],
      "source": [
        "b = df_l[['vlDamage', 'qtKill']]\n",
        "b.corr()"
      ]
    },
    {
      "cell_type": "code",
      "execution_count": null,
      "metadata": {
        "id": "2R9vQL6LkVT1"
      },
      "outputs": [],
      "source": [
        "#regras de associação\n",
        "#kpr < 0.5 - ruim, Kpr>=0.5 < 1.0 - regular, 1-1.3 bom; 1.3-1.5 - muito bom; 1.5 - excelente\n",
        "bins = [0, 0.5, 1, 1.3, 1.5, np.inf]\n",
        "names = ['Ruim', 'Regular', 'Bom', 'Muito Bom', 'Excelente']\n",
        "df_l['kpr_categoric'] = pd.cut(df_l['kpr'], bins, labels=names)"
      ]
    },
    {
      "cell_type": "code",
      "execution_count": null,
      "metadata": {
        "id": "EUrjJ_iRUhz5"
      },
      "outputs": [],
      "source": [
        "#dpr 0:0.2 - Excelente, 0.2:0.4 - Muito bom, 0.4:0.6 - Bom; 0.6:0.8 - Regular; 0.8 - Ruim\n",
        "bins = [0, 0.2, 0.4, 0.6, 0.8, np.inf]\n",
        "names = ['Excelente', 'Muito Bom', 'Bom', 'Regular', 'Ruim']\n",
        "df_l['dpr_categoric'] = pd.cut(df_l['dpr'], bins, labels=names)"
      ]
    },
    {
      "cell_type": "code",
      "execution_count": null,
      "metadata": {
        "colab": {
          "base_uri": "https://localhost:8080/",
          "height": 488
        },
        "id": "vsQfUCD4F0Ow",
        "outputId": "e722374b-2dee-44e8-a49b-cf1f61b9f9bb"
      },
      "outputs": [
        {
          "output_type": "execute_result",
          "data": {
            "text/plain": [
              "        qtKill  qtAssist  qtDeath  qtHs  qtBombeDefuse  qtBombePlant  qt1Kill  \\\n",
              "1           24         3       18     6              0             4        9   \n",
              "2            6         4       23     2              0             1        4   \n",
              "3           10         5       20     4              1             0        6   \n",
              "4            8         4       26     6              0             2        4   \n",
              "11          19         2       21     7              0             0        9   \n",
              "...        ...       ...      ...   ...            ...           ...      ...   \n",
              "184146      17         3       19     7              0             2       12   \n",
              "184147      21         3       13     5              1             1        8   \n",
              "184148      15         1       22     5              0             1       11   \n",
              "184149       9         6       23     2              0             3        9   \n",
              "184150      15         5       20     6              0             2       13   \n",
              "\n",
              "        qt2Kill  qt3Kill  qt4Kill  ...  qtTrade  qtFlashAssist  flWinner  \\\n",
              "1             4        1        1  ...      1.0            0.0         1   \n",
              "2             1        0        0  ...      3.0            0.0         0   \n",
              "3             2        0        0  ...      4.0            0.0         1   \n",
              "4             2        0        0  ...      4.0            2.0         0   \n",
              "11            5        0        0  ...      3.0            3.0         0   \n",
              "...         ...      ...      ...  ...      ...            ...       ...   \n",
              "184146        1        1        0  ...      4.0            0.0         0   \n",
              "184147        5        1        0  ...      0.0            0.0         1   \n",
              "184148        2        0        0  ...      5.0            0.0         1   \n",
              "184149        0        0        0  ...      2.0            0.0         0   \n",
              "184150        1        0        0  ...      3.0            1.0         0   \n",
              "\n",
              "             kpr       dpr        pps  playerQuality dM50  kpr_categoric  \\\n",
              "1       0.888889  0.666667  23.571429        Regular    0        Regular   \n",
              "2       0.240000  0.920000  17.857143           Ruim    0           Ruim   \n",
              "3       0.400000  0.800000  23.571429        Regular    0           Ruim   \n",
              "4       0.266667  0.866667  22.857143        Regular    0           Ruim   \n",
              "11      0.703704  0.777778  18.571429           Ruim    0        Regular   \n",
              "...          ...       ...        ...            ...  ...            ...   \n",
              "184146  0.607143  0.678571  20.714286        Regular    0        Regular   \n",
              "184147  0.807692  0.500000  15.714286           Ruim    1        Regular   \n",
              "184148  0.517241  0.758621  18.571429           Ruim    0        Regular   \n",
              "184149  0.333333  0.851852  25.000000        Regular    0           Ruim   \n",
              "184150  0.600000  0.800000  22.142857        Regular    0        Regular   \n",
              "\n",
              "       dpr_categoric  \n",
              "1            Regular  \n",
              "2               Ruim  \n",
              "3            Regular  \n",
              "4               Ruim  \n",
              "11           Regular  \n",
              "...              ...  \n",
              "184146       Regular  \n",
              "184147           Bom  \n",
              "184148       Regular  \n",
              "184149          Ruim  \n",
              "184150       Regular  \n",
              "\n",
              "[146381 rows x 30 columns]"
            ],
            "text/html": [
              "\n",
              "  <div id=\"df-1b7d911f-80bb-46a3-beca-1f8c7b984741\">\n",
              "    <div class=\"colab-df-container\">\n",
              "      <div>\n",
              "<style scoped>\n",
              "    .dataframe tbody tr th:only-of-type {\n",
              "        vertical-align: middle;\n",
              "    }\n",
              "\n",
              "    .dataframe tbody tr th {\n",
              "        vertical-align: top;\n",
              "    }\n",
              "\n",
              "    .dataframe thead th {\n",
              "        text-align: right;\n",
              "    }\n",
              "</style>\n",
              "<table border=\"1\" class=\"dataframe\">\n",
              "  <thead>\n",
              "    <tr style=\"text-align: right;\">\n",
              "      <th></th>\n",
              "      <th>qtKill</th>\n",
              "      <th>qtAssist</th>\n",
              "      <th>qtDeath</th>\n",
              "      <th>qtHs</th>\n",
              "      <th>qtBombeDefuse</th>\n",
              "      <th>qtBombePlant</th>\n",
              "      <th>qt1Kill</th>\n",
              "      <th>qt2Kill</th>\n",
              "      <th>qt3Kill</th>\n",
              "      <th>qt4Kill</th>\n",
              "      <th>...</th>\n",
              "      <th>qtTrade</th>\n",
              "      <th>qtFlashAssist</th>\n",
              "      <th>flWinner</th>\n",
              "      <th>kpr</th>\n",
              "      <th>dpr</th>\n",
              "      <th>pps</th>\n",
              "      <th>playerQuality</th>\n",
              "      <th>dM50</th>\n",
              "      <th>kpr_categoric</th>\n",
              "      <th>dpr_categoric</th>\n",
              "    </tr>\n",
              "  </thead>\n",
              "  <tbody>\n",
              "    <tr>\n",
              "      <th>1</th>\n",
              "      <td>24</td>\n",
              "      <td>3</td>\n",
              "      <td>18</td>\n",
              "      <td>6</td>\n",
              "      <td>0</td>\n",
              "      <td>4</td>\n",
              "      <td>9</td>\n",
              "      <td>4</td>\n",
              "      <td>1</td>\n",
              "      <td>1</td>\n",
              "      <td>...</td>\n",
              "      <td>1.0</td>\n",
              "      <td>0.0</td>\n",
              "      <td>1</td>\n",
              "      <td>0.888889</td>\n",
              "      <td>0.666667</td>\n",
              "      <td>23.571429</td>\n",
              "      <td>Regular</td>\n",
              "      <td>0</td>\n",
              "      <td>Regular</td>\n",
              "      <td>Regular</td>\n",
              "    </tr>\n",
              "    <tr>\n",
              "      <th>2</th>\n",
              "      <td>6</td>\n",
              "      <td>4</td>\n",
              "      <td>23</td>\n",
              "      <td>2</td>\n",
              "      <td>0</td>\n",
              "      <td>1</td>\n",
              "      <td>4</td>\n",
              "      <td>1</td>\n",
              "      <td>0</td>\n",
              "      <td>0</td>\n",
              "      <td>...</td>\n",
              "      <td>3.0</td>\n",
              "      <td>0.0</td>\n",
              "      <td>0</td>\n",
              "      <td>0.240000</td>\n",
              "      <td>0.920000</td>\n",
              "      <td>17.857143</td>\n",
              "      <td>Ruim</td>\n",
              "      <td>0</td>\n",
              "      <td>Ruim</td>\n",
              "      <td>Ruim</td>\n",
              "    </tr>\n",
              "    <tr>\n",
              "      <th>3</th>\n",
              "      <td>10</td>\n",
              "      <td>5</td>\n",
              "      <td>20</td>\n",
              "      <td>4</td>\n",
              "      <td>1</td>\n",
              "      <td>0</td>\n",
              "      <td>6</td>\n",
              "      <td>2</td>\n",
              "      <td>0</td>\n",
              "      <td>0</td>\n",
              "      <td>...</td>\n",
              "      <td>4.0</td>\n",
              "      <td>0.0</td>\n",
              "      <td>1</td>\n",
              "      <td>0.400000</td>\n",
              "      <td>0.800000</td>\n",
              "      <td>23.571429</td>\n",
              "      <td>Regular</td>\n",
              "      <td>0</td>\n",
              "      <td>Ruim</td>\n",
              "      <td>Regular</td>\n",
              "    </tr>\n",
              "    <tr>\n",
              "      <th>4</th>\n",
              "      <td>8</td>\n",
              "      <td>4</td>\n",
              "      <td>26</td>\n",
              "      <td>6</td>\n",
              "      <td>0</td>\n",
              "      <td>2</td>\n",
              "      <td>4</td>\n",
              "      <td>2</td>\n",
              "      <td>0</td>\n",
              "      <td>0</td>\n",
              "      <td>...</td>\n",
              "      <td>4.0</td>\n",
              "      <td>2.0</td>\n",
              "      <td>0</td>\n",
              "      <td>0.266667</td>\n",
              "      <td>0.866667</td>\n",
              "      <td>22.857143</td>\n",
              "      <td>Regular</td>\n",
              "      <td>0</td>\n",
              "      <td>Ruim</td>\n",
              "      <td>Ruim</td>\n",
              "    </tr>\n",
              "    <tr>\n",
              "      <th>11</th>\n",
              "      <td>19</td>\n",
              "      <td>2</td>\n",
              "      <td>21</td>\n",
              "      <td>7</td>\n",
              "      <td>0</td>\n",
              "      <td>0</td>\n",
              "      <td>9</td>\n",
              "      <td>5</td>\n",
              "      <td>0</td>\n",
              "      <td>0</td>\n",
              "      <td>...</td>\n",
              "      <td>3.0</td>\n",
              "      <td>3.0</td>\n",
              "      <td>0</td>\n",
              "      <td>0.703704</td>\n",
              "      <td>0.777778</td>\n",
              "      <td>18.571429</td>\n",
              "      <td>Ruim</td>\n",
              "      <td>0</td>\n",
              "      <td>Regular</td>\n",
              "      <td>Regular</td>\n",
              "    </tr>\n",
              "    <tr>\n",
              "      <th>...</th>\n",
              "      <td>...</td>\n",
              "      <td>...</td>\n",
              "      <td>...</td>\n",
              "      <td>...</td>\n",
              "      <td>...</td>\n",
              "      <td>...</td>\n",
              "      <td>...</td>\n",
              "      <td>...</td>\n",
              "      <td>...</td>\n",
              "      <td>...</td>\n",
              "      <td>...</td>\n",
              "      <td>...</td>\n",
              "      <td>...</td>\n",
              "      <td>...</td>\n",
              "      <td>...</td>\n",
              "      <td>...</td>\n",
              "      <td>...</td>\n",
              "      <td>...</td>\n",
              "      <td>...</td>\n",
              "      <td>...</td>\n",
              "      <td>...</td>\n",
              "    </tr>\n",
              "    <tr>\n",
              "      <th>184146</th>\n",
              "      <td>17</td>\n",
              "      <td>3</td>\n",
              "      <td>19</td>\n",
              "      <td>7</td>\n",
              "      <td>0</td>\n",
              "      <td>2</td>\n",
              "      <td>12</td>\n",
              "      <td>1</td>\n",
              "      <td>1</td>\n",
              "      <td>0</td>\n",
              "      <td>...</td>\n",
              "      <td>4.0</td>\n",
              "      <td>0.0</td>\n",
              "      <td>0</td>\n",
              "      <td>0.607143</td>\n",
              "      <td>0.678571</td>\n",
              "      <td>20.714286</td>\n",
              "      <td>Regular</td>\n",
              "      <td>0</td>\n",
              "      <td>Regular</td>\n",
              "      <td>Regular</td>\n",
              "    </tr>\n",
              "    <tr>\n",
              "      <th>184147</th>\n",
              "      <td>21</td>\n",
              "      <td>3</td>\n",
              "      <td>13</td>\n",
              "      <td>5</td>\n",
              "      <td>1</td>\n",
              "      <td>1</td>\n",
              "      <td>8</td>\n",
              "      <td>5</td>\n",
              "      <td>1</td>\n",
              "      <td>0</td>\n",
              "      <td>...</td>\n",
              "      <td>0.0</td>\n",
              "      <td>0.0</td>\n",
              "      <td>1</td>\n",
              "      <td>0.807692</td>\n",
              "      <td>0.500000</td>\n",
              "      <td>15.714286</td>\n",
              "      <td>Ruim</td>\n",
              "      <td>1</td>\n",
              "      <td>Regular</td>\n",
              "      <td>Bom</td>\n",
              "    </tr>\n",
              "    <tr>\n",
              "      <th>184148</th>\n",
              "      <td>15</td>\n",
              "      <td>1</td>\n",
              "      <td>22</td>\n",
              "      <td>5</td>\n",
              "      <td>0</td>\n",
              "      <td>1</td>\n",
              "      <td>11</td>\n",
              "      <td>2</td>\n",
              "      <td>0</td>\n",
              "      <td>0</td>\n",
              "      <td>...</td>\n",
              "      <td>5.0</td>\n",
              "      <td>0.0</td>\n",
              "      <td>1</td>\n",
              "      <td>0.517241</td>\n",
              "      <td>0.758621</td>\n",
              "      <td>18.571429</td>\n",
              "      <td>Ruim</td>\n",
              "      <td>0</td>\n",
              "      <td>Regular</td>\n",
              "      <td>Regular</td>\n",
              "    </tr>\n",
              "    <tr>\n",
              "      <th>184149</th>\n",
              "      <td>9</td>\n",
              "      <td>6</td>\n",
              "      <td>23</td>\n",
              "      <td>2</td>\n",
              "      <td>0</td>\n",
              "      <td>3</td>\n",
              "      <td>9</td>\n",
              "      <td>0</td>\n",
              "      <td>0</td>\n",
              "      <td>0</td>\n",
              "      <td>...</td>\n",
              "      <td>2.0</td>\n",
              "      <td>0.0</td>\n",
              "      <td>0</td>\n",
              "      <td>0.333333</td>\n",
              "      <td>0.851852</td>\n",
              "      <td>25.000000</td>\n",
              "      <td>Regular</td>\n",
              "      <td>0</td>\n",
              "      <td>Ruim</td>\n",
              "      <td>Ruim</td>\n",
              "    </tr>\n",
              "    <tr>\n",
              "      <th>184150</th>\n",
              "      <td>15</td>\n",
              "      <td>5</td>\n",
              "      <td>20</td>\n",
              "      <td>6</td>\n",
              "      <td>0</td>\n",
              "      <td>2</td>\n",
              "      <td>13</td>\n",
              "      <td>1</td>\n",
              "      <td>0</td>\n",
              "      <td>0</td>\n",
              "      <td>...</td>\n",
              "      <td>3.0</td>\n",
              "      <td>1.0</td>\n",
              "      <td>0</td>\n",
              "      <td>0.600000</td>\n",
              "      <td>0.800000</td>\n",
              "      <td>22.142857</td>\n",
              "      <td>Regular</td>\n",
              "      <td>0</td>\n",
              "      <td>Regular</td>\n",
              "      <td>Regular</td>\n",
              "    </tr>\n",
              "  </tbody>\n",
              "</table>\n",
              "<p>146381 rows × 30 columns</p>\n",
              "</div>\n",
              "      <button class=\"colab-df-convert\" onclick=\"convertToInteractive('df-1b7d911f-80bb-46a3-beca-1f8c7b984741')\"\n",
              "              title=\"Convert this dataframe to an interactive table.\"\n",
              "              style=\"display:none;\">\n",
              "        \n",
              "  <svg xmlns=\"http://www.w3.org/2000/svg\" height=\"24px\"viewBox=\"0 0 24 24\"\n",
              "       width=\"24px\">\n",
              "    <path d=\"M0 0h24v24H0V0z\" fill=\"none\"/>\n",
              "    <path d=\"M18.56 5.44l.94 2.06.94-2.06 2.06-.94-2.06-.94-.94-2.06-.94 2.06-2.06.94zm-11 1L8.5 8.5l.94-2.06 2.06-.94-2.06-.94L8.5 2.5l-.94 2.06-2.06.94zm10 10l.94 2.06.94-2.06 2.06-.94-2.06-.94-.94-2.06-.94 2.06-2.06.94z\"/><path d=\"M17.41 7.96l-1.37-1.37c-.4-.4-.92-.59-1.43-.59-.52 0-1.04.2-1.43.59L10.3 9.45l-7.72 7.72c-.78.78-.78 2.05 0 2.83L4 21.41c.39.39.9.59 1.41.59.51 0 1.02-.2 1.41-.59l7.78-7.78 2.81-2.81c.8-.78.8-2.07 0-2.86zM5.41 20L4 18.59l7.72-7.72 1.47 1.35L5.41 20z\"/>\n",
              "  </svg>\n",
              "      </button>\n",
              "      \n",
              "  <style>\n",
              "    .colab-df-container {\n",
              "      display:flex;\n",
              "      flex-wrap:wrap;\n",
              "      gap: 12px;\n",
              "    }\n",
              "\n",
              "    .colab-df-convert {\n",
              "      background-color: #E8F0FE;\n",
              "      border: none;\n",
              "      border-radius: 50%;\n",
              "      cursor: pointer;\n",
              "      display: none;\n",
              "      fill: #1967D2;\n",
              "      height: 32px;\n",
              "      padding: 0 0 0 0;\n",
              "      width: 32px;\n",
              "    }\n",
              "\n",
              "    .colab-df-convert:hover {\n",
              "      background-color: #E2EBFA;\n",
              "      box-shadow: 0px 1px 2px rgba(60, 64, 67, 0.3), 0px 1px 3px 1px rgba(60, 64, 67, 0.15);\n",
              "      fill: #174EA6;\n",
              "    }\n",
              "\n",
              "    [theme=dark] .colab-df-convert {\n",
              "      background-color: #3B4455;\n",
              "      fill: #D2E3FC;\n",
              "    }\n",
              "\n",
              "    [theme=dark] .colab-df-convert:hover {\n",
              "      background-color: #434B5C;\n",
              "      box-shadow: 0px 1px 3px 1px rgba(0, 0, 0, 0.15);\n",
              "      filter: drop-shadow(0px 1px 2px rgba(0, 0, 0, 0.3));\n",
              "      fill: #FFFFFF;\n",
              "    }\n",
              "  </style>\n",
              "\n",
              "      <script>\n",
              "        const buttonEl =\n",
              "          document.querySelector('#df-1b7d911f-80bb-46a3-beca-1f8c7b984741 button.colab-df-convert');\n",
              "        buttonEl.style.display =\n",
              "          google.colab.kernel.accessAllowed ? 'block' : 'none';\n",
              "\n",
              "        async function convertToInteractive(key) {\n",
              "          const element = document.querySelector('#df-1b7d911f-80bb-46a3-beca-1f8c7b984741');\n",
              "          const dataTable =\n",
              "            await google.colab.kernel.invokeFunction('convertToInteractive',\n",
              "                                                     [key], {});\n",
              "          if (!dataTable) return;\n",
              "\n",
              "          const docLinkHtml = 'Like what you see? Visit the ' +\n",
              "            '<a target=\"_blank\" href=https://colab.research.google.com/notebooks/data_table.ipynb>data table notebook</a>'\n",
              "            + ' to learn more about interactive tables.';\n",
              "          element.innerHTML = '';\n",
              "          dataTable['output_type'] = 'display_data';\n",
              "          await google.colab.output.renderOutput(dataTable, element);\n",
              "          const docLink = document.createElement('div');\n",
              "          docLink.innerHTML = docLinkHtml;\n",
              "          element.appendChild(docLink);\n",
              "        }\n",
              "      </script>\n",
              "    </div>\n",
              "  </div>\n",
              "  "
            ]
          },
          "metadata": {},
          "execution_count": 49
        }
      ],
      "source": [
        "df_l"
      ]
    },
    {
      "cell_type": "code",
      "execution_count": null,
      "metadata": {
        "colab": {
          "base_uri": "https://localhost:8080/",
          "height": 584
        },
        "id": "kEoCdaYWntTi",
        "outputId": "c64c5228-bd37-4f9e-ff66-e8bf90754efa"
      },
      "outputs": [
        {
          "output_type": "execute_result",
          "data": {
            "text/plain": [
              "<matplotlib.axes._subplots.AxesSubplot at 0x7fcb604f5690>"
            ]
          },
          "metadata": {},
          "execution_count": 50
        },
        {
          "output_type": "display_data",
          "data": {
            "text/plain": [
              "<Figure size 2160x864 with 2 Axes>"
            ],
            "image/png": "[encoded data removed]"
          },
          "metadata": {
            "needs_background": "light"
          }
        }
      ],
      "source": [
        "Var_Corr = df_l.corr()\n",
        "matrix = np.triu(df_l.corr())\n",
        "\n",
        "plt.figure(figsize = (30,12))\n",
        "sns.heatmap(Var_Corr, xticklabels=Var_Corr.columns, yticklabels=Var_Corr.columns,\\\n",
        "            annot=True,center= 0, cmap= 'coolwarm',mask=matrix)"
      ]
    },
    {
      "cell_type": "markdown",
      "metadata": {
        "id": "SgVw4AxQPDtp"
      },
      "source": [
        "Pode-se ver pelos dados que temos valores com relações altas, como exemplo o dpr e flwinner, eles são inversamente proporcionais, qtHits com phs, vlDamage e qtKill. Dessa forma podemos perceber que os valores numéricos realmente estão ligados através do heat map, dessa forma aplicar clusterização podemos ter uma forma melhor de agrupamento de dados. Porém seria interessante também observar se os valores categóricos podem nos aplicar alguma sentença"
      ]
    },
    {
      "cell_type": "code",
      "execution_count": null,
      "metadata": {
        "colab": {
          "base_uri": "https://localhost:8080/",
          "height": 206
        },
        "id": "0EbW1FmEWq6W",
        "outputId": "2541d3cb-2e4d-40f6-e82f-b54199213700"
      },
      "outputs": [
        {
          "output_type": "execute_result",
          "data": {
            "text/plain": [
              "   kpr_categoric dpr_categoric playerQuality descMapName  flWinner dM50\n",
              "1        Regular       Regular       Regular     de_nuke         1    0\n",
              "2           Ruim          Ruim          Ruim   de_mirage         0    0\n",
              "3           Ruim       Regular       Regular   de_mirage         1    0\n",
              "4           Ruim          Ruim       Regular     de_nuke         0    0\n",
              "11       Regular       Regular          Ruim   de_mirage         0    0"
            ],
            "text/html": [
              "\n",
              "  <div id=\"df-2a5c65a2-10e3-439b-90c4-defd7320e1c0\">\n",
              "    <div class=\"colab-df-container\">\n",
              "      <div>\n",
              "<style scoped>\n",
              "    .dataframe tbody tr th:only-of-type {\n",
              "        vertical-align: middle;\n",
              "    }\n",
              "\n",
              "    .dataframe tbody tr th {\n",
              "        vertical-align: top;\n",
              "    }\n",
              "\n",
              "    .dataframe thead th {\n",
              "        text-align: right;\n",
              "    }\n",
              "</style>\n",
              "<table border=\"1\" class=\"dataframe\">\n",
              "  <thead>\n",
              "    <tr style=\"text-align: right;\">\n",
              "      <th></th>\n",
              "      <th>kpr_categoric</th>\n",
              "      <th>dpr_categoric</th>\n",
              "      <th>playerQuality</th>\n",
              "      <th>descMapName</th>\n",
              "      <th>flWinner</th>\n",
              "      <th>dM50</th>\n",
              "    </tr>\n",
              "  </thead>\n",
              "  <tbody>\n",
              "    <tr>\n",
              "      <th>1</th>\n",
              "      <td>Regular</td>\n",
              "      <td>Regular</td>\n",
              "      <td>Regular</td>\n",
              "      <td>de_nuke</td>\n",
              "      <td>1</td>\n",
              "      <td>0</td>\n",
              "    </tr>\n",
              "    <tr>\n",
              "      <th>2</th>\n",
              "      <td>Ruim</td>\n",
              "      <td>Ruim</td>\n",
              "      <td>Ruim</td>\n",
              "      <td>de_mirage</td>\n",
              "      <td>0</td>\n",
              "      <td>0</td>\n",
              "    </tr>\n",
              "    <tr>\n",
              "      <th>3</th>\n",
              "      <td>Ruim</td>\n",
              "      <td>Regular</td>\n",
              "      <td>Regular</td>\n",
              "      <td>de_mirage</td>\n",
              "      <td>1</td>\n",
              "      <td>0</td>\n",
              "    </tr>\n",
              "    <tr>\n",
              "      <th>4</th>\n",
              "      <td>Ruim</td>\n",
              "      <td>Ruim</td>\n",
              "      <td>Regular</td>\n",
              "      <td>de_nuke</td>\n",
              "      <td>0</td>\n",
              "      <td>0</td>\n",
              "    </tr>\n",
              "    <tr>\n",
              "      <th>11</th>\n",
              "      <td>Regular</td>\n",
              "      <td>Regular</td>\n",
              "      <td>Ruim</td>\n",
              "      <td>de_mirage</td>\n",
              "      <td>0</td>\n",
              "      <td>0</td>\n",
              "    </tr>\n",
              "  </tbody>\n",
              "</table>\n",
              "</div>\n",
              "      <button class=\"colab-df-convert\" onclick=\"convertToInteractive('df-2a5c65a2-10e3-439b-90c4-defd7320e1c0')\"\n",
              "              title=\"Convert this dataframe to an interactive table.\"\n",
              "              style=\"display:none;\">\n",
              "        \n",
              "  <svg xmlns=\"http://www.w3.org/2000/svg\" height=\"24px\"viewBox=\"0 0 24 24\"\n",
              "       width=\"24px\">\n",
              "    <path d=\"M0 0h24v24H0V0z\" fill=\"none\"/>\n",
              "    <path d=\"M18.56 5.44l.94 2.06.94-2.06 2.06-.94-2.06-.94-.94-2.06-.94 2.06-2.06.94zm-11 1L8.5 8.5l.94-2.06 2.06-.94-2.06-.94L8.5 2.5l-.94 2.06-2.06.94zm10 10l.94 2.06.94-2.06 2.06-.94-2.06-.94-.94-2.06-.94 2.06-2.06.94z\"/><path d=\"M17.41 7.96l-1.37-1.37c-.4-.4-.92-.59-1.43-.59-.52 0-1.04.2-1.43.59L10.3 9.45l-7.72 7.72c-.78.78-.78 2.05 0 2.83L4 21.41c.39.39.9.59 1.41.59.51 0 1.02-.2 1.41-.59l7.78-7.78 2.81-2.81c.8-.78.8-2.07 0-2.86zM5.41 20L4 18.59l7.72-7.72 1.47 1.35L5.41 20z\"/>\n",
              "  </svg>\n",
              "      </button>\n",
              "      \n",
              "  <style>\n",
              "    .colab-df-container {\n",
              "      display:flex;\n",
              "      flex-wrap:wrap;\n",
              "      gap: 12px;\n",
              "    }\n",
              "\n",
              "    .colab-df-convert {\n",
              "      background-color: #E8F0FE;\n",
              "      border: none;\n",
              "      border-radius: 50%;\n",
              "      cursor: pointer;\n",
              "      display: none;\n",
              "      fill: #1967D2;\n",
              "      height: 32px;\n",
              "      padding: 0 0 0 0;\n",
              "      width: 32px;\n",
              "    }\n",
              "\n",
              "    .colab-df-convert:hover {\n",
              "      background-color: #E2EBFA;\n",
              "      box-shadow: 0px 1px 2px rgba(60, 64, 67, 0.3), 0px 1px 3px 1px rgba(60, 64, 67, 0.15);\n",
              "      fill: #174EA6;\n",
              "    }\n",
              "\n",
              "    [theme=dark] .colab-df-convert {\n",
              "      background-color: #3B4455;\n",
              "      fill: #D2E3FC;\n",
              "    }\n",
              "\n",
              "    [theme=dark] .colab-df-convert:hover {\n",
              "      background-color: #434B5C;\n",
              "      box-shadow: 0px 1px 3px 1px rgba(0, 0, 0, 0.15);\n",
              "      filter: drop-shadow(0px 1px 2px rgba(0, 0, 0, 0.3));\n",
              "      fill: #FFFFFF;\n",
              "    }\n",
              "  </style>\n",
              "\n",
              "      <script>\n",
              "        const buttonEl =\n",
              "          document.querySelector('#df-2a5c65a2-10e3-439b-90c4-defd7320e1c0 button.colab-df-convert');\n",
              "        buttonEl.style.display =\n",
              "          google.colab.kernel.accessAllowed ? 'block' : 'none';\n",
              "\n",
              "        async function convertToInteractive(key) {\n",
              "          const element = document.querySelector('#df-2a5c65a2-10e3-439b-90c4-defd7320e1c0');\n",
              "          const dataTable =\n",
              "            await google.colab.kernel.invokeFunction('convertToInteractive',\n",
              "                                                     [key], {});\n",
              "          if (!dataTable) return;\n",
              "\n",
              "          const docLinkHtml = 'Like what you see? Visit the ' +\n",
              "            '<a target=\"_blank\" href=https://colab.research.google.com/notebooks/data_table.ipynb>data table notebook</a>'\n",
              "            + ' to learn more about interactive tables.';\n",
              "          element.innerHTML = '';\n",
              "          dataTable['output_type'] = 'display_data';\n",
              "          await google.colab.output.renderOutput(dataTable, element);\n",
              "          const docLink = document.createElement('div');\n",
              "          docLink.innerHTML = docLinkHtml;\n",
              "          element.appendChild(docLink);\n",
              "        }\n",
              "      </script>\n",
              "    </div>\n",
              "  </div>\n",
              "  "
            ]
          },
          "metadata": {},
          "execution_count": 51
        }
      ],
      "source": [
        "df_rules = df_l[['kpr_categoric','dpr_categoric','playerQuality','descMapName', 'flWinner', 'dM50']]\n",
        "df_rules.head()"
      ]
    },
    {
      "cell_type": "code",
      "execution_count": null,
      "metadata": {
        "id": "l8NtForwXGyX"
      },
      "outputs": [],
      "source": [
        "df_transactions = pd.get_dummies(df_rules)\n",
        "#df_transactions = df_rules\n",
        "#df_transactions = pd.get_dummies(df_transactions, columns=['kpr_categoric'])\n",
        "#df_transactions = pd.get_dummies(df_transactions, columns=['dpr_categoric'])\n",
        "#df_transactions = pd.get_dummies(df_transactions, columns=['playerQuality'])\n",
        "#df_transactions = pd.get_dummies(df_transactions, columns=['descMapName'])"
      ]
    },
    {
      "cell_type": "code",
      "execution_count": null,
      "metadata": {
        "colab": {
          "base_uri": "https://localhost:8080/"
        },
        "id": "mx5d9dnwXO4m",
        "outputId": "20e1bfd3-d9cf-4cad-95da-fb6957947139"
      },
      "outputs": [
        {
          "output_type": "stream",
          "name": "stdout",
          "text": [
            "<class 'pandas.core.frame.DataFrame'>\n",
            "Int64Index: 146381 entries, 1 to 184150\n",
            "Data columns (total 26 columns):\n",
            " #   Column                   Non-Null Count   Dtype\n",
            "---  ------                   --------------   -----\n",
            " 0   flWinner                 146381 non-null  int64\n",
            " 1   kpr_categoric_Ruim       146381 non-null  uint8\n",
            " 2   kpr_categoric_Regular    146381 non-null  uint8\n",
            " 3   kpr_categoric_Bom        146381 non-null  uint8\n",
            " 4   kpr_categoric_Muito Bom  146381 non-null  uint8\n",
            " 5   kpr_categoric_Excelente  146381 non-null  uint8\n",
            " 6   dpr_categoric_Excelente  146381 non-null  uint8\n",
            " 7   dpr_categoric_Muito Bom  146381 non-null  uint8\n",
            " 8   dpr_categoric_Bom        146381 non-null  uint8\n",
            " 9   dpr_categoric_Regular    146381 non-null  uint8\n",
            " 10  dpr_categoric_Ruim       146381 non-null  uint8\n",
            " 11  playerQuality_Bom        146381 non-null  uint8\n",
            " 12  playerQuality_Excelente  146381 non-null  uint8\n",
            " 13  playerQuality_Muito Bom  146381 non-null  uint8\n",
            " 14  playerQuality_Regular    146381 non-null  uint8\n",
            " 15  playerQuality_Ruim       146381 non-null  uint8\n",
            " 16  descMapName_de_ancient   146381 non-null  uint8\n",
            " 17  descMapName_de_dust2     146381 non-null  uint8\n",
            " 18  descMapName_de_inferno   146381 non-null  uint8\n",
            " 19  descMapName_de_mirage    146381 non-null  uint8\n",
            " 20  descMapName_de_nuke      146381 non-null  uint8\n",
            " 21  descMapName_de_overpass  146381 non-null  uint8\n",
            " 22  descMapName_de_train     146381 non-null  uint8\n",
            " 23  descMapName_de_vertigo   146381 non-null  uint8\n",
            " 24  dM50_0                   146381 non-null  uint8\n",
            " 25  dM50_1                   146381 non-null  uint8\n",
            "dtypes: int64(1), uint8(25)\n",
            "memory usage: 9.8 MB\n"
          ]
        }
      ],
      "source": [
        "df_transactions.info()"
      ]
    },
    {
      "cell_type": "markdown",
      "metadata": {
        "id": "-yw2UFhP-iEK"
      },
      "source": [
        ""
      ]
    },
    {
      "cell_type": "code",
      "execution_count": null,
      "metadata": {
        "colab": {
          "base_uri": "https://localhost:8080/",
          "height": 896
        },
        "id": "kvSF5-0dX15v",
        "outputId": "00cc52be-fc0f-496d-a746-439ac9f38338"
      },
      "outputs": [
        {
          "output_type": "execute_result",
          "data": {
            "text/plain": [
              "     support                                           itemsets\n",
              "0   0.500304                                         (flWinner)\n",
              "1   0.740356                            (kpr_categoric_Regular)\n",
              "2   0.673837                            (dpr_categoric_Regular)\n",
              "3   0.601205                            (playerQuality_Regular)\n",
              "4   0.361454                               (playerQuality_Ruim)\n",
              "5   0.313476                            (descMapName_de_mirage)\n",
              "6   0.969033                                           (dM50_0)\n",
              "7   0.378341                  (flWinner, kpr_categoric_Regular)\n",
              "8   0.342066                  (flWinner, dpr_categoric_Regular)\n",
              "9   0.339559                  (playerQuality_Regular, flWinner)\n",
              "10  0.472363                                 (flWinner, dM50_0)\n",
              "11  0.518510     (kpr_categoric_Regular, dpr_categoric_Regular)\n",
              "12  0.457027     (playerQuality_Regular, kpr_categoric_Regular)\n",
              "13  0.721555                    (kpr_categoric_Regular, dM50_0)\n",
              "14  0.418675     (playerQuality_Regular, dpr_categoric_Regular)\n",
              "15  0.673837                    (dM50_0, dpr_categoric_Regular)\n",
              "16  0.584215                    (playerQuality_Regular, dM50_0)\n",
              "17  0.347771                       (dM50_0, playerQuality_Ruim)\n",
              "18  0.303967                    (descMapName_de_mirage, dM50_0)\n",
              "19  0.360122          (flWinner, kpr_categoric_Regular, dM50_0)\n",
              "20  0.342066          (flWinner, dM50_0, dpr_categoric_Regular)\n",
              "21  0.323164          (playerQuality_Regular, flWinner, dM50_0)\n",
              "22  0.328335  (playerQuality_Regular, kpr_categoric_Regular,...\n",
              "23  0.518510  (kpr_categoric_Regular, dM50_0, dpr_categoric_...\n",
              "24  0.446629  (playerQuality_Regular, kpr_categoric_Regular,...\n",
              "25  0.418675  (playerQuality_Regular, dM50_0, dpr_categoric_...\n",
              "26  0.328335  (playerQuality_Regular, kpr_categoric_Regular,..."
            ],
            "text/html": [
              "\n",
              "  <div id=\"df-624fea1a-d334-400e-bf5c-53c3a191cff2\">\n",
              "    <div class=\"colab-df-container\">\n",
              "      <div>\n",
              "<style scoped>\n",
              "    .dataframe tbody tr th:only-of-type {\n",
              "        vertical-align: middle;\n",
              "    }\n",
              "\n",
              "    .dataframe tbody tr th {\n",
              "        vertical-align: top;\n",
              "    }\n",
              "\n",
              "    .dataframe thead th {\n",
              "        text-align: right;\n",
              "    }\n",
              "</style>\n",
              "<table border=\"1\" class=\"dataframe\">\n",
              "  <thead>\n",
              "    <tr style=\"text-align: right;\">\n",
              "      <th></th>\n",
              "      <th>support</th>\n",
              "      <th>itemsets</th>\n",
              "    </tr>\n",
              "  </thead>\n",
              "  <tbody>\n",
              "    <tr>\n",
              "      <th>0</th>\n",
              "      <td>0.500304</td>\n",
              "      <td>(flWinner)</td>\n",
              "    </tr>\n",
              "    <tr>\n",
              "      <th>1</th>\n",
              "      <td>0.740356</td>\n",
              "      <td>(kpr_categoric_Regular)</td>\n",
              "    </tr>\n",
              "    <tr>\n",
              "      <th>2</th>\n",
              "      <td>0.673837</td>\n",
              "      <td>(dpr_categoric_Regular)</td>\n",
              "    </tr>\n",
              "    <tr>\n",
              "      <th>3</th>\n",
              "      <td>0.601205</td>\n",
              "      <td>(playerQuality_Regular)</td>\n",
              "    </tr>\n",
              "    <tr>\n",
              "      <th>4</th>\n",
              "      <td>0.361454</td>\n",
              "      <td>(playerQuality_Ruim)</td>\n",
              "    </tr>\n",
              "    <tr>\n",
              "      <th>5</th>\n",
              "      <td>0.313476</td>\n",
              "      <td>(descMapName_de_mirage)</td>\n",
              "    </tr>\n",
              "    <tr>\n",
              "      <th>6</th>\n",
              "      <td>0.969033</td>\n",
              "      <td>(dM50_0)</td>\n",
              "    </tr>\n",
              "    <tr>\n",
              "      <th>7</th>\n",
              "      <td>0.378341</td>\n",
              "      <td>(flWinner, kpr_categoric_Regular)</td>\n",
              "    </tr>\n",
              "    <tr>\n",
              "      <th>8</th>\n",
              "      <td>0.342066</td>\n",
              "      <td>(flWinner, dpr_categoric_Regular)</td>\n",
              "    </tr>\n",
              "    <tr>\n",
              "      <th>9</th>\n",
              "      <td>0.339559</td>\n",
              "      <td>(playerQuality_Regular, flWinner)</td>\n",
              "    </tr>\n",
              "    <tr>\n",
              "      <th>10</th>\n",
              "      <td>0.472363</td>\n",
              "      <td>(flWinner, dM50_0)</td>\n",
              "    </tr>\n",
              "    <tr>\n",
              "      <th>11</th>\n",
              "      <td>0.518510</td>\n",
              "      <td>(kpr_categoric_Regular, dpr_categoric_Regular)</td>\n",
              "    </tr>\n",
              "    <tr>\n",
              "      <th>12</th>\n",
              "      <td>0.457027</td>\n",
              "      <td>(playerQuality_Regular, kpr_categoric_Regular)</td>\n",
              "    </tr>\n",
              "    <tr>\n",
              "      <th>13</th>\n",
              "      <td>0.721555</td>\n",
              "      <td>(kpr_categoric_Regular, dM50_0)</td>\n",
              "    </tr>\n",
              "    <tr>\n",
              "      <th>14</th>\n",
              "      <td>0.418675</td>\n",
              "      <td>(playerQuality_Regular, dpr_categoric_Regular)</td>\n",
              "    </tr>\n",
              "    <tr>\n",
              "      <th>15</th>\n",
              "      <td>0.673837</td>\n",
              "      <td>(dM50_0, dpr_categoric_Regular)</td>\n",
              "    </tr>\n",
              "    <tr>\n",
              "      <th>16</th>\n",
              "      <td>0.584215</td>\n",
              "      <td>(playerQuality_Regular, dM50_0)</td>\n",
              "    </tr>\n",
              "    <tr>\n",
              "      <th>17</th>\n",
              "      <td>0.347771</td>\n",
              "      <td>(dM50_0, playerQuality_Ruim)</td>\n",
              "    </tr>\n",
              "    <tr>\n",
              "      <th>18</th>\n",
              "      <td>0.303967</td>\n",
              "      <td>(descMapName_de_mirage, dM50_0)</td>\n",
              "    </tr>\n",
              "    <tr>\n",
              "      <th>19</th>\n",
              "      <td>0.360122</td>\n",
              "      <td>(flWinner, kpr_categoric_Regular, dM50_0)</td>\n",
              "    </tr>\n",
              "    <tr>\n",
              "      <th>20</th>\n",
              "      <td>0.342066</td>\n",
              "      <td>(flWinner, dM50_0, dpr_categoric_Regular)</td>\n",
              "    </tr>\n",
              "    <tr>\n",
              "      <th>21</th>\n",
              "      <td>0.323164</td>\n",
              "      <td>(playerQuality_Regular, flWinner, dM50_0)</td>\n",
              "    </tr>\n",
              "    <tr>\n",
              "      <th>22</th>\n",
              "      <td>0.328335</td>\n",
              "      <td>(playerQuality_Regular, kpr_categoric_Regular,...</td>\n",
              "    </tr>\n",
              "    <tr>\n",
              "      <th>23</th>\n",
              "      <td>0.518510</td>\n",
              "      <td>(kpr_categoric_Regular, dM50_0, dpr_categoric_...</td>\n",
              "    </tr>\n",
              "    <tr>\n",
              "      <th>24</th>\n",
              "      <td>0.446629</td>\n",
              "      <td>(playerQuality_Regular, kpr_categoric_Regular,...</td>\n",
              "    </tr>\n",
              "    <tr>\n",
              "      <th>25</th>\n",
              "      <td>0.418675</td>\n",
              "      <td>(playerQuality_Regular, dM50_0, dpr_categoric_...</td>\n",
              "    </tr>\n",
              "    <tr>\n",
              "      <th>26</th>\n",
              "      <td>0.328335</td>\n",
              "      <td>(playerQuality_Regular, kpr_categoric_Regular,...</td>\n",
              "    </tr>\n",
              "  </tbody>\n",
              "</table>\n",
              "</div>\n",
              "      <button class=\"colab-df-convert\" onclick=\"convertToInteractive('df-624fea1a-d334-400e-bf5c-53c3a191cff2')\"\n",
              "              title=\"Convert this dataframe to an interactive table.\"\n",
              "              style=\"display:none;\">\n",
              "        \n",
              "  <svg xmlns=\"http://www.w3.org/2000/svg\" height=\"24px\"viewBox=\"0 0 24 24\"\n",
              "       width=\"24px\">\n",
              "    <path d=\"M0 0h24v24H0V0z\" fill=\"none\"/>\n",
              "    <path d=\"M18.56 5.44l.94 2.06.94-2.06 2.06-.94-2.06-.94-.94-2.06-.94 2.06-2.06.94zm-11 1L8.5 8.5l.94-2.06 2.06-.94-2.06-.94L8.5 2.5l-.94 2.06-2.06.94zm10 10l.94 2.06.94-2.06 2.06-.94-2.06-.94-.94-2.06-.94 2.06-2.06.94z\"/><path d=\"M17.41 7.96l-1.37-1.37c-.4-.4-.92-.59-1.43-.59-.52 0-1.04.2-1.43.59L10.3 9.45l-7.72 7.72c-.78.78-.78 2.05 0 2.83L4 21.41c.39.39.9.59 1.41.59.51 0 1.02-.2 1.41-.59l7.78-7.78 2.81-2.81c.8-.78.8-2.07 0-2.86zM5.41 20L4 18.59l7.72-7.72 1.47 1.35L5.41 20z\"/>\n",
              "  </svg>\n",
              "      </button>\n",
              "      \n",
              "  <style>\n",
              "    .colab-df-container {\n",
              "      display:flex;\n",
              "      flex-wrap:wrap;\n",
              "      gap: 12px;\n",
              "    }\n",
              "\n",
              "    .colab-df-convert {\n",
              "      background-color: #E8F0FE;\n",
              "      border: none;\n",
              "      border-radius: 50%;\n",
              "      cursor: pointer;\n",
              "      display: none;\n",
              "      fill: #1967D2;\n",
              "      height: 32px;\n",
              "      padding: 0 0 0 0;\n",
              "      width: 32px;\n",
              "    }\n",
              "\n",
              "    .colab-df-convert:hover {\n",
              "      background-color: #E2EBFA;\n",
              "      box-shadow: 0px 1px 2px rgba(60, 64, 67, 0.3), 0px 1px 3px 1px rgba(60, 64, 67, 0.15);\n",
              "      fill: #174EA6;\n",
              "    }\n",
              "\n",
              "    [theme=dark] .colab-df-convert {\n",
              "      background-color: #3B4455;\n",
              "      fill: #D2E3FC;\n",
              "    }\n",
              "\n",
              "    [theme=dark] .colab-df-convert:hover {\n",
              "      background-color: #434B5C;\n",
              "      box-shadow: 0px 1px 3px 1px rgba(0, 0, 0, 0.15);\n",
              "      filter: drop-shadow(0px 1px 2px rgba(0, 0, 0, 0.3));\n",
              "      fill: #FFFFFF;\n",
              "    }\n",
              "  </style>\n",
              "\n",
              "      <script>\n",
              "        const buttonEl =\n",
              "          document.querySelector('#df-624fea1a-d334-400e-bf5c-53c3a191cff2 button.colab-df-convert');\n",
              "        buttonEl.style.display =\n",
              "          google.colab.kernel.accessAllowed ? 'block' : 'none';\n",
              "\n",
              "        async function convertToInteractive(key) {\n",
              "          const element = document.querySelector('#df-624fea1a-d334-400e-bf5c-53c3a191cff2');\n",
              "          const dataTable =\n",
              "            await google.colab.kernel.invokeFunction('convertToInteractive',\n",
              "                                                     [key], {});\n",
              "          if (!dataTable) return;\n",
              "\n",
              "          const docLinkHtml = 'Like what you see? Visit the ' +\n",
              "            '<a target=\"_blank\" href=https://colab.research.google.com/notebooks/data_table.ipynb>data table notebook</a>'\n",
              "            + ' to learn more about interactive tables.';\n",
              "          element.innerHTML = '';\n",
              "          dataTable['output_type'] = 'display_data';\n",
              "          await google.colab.output.renderOutput(dataTable, element);\n",
              "          const docLink = document.createElement('div');\n",
              "          docLink.innerHTML = docLinkHtml;\n",
              "          element.appendChild(docLink);\n",
              "        }\n",
              "      </script>\n",
              "    </div>\n",
              "  </div>\n",
              "  "
            ]
          },
          "metadata": {},
          "execution_count": 54
        }
      ],
      "source": [
        "#Erro pois não tem apenas 0 ou 1\n",
        "frequent_itemsets = apriori(df_transactions, min_support=0.3, use_colnames=True)\n",
        "frequent_itemsets"
      ]
    },
    {
      "cell_type": "code",
      "execution_count": null,
      "metadata": {
        "colab": {
          "base_uri": "https://localhost:8080/",
          "height": 320
        },
        "id": "bE9ngVz_YAN6",
        "outputId": "d25543c9-244e-43d9-a754-0f1ad8e3e833"
      },
      "outputs": [
        {
          "output_type": "execute_result",
          "data": {
            "text/plain": [
              "                                          antecedents consequents  \\\n",
              "61     (playerQuality_Regular, dpr_categoric_Regular)    (dM50_0)   \n",
              "17                            (dpr_categoric_Regular)    (dM50_0)   \n",
              "49     (kpr_categoric_Regular, dpr_categoric_Regular)    (dM50_0)   \n",
              "31                  (flWinner, dpr_categoric_Regular)    (dM50_0)   \n",
              "67  (playerQuality_Regular, kpr_categoric_Regular,...    (dM50_0)   \n",
              "\n",
              "    antecedent support  consequent support   support  confidence      lift  \\\n",
              "61            0.418675            0.969033  0.418675         1.0  1.031957   \n",
              "17            0.673837            0.969033  0.673837         1.0  1.031957   \n",
              "49            0.518510            0.969033  0.518510         1.0  1.031957   \n",
              "31            0.342066            0.969033  0.342066         1.0  1.031957   \n",
              "67            0.328335            0.969033  0.328335         1.0  1.031957   \n",
              "\n",
              "    leverage  conviction  \n",
              "61  0.012965         inf  \n",
              "17  0.020867         inf  \n",
              "49  0.016057         inf  \n",
              "31  0.010593         inf  \n",
              "67  0.010168         inf  "
            ],
            "text/html": [
              "\n",
              "  <div id=\"df-cf3f2e09-f0f8-404b-824e-9fd4a94d43d0\">\n",
              "    <div class=\"colab-df-container\">\n",
              "      <div>\n",
              "<style scoped>\n",
              "    .dataframe tbody tr th:only-of-type {\n",
              "        vertical-align: middle;\n",
              "    }\n",
              "\n",
              "    .dataframe tbody tr th {\n",
              "        vertical-align: top;\n",
              "    }\n",
              "\n",
              "    .dataframe thead th {\n",
              "        text-align: right;\n",
              "    }\n",
              "</style>\n",
              "<table border=\"1\" class=\"dataframe\">\n",
              "  <thead>\n",
              "    <tr style=\"text-align: right;\">\n",
              "      <th></th>\n",
              "      <th>antecedents</th>\n",
              "      <th>consequents</th>\n",
              "      <th>antecedent support</th>\n",
              "      <th>consequent support</th>\n",
              "      <th>support</th>\n",
              "      <th>confidence</th>\n",
              "      <th>lift</th>\n",
              "      <th>leverage</th>\n",
              "      <th>conviction</th>\n",
              "    </tr>\n",
              "  </thead>\n",
              "  <tbody>\n",
              "    <tr>\n",
              "      <th>61</th>\n",
              "      <td>(playerQuality_Regular, dpr_categoric_Regular)</td>\n",
              "      <td>(dM50_0)</td>\n",
              "      <td>0.418675</td>\n",
              "      <td>0.969033</td>\n",
              "      <td>0.418675</td>\n",
              "      <td>1.0</td>\n",
              "      <td>1.031957</td>\n",
              "      <td>0.012965</td>\n",
              "      <td>inf</td>\n",
              "    </tr>\n",
              "    <tr>\n",
              "      <th>17</th>\n",
              "      <td>(dpr_categoric_Regular)</td>\n",
              "      <td>(dM50_0)</td>\n",
              "      <td>0.673837</td>\n",
              "      <td>0.969033</td>\n",
              "      <td>0.673837</td>\n",
              "      <td>1.0</td>\n",
              "      <td>1.031957</td>\n",
              "      <td>0.020867</td>\n",
              "      <td>inf</td>\n",
              "    </tr>\n",
              "    <tr>\n",
              "      <th>49</th>\n",
              "      <td>(kpr_categoric_Regular, dpr_categoric_Regular)</td>\n",
              "      <td>(dM50_0)</td>\n",
              "      <td>0.518510</td>\n",
              "      <td>0.969033</td>\n",
              "      <td>0.518510</td>\n",
              "      <td>1.0</td>\n",
              "      <td>1.031957</td>\n",
              "      <td>0.016057</td>\n",
              "      <td>inf</td>\n",
              "    </tr>\n",
              "    <tr>\n",
              "      <th>31</th>\n",
              "      <td>(flWinner, dpr_categoric_Regular)</td>\n",
              "      <td>(dM50_0)</td>\n",
              "      <td>0.342066</td>\n",
              "      <td>0.969033</td>\n",
              "      <td>0.342066</td>\n",
              "      <td>1.0</td>\n",
              "      <td>1.031957</td>\n",
              "      <td>0.010593</td>\n",
              "      <td>inf</td>\n",
              "    </tr>\n",
              "    <tr>\n",
              "      <th>67</th>\n",
              "      <td>(playerQuality_Regular, kpr_categoric_Regular,...</td>\n",
              "      <td>(dM50_0)</td>\n",
              "      <td>0.328335</td>\n",
              "      <td>0.969033</td>\n",
              "      <td>0.328335</td>\n",
              "      <td>1.0</td>\n",
              "      <td>1.031957</td>\n",
              "      <td>0.010168</td>\n",
              "      <td>inf</td>\n",
              "    </tr>\n",
              "  </tbody>\n",
              "</table>\n",
              "</div>\n",
              "      <button class=\"colab-df-convert\" onclick=\"convertToInteractive('df-cf3f2e09-f0f8-404b-824e-9fd4a94d43d0')\"\n",
              "              title=\"Convert this dataframe to an interactive table.\"\n",
              "              style=\"display:none;\">\n",
              "        \n",
              "  <svg xmlns=\"http://www.w3.org/2000/svg\" height=\"24px\"viewBox=\"0 0 24 24\"\n",
              "       width=\"24px\">\n",
              "    <path d=\"M0 0h24v24H0V0z\" fill=\"none\"/>\n",
              "    <path d=\"M18.56 5.44l.94 2.06.94-2.06 2.06-.94-2.06-.94-.94-2.06-.94 2.06-2.06.94zm-11 1L8.5 8.5l.94-2.06 2.06-.94-2.06-.94L8.5 2.5l-.94 2.06-2.06.94zm10 10l.94 2.06.94-2.06 2.06-.94-2.06-.94-.94-2.06-.94 2.06-2.06.94z\"/><path d=\"M17.41 7.96l-1.37-1.37c-.4-.4-.92-.59-1.43-.59-.52 0-1.04.2-1.43.59L10.3 9.45l-7.72 7.72c-.78.78-.78 2.05 0 2.83L4 21.41c.39.39.9.59 1.41.59.51 0 1.02-.2 1.41-.59l7.78-7.78 2.81-2.81c.8-.78.8-2.07 0-2.86zM5.41 20L4 18.59l7.72-7.72 1.47 1.35L5.41 20z\"/>\n",
              "  </svg>\n",
              "      </button>\n",
              "      \n",
              "  <style>\n",
              "    .colab-df-container {\n",
              "      display:flex;\n",
              "      flex-wrap:wrap;\n",
              "      gap: 12px;\n",
              "    }\n",
              "\n",
              "    .colab-df-convert {\n",
              "      background-color: #E8F0FE;\n",
              "      border: none;\n",
              "      border-radius: 50%;\n",
              "      cursor: pointer;\n",
              "      display: none;\n",
              "      fill: #1967D2;\n",
              "      height: 32px;\n",
              "      padding: 0 0 0 0;\n",
              "      width: 32px;\n",
              "    }\n",
              "\n",
              "    .colab-df-convert:hover {\n",
              "      background-color: #E2EBFA;\n",
              "      box-shadow: 0px 1px 2px rgba(60, 64, 67, 0.3), 0px 1px 3px 1px rgba(60, 64, 67, 0.15);\n",
              "      fill: #174EA6;\n",
              "    }\n",
              "\n",
              "    [theme=dark] .colab-df-convert {\n",
              "      background-color: #3B4455;\n",
              "      fill: #D2E3FC;\n",
              "    }\n",
              "\n",
              "    [theme=dark] .colab-df-convert:hover {\n",
              "      background-color: #434B5C;\n",
              "      box-shadow: 0px 1px 3px 1px rgba(0, 0, 0, 0.15);\n",
              "      filter: drop-shadow(0px 1px 2px rgba(0, 0, 0, 0.3));\n",
              "      fill: #FFFFFF;\n",
              "    }\n",
              "  </style>\n",
              "\n",
              "      <script>\n",
              "        const buttonEl =\n",
              "          document.querySelector('#df-cf3f2e09-f0f8-404b-824e-9fd4a94d43d0 button.colab-df-convert');\n",
              "        buttonEl.style.display =\n",
              "          google.colab.kernel.accessAllowed ? 'block' : 'none';\n",
              "\n",
              "        async function convertToInteractive(key) {\n",
              "          const element = document.querySelector('#df-cf3f2e09-f0f8-404b-824e-9fd4a94d43d0');\n",
              "          const dataTable =\n",
              "            await google.colab.kernel.invokeFunction('convertToInteractive',\n",
              "                                                     [key], {});\n",
              "          if (!dataTable) return;\n",
              "\n",
              "          const docLinkHtml = 'Like what you see? Visit the ' +\n",
              "            '<a target=\"_blank\" href=https://colab.research.google.com/notebooks/data_table.ipynb>data table notebook</a>'\n",
              "            + ' to learn more about interactive tables.';\n",
              "          element.innerHTML = '';\n",
              "          dataTable['output_type'] = 'display_data';\n",
              "          await google.colab.output.renderOutput(dataTable, element);\n",
              "          const docLink = document.createElement('div');\n",
              "          docLink.innerHTML = docLinkHtml;\n",
              "          element.appendChild(docLink);\n",
              "        }\n",
              "      </script>\n",
              "    </div>\n",
              "  </div>\n",
              "  "
            ]
          },
          "metadata": {},
          "execution_count": 55
        }
      ],
      "source": [
        "rules = association_rules(frequent_itemsets, metric=\"confidence\", min_threshold=0.2)\n",
        "rules.sort_values(by=\"confidence\",ascending=False).head()"
      ]
    },
    {
      "cell_type": "code",
      "execution_count": null,
      "metadata": {
        "id": "fSMDyoJKIGmo"
      },
      "outputs": [],
      "source": [
        "cols_interesse = ['kpr_categoric_Ruim','kpr_categoric_Regular','kpr_categoric_Bom','kpr_categoric_Muito Bom','kpr_categoric_Excelente  ',\n",
        "                  'dpr_categoric_Ruim','dpr_categoric_Regular','dpr_categoric_Bom','dpr_categoric_Muito Bom','dpr_categoric_Excelente  ',\n",
        "                  'playerQuality_Bom', 'playerQuality_Muito Bom', 'playerQuality_Regular', 'playerQuality_Ruim', 'playerQuality_Excelente',\n",
        "                  'descMapName_de_ancient', 'descMapName_de_dust2', 'descMapName_de_inferno', 'descMapName_de_mirage', 'descMapName_de_nuke',\n",
        "                  'descMapName_de_overpass', 'descMapName_de_train', 'descMapName_de_vertigo'\n",
        "                  ]\n"
      ]
    },
    {
      "cell_type": "code",
      "execution_count": null,
      "metadata": {
        "id": "tSnvsxtU7_fK"
      },
      "outputs": [],
      "source": [
        "df = pd.get_dummies(df_l, columns=[\"playerQuality\"])"
      ]
    },
    {
      "cell_type": "code",
      "execution_count": null,
      "metadata": {
        "id": "B-A3tiyL8BJz"
      },
      "outputs": [],
      "source": [
        "cols_interesse = ['qtKill','qtDeath','vlDamage','qtClutchWon','vlLevel','qtHs','qt5Kill','kpr','dpr','pps','playerQuality_Bom','playerQuality_Excelente','playerQuality_Muito Bom','playerQuality_Regular','playerQuality_Ruim']\n",
        "target = 'flWinner'"
      ]
    },
    {
      "cell_type": "code",
      "execution_count": null,
      "metadata": {
        "id": "mLfzNmir8DNe"
      },
      "outputs": [],
      "source": [
        "cols_interesse_all = cols_interesse.copy()\n",
        "cols_interesse_all.append(target)"
      ]
    },
    {
      "cell_type": "code",
      "source": [
        "df['dpr']"
      ],
      "metadata": {
        "colab": {
          "base_uri": "https://localhost:8080/"
        },
        "id": "l1FxhCKEo4lR",
        "outputId": "ec8bbd39-cd0c-4889-cc4d-c6fd60c158cb"
      },
      "execution_count": null,
      "outputs": [
        {
          "output_type": "execute_result",
          "data": {
            "text/plain": [
              "1         0.666667\n",
              "2         0.920000\n",
              "3         0.800000\n",
              "4         0.866667\n",
              "11        0.777778\n",
              "            ...   \n",
              "184146    0.678571\n",
              "184147    0.500000\n",
              "184148    0.758621\n",
              "184149    0.851852\n",
              "184150    0.800000\n",
              "Name: dpr, Length: 146381, dtype: float64"
            ]
          },
          "metadata": {},
          "execution_count": 60
        }
      ]
    },
    {
      "cell_type": "code",
      "source": [
        " df[target]"
      ],
      "metadata": {
        "colab": {
          "base_uri": "https://localhost:8080/"
        },
        "id": "AKACoc3WpUym",
        "outputId": "69e665e6-a671-4b2c-90df-f4ce53befaab"
      },
      "execution_count": null,
      "outputs": [
        {
          "output_type": "execute_result",
          "data": {
            "text/plain": [
              "1         1\n",
              "2         0\n",
              "3         1\n",
              "4         0\n",
              "11        0\n",
              "         ..\n",
              "184146    0\n",
              "184147    1\n",
              "184148    1\n",
              "184149    0\n",
              "184150    0\n",
              "Name: flWinner, Length: 146381, dtype: int64"
            ]
          },
          "metadata": {},
          "execution_count": 73
        }
      ]
    },
    {
      "cell_type": "code",
      "execution_count": null,
      "metadata": {
        "colab": {
          "base_uri": "https://localhost:8080/",
          "height": 400
        },
        "id": "4_G1ovB6759L",
        "outputId": "0b531e68-4050-4e7b-d678-78975dce82c6"
      },
      "outputs": [
        {
          "output_type": "stream",
          "name": "stdout",
          "text": [
            "Coeficiente estimado:  [-2.3578828]\n",
            "R2 (score):  0.2385279990828909\n",
            "Intercept 2.176 \n",
            "     Coefficient\n",
            "dpr    -2.357883\n",
            "Estimated coefficients:\n",
            "b_0 = 2.176360849058079 nb_1 = -2.3578827975859444\n"
          ]
        },
        {
          "output_type": "display_data",
          "data": {
            "text/plain": [
              "<Figure size 432x288 with 1 Axes>"
            ],
            "image/png": "[encoded data removed]"
          },
          "metadata": {
            "needs_background": "light"
          }
        }
      ],
      "source": [
        "X = df['dpr']\n",
        "Y = df[target]\n",
        "regressao_linear(X,Y,['dpr'])\n",
        "\n",
        "b = estimate_coef(df['dpr'],df[target]) \n",
        "print(\"Estimated coefficients:\\nb_0 = {} nb_1 = {}\".format(b[0], b[1])) \n",
        "plot_regression_line(df['dpr'], df[target], b)"
      ]
    },
    {
      "cell_type": "code",
      "execution_count": null,
      "metadata": {
        "colab": {
          "base_uri": "https://localhost:8080/",
          "height": 400
        },
        "id": "a5oXnCoH8WxU",
        "outputId": "0f8e7547-c0c1-482b-83e0-adcd4c91d04f"
      },
      "outputs": [
        {
          "output_type": "stream",
          "name": "stdout",
          "text": [
            "Coeficiente estimado:  [0.00021285]\n",
            "R2 (score):  0.6126123877692518\n",
            "Intercept 0.151 \n",
            "          Coefficient\n",
            "vlDamage     0.000213\n",
            "Estimated coefficients:\n",
            "b_0 = 0.15149043005522767 nb_1 = 0.0002128501109631428\n"
          ]
        },
        {
          "output_type": "display_data",
          "data": {
            "text/plain": [
              "<Figure size 432x288 with 1 Axes>"
            ],
            "image/png": "[encoded data removed]"
          },
          "metadata": {
            "needs_background": "light"
          }
        }
      ],
      "source": [
        "X = df['vlDamage']\n",
        "Y = df['kpr']\n",
        "regressao_linear(X,Y,['vlDamage'])\n",
        "\n",
        "b = estimate_coef(df['vlDamage'],df['kpr']) \n",
        "print(\"Estimated coefficients:\\nb_0 = {} nb_1 = {}\".format(b[0], b[1])) \n",
        "plot_regression_line(df['vlDamage'], df['kpr'], b)"
      ]
    },
    {
      "cell_type": "code",
      "execution_count": null,
      "metadata": {
        "colab": {
          "base_uri": "https://localhost:8080/",
          "height": 400
        },
        "id": "gCaXwLet8a0p",
        "outputId": "df955005-8464-404a-8f40-db4d7c3f826d"
      },
      "outputs": [
        {
          "output_type": "stream",
          "name": "stdout",
          "text": [
            "Coeficiente estimado:  [0.02221618]\n",
            "R2 (score):  0.7124853051191407\n",
            "Intercept 9.194 \n",
            "          Coefficient\n",
            "vlDamage     0.022216\n",
            "Estimated coefficients:\n",
            "b_0 = 9.193852470585611 nb_1 = 0.022216182289922067\n"
          ]
        },
        {
          "output_type": "display_data",
          "data": {
            "text/plain": [
              "<Figure size 432x288 with 1 Axes>"
            ],
            "image/png": "[encoded data removed]"
          },
          "metadata": {
            "needs_background": "light"
          }
        }
      ],
      "source": [
        "X = df['vlDamage']\n",
        "Y = df['qtHits']\n",
        "regressao_linear(X,Y,['vlDamage'])\n",
        "\n",
        "b = estimate_coef(df['vlDamage'],df['qtHits']) \n",
        "print(\"Estimated coefficients:\\nb_0 = {} nb_1 = {}\".format(b[0], b[1])) \n",
        "plot_regression_line(df['vlDamage'], df['qtHits'], b)"
      ]
    },
    {
      "cell_type": "markdown",
      "metadata": {
        "id": "PGV8v8zLI8L5"
      },
      "source": [
        "Previsão"
      ]
    },
    {
      "cell_type": "code",
      "execution_count": null,
      "metadata": {
        "id": "XvI_XmfrJAom"
      },
      "outputs": [],
      "source": [
        "from sklearn.neighbors import KNeighborsClassifier\n",
        "from sklearn import tree\n",
        "import time\n",
        "from sklearn.model_selection import train_test_split\n",
        "from sklearn.metrics import precision_recall_fscore_support\n",
        "from sklearn.metrics import classification_report\n",
        "from sklearn.metrics import confusion_matrix\n",
        "from sklearn.model_selection import cross_val_score\n",
        "\n",
        "def classifier(X_train,X_test,Y_train,Y_test):\n",
        "    #Aplicando KNN\n",
        "    print(\" KNN \")\n",
        "    ini = time.time() #Inicio do calculo do tempo\n",
        "\n",
        "    knn=KNeighborsClassifier()\n",
        "    knn.fit(X_train,Y_train)\n",
        "\n",
        "    end = time.time()\n",
        "    knn_time = end - ini # Fim do calculo do tempo\n",
        "\n",
        "    print(classification_report(Y_test,knn.predict(X_test)))\n",
        "    print(confusion_matrix(Y_test, knn.predict(X_test)))\n",
        "    print()\n",
        "    \n",
        "    #Aplicando Arvore de Decisao\n",
        "    print(\"Árvore de Decisão\")\n",
        "    ini = time.time() #Inicio do calculo do tempo\n",
        "\n",
        "    dtc=tree.DecisionTreeClassifier()\n",
        "    dtc.fit(X_train,Y_train)\n",
        "\n",
        "    end = time.time()\n",
        "    dtc_time = end - ini # Fim do calculo do tempo\n",
        "\n",
        "    print(classification_report(Y_test,dtc.predict(X_test)))\n",
        "    print(confusion_matrix(Y_test, dtc.predict(X_test)))\n",
        "    print(dtc_time)\n",
        "    print(knn_time)"
      ]
    },
    {
      "cell_type": "code",
      "execution_count": null,
      "metadata": {
        "colab": {
          "base_uri": "https://localhost:8080/"
        },
        "id": "YBlv0msaLAr_",
        "outputId": "8e948814-960f-427f-e2c9-d2e073c4dd57"
      },
      "outputs": [
        {
          "output_type": "execute_result",
          "data": {
            "text/plain": [
              "array([0, 1], dtype=object)"
            ]
          },
          "metadata": {},
          "execution_count": 65
        }
      ],
      "source": [
        "df['dM50'].unique()"
      ]
    },
    {
      "cell_type": "code",
      "execution_count": null,
      "metadata": {
        "id": "MneDJLTOJCxn"
      },
      "outputs": [],
      "source": [
        "X_train,X_test,Y_train,Y_test=train_test_split(df['dM50'],df['flWinner'],test_size=0.3, random_state=5)"
      ]
    },
    {
      "cell_type": "code",
      "execution_count": null,
      "metadata": {
        "colab": {
          "base_uri": "https://localhost:8080/"
        },
        "id": "2eCkmQUOJdh3",
        "outputId": "133657d2-eb69-4d08-baf4-4f2fade7062d"
      },
      "outputs": [
        {
          "output_type": "stream",
          "name": "stdout",
          "text": [
            " KNN \n"
          ]
        },
        {
          "output_type": "stream",
          "name": "stderr",
          "text": [
            "/usr/local/lib/python3.7/dist-packages/sklearn/metrics/_classification.py:1318: UndefinedMetricWarning: Precision and F-score are ill-defined and being set to 0.0 in labels with no predicted samples. Use `zero_division` parameter to control this behavior.\n",
            "  _warn_prf(average, modifier, msg_start, len(result))\n",
            "/usr/local/lib/python3.7/dist-packages/sklearn/metrics/_classification.py:1318: UndefinedMetricWarning: Precision and F-score are ill-defined and being set to 0.0 in labels with no predicted samples. Use `zero_division` parameter to control this behavior.\n",
            "  _warn_prf(average, modifier, msg_start, len(result))\n",
            "/usr/local/lib/python3.7/dist-packages/sklearn/metrics/_classification.py:1318: UndefinedMetricWarning: Precision and F-score are ill-defined and being set to 0.0 in labels with no predicted samples. Use `zero_division` parameter to control this behavior.\n",
            "  _warn_prf(average, modifier, msg_start, len(result))\n"
          ]
        },
        {
          "output_type": "stream",
          "name": "stdout",
          "text": [
            "              precision    recall  f1-score   support\n",
            "\n",
            "           0       0.00      0.00      0.00     21848\n",
            "           1       0.50      1.00      0.67     22067\n",
            "\n",
            "    accuracy                           0.50     43915\n",
            "   macro avg       0.25      0.50      0.33     43915\n",
            "weighted avg       0.25      0.50      0.34     43915\n",
            "\n",
            "[[    0 21848]\n",
            " [    0 22067]]\n",
            "\n",
            "Árvore de Decisão\n",
            "              precision    recall  f1-score   support\n",
            "\n",
            "           0       0.51      0.99      0.67     21848\n",
            "           1       0.90      0.06      0.10     22067\n",
            "\n",
            "    accuracy                           0.52     43915\n",
            "   macro avg       0.70      0.52      0.39     43915\n",
            "weighted avg       0.71      0.52      0.39     43915\n",
            "\n",
            "[[21711   137]\n",
            " [20840  1227]]\n",
            "0.015163421630859375\n",
            "0.03994393348693848\n"
          ]
        }
      ],
      "source": [
        "classifier(X_train.values.reshape(-1, 1),X_test.values.reshape(-1, 1),Y_train,Y_test)"
      ]
    },
    {
      "cell_type": "markdown",
      "metadata": {
        "id": "ZrtGrlKPI-wS"
      },
      "source": [
        "Clusterização"
      ]
    },
    {
      "cell_type": "code",
      "execution_count": null,
      "metadata": {
        "colab": {
          "base_uri": "https://localhost:8080/"
        },
        "id": "Ga4fqt9bVrNQ",
        "outputId": "b410c606-64ec-43e0-9307-e80a5e924b5b"
      },
      "outputs": [
        {
          "output_type": "stream",
          "name": "stdout",
          "text": [
            "<class 'pandas.core.frame.DataFrame'>\n",
            "Int64Index: 146381 entries, 1 to 184150\n",
            "Data columns (total 30 columns):\n",
            " #   Column          Non-Null Count   Dtype   \n",
            "---  ------          --------------   -----   \n",
            " 0   qtKill          146381 non-null  int64   \n",
            " 1   qtAssist        146381 non-null  int64   \n",
            " 2   qtDeath         146381 non-null  int64   \n",
            " 3   qtHs            146381 non-null  int64   \n",
            " 4   qtBombeDefuse   146381 non-null  int64   \n",
            " 5   qtBombePlant    146381 non-null  int64   \n",
            " 6   qt1Kill         146381 non-null  int64   \n",
            " 7   qt2Kill         146381 non-null  int64   \n",
            " 8   qt3Kill         146381 non-null  int64   \n",
            " 9   qt4Kill         146381 non-null  int64   \n",
            " 10  qt5Kill         146381 non-null  int64   \n",
            " 11  qtFirstKill     146381 non-null  int64   \n",
            " 12  vlDamage        146381 non-null  int64   \n",
            " 13  qtHits          146381 non-null  float64 \n",
            " 14  qtLastAlive     146381 non-null  float64 \n",
            " 15  qtClutchWon     146381 non-null  int64   \n",
            " 16  qtRoundsPlayed  146381 non-null  int64   \n",
            " 17  descMapName     146381 non-null  object  \n",
            " 18  vlLevel         146381 non-null  int64   \n",
            " 19  qtSurvived      146381 non-null  object  \n",
            " 20  qtTrade         146381 non-null  float64 \n",
            " 21  qtFlashAssist   146381 non-null  float64 \n",
            " 22  flWinner        146381 non-null  int64   \n",
            " 23  kpr             146381 non-null  float64 \n",
            " 24  dpr             146381 non-null  float64 \n",
            " 25  pps             146381 non-null  float64 \n",
            " 26  playerQuality   146381 non-null  object  \n",
            " 27  dM50            146381 non-null  object  \n",
            " 28  kpr_categoric   146331 non-null  category\n",
            " 29  dpr_categoric   146378 non-null  category\n",
            "dtypes: category(2), float64(7), int64(17), object(4)\n",
            "memory usage: 36.7+ MB\n"
          ]
        }
      ],
      "source": [
        "df_l.info()"
      ]
    },
    {
      "cell_type": "code",
      "execution_count": null,
      "metadata": {
        "colab": {
          "base_uri": "https://localhost:8080/",
          "height": 488
        },
        "id": "PUP-ftqLJSYd",
        "outputId": "f76aee9e-bdef-4e5b-a573-7b14147d68a3"
      },
      "outputs": [
        {
          "output_type": "execute_result",
          "data": {
            "text/plain": [
              "        qt1Kill  qt2Kill  qt3Kill  qt4Kill  qt5Kill  qtFirstKill  vlDamage  \\\n",
              "1             9        4        1        1        0            3      2933   \n",
              "2             4        1        0        0        0            2      1117   \n",
              "3             6        2        0        0        0            1      1740   \n",
              "4             4        2        0        0        0            1      1696   \n",
              "11            9        5        0        0        0            4      2459   \n",
              "...         ...      ...      ...      ...      ...          ...       ...   \n",
              "184146       12        1        1        0        0            3      2179   \n",
              "184147        8        5        1        0        0            3      2610   \n",
              "184148       11        2        0        0        0            5      2154   \n",
              "184149        9        0        0        0        0            2      1701   \n",
              "184150       13        1        0        0        0            1      2246   \n",
              "\n",
              "        qtHits  qtLastAlive  qtClutchWon  vlLevel qtSurvived  qtTrade  \\\n",
              "1         54.0          1.0            1        9        8.0      1.0   \n",
              "2         31.0          0.0            0        2        2.0      3.0   \n",
              "3         63.0          1.0            1       15        3.0      4.0   \n",
              "4         51.0          0.0            0        2        4.0      4.0   \n",
              "11        55.0          0.0            0        2        6.0      3.0   \n",
              "...        ...          ...          ...      ...        ...      ...   \n",
              "184146    63.0          0.0            0        9        9.0      4.0   \n",
              "184147    88.0          1.0            0        9       11.0      0.0   \n",
              "184148    63.0          0.0            0        9        7.0      5.0   \n",
              "184149    59.0          0.0            0        9        4.0      2.0   \n",
              "184150    65.0          0.0            0        9        5.0      3.0   \n",
              "\n",
              "        qtFlashAssist  flWinner       kpr       dpr        pps  \n",
              "1                 0.0         1  0.888889  0.666667  23.571429  \n",
              "2                 0.0         0  0.240000  0.920000  17.857143  \n",
              "3                 0.0         1  0.400000  0.800000  23.571429  \n",
              "4                 2.0         0  0.266667  0.866667  22.857143  \n",
              "11                3.0         0  0.703704  0.777778  18.571429  \n",
              "...               ...       ...       ...       ...        ...  \n",
              "184146            0.0         0  0.607143  0.678571  20.714286  \n",
              "184147            0.0         1  0.807692  0.500000  15.714286  \n",
              "184148            0.0         1  0.517241  0.758621  18.571429  \n",
              "184149            0.0         0  0.333333  0.851852  25.000000  \n",
              "184150            1.0         0  0.600000  0.800000  22.142857  \n",
              "\n",
              "[146381 rows x 18 columns]"
            ],
            "text/html": [
              "\n",
              "  <div id=\"df-a4428f1a-6062-4017-a284-cb151fa7249b\">\n",
              "    <div class=\"colab-df-container\">\n",
              "      <div>\n",
              "<style scoped>\n",
              "    .dataframe tbody tr th:only-of-type {\n",
              "        vertical-align: middle;\n",
              "    }\n",
              "\n",
              "    .dataframe tbody tr th {\n",
              "        vertical-align: top;\n",
              "    }\n",
              "\n",
              "    .dataframe thead th {\n",
              "        text-align: right;\n",
              "    }\n",
              "</style>\n",
              "<table border=\"1\" class=\"dataframe\">\n",
              "  <thead>\n",
              "    <tr style=\"text-align: right;\">\n",
              "      <th></th>\n",
              "      <th>qt1Kill</th>\n",
              "      <th>qt2Kill</th>\n",
              "      <th>qt3Kill</th>\n",
              "      <th>qt4Kill</th>\n",
              "      <th>qt5Kill</th>\n",
              "      <th>qtFirstKill</th>\n",
              "      <th>vlDamage</th>\n",
              "      <th>qtHits</th>\n",
              "      <th>qtLastAlive</th>\n",
              "      <th>qtClutchWon</th>\n",
              "      <th>vlLevel</th>\n",
              "      <th>qtSurvived</th>\n",
              "      <th>qtTrade</th>\n",
              "      <th>qtFlashAssist</th>\n",
              "      <th>flWinner</th>\n",
              "      <th>kpr</th>\n",
              "      <th>dpr</th>\n",
              "      <th>pps</th>\n",
              "    </tr>\n",
              "  </thead>\n",
              "  <tbody>\n",
              "    <tr>\n",
              "      <th>1</th>\n",
              "      <td>9</td>\n",
              "      <td>4</td>\n",
              "      <td>1</td>\n",
              "      <td>1</td>\n",
              "      <td>0</td>\n",
              "      <td>3</td>\n",
              "      <td>2933</td>\n",
              "      <td>54.0</td>\n",
              "      <td>1.0</td>\n",
              "      <td>1</td>\n",
              "      <td>9</td>\n",
              "      <td>8.0</td>\n",
              "      <td>1.0</td>\n",
              "      <td>0.0</td>\n",
              "      <td>1</td>\n",
              "      <td>0.888889</td>\n",
              "      <td>0.666667</td>\n",
              "      <td>23.571429</td>\n",
              "    </tr>\n",
              "    <tr>\n",
              "      <th>2</th>\n",
              "      <td>4</td>\n",
              "      <td>1</td>\n",
              "      <td>0</td>\n",
              "      <td>0</td>\n",
              "      <td>0</td>\n",
              "      <td>2</td>\n",
              "      <td>1117</td>\n",
              "      <td>31.0</td>\n",
              "      <td>0.0</td>\n",
              "      <td>0</td>\n",
              "      <td>2</td>\n",
              "      <td>2.0</td>\n",
              "      <td>3.0</td>\n",
              "      <td>0.0</td>\n",
              "      <td>0</td>\n",
              "      <td>0.240000</td>\n",
              "      <td>0.920000</td>\n",
              "      <td>17.857143</td>\n",
              "    </tr>\n",
              "    <tr>\n",
              "      <th>3</th>\n",
              "      <td>6</td>\n",
              "      <td>2</td>\n",
              "      <td>0</td>\n",
              "      <td>0</td>\n",
              "      <td>0</td>\n",
              "      <td>1</td>\n",
              "      <td>1740</td>\n",
              "      <td>63.0</td>\n",
              "      <td>1.0</td>\n",
              "      <td>1</td>\n",
              "      <td>15</td>\n",
              "      <td>3.0</td>\n",
              "      <td>4.0</td>\n",
              "      <td>0.0</td>\n",
              "      <td>1</td>\n",
              "      <td>0.400000</td>\n",
              "      <td>0.800000</td>\n",
              "      <td>23.571429</td>\n",
              "    </tr>\n",
              "    <tr>\n",
              "      <th>4</th>\n",
              "      <td>4</td>\n",
              "      <td>2</td>\n",
              "      <td>0</td>\n",
              "      <td>0</td>\n",
              "      <td>0</td>\n",
              "      <td>1</td>\n",
              "      <td>1696</td>\n",
              "      <td>51.0</td>\n",
              "      <td>0.0</td>\n",
              "      <td>0</td>\n",
              "      <td>2</td>\n",
              "      <td>4.0</td>\n",
              "      <td>4.0</td>\n",
              "      <td>2.0</td>\n",
              "      <td>0</td>\n",
              "      <td>0.266667</td>\n",
              "      <td>0.866667</td>\n",
              "      <td>22.857143</td>\n",
              "    </tr>\n",
              "    <tr>\n",
              "      <th>11</th>\n",
              "      <td>9</td>\n",
              "      <td>5</td>\n",
              "      <td>0</td>\n",
              "      <td>0</td>\n",
              "      <td>0</td>\n",
              "      <td>4</td>\n",
              "      <td>2459</td>\n",
              "      <td>55.0</td>\n",
              "      <td>0.0</td>\n",
              "      <td>0</td>\n",
              "      <td>2</td>\n",
              "      <td>6.0</td>\n",
              "      <td>3.0</td>\n",
              "      <td>3.0</td>\n",
              "      <td>0</td>\n",
              "      <td>0.703704</td>\n",
              "      <td>0.777778</td>\n",
              "      <td>18.571429</td>\n",
              "    </tr>\n",
              "    <tr>\n",
              "      <th>...</th>\n",
              "      <td>...</td>\n",
              "      <td>...</td>\n",
              "      <td>...</td>\n",
              "      <td>...</td>\n",
              "      <td>...</td>\n",
              "      <td>...</td>\n",
              "      <td>...</td>\n",
              "      <td>...</td>\n",
              "      <td>...</td>\n",
              "      <td>...</td>\n",
              "      <td>...</td>\n",
              "      <td>...</td>\n",
              "      <td>...</td>\n",
              "      <td>...</td>\n",
              "      <td>...</td>\n",
              "      <td>...</td>\n",
              "      <td>...</td>\n",
              "      <td>...</td>\n",
              "    </tr>\n",
              "    <tr>\n",
              "      <th>184146</th>\n",
              "      <td>12</td>\n",
              "      <td>1</td>\n",
              "      <td>1</td>\n",
              "      <td>0</td>\n",
              "      <td>0</td>\n",
              "      <td>3</td>\n",
              "      <td>2179</td>\n",
              "      <td>63.0</td>\n",
              "      <td>0.0</td>\n",
              "      <td>0</td>\n",
              "      <td>9</td>\n",
              "      <td>9.0</td>\n",
              "      <td>4.0</td>\n",
              "      <td>0.0</td>\n",
              "      <td>0</td>\n",
              "      <td>0.607143</td>\n",
              "      <td>0.678571</td>\n",
              "      <td>20.714286</td>\n",
              "    </tr>\n",
              "    <tr>\n",
              "      <th>184147</th>\n",
              "      <td>8</td>\n",
              "      <td>5</td>\n",
              "      <td>1</td>\n",
              "      <td>0</td>\n",
              "      <td>0</td>\n",
              "      <td>3</td>\n",
              "      <td>2610</td>\n",
              "      <td>88.0</td>\n",
              "      <td>1.0</td>\n",
              "      <td>0</td>\n",
              "      <td>9</td>\n",
              "      <td>11.0</td>\n",
              "      <td>0.0</td>\n",
              "      <td>0.0</td>\n",
              "      <td>1</td>\n",
              "      <td>0.807692</td>\n",
              "      <td>0.500000</td>\n",
              "      <td>15.714286</td>\n",
              "    </tr>\n",
              "    <tr>\n",
              "      <th>184148</th>\n",
              "      <td>11</td>\n",
              "      <td>2</td>\n",
              "      <td>0</td>\n",
              "      <td>0</td>\n",
              "      <td>0</td>\n",
              "      <td>5</td>\n",
              "      <td>2154</td>\n",
              "      <td>63.0</td>\n",
              "      <td>0.0</td>\n",
              "      <td>0</td>\n",
              "      <td>9</td>\n",
              "      <td>7.0</td>\n",
              "      <td>5.0</td>\n",
              "      <td>0.0</td>\n",
              "      <td>1</td>\n",
              "      <td>0.517241</td>\n",
              "      <td>0.758621</td>\n",
              "      <td>18.571429</td>\n",
              "    </tr>\n",
              "    <tr>\n",
              "      <th>184149</th>\n",
              "      <td>9</td>\n",
              "      <td>0</td>\n",
              "      <td>0</td>\n",
              "      <td>0</td>\n",
              "      <td>0</td>\n",
              "      <td>2</td>\n",
              "      <td>1701</td>\n",
              "      <td>59.0</td>\n",
              "      <td>0.0</td>\n",
              "      <td>0</td>\n",
              "      <td>9</td>\n",
              "      <td>4.0</td>\n",
              "      <td>2.0</td>\n",
              "      <td>0.0</td>\n",
              "      <td>0</td>\n",
              "      <td>0.333333</td>\n",
              "      <td>0.851852</td>\n",
              "      <td>25.000000</td>\n",
              "    </tr>\n",
              "    <tr>\n",
              "      <th>184150</th>\n",
              "      <td>13</td>\n",
              "      <td>1</td>\n",
              "      <td>0</td>\n",
              "      <td>0</td>\n",
              "      <td>0</td>\n",
              "      <td>1</td>\n",
              "      <td>2246</td>\n",
              "      <td>65.0</td>\n",
              "      <td>0.0</td>\n",
              "      <td>0</td>\n",
              "      <td>9</td>\n",
              "      <td>5.0</td>\n",
              "      <td>3.0</td>\n",
              "      <td>1.0</td>\n",
              "      <td>0</td>\n",
              "      <td>0.600000</td>\n",
              "      <td>0.800000</td>\n",
              "      <td>22.142857</td>\n",
              "    </tr>\n",
              "  </tbody>\n",
              "</table>\n",
              "<p>146381 rows × 18 columns</p>\n",
              "</div>\n",
              "      <button class=\"colab-df-convert\" onclick=\"convertToInteractive('df-a4428f1a-6062-4017-a284-cb151fa7249b')\"\n",
              "              title=\"Convert this dataframe to an interactive table.\"\n",
              "              style=\"display:none;\">\n",
              "        \n",
              "  <svg xmlns=\"http://www.w3.org/2000/svg\" height=\"24px\"viewBox=\"0 0 24 24\"\n",
              "       width=\"24px\">\n",
              "    <path d=\"M0 0h24v24H0V0z\" fill=\"none\"/>\n",
              "    <path d=\"M18.56 5.44l.94 2.06.94-2.06 2.06-.94-2.06-.94-.94-2.06-.94 2.06-2.06.94zm-11 1L8.5 8.5l.94-2.06 2.06-.94-2.06-.94L8.5 2.5l-.94 2.06-2.06.94zm10 10l.94 2.06.94-2.06 2.06-.94-2.06-.94-.94-2.06-.94 2.06-2.06.94z\"/><path d=\"M17.41 7.96l-1.37-1.37c-.4-.4-.92-.59-1.43-.59-.52 0-1.04.2-1.43.59L10.3 9.45l-7.72 7.72c-.78.78-.78 2.05 0 2.83L4 21.41c.39.39.9.59 1.41.59.51 0 1.02-.2 1.41-.59l7.78-7.78 2.81-2.81c.8-.78.8-2.07 0-2.86zM5.41 20L4 18.59l7.72-7.72 1.47 1.35L5.41 20z\"/>\n",
              "  </svg>\n",
              "      </button>\n",
              "      \n",
              "  <style>\n",
              "    .colab-df-container {\n",
              "      display:flex;\n",
              "      flex-wrap:wrap;\n",
              "      gap: 12px;\n",
              "    }\n",
              "\n",
              "    .colab-df-convert {\n",
              "      background-color: #E8F0FE;\n",
              "      border: none;\n",
              "      border-radius: 50%;\n",
              "      cursor: pointer;\n",
              "      display: none;\n",
              "      fill: #1967D2;\n",
              "      height: 32px;\n",
              "      padding: 0 0 0 0;\n",
              "      width: 32px;\n",
              "    }\n",
              "\n",
              "    .colab-df-convert:hover {\n",
              "      background-color: #E2EBFA;\n",
              "      box-shadow: 0px 1px 2px rgba(60, 64, 67, 0.3), 0px 1px 3px 1px rgba(60, 64, 67, 0.15);\n",
              "      fill: #174EA6;\n",
              "    }\n",
              "\n",
              "    [theme=dark] .colab-df-convert {\n",
              "      background-color: #3B4455;\n",
              "      fill: #D2E3FC;\n",
              "    }\n",
              "\n",
              "    [theme=dark] .colab-df-convert:hover {\n",
              "      background-color: #434B5C;\n",
              "      box-shadow: 0px 1px 3px 1px rgba(0, 0, 0, 0.15);\n",
              "      filter: drop-shadow(0px 1px 2px rgba(0, 0, 0, 0.3));\n",
              "      fill: #FFFFFF;\n",
              "    }\n",
              "  </style>\n",
              "\n",
              "      <script>\n",
              "        const buttonEl =\n",
              "          document.querySelector('#df-a4428f1a-6062-4017-a284-cb151fa7249b button.colab-df-convert');\n",
              "        buttonEl.style.display =\n",
              "          google.colab.kernel.accessAllowed ? 'block' : 'none';\n",
              "\n",
              "        async function convertToInteractive(key) {\n",
              "          const element = document.querySelector('#df-a4428f1a-6062-4017-a284-cb151fa7249b');\n",
              "          const dataTable =\n",
              "            await google.colab.kernel.invokeFunction('convertToInteractive',\n",
              "                                                     [key], {});\n",
              "          if (!dataTable) return;\n",
              "\n",
              "          const docLinkHtml = 'Like what you see? Visit the ' +\n",
              "            '<a target=\"_blank\" href=https://colab.research.google.com/notebooks/data_table.ipynb>data table notebook</a>'\n",
              "            + ' to learn more about interactive tables.';\n",
              "          element.innerHTML = '';\n",
              "          dataTable['output_type'] = 'display_data';\n",
              "          await google.colab.output.renderOutput(dataTable, element);\n",
              "          const docLink = document.createElement('div');\n",
              "          docLink.innerHTML = docLinkHtml;\n",
              "          element.appendChild(docLink);\n",
              "        }\n",
              "      </script>\n",
              "    </div>\n",
              "  </div>\n",
              "  "
            ]
          },
          "metadata": {},
          "execution_count": 69
        }
      ],
      "source": [
        "cols_interesse = ['qt1Kill','qt2Kill','qt3Kill','qt4Kill','qt5Kill','qtFirstKill',\n",
        "                  'vlDamage','qtHits', 'qtLastAlive', 'qtClutchWon','vlLevel','qtSurvived','qtTrade','qtFlashAssist','flWinner','kpr','dpr','pps']\n",
        "df[cols_interesse]"
      ]
    },
    {
      "cell_type": "code",
      "execution_count": null,
      "metadata": {
        "id": "avyjkxtdXbDG"
      },
      "outputs": [],
      "source": [
        "def plot_cluster(model, df, attr_x, attr_y):\n",
        "  plt.figure(figsize=(15,9))\n",
        "  sns.scatterplot(x=df[attr_x], y=df[attr_y], hue=model.labels_, s=40)\n",
        "  plt.title('Classificação K-Means') \n",
        "    \n",
        "  plt.show()"
      ]
    },
    {
      "cell_type": "markdown",
      "metadata": {
        "id": "-Ebi9I-4bQtU"
      },
      "source": [
        "Definir numero de clusters através do coeficiente da silhueta"
      ]
    },
    {
      "cell_type": "code",
      "execution_count": null,
      "metadata": {
        "id": "EW76Kdy1bfcQ"
      },
      "outputs": [],
      "source": [
        "from sklearn import metrics"
      ]
    },
    {
      "cell_type": "code",
      "execution_count": null,
      "metadata": {
        "colab": {
          "base_uri": "https://localhost:8080/"
        },
        "id": "w89E_ztbbsv1",
        "outputId": "9cc82069-ef46-419f-b8d6-8c5122cfc7b7"
      },
      "outputs": [
        {
          "output_type": "execute_result",
          "data": {
            "text/plain": [
              "0.5564993927070536"
            ]
          },
          "metadata": {},
          "execution_count": 72
        }
      ],
      "source": [
        "kmeans_model = KMeans(n_clusters=2, random_state=1).fit(df[cols_interesse])\n",
        "labels = kmeans_model.labels_\n",
        "metrics.silhouette_score(df[cols_interesse], labels, metric='euclidean')"
      ]
    },
    {
      "cell_type": "code",
      "execution_count": null,
      "metadata": {
        "id": "5oloYq8PXcGm"
      },
      "outputs": [],
      "source": [
        "\n",
        "plot_cluster(kmeans_model, df_l, \"dpr\",\"flWinner\")\n",
        "plot_cluster(kmeans_model, df_l, \"vlDamage\",\"kpr\")\n",
        "plot_cluster(kmeans_model, df_l, \"vlDamage\",\"pps\")\n",
        "plot_cluster(kmeans_model, df_l, \"vlDamage\",\"dpr\")\n",
        "plot_cluster(kmeans_model, df_l, \"vlDamage\",\"qtHits\")"
      ]
    },
    {
      "cell_type": "markdown",
      "source": [
        "Após todas essas analises podemos retornar as perguntas que propusemos para o começo do trabalho.\n",
        "\n",
        "**1) É possível separar os jogadores por categorias??**\n",
        "\n",
        "Sim podemos separar os jogadores em categorias, se levarmos em conta alguns atributos como o pps criado pelo grupo (Points per status), que leva em conta assistencias, bomba plantada e defusada, clutchs vencidos, Trade Kills, assistências com Flash, e First kills, podemos dividir os jogadores em 5 categorias,\n",
        "\n",
        "Ruim: Onde pps é menor que 20\n",
        "\n",
        "Regular: Onde pps está entre 21 e 40\n",
        "\n",
        "Bom: onde pps está entre 41 e 60\n",
        "\n",
        "Otimo: onde pps está entre 61 e 80\n",
        "\n",
        "Excelente: onde pps está entre 81 e 100\n",
        "\n",
        "**2)É possível conhecer os jogadores que tiveram o melhor desempenho**\n",
        "\n",
        "Sim é exatamente isso que nossa variavel pps avalia, ela julga os jogadores com base em status que mais importam dentro de uma partida competitiva de CS-GO\n",
        "\n",
        "**3)Quais são os mapas mais jogados?**\n",
        "\n",
        "os mapas mais jogados são na ordem:\n",
        "\n",
        "Mirage, Inferno, Dust 2, Vertigo, Nuke, Overpass, Train e Ancient.\n",
        "\n",
        "Onde Mirage representa aproximadamente 31,34% das partidas\n",
        "\n",
        "de_mirage 45887 de_inferno 33833 de_dust2 18753 de_vertigo 16001 de_nuke 11205 de_overpass 11151 de_train 6166 de_ancient 3385\n",
        "\n",
        "**4)Qual mapa as pessoas mais perdem?**\n",
        "\n",
        "O mapa que as pessoas mais perdem é Mirage pois é o mapa mais jogado\n",
        "\n",
        "**5)Quais mapas os jogadores mais ganham?**\n",
        "\n",
        "O mapa que as pessoas mais ganham é Mirage pois é o mapa mais jogado\n",
        "\n",
        "**6)Qual mapa os jogadores têm mais desempenho?**\n",
        "\n",
        "Os mapas que os jogadores melhor desempenham envolve os mapas onde o kpr são maiores, são eles: Mirage, Inferno e Dust 2\n",
        "\n",
        "**7)Os níveis dizem muito sobre os jogadores?**\n",
        "\n",
        "Sim os niveis refletem bem os jogadores, os jogadores de niveis intermediarios perdem e ganham aproximadamente o mesmo tanto, os jogadores de nivel 0 são incógnitas pois, podem ser jogadores \"Ruins\" ou jogadores novos , e os jogadores de niveis entre 1- 5 são os que mais perdem\n",
        "\n",
        "**8)Quais níveis têm os jogadores com melhor desempenho?**\n",
        "\n",
        "Considerando melhor desempenho como vitórias, os jogadores de nivel 20, 10 e 15 são os que possuem os melhores, curiosamente, os jogadores de nivel 20 são os mais comuns, os de nivel 15 são os 3º e os de nivel 10 os 5º.\n",
        "\n",
        "**9)É possível prever quais jogadores têm mais qualidade?**\n",
        "\n",
        "**10)É possível prever quem ganhou?**\n",
        "Sim, com \n",
        "\n",
        "**11)Quais são os atributos de maior peso para um jogador??**\n",
        "\n",
        "\n",
        "**12)Quais os fatores que determinam sua vitória?**\n",
        "Basicamente os fatores que determinam a vitória são, quantidade de kills, mortes, clutchs vencidos, a categorização do player, o level, kpr pps e dpr, são as variaveis usadas para medir a chance de vitória do jogador \n",
        "\n",
        "\n",
        "**13)Os mapas possuem padrões de jogadores?**\n",
        "\n",
        "Sim, porém sutis, se você jogar um mapa inferno provavelmente encontrará jogadores melhores, se jogar mirage, a chance é de que encontre um jogador mediano ou inferior.\n",
        "\n",
        "**14)Como podemos medir a qualidade de um jogador?**\n",
        "Podemos medir a qualidade de um jogador através de analise da variavel pps, ela engloba todos os fatores que o auxiliam a ganhar um round e por consequencia ganhar o mapa, coisas como quantidade de kills, bombas plantadas e defusadas por exemplo são fatores que ganham a rodada, uma bomba defusada é com certeza um round ganho pelo jogador. \n",
        "\n",
        "**15)É possivel saber quais jogadores desempenharam papeis mais importantes durante o jogo?**\n",
        "\n",
        "Sim, olhando variáveis especificas dentro do escopo do jogador como por exemplo FirstKills e dpr podemos dizer se esse jogador cumpriu o papel de \"Entry fragger\" do time, que é o jogador que se arrisca primeiro para ganhar espaço para o time, o entry fragger normalmente tem uma alta taxa de firstKills, uma alta taxa de mortes pois ele morre depois de matar, e uma alta taxa de dpr, pois normalmente ele mata o primeiro jogador e inflige dano a outro.\n",
        "\n",
        "**16)É possivel prever jogadores que possuem um função?**\n",
        "\n",
        "Sim, no CS-GO existem algumas funções especificas são elas:\n",
        "\n",
        "AWPer: o jogador que joga com a arma AWP, um rifle de precisão tão caro quanto letal, exige paciencia do jogador que não pode morrer cedo já que normalmente possui o equipamento mais caro do time, a arma elimina com apenas um tiro no corpo e na cabeça e inflige dano não letal nas pernas, AWPers tendem a ter uma baixa taxa de mortes, um alto dano (visto que caso acerte a cabeça de um jogador o dano é 4 vezes o dano necessário para eliminação [100])\n",
        "\n",
        "EntryFragger: como descrito anteriormente, o jogador que se expoem mais para ajudar o seu time a ganhar espaço, normalmente possui uma alta taxa de mortes e uma alta taxa de FirstKill.\n",
        "\n",
        "ShotCaller/inGameLeader: esta função infelizmente não podemos prever com nossos dados, mas é o jogador que vai coordenar o time e vaai dizer o que cada um tem que fazer para que o time não fique perdido, é possivel através da quantidade de vitórias do jogador dizer se ele é um bom inGameLeader, mas não podemos dizer se ele é um inGameLeader atualmente.\n",
        "\n",
        "Support: suportes são os jogadores que mais auxiliam no jogo, não são tão focados em mira, mas sim em granadas, quantidade de flashAssists, tradeKills, Assists, dpr/kpr (dano dividido por kill no round, já que ele joga muito com granadas, ele normalmente não mata muito, mas inflige bastante dano com elas).\n",
        "\n",
        "Lurker: São os jogadores que olham as costas do time normalmente, esses jogadores sobrevivem bastante, tem uma baixa taxa de mortes pois jogam depois que seu time começou a se mover, eliminando inimigos mudando de posição, por jogar depois do próprio time, o que mais difere esse jogador dos outros é a quantidade de clutchWons, clutchs vencidos já que ele tende a ser o ultimo jogador vivo do time.\n",
        "\n",
        "Entre outras funções secundárias\n",
        "\n",
        "**17)É possivel prever todas as funções de um time?**\n",
        "\n",
        "  Como mencionado antes, infelizmente não, inGameLeader não pode ser previsto, no entanto podemos prever uma grande maioria das funções.\n",
        "\n",
        "**18)Pode-se associar categorias de jogadores devido ao desempenhos?**\n",
        "\n",
        "Sim, jogadores considerados Ruins tendem a perder mais partidas, entretanto, como explicado antes o jogador Ruim não necessariamente é um mal jogador, ele apenas não possui um bom valor nos parametros que analisamos, ele pode ser um ótimo inGameLeader e ser considerado Ruim.\n",
        "\n",
        "**19)É possivel saber o potencial dos jogadores?**\n",
        "\n",
        "--\n",
        "\n",
        "**20)Jogadores com potenciais menores podem ter matado mais que jogadores com potenciais maiores?**\n",
        "\n",
        "Sim, isso não é limitador, a tendencia é que jogadores com potencial maior eliminem mais jogadores que o de potencial menor, porém como explicado pelo boxplot acima, existe sim a possibilidade que um jogador considerado Ruim elimine mais que um Bom, e é perfeitamente comum"
      ],
      "metadata": {
        "id": "iPC2UVMQPTju"
      }
    }
  ],
  "metadata": {
    "colab": {
      "collapsed_sections": [],
      "name": "trabalho_pratico_cs:go",
      "provenance": []
    },
    "interpreter": {
      "hash": "aee8b7b246df8f9039afb4144a1f6fd8d2ca17a180786b69acc140d282b71a49"
    },
    "kernelspec": {
      "display_name": "Python 3.9.12 64-bit",
      "language": "python",
      "name": "python3"
    },
    "language_info": {
      "codemirror_mode": {
        "name": "ipython",
        "version": 3
      },
      "file_extension": ".py",
      "mimetype": "text/x-python",
      "name": "python",
      "nbconvert_exporter": "python",
      "pygments_lexer": "ipython3",
      "version": "3.9.12"
    }
  },
  "nbformat": 4,
  "nbformat_minor": 0
}